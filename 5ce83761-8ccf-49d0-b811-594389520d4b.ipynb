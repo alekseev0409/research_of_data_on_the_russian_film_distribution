{
 "cells": [
  {
   "cell_type": "markdown",
   "metadata": {
    "id": "sIfNaMOxgFyK"
   },
   "source": [
    "## Исследование данных о российском кинопрокате\n",
    "\n"
   ]
  },
  {
   "cell_type": "markdown",
   "metadata": {},
   "source": [
    "Заказчик этого исследования — Министерство культуры Российской Федерации. \n",
    "Нам нужно изучить рынок российского кинопроката и выявить текущие тренды. Уделить внимание фильмам, которые получили государственную поддержку. Попробуем ответить на вопрос, насколько такие фильмы интересны зрителю.\n",
    "\n",
    "В исследовании использованы данные, опубликованные на портале  Министерства культуры. Набор данных содержит информацию о прокатных удостоверениях, сборах и государственной поддержке фильмов, а также информацию с сайта КиноПоиск.\n",
    "\n",
    "Данные находятся в двух таблицах, которые будут объединены, после проведения предобработки данных будет произведен исследовательский анализ данных и исследованы фильмы, которые получили государственную поддержку."
   ]
  },
  {
   "cell_type": "markdown",
   "metadata": {
    "id": "3bSlkCsbgFyL"
   },
   "source": [
    "### Шаг 1. Откройте файлы с данными и объедините их в один датафрейм. \n",
    "\n",
    "Объедините данные таким образом, чтобы все объекты из датасета `mkrf_movies` обязательно вошли в получившийся датафрейм. \n",
    "\n",
    "<div id=\"accordion\">\n",
    "    <div class=\"card\">\n",
    "        <div class=\"card-header\" id=\"headingThree\">\n",
    "            <button class=\"btn btn-link collapsed\" data-toggle=\"collapse\" data-target=\"#collapseHint_0\" aria-expanded=\"false\" aria-controls=\"collapseHint_0\">Подсказка</button>\n",
    "        </div>\n",
    "        <div id=\"collapseHint_0\" class=\"collapse\" aria-labelledby=\"headingThree\" data-parent=\"#accordion\">\n",
    "            <div class=\"card-body\">\n",
    "Обратите внимание на тип данных столбца, по которому будете соединять датафреймы. Тип данных этих столбцов должен быть одинаковым в обоих датафреймах.\n",
    "            </div>\n",
    "        </div>\n",
    "    </div>\n",
    "</div>"
   ]
  },
  {
   "cell_type": "code",
   "execution_count": 1,
   "metadata": {
    "id": "dw87FlzMgFyM"
   },
   "outputs": [],
   "source": [
    "# Импортируем библиотеки:\n",
    "import pandas as pd\n",
    "import numpy as np\n",
    "import seaborn as sns\n",
    "import matplotlib.pyplot as plt\n",
    "from datetime import datetime\n",
    "import warnings\n",
    "warnings.filterwarnings(\"ignore\")\n",
    "pd.set_option('display.float_format', '{:,.2f}'.format)"
   ]
  },
  {
   "cell_type": "code",
   "execution_count": 2,
   "metadata": {},
   "outputs": [],
   "source": [
    "#Откроем и сохраним датасеты \n",
    "films = pd.read_csv('/datasets/mkrf_movies.csv')\n",
    "shows = pd.read_csv('/datasets/mkrf_shows.csv')"
   ]
  },
  {
   "cell_type": "code",
   "execution_count": 3,
   "metadata": {},
   "outputs": [
    {
     "data": {
      "text/html": [
       "<div>\n",
       "<style scoped>\n",
       "    .dataframe tbody tr th:only-of-type {\n",
       "        vertical-align: middle;\n",
       "    }\n",
       "\n",
       "    .dataframe tbody tr th {\n",
       "        vertical-align: top;\n",
       "    }\n",
       "\n",
       "    .dataframe thead th {\n",
       "        text-align: right;\n",
       "    }\n",
       "</style>\n",
       "<table border=\"1\" class=\"dataframe\">\n",
       "  <thead>\n",
       "    <tr style=\"text-align: right;\">\n",
       "      <th></th>\n",
       "      <th>title</th>\n",
       "      <th>puNumber</th>\n",
       "      <th>show_start_date</th>\n",
       "      <th>type</th>\n",
       "      <th>film_studio</th>\n",
       "      <th>production_country</th>\n",
       "      <th>director</th>\n",
       "      <th>producer</th>\n",
       "      <th>age_restriction</th>\n",
       "      <th>refundable_support</th>\n",
       "      <th>nonrefundable_support</th>\n",
       "      <th>budget</th>\n",
       "      <th>financing_source</th>\n",
       "      <th>ratings</th>\n",
       "      <th>genres</th>\n",
       "    </tr>\n",
       "  </thead>\n",
       "  <tbody>\n",
       "    <tr>\n",
       "      <th>1598</th>\n",
       "      <td>Годзилла.</td>\n",
       "      <td>121008714</td>\n",
       "      <td>2014-04-25T12:00:00.000Z</td>\n",
       "      <td>Художественный</td>\n",
       "      <td>Уорнер Бразерс, Леджендари Пикчерз, Дисрапшн И...</td>\n",
       "      <td>США - Япония</td>\n",
       "      <td>Гарет Эдвардс</td>\n",
       "      <td>Джон Джашни, Томас Талл</td>\n",
       "      <td>«16+» - для детей старше 16 лет</td>\n",
       "      <td>NaN</td>\n",
       "      <td>NaN</td>\n",
       "      <td>NaN</td>\n",
       "      <td>NaN</td>\n",
       "      <td>6.1</td>\n",
       "      <td>фантастика,боевик,триллер</td>\n",
       "    </tr>\n",
       "    <tr>\n",
       "      <th>36</th>\n",
       "      <td>Планета КА-ПЭКС /По мотивам романа Джин Бруэр/</td>\n",
       "      <td>221009314</td>\n",
       "      <td>2014-03-03T12:00:00.000Z</td>\n",
       "      <td>Художественный</td>\n",
       "      <td>Интермедиа Филмз, Юниверсал Пикчерз, Лоуренс Г...</td>\n",
       "      <td>США - Германия</td>\n",
       "      <td>Йэн Софтли</td>\n",
       "      <td>Лоуренс Гордон, Роберт Коулсберри, Ллойд Левин</td>\n",
       "      <td>«12+» - для детей старше 12 лет</td>\n",
       "      <td>NaN</td>\n",
       "      <td>NaN</td>\n",
       "      <td>NaN</td>\n",
       "      <td>NaN</td>\n",
       "      <td>8.0</td>\n",
       "      <td>фантастика,драма,детектив</td>\n",
       "    </tr>\n",
       "    <tr>\n",
       "      <th>3037</th>\n",
       "      <td>Помнить</td>\n",
       "      <td>121006916</td>\n",
       "      <td>2016-03-24T12:00:00.000Z</td>\n",
       "      <td>Художественный</td>\n",
       "      <td>Серендипити Пойнт Филмз, Эголи Тосселл Филм</td>\n",
       "      <td>Канада - Германия</td>\n",
       "      <td>Атом Эгоян</td>\n",
       "      <td>Аарон Барнетт, Эри Лантос, Роберт Лантош</td>\n",
       "      <td>«18+» - запрещено для детей</td>\n",
       "      <td>NaN</td>\n",
       "      <td>NaN</td>\n",
       "      <td>NaN</td>\n",
       "      <td>NaN</td>\n",
       "      <td>7.4</td>\n",
       "      <td>триллер,драма,детектив</td>\n",
       "    </tr>\n",
       "  </tbody>\n",
       "</table>\n",
       "</div>"
      ],
      "text/plain": [
       "                                               title   puNumber  \\\n",
       "1598                                       Годзилла.  121008714   \n",
       "36    Планета КА-ПЭКС /По мотивам романа Джин Бруэр/  221009314   \n",
       "3037                                         Помнить  121006916   \n",
       "\n",
       "               show_start_date            type  \\\n",
       "1598  2014-04-25T12:00:00.000Z  Художественный   \n",
       "36    2014-03-03T12:00:00.000Z  Художественный   \n",
       "3037  2016-03-24T12:00:00.000Z  Художественный   \n",
       "\n",
       "                                            film_studio production_country  \\\n",
       "1598  Уорнер Бразерс, Леджендари Пикчерз, Дисрапшн И...       США - Япония   \n",
       "36    Интермедиа Филмз, Юниверсал Пикчерз, Лоуренс Г...     США - Германия   \n",
       "3037        Серендипити Пойнт Филмз, Эголи Тосселл Филм  Канада - Германия   \n",
       "\n",
       "           director                                        producer  \\\n",
       "1598  Гарет Эдвардс                         Джон Джашни, Томас Талл   \n",
       "36       Йэн Софтли  Лоуренс Гордон, Роберт Коулсберри, Ллойд Левин   \n",
       "3037     Атом Эгоян        Аарон Барнетт, Эри Лантос, Роберт Лантош   \n",
       "\n",
       "                      age_restriction  refundable_support  \\\n",
       "1598  «16+» - для детей старше 16 лет                 NaN   \n",
       "36    «12+» - для детей старше 12 лет                 NaN   \n",
       "3037      «18+» - запрещено для детей                 NaN   \n",
       "\n",
       "      nonrefundable_support  budget financing_source ratings  \\\n",
       "1598                    NaN     NaN              NaN     6.1   \n",
       "36                      NaN     NaN              NaN     8.0   \n",
       "3037                    NaN     NaN              NaN     7.4   \n",
       "\n",
       "                         genres  \n",
       "1598  фантастика,боевик,триллер  \n",
       "36    фантастика,драма,детектив  \n",
       "3037     триллер,драма,детектив  "
      ]
     },
     "execution_count": 3,
     "metadata": {},
     "output_type": "execute_result"
    }
   ],
   "source": [
    "films.sample(3)"
   ]
  },
  {
   "cell_type": "code",
   "execution_count": 4,
   "metadata": {},
   "outputs": [
    {
     "name": "stdout",
     "output_type": "stream",
     "text": [
      "<class 'pandas.core.frame.DataFrame'>\n",
      "RangeIndex: 7486 entries, 0 to 7485\n",
      "Data columns (total 15 columns):\n",
      " #   Column                 Non-Null Count  Dtype  \n",
      "---  ------                 --------------  -----  \n",
      " 0   title                  7486 non-null   object \n",
      " 1   puNumber               7486 non-null   object \n",
      " 2   show_start_date        7486 non-null   object \n",
      " 3   type                   7486 non-null   object \n",
      " 4   film_studio            7468 non-null   object \n",
      " 5   production_country     7484 non-null   object \n",
      " 6   director               7477 non-null   object \n",
      " 7   producer               6918 non-null   object \n",
      " 8   age_restriction        7486 non-null   object \n",
      " 9   refundable_support     332 non-null    float64\n",
      " 10  nonrefundable_support  332 non-null    float64\n",
      " 11  budget                 332 non-null    float64\n",
      " 12  financing_source       332 non-null    object \n",
      " 13  ratings                6519 non-null   object \n",
      " 14  genres                 6510 non-null   object \n",
      "dtypes: float64(3), object(12)\n",
      "memory usage: 877.4+ KB\n"
     ]
    }
   ],
   "source": [
    "\n",
    "films.info()"
   ]
  },
  {
   "cell_type": "markdown",
   "metadata": {},
   "source": [
    "- **title** — название фильма;\n",
    "- **puNumber** — номер прокатного удостоверения. Тип данных 'object' нам необходимо поменять на 'int';\n",
    "- **show_start_date** — дата премьеры фильма;\n",
    "- **type** — тип фильма;\n",
    "- **film_studio** — студия-производитель;\n",
    "- **production_country** — страна-производитель;\n",
    "- **director** — режиссёр;\n",
    "- **producer** — продюсер;\n",
    "- **age_restriction** — возрастная категория;\n",
    "- **refundable_support** — объём возвратных средств государственной поддержки;\n",
    "- **nonrefundable_support** — объём невозвратных средств государственной поддержки;\n",
    "- **financing_source** — источник государственного финансирования;\n",
    "- **budget** — общий бюджет фильма;\n",
    "- **ratings** — рейтинг фильма на КиноПоиске;\n",
    "- **genres** — жанр фильма."
   ]
  },
  {
   "cell_type": "code",
   "execution_count": 5,
   "metadata": {},
   "outputs": [
    {
     "data": {
      "text/html": [
       "<div>\n",
       "<style scoped>\n",
       "    .dataframe tbody tr th:only-of-type {\n",
       "        vertical-align: middle;\n",
       "    }\n",
       "\n",
       "    .dataframe tbody tr th {\n",
       "        vertical-align: top;\n",
       "    }\n",
       "\n",
       "    .dataframe thead th {\n",
       "        text-align: right;\n",
       "    }\n",
       "</style>\n",
       "<table border=\"1\" class=\"dataframe\">\n",
       "  <thead>\n",
       "    <tr style=\"text-align: right;\">\n",
       "      <th></th>\n",
       "      <th>puNumber</th>\n",
       "      <th>box_office</th>\n",
       "    </tr>\n",
       "  </thead>\n",
       "  <tbody>\n",
       "    <tr>\n",
       "      <th>0</th>\n",
       "      <td>111000113</td>\n",
       "      <td>2,450.00</td>\n",
       "    </tr>\n",
       "    <tr>\n",
       "      <th>1</th>\n",
       "      <td>111000115</td>\n",
       "      <td>61,040.00</td>\n",
       "    </tr>\n",
       "    <tr>\n",
       "      <th>2</th>\n",
       "      <td>111000116</td>\n",
       "      <td>153,030,013.40</td>\n",
       "    </tr>\n",
       "    <tr>\n",
       "      <th>3</th>\n",
       "      <td>111000117</td>\n",
       "      <td>12,260,956.00</td>\n",
       "    </tr>\n",
       "    <tr>\n",
       "      <th>4</th>\n",
       "      <td>111000118</td>\n",
       "      <td>163,684,057.79</td>\n",
       "    </tr>\n",
       "  </tbody>\n",
       "</table>\n",
       "</div>"
      ],
      "text/plain": [
       "    puNumber     box_office\n",
       "0  111000113       2,450.00\n",
       "1  111000115      61,040.00\n",
       "2  111000116 153,030,013.40\n",
       "3  111000117  12,260,956.00\n",
       "4  111000118 163,684,057.79"
      ]
     },
     "execution_count": 5,
     "metadata": {},
     "output_type": "execute_result"
    }
   ],
   "source": [
    "shows.head(5)"
   ]
  },
  {
   "cell_type": "code",
   "execution_count": 6,
   "metadata": {},
   "outputs": [
    {
     "name": "stdout",
     "output_type": "stream",
     "text": [
      "<class 'pandas.core.frame.DataFrame'>\n",
      "RangeIndex: 3158 entries, 0 to 3157\n",
      "Data columns (total 2 columns):\n",
      " #   Column      Non-Null Count  Dtype  \n",
      "---  ------      --------------  -----  \n",
      " 0   puNumber    3158 non-null   int64  \n",
      " 1   box_office  3158 non-null   float64\n",
      "dtypes: float64(1), int64(1)\n",
      "memory usage: 49.5 KB\n"
     ]
    }
   ],
   "source": [
    "shows.info(5)"
   ]
  },
  {
   "cell_type": "markdown",
   "metadata": {},
   "source": [
    "- **puNumber** — номер прокатного удостоверения;\n",
    "- **box_office** — сборы в рублях."
   ]
  },
  {
   "cell_type": "markdown",
   "metadata": {},
   "source": [
    "- Нам необходимо соединить два датафрема. Объединять будем по столбцу **puNumber**. В датафреме **films** нам необходимо поменять тип данных в этом столбце на числовой.\n",
    "- Но при попытке изменить тип данных вылезает ошибка. Скорее всего в столбце присутствуют строковые значения. Найдем их"
   ]
  },
  {
   "cell_type": "code",
   "execution_count": 7,
   "metadata": {},
   "outputs": [
    {
     "data": {
      "text/html": [
       "<div>\n",
       "<style scoped>\n",
       "    .dataframe tbody tr th:only-of-type {\n",
       "        vertical-align: middle;\n",
       "    }\n",
       "\n",
       "    .dataframe tbody tr th {\n",
       "        vertical-align: top;\n",
       "    }\n",
       "\n",
       "    .dataframe thead th {\n",
       "        text-align: right;\n",
       "    }\n",
       "</style>\n",
       "<table border=\"1\" class=\"dataframe\">\n",
       "  <thead>\n",
       "    <tr style=\"text-align: right;\">\n",
       "      <th></th>\n",
       "      <th>title</th>\n",
       "      <th>puNumber</th>\n",
       "      <th>show_start_date</th>\n",
       "      <th>type</th>\n",
       "      <th>film_studio</th>\n",
       "      <th>production_country</th>\n",
       "      <th>director</th>\n",
       "      <th>producer</th>\n",
       "      <th>age_restriction</th>\n",
       "      <th>refundable_support</th>\n",
       "      <th>nonrefundable_support</th>\n",
       "      <th>budget</th>\n",
       "      <th>financing_source</th>\n",
       "      <th>ratings</th>\n",
       "      <th>genres</th>\n",
       "    </tr>\n",
       "  </thead>\n",
       "  <tbody>\n",
       "    <tr>\n",
       "      <th>804</th>\n",
       "      <td>Паранормальный Якутск</td>\n",
       "      <td>111004112</td>\n",
       "      <td>2012-08-24T12:00:00.000Z</td>\n",
       "      <td>Художественный</td>\n",
       "      <td>ИП Тимофеев К.П.</td>\n",
       "      <td>Россия</td>\n",
       "      <td>К.Тимофеев</td>\n",
       "      <td>NaN</td>\n",
       "      <td>«16+» - для детей старше 16 лет</td>\n",
       "      <td>NaN</td>\n",
       "      <td>NaN</td>\n",
       "      <td>NaN</td>\n",
       "      <td>NaN</td>\n",
       "      <td>NaN</td>\n",
       "      <td>NaN</td>\n",
       "    </tr>\n",
       "    <tr>\n",
       "      <th>1797</th>\n",
       "      <td>Курбан-роман. (История с жертвой)</td>\n",
       "      <td>нет</td>\n",
       "      <td>2014-05-15T12:00:00.000Z</td>\n",
       "      <td>Художественный</td>\n",
       "      <td>ФОНД \"ИННОВАЦИЯ\"</td>\n",
       "      <td>Россия</td>\n",
       "      <td>С.Юзеев</td>\n",
       "      <td>М.Галицкая</td>\n",
       "      <td>«12+» - для детей старше 12 лет</td>\n",
       "      <td>NaN</td>\n",
       "      <td>NaN</td>\n",
       "      <td>NaN</td>\n",
       "      <td>NaN</td>\n",
       "      <td>NaN</td>\n",
       "      <td>NaN</td>\n",
       "    </tr>\n",
       "  </tbody>\n",
       "</table>\n",
       "</div>"
      ],
      "text/plain": [
       "                                  title    puNumber           show_start_date  \\\n",
       "804               Паранормальный Якутск   111004112  2012-08-24T12:00:00.000Z   \n",
       "1797  Курбан-роман. (История с жертвой)         нет  2014-05-15T12:00:00.000Z   \n",
       "\n",
       "                type       film_studio production_country    director  \\\n",
       "804   Художественный  ИП Тимофеев К.П.             Россия  К.Тимофеев   \n",
       "1797  Художественный  ФОНД \"ИННОВАЦИЯ\"             Россия     С.Юзеев   \n",
       "\n",
       "        producer                  age_restriction  refundable_support  \\\n",
       "804          NaN  «16+» - для детей старше 16 лет                 NaN   \n",
       "1797  М.Галицкая  «12+» - для детей старше 12 лет                 NaN   \n",
       "\n",
       "      nonrefundable_support  budget financing_source ratings genres  \n",
       "804                     NaN     NaN              NaN     NaN    NaN  \n",
       "1797                    NaN     NaN              NaN     NaN    NaN  "
      ]
     },
     "execution_count": 7,
     "metadata": {},
     "output_type": "execute_result"
    }
   ],
   "source": [
    "films[~films['puNumber'].str.isdigit()]"
   ]
  },
  {
   "cell_type": "markdown",
   "metadata": {},
   "source": [
    "- Таких записей всего две. В первом случае   присутствуют пробелы, их можно удалить методом **strio**.  А во втором случем мы обратимся к сайту **Министерства культуру к разделу** к разделу **Реестр прокатных удостоверений фильмов**\n",
    "- На сайте Министерства культуры я нашел две записи об этом фильме . У одного номер есть, а второго нет. Возьмем номер удостоверения с сайта и добавим его в наш ДФ."
   ]
  },
  {
   "cell_type": "code",
   "execution_count": 8,
   "metadata": {},
   "outputs": [],
   "source": [
    "#Удалим пробелы\n",
    "films.loc[804, 'puNumber'] = films.loc[804, 'puNumber'].strip()\n",
    "#Добавим номер удостоверения\n",
    "films['puNumber'] = films['puNumber'].replace('нет', '111009614')\n"
   ]
  },
  {
   "cell_type": "code",
   "execution_count": 9,
   "metadata": {},
   "outputs": [
    {
     "data": {
      "text/html": [
       "<div>\n",
       "<style scoped>\n",
       "    .dataframe tbody tr th:only-of-type {\n",
       "        vertical-align: middle;\n",
       "    }\n",
       "\n",
       "    .dataframe tbody tr th {\n",
       "        vertical-align: top;\n",
       "    }\n",
       "\n",
       "    .dataframe thead th {\n",
       "        text-align: right;\n",
       "    }\n",
       "</style>\n",
       "<table border=\"1\" class=\"dataframe\">\n",
       "  <thead>\n",
       "    <tr style=\"text-align: right;\">\n",
       "      <th></th>\n",
       "      <th>title</th>\n",
       "      <th>puNumber</th>\n",
       "      <th>show_start_date</th>\n",
       "      <th>type</th>\n",
       "      <th>film_studio</th>\n",
       "      <th>production_country</th>\n",
       "      <th>director</th>\n",
       "      <th>producer</th>\n",
       "      <th>age_restriction</th>\n",
       "      <th>refundable_support</th>\n",
       "      <th>nonrefundable_support</th>\n",
       "      <th>budget</th>\n",
       "      <th>financing_source</th>\n",
       "      <th>ratings</th>\n",
       "      <th>genres</th>\n",
       "    </tr>\n",
       "  </thead>\n",
       "  <tbody>\n",
       "    <tr>\n",
       "      <th>1797</th>\n",
       "      <td>Курбан-роман. (История с жертвой)</td>\n",
       "      <td>111009614</td>\n",
       "      <td>2014-05-15T12:00:00.000Z</td>\n",
       "      <td>Художественный</td>\n",
       "      <td>ФОНД \"ИННОВАЦИЯ\"</td>\n",
       "      <td>Россия</td>\n",
       "      <td>С.Юзеев</td>\n",
       "      <td>М.Галицкая</td>\n",
       "      <td>«12+» - для детей старше 12 лет</td>\n",
       "      <td>NaN</td>\n",
       "      <td>NaN</td>\n",
       "      <td>NaN</td>\n",
       "      <td>NaN</td>\n",
       "      <td>NaN</td>\n",
       "      <td>NaN</td>\n",
       "    </tr>\n",
       "    <tr>\n",
       "      <th>2078</th>\n",
       "      <td>Курбан-роман. (История с жертвой).</td>\n",
       "      <td>111009614</td>\n",
       "      <td>2014-09-02T12:00:00.000Z</td>\n",
       "      <td>Художественный</td>\n",
       "      <td>ФОНД \"ИННОВАЦИЯ\"</td>\n",
       "      <td>Россия</td>\n",
       "      <td>С.Юзеев</td>\n",
       "      <td>М.Галицкая</td>\n",
       "      <td>«12+» - для детей старше 12 лет</td>\n",
       "      <td>NaN</td>\n",
       "      <td>NaN</td>\n",
       "      <td>NaN</td>\n",
       "      <td>NaN</td>\n",
       "      <td>NaN</td>\n",
       "      <td>NaN</td>\n",
       "    </tr>\n",
       "  </tbody>\n",
       "</table>\n",
       "</div>"
      ],
      "text/plain": [
       "                                   title   puNumber           show_start_date  \\\n",
       "1797   Курбан-роман. (История с жертвой)  111009614  2014-05-15T12:00:00.000Z   \n",
       "2078  Курбан-роман. (История с жертвой).  111009614  2014-09-02T12:00:00.000Z   \n",
       "\n",
       "                type       film_studio production_country director  \\\n",
       "1797  Художественный  ФОНД \"ИННОВАЦИЯ\"             Россия  С.Юзеев   \n",
       "2078  Художественный  ФОНД \"ИННОВАЦИЯ\"             Россия  С.Юзеев   \n",
       "\n",
       "        producer                  age_restriction  refundable_support  \\\n",
       "1797  М.Галицкая  «12+» - для детей старше 12 лет                 NaN   \n",
       "2078  М.Галицкая  «12+» - для детей старше 12 лет                 NaN   \n",
       "\n",
       "      nonrefundable_support  budget financing_source ratings genres  \n",
       "1797                    NaN     NaN              NaN     NaN    NaN  \n",
       "2078                    NaN     NaN              NaN     NaN    NaN  "
      ]
     },
     "execution_count": 9,
     "metadata": {},
     "output_type": "execute_result"
    }
   ],
   "source": [
    "films.loc[films['puNumber'] == '111009614']"
   ]
  },
  {
   "cell_type": "markdown",
   "metadata": {},
   "source": [
    "Похоже на неявный дубликат. На сайте этих фильмов тоже два. Думаю стоит удалить тот у которго дата регистрации 2014-05-15, т.к на сайте у него номера прокатного удостоверения"
   ]
  },
  {
   "cell_type": "code",
   "execution_count": 10,
   "metadata": {},
   "outputs": [],
   "source": [
    "#Удалим дубликат и сбросим индексы\n",
    "films = films.drop(index=[1797]).reset_index(drop=True)\n"
   ]
  },
  {
   "cell_type": "code",
   "execution_count": 11,
   "metadata": {},
   "outputs": [
    {
     "name": "stdout",
     "output_type": "stream",
     "text": [
      "<class 'pandas.core.frame.DataFrame'>\n",
      "RangeIndex: 7485 entries, 0 to 7484\n",
      "Data columns (total 15 columns):\n",
      " #   Column                 Non-Null Count  Dtype  \n",
      "---  ------                 --------------  -----  \n",
      " 0   title                  7485 non-null   object \n",
      " 1   puNumber               7485 non-null   int64  \n",
      " 2   show_start_date        7485 non-null   object \n",
      " 3   type                   7485 non-null   object \n",
      " 4   film_studio            7467 non-null   object \n",
      " 5   production_country     7483 non-null   object \n",
      " 6   director               7476 non-null   object \n",
      " 7   producer               6917 non-null   object \n",
      " 8   age_restriction        7485 non-null   object \n",
      " 9   refundable_support     332 non-null    float64\n",
      " 10  nonrefundable_support  332 non-null    float64\n",
      " 11  budget                 332 non-null    float64\n",
      " 12  financing_source       332 non-null    object \n",
      " 13  ratings                6519 non-null   object \n",
      " 14  genres                 6510 non-null   object \n",
      "dtypes: float64(3), int64(1), object(11)\n",
      "memory usage: 877.3+ KB\n"
     ]
    }
   ],
   "source": [
    "#Изменим ти данных и проверим\n",
    "films['puNumber'] = films['puNumber'].astype('int')\n",
    "films.info()"
   ]
  },
  {
   "cell_type": "code",
   "execution_count": 12,
   "metadata": {},
   "outputs": [
    {
     "data": {
      "text/html": [
       "<div>\n",
       "<style scoped>\n",
       "    .dataframe tbody tr th:only-of-type {\n",
       "        vertical-align: middle;\n",
       "    }\n",
       "\n",
       "    .dataframe tbody tr th {\n",
       "        vertical-align: top;\n",
       "    }\n",
       "\n",
       "    .dataframe thead th {\n",
       "        text-align: right;\n",
       "    }\n",
       "</style>\n",
       "<table border=\"1\" class=\"dataframe\">\n",
       "  <thead>\n",
       "    <tr style=\"text-align: right;\">\n",
       "      <th></th>\n",
       "      <th>title</th>\n",
       "      <th>puNumber</th>\n",
       "      <th>show_start_date</th>\n",
       "      <th>type</th>\n",
       "      <th>film_studio</th>\n",
       "      <th>production_country</th>\n",
       "      <th>director</th>\n",
       "      <th>producer</th>\n",
       "      <th>age_restriction</th>\n",
       "      <th>refundable_support</th>\n",
       "      <th>nonrefundable_support</th>\n",
       "      <th>budget</th>\n",
       "      <th>financing_source</th>\n",
       "      <th>ratings</th>\n",
       "      <th>genres</th>\n",
       "    </tr>\n",
       "  </thead>\n",
       "  <tbody>\n",
       "  </tbody>\n",
       "</table>\n",
       "</div>"
      ],
      "text/plain": [
       "Empty DataFrame\n",
       "Columns: [title, puNumber, show_start_date, type, film_studio, production_country, director, producer, age_restriction, refundable_support, nonrefundable_support, budget, financing_source, ratings, genres]\n",
       "Index: []"
      ]
     },
     "execution_count": 12,
     "metadata": {},
     "output_type": "execute_result"
    }
   ],
   "source": [
    "films.loc[films['puNumber'] =='111009614']"
   ]
  },
  {
   "cell_type": "markdown",
   "metadata": {},
   "source": [
    "**Теперь можно соединять  датафреймы**"
   ]
  },
  {
   "cell_type": "code",
   "execution_count": 13,
   "metadata": {
    "scrolled": true
   },
   "outputs": [
    {
     "data": {
      "text/html": [
       "<div>\n",
       "<style scoped>\n",
       "    .dataframe tbody tr th:only-of-type {\n",
       "        vertical-align: middle;\n",
       "    }\n",
       "\n",
       "    .dataframe tbody tr th {\n",
       "        vertical-align: top;\n",
       "    }\n",
       "\n",
       "    .dataframe thead th {\n",
       "        text-align: right;\n",
       "    }\n",
       "</style>\n",
       "<table border=\"1\" class=\"dataframe\">\n",
       "  <thead>\n",
       "    <tr style=\"text-align: right;\">\n",
       "      <th></th>\n",
       "      <th>title</th>\n",
       "      <th>puNumber</th>\n",
       "      <th>show_start_date</th>\n",
       "      <th>type</th>\n",
       "      <th>film_studio</th>\n",
       "      <th>production_country</th>\n",
       "      <th>director</th>\n",
       "      <th>producer</th>\n",
       "      <th>age_restriction</th>\n",
       "      <th>refundable_support</th>\n",
       "      <th>nonrefundable_support</th>\n",
       "      <th>budget</th>\n",
       "      <th>financing_source</th>\n",
       "      <th>ratings</th>\n",
       "      <th>genres</th>\n",
       "      <th>box_office</th>\n",
       "    </tr>\n",
       "  </thead>\n",
       "  <tbody>\n",
       "    <tr>\n",
       "      <th>0</th>\n",
       "      <td>Открытый простор</td>\n",
       "      <td>221048915</td>\n",
       "      <td>2015-11-27T12:00:00.000Z</td>\n",
       "      <td>Художественный</td>\n",
       "      <td>Тачстоун Пикчерз, Кобальт Пикчерз, Бикон Пикче...</td>\n",
       "      <td>США</td>\n",
       "      <td>Кевин Костнер</td>\n",
       "      <td>Дэвид Валдес, Кевин Костнер, Джейк Эбертс</td>\n",
       "      <td>«18+» - запрещено для детей</td>\n",
       "      <td>NaN</td>\n",
       "      <td>NaN</td>\n",
       "      <td>NaN</td>\n",
       "      <td>NaN</td>\n",
       "      <td>7.2</td>\n",
       "      <td>боевик,драма,мелодрама</td>\n",
       "      <td>NaN</td>\n",
       "    </tr>\n",
       "    <tr>\n",
       "      <th>1</th>\n",
       "      <td>Особо важное задание</td>\n",
       "      <td>111013716</td>\n",
       "      <td>2016-09-13T12:00:00.000Z</td>\n",
       "      <td>Художественный</td>\n",
       "      <td>Киностудия \"Мосфильм\"</td>\n",
       "      <td>СССР</td>\n",
       "      <td>Е.Матвеев</td>\n",
       "      <td>NaN</td>\n",
       "      <td>«6+» - для детей старше 6 лет</td>\n",
       "      <td>NaN</td>\n",
       "      <td>NaN</td>\n",
       "      <td>NaN</td>\n",
       "      <td>NaN</td>\n",
       "      <td>6.6</td>\n",
       "      <td>драма,военный</td>\n",
       "      <td>NaN</td>\n",
       "    </tr>\n",
       "    <tr>\n",
       "      <th>2</th>\n",
       "      <td>Особо опасен</td>\n",
       "      <td>221038416</td>\n",
       "      <td>2016-10-10T12:00:00.000Z</td>\n",
       "      <td>Художественный</td>\n",
       "      <td>Юниверсал Пикчерз, Кикстарт Продакшнз, Марк Пл...</td>\n",
       "      <td>США</td>\n",
       "      <td>Тимур Бекмамбетов</td>\n",
       "      <td>Джим Лемли, Джейсон Нетер, Марк Е.Платт, Яйн Смит</td>\n",
       "      <td>«18+» - запрещено для детей</td>\n",
       "      <td>NaN</td>\n",
       "      <td>NaN</td>\n",
       "      <td>NaN</td>\n",
       "      <td>NaN</td>\n",
       "      <td>6.8</td>\n",
       "      <td>фантастика,боевик,триллер</td>\n",
       "      <td>NaN</td>\n",
       "    </tr>\n",
       "    <tr>\n",
       "      <th>3</th>\n",
       "      <td>Особо опасен</td>\n",
       "      <td>221026916</td>\n",
       "      <td>2016-06-10T12:00:00.000Z</td>\n",
       "      <td>Художественный</td>\n",
       "      <td>Юниверсал Пикчерз, Кикстарт Продакшнз, Марк Пл...</td>\n",
       "      <td>США</td>\n",
       "      <td>Тимур Бекмамбетов</td>\n",
       "      <td>Джим Лемли, Джейсон Нетер, Марк Е.Платт, Яйн Смит</td>\n",
       "      <td>«18+» - запрещено для детей</td>\n",
       "      <td>NaN</td>\n",
       "      <td>NaN</td>\n",
       "      <td>NaN</td>\n",
       "      <td>NaN</td>\n",
       "      <td>6.8</td>\n",
       "      <td>фантастика,боевик,триллер</td>\n",
       "      <td>NaN</td>\n",
       "    </tr>\n",
       "    <tr>\n",
       "      <th>4</th>\n",
       "      <td>Особо опасен</td>\n",
       "      <td>221030815</td>\n",
       "      <td>2015-07-29T12:00:00.000Z</td>\n",
       "      <td>Художественный</td>\n",
       "      <td>Юниверсал Пикчерз, Кикстарт Продакшнз, Марк Пл...</td>\n",
       "      <td>США</td>\n",
       "      <td>Тимур Бекмамбетов</td>\n",
       "      <td>Джим Лемли, Джейсон Нетер, Марк Е.Платт, Яйн Смит</td>\n",
       "      <td>«18+» - запрещено для детей</td>\n",
       "      <td>NaN</td>\n",
       "      <td>NaN</td>\n",
       "      <td>NaN</td>\n",
       "      <td>NaN</td>\n",
       "      <td>6.8</td>\n",
       "      <td>фантастика,боевик,триллер</td>\n",
       "      <td>NaN</td>\n",
       "    </tr>\n",
       "  </tbody>\n",
       "</table>\n",
       "</div>"
      ],
      "text/plain": [
       "                  title   puNumber           show_start_date            type  \\\n",
       "0      Открытый простор  221048915  2015-11-27T12:00:00.000Z  Художественный   \n",
       "1  Особо важное задание  111013716  2016-09-13T12:00:00.000Z  Художественный   \n",
       "2          Особо опасен  221038416  2016-10-10T12:00:00.000Z  Художественный   \n",
       "3          Особо опасен  221026916  2016-06-10T12:00:00.000Z  Художественный   \n",
       "4          Особо опасен  221030815  2015-07-29T12:00:00.000Z  Художественный   \n",
       "\n",
       "                                         film_studio production_country  \\\n",
       "0  Тачстоун Пикчерз, Кобальт Пикчерз, Бикон Пикче...                США   \n",
       "1                              Киностудия \"Мосфильм\"               СССР   \n",
       "2  Юниверсал Пикчерз, Кикстарт Продакшнз, Марк Пл...                США   \n",
       "3  Юниверсал Пикчерз, Кикстарт Продакшнз, Марк Пл...                США   \n",
       "4  Юниверсал Пикчерз, Кикстарт Продакшнз, Марк Пл...                США   \n",
       "\n",
       "            director                                           producer  \\\n",
       "0      Кевин Костнер          Дэвид Валдес, Кевин Костнер, Джейк Эбертс   \n",
       "1          Е.Матвеев                                                NaN   \n",
       "2  Тимур Бекмамбетов  Джим Лемли, Джейсон Нетер, Марк Е.Платт, Яйн Смит   \n",
       "3  Тимур Бекмамбетов  Джим Лемли, Джейсон Нетер, Марк Е.Платт, Яйн Смит   \n",
       "4  Тимур Бекмамбетов  Джим Лемли, Джейсон Нетер, Марк Е.Платт, Яйн Смит   \n",
       "\n",
       "                 age_restriction  refundable_support  nonrefundable_support  \\\n",
       "0    «18+» - запрещено для детей                 NaN                    NaN   \n",
       "1  «6+» - для детей старше 6 лет                 NaN                    NaN   \n",
       "2    «18+» - запрещено для детей                 NaN                    NaN   \n",
       "3    «18+» - запрещено для детей                 NaN                    NaN   \n",
       "4    «18+» - запрещено для детей                 NaN                    NaN   \n",
       "\n",
       "   budget financing_source ratings                     genres  box_office  \n",
       "0     NaN              NaN     7.2     боевик,драма,мелодрама         NaN  \n",
       "1     NaN              NaN     6.6              драма,военный         NaN  \n",
       "2     NaN              NaN     6.8  фантастика,боевик,триллер         NaN  \n",
       "3     NaN              NaN     6.8  фантастика,боевик,триллер         NaN  \n",
       "4     NaN              NaN     6.8  фантастика,боевик,триллер         NaN  "
      ]
     },
     "execution_count": 13,
     "metadata": {},
     "output_type": "execute_result"
    }
   ],
   "source": [
    "#Соединям датафреймы\n",
    "df = films.merge(shows, on = 'puNumber', how='left')\n",
    "#Выведем первые 5 строк\n",
    "df.head(5)"
   ]
  },
  {
   "cell_type": "code",
   "execution_count": 14,
   "metadata": {},
   "outputs": [
    {
     "name": "stdout",
     "output_type": "stream",
     "text": [
      "<class 'pandas.core.frame.DataFrame'>\n",
      "Int64Index: 7485 entries, 0 to 7484\n",
      "Data columns (total 16 columns):\n",
      " #   Column                 Non-Null Count  Dtype  \n",
      "---  ------                 --------------  -----  \n",
      " 0   title                  7485 non-null   object \n",
      " 1   puNumber               7485 non-null   int64  \n",
      " 2   show_start_date        7485 non-null   object \n",
      " 3   type                   7485 non-null   object \n",
      " 4   film_studio            7467 non-null   object \n",
      " 5   production_country     7483 non-null   object \n",
      " 6   director               7476 non-null   object \n",
      " 7   producer               6917 non-null   object \n",
      " 8   age_restriction        7485 non-null   object \n",
      " 9   refundable_support     332 non-null    float64\n",
      " 10  nonrefundable_support  332 non-null    float64\n",
      " 11  budget                 332 non-null    float64\n",
      " 12  financing_source       332 non-null    object \n",
      " 13  ratings                6519 non-null   object \n",
      " 14  genres                 6510 non-null   object \n",
      " 15  box_office             3158 non-null   float64\n",
      "dtypes: float64(4), int64(1), object(11)\n",
      "memory usage: 994.1+ KB\n"
     ]
    }
   ],
   "source": [
    "df.info()"
   ]
  },
  {
   "cell_type": "markdown",
   "metadata": {},
   "source": [
    "**Как мы видим все 3158 строк с данными о сборах перенеслись в новый датафрем. Можно приступать к предобрабоке**"
   ]
  },
  {
   "cell_type": "markdown",
   "metadata": {
    "id": "KLDGpPG0gFyM"
   },
   "source": [
    "### Шаг 2. Предобработка данных"
   ]
  },
  {
   "cell_type": "markdown",
   "metadata": {
    "id": "ssWwKXsxgFyO"
   },
   "source": [
    "#### Шаг 2.1. Проверьте типы данных\n",
    "\n",
    "- Проверьте типы данных в датафрейме и преобразуйте их там, где это необходимо."
   ]
  },
  {
   "cell_type": "markdown",
   "metadata": {
    "id": "kVGSplJOgFyO"
   },
   "source": [
    " - show_start_date необходимо поменять на   datetime\n",
    " - ratings — нужно поменять на  float"
   ]
  },
  {
   "cell_type": "code",
   "execution_count": 15,
   "metadata": {},
   "outputs": [],
   "source": [
    "df['show_start_date'] = pd.to_datetime(df['show_start_date'],format='%Y-%m-%dT%H:%M:%S', utc=True)"
   ]
  },
  {
   "cell_type": "code",
   "execution_count": 16,
   "metadata": {},
   "outputs": [],
   "source": [
    "#df['ratings'] = df['ratings'].astype('float')"
   ]
  },
  {
   "cell_type": "markdown",
   "metadata": {},
   "source": [
    "Когда я менял тип данных в столбце **ratings** выяснилось , что в столбце имееются значения с процентами. Скорее всего 100% соответствует значеню 10 и т.д. Необходимо привести весь столбец к нормальным значениям типу данных float. Для этого мы удалим '%', затем поменяем тип данных на float, а потом разделим значения выше 10 на 10"
   ]
  },
  {
   "cell_type": "code",
   "execution_count": 17,
   "metadata": {},
   "outputs": [],
   "source": [
    "\n",
    "df['ratings'] = df['ratings'].replace('\\%', '', regex = True)\n",
    "df['ratings']= df['ratings'].astype('float64') \n",
    "df.loc[df['ratings'] > 10, 'ratings'] = df['ratings']/10\n"
   ]
  },
  {
   "cell_type": "code",
   "execution_count": 18,
   "metadata": {},
   "outputs": [
    {
     "data": {
      "text/plain": [
       "min   1.00\n",
       "max   9.90\n",
       "Name: ratings, dtype: float64"
      ]
     },
     "execution_count": 18,
     "metadata": {},
     "output_type": "execute_result"
    }
   ],
   "source": [
    "#убедимся, что значения находятся в диапазоне от 0 до 10\n",
    "df['ratings'].describe()[['min', 'max']]"
   ]
  },
  {
   "cell_type": "markdown",
   "metadata": {
    "id": "i0MOLbF-gFyP"
   },
   "source": [
    "#### Шаг 2.2. Изучите пропуски в датафрейме\n",
    "\n",
    "- Объясните, почему заполнили пропуски определённым образом или почему не стали этого делать."
   ]
  },
  {
   "cell_type": "code",
   "execution_count": 19,
   "metadata": {},
   "outputs": [
    {
     "name": "stdout",
     "output_type": "stream",
     "text": [
      "<class 'pandas.core.frame.DataFrame'>\n",
      "Int64Index: 7485 entries, 0 to 7484\n",
      "Data columns (total 16 columns):\n",
      " #   Column                 Non-Null Count  Dtype              \n",
      "---  ------                 --------------  -----              \n",
      " 0   title                  7485 non-null   object             \n",
      " 1   puNumber               7485 non-null   int64              \n",
      " 2   show_start_date        7485 non-null   datetime64[ns, UTC]\n",
      " 3   type                   7485 non-null   object             \n",
      " 4   film_studio            7467 non-null   object             \n",
      " 5   production_country     7483 non-null   object             \n",
      " 6   director               7476 non-null   object             \n",
      " 7   producer               6917 non-null   object             \n",
      " 8   age_restriction        7485 non-null   object             \n",
      " 9   refundable_support     332 non-null    float64            \n",
      " 10  nonrefundable_support  332 non-null    float64            \n",
      " 11  budget                 332 non-null    float64            \n",
      " 12  financing_source       332 non-null    object             \n",
      " 13  ratings                6519 non-null   float64            \n",
      " 14  genres                 6510 non-null   object             \n",
      " 15  box_office             3158 non-null   float64            \n",
      "dtypes: datetime64[ns, UTC](1), float64(5), int64(1), object(9)\n",
      "memory usage: 1.2+ MB\n"
     ]
    }
   ],
   "source": [
    "df.info()"
   ]
  },
  {
   "cell_type": "code",
   "execution_count": 20,
   "metadata": {},
   "outputs": [
    {
     "data": {
      "text/plain": [
       "7485"
      ]
     },
     "execution_count": 20,
     "metadata": {},
     "output_type": "execute_result"
    }
   ],
   "source": [
    "# Комментарий ревьюера\n",
    "temp = df.copy() # создаем копию датасета до преобразования\n",
    "len(temp)"
   ]
  },
  {
   "cell_type": "code",
   "execution_count": 21,
   "metadata": {
    "id": "8MJD_lkngFyP"
   },
   "outputs": [
    {
     "data": {
      "text/plain": [
       "title                       0\n",
       "puNumber                    0\n",
       "show_start_date             0\n",
       "type                        0\n",
       "film_studio                18\n",
       "production_country          2\n",
       "director                    9\n",
       "producer                  568\n",
       "age_restriction             0\n",
       "refundable_support       7153\n",
       "nonrefundable_support    7153\n",
       "budget                   7153\n",
       "financing_source         7153\n",
       "ratings                   966\n",
       "genres                    975\n",
       "box_office               4327\n",
       "dtype: int64"
      ]
     },
     "execution_count": 21,
     "metadata": {},
     "output_type": "execute_result"
    }
   ],
   "source": [
    "#Выведем пропущенные  значения\n",
    "df.isna().sum()"
   ]
  },
  {
   "cell_type": "markdown",
   "metadata": {},
   "source": [
    "- **film_studio** у 18 фильмов не указана студия, т.к это не влияет на исследование можно заменить н азначение \"неизвестно\"\n",
    "- **production_country** у 2 фильмов не указана страна производства, тут так же моожно заменить на \"неизвестно\"\n",
    "- **director** в 9 фильмах не указан режисер заменим пропуски на \"неизвестно\"\n",
    "- **producer**  продюсер не указан для 568 фильмах - заменим пропуски на \"неизвестно\"\n",
    "- **genres** жанра нет у  976 фильмов,заменим пропуски на \"неизвестно\"\n",
    "- **ratings** у 995 фильмов нет рейтинга. Тут так же можно нпопробовать найти его на Кинопоиске, но н аэто так же уйдет много времени. Оставим пропуски\n",
    "- **box_office** у 4327 нет информации о сборах. Скорее всего это ошибка в выгрузке данных. В теории наверное можно найти информацию на кинопоиске, но заполнять такое количество значений вручную нецелесообразно. Оставим пропуски.\n",
    "- **- refundable_support, nonrefundable_support, budget, financing_source** у  95% фильмов нет информация о бюджете фильма,источнике государственного финансирования и объёмах возвратных и невозвратных средств гос.поддержки. Скорее всего это сявязано с тем, что не все фильмы получившие прокатное удостоверение получали гос.поддержку\n"
   ]
  },
  {
   "cell_type": "markdown",
   "metadata": {
    "id": "4c6k1t9ygFyQ"
   },
   "source": [
    "#### Шаг 2.3. Изучите дубликаты в датафрейме\n",
    "- Проверьте, есть ли в данных дубликаты. Опишите причины, которые могли повлиять на появление дублей."
   ]
  },
  {
   "cell_type": "code",
   "execution_count": 22,
   "metadata": {
    "id": "aKck8RIdgFyQ"
   },
   "outputs": [
    {
     "data": {
      "text/plain": [
       "0"
      ]
     },
     "execution_count": 22,
     "metadata": {},
     "output_type": "execute_result"
    }
   ],
   "source": [
    "# Проверим явные дубликаты:\n",
    "df.duplicated().sum()"
   ]
  },
  {
   "cell_type": "markdown",
   "metadata": {},
   "source": [
    "Проверим дубликаты в столбце **puNumber**:"
   ]
  },
  {
   "cell_type": "code",
   "execution_count": 23,
   "metadata": {},
   "outputs": [
    {
     "data": {
      "text/plain": [
       "2"
      ]
     },
     "execution_count": 23,
     "metadata": {},
     "output_type": "execute_result"
    }
   ],
   "source": [
    "df['puNumber'].duplicated().sum()"
   ]
  },
  {
   "cell_type": "code",
   "execution_count": 24,
   "metadata": {},
   "outputs": [
    {
     "data": {
      "text/html": [
       "<div>\n",
       "<style scoped>\n",
       "    .dataframe tbody tr th:only-of-type {\n",
       "        vertical-align: middle;\n",
       "    }\n",
       "\n",
       "    .dataframe tbody tr th {\n",
       "        vertical-align: top;\n",
       "    }\n",
       "\n",
       "    .dataframe thead th {\n",
       "        text-align: right;\n",
       "    }\n",
       "</style>\n",
       "<table border=\"1\" class=\"dataframe\">\n",
       "  <thead>\n",
       "    <tr style=\"text-align: right;\">\n",
       "      <th></th>\n",
       "      <th>title</th>\n",
       "      <th>puNumber</th>\n",
       "      <th>show_start_date</th>\n",
       "      <th>type</th>\n",
       "      <th>film_studio</th>\n",
       "      <th>production_country</th>\n",
       "      <th>director</th>\n",
       "      <th>producer</th>\n",
       "      <th>age_restriction</th>\n",
       "      <th>refundable_support</th>\n",
       "      <th>nonrefundable_support</th>\n",
       "      <th>budget</th>\n",
       "      <th>financing_source</th>\n",
       "      <th>ratings</th>\n",
       "      <th>genres</th>\n",
       "      <th>box_office</th>\n",
       "    </tr>\n",
       "  </thead>\n",
       "  <tbody>\n",
       "    <tr>\n",
       "      <th>4637</th>\n",
       "      <td>Как жениться и остаться холостым</td>\n",
       "      <td>221154310</td>\n",
       "      <td>2010-12-17 12:00:00+00:00</td>\n",
       "      <td>Художественный</td>\n",
       "      <td>Ше Вам, Скрипт Ассосье, Тэ Фэ 1 Фильм Продюксь...</td>\n",
       "      <td>Франция</td>\n",
       "      <td>Эрик Лартиго</td>\n",
       "      <td>Амандин Било, Алан Шаба</td>\n",
       "      <td>«16+» - для детей старше 16 лет</td>\n",
       "      <td>NaN</td>\n",
       "      <td>NaN</td>\n",
       "      <td>NaN</td>\n",
       "      <td>NaN</td>\n",
       "      <td>7.00</td>\n",
       "      <td>мелодрама,комедия</td>\n",
       "      <td>NaN</td>\n",
       "    </tr>\n",
       "    <tr>\n",
       "      <th>4638</th>\n",
       "      <td>Иоанна - женщина на папском престоле /По роман...</td>\n",
       "      <td>221154310</td>\n",
       "      <td>2010-12-17 12:00:00+00:00</td>\n",
       "      <td>Художественный</td>\n",
       "      <td>Константин Фильм, А Эр Ди Дегето Фильм, Дюне ...</td>\n",
       "      <td>Германия - Великобритания - Италия - Испания</td>\n",
       "      <td>Зенке Вортманн</td>\n",
       "      <td>Оливер Бербен, Дорис Д.Хайнце, Фарук Элтан</td>\n",
       "      <td>«16+» - для детей старше 16 лет</td>\n",
       "      <td>NaN</td>\n",
       "      <td>NaN</td>\n",
       "      <td>NaN</td>\n",
       "      <td>NaN</td>\n",
       "      <td>7.60</td>\n",
       "      <td>драма,мелодрама,история</td>\n",
       "      <td>NaN</td>\n",
       "    </tr>\n",
       "    <tr>\n",
       "      <th>5066</th>\n",
       "      <td>Анализируй это!</td>\n",
       "      <td>221054410</td>\n",
       "      <td>2010-05-25 12:00:00+00:00</td>\n",
       "      <td>Художественный</td>\n",
       "      <td>Уорнер Бразерс, Вилладж Роудшоу Филмз ЛТД</td>\n",
       "      <td>США-Австралия</td>\n",
       "      <td>ХЭрольд Рэмис</td>\n",
       "      <td>Джейн Розенталь, Пола Уейнстейн</td>\n",
       "      <td>«16+» - для детей старше 16 лет</td>\n",
       "      <td>NaN</td>\n",
       "      <td>NaN</td>\n",
       "      <td>NaN</td>\n",
       "      <td>NaN</td>\n",
       "      <td>7.40</td>\n",
       "      <td>комедия,криминал</td>\n",
       "      <td>NaN</td>\n",
       "    </tr>\n",
       "    <tr>\n",
       "      <th>5067</th>\n",
       "      <td>Анализируй то!</td>\n",
       "      <td>221054410</td>\n",
       "      <td>2010-05-25 12:00:00+00:00</td>\n",
       "      <td>Художественный</td>\n",
       "      <td>Уорнер Бразерс, Виллидж Роадшоу Пикчерз, Эн-Пи...</td>\n",
       "      <td>США</td>\n",
       "      <td>Гарольд Реймис</td>\n",
       "      <td>Джейн Розенталь, Паул Уэйнстейн</td>\n",
       "      <td>«12+» - для детей старше 12 лет</td>\n",
       "      <td>NaN</td>\n",
       "      <td>NaN</td>\n",
       "      <td>NaN</td>\n",
       "      <td>NaN</td>\n",
       "      <td>6.80</td>\n",
       "      <td>комедия,криминал</td>\n",
       "      <td>NaN</td>\n",
       "    </tr>\n",
       "  </tbody>\n",
       "</table>\n",
       "</div>"
      ],
      "text/plain": [
       "                                                  title   puNumber  \\\n",
       "4637                   Как жениться и остаться холостым  221154310   \n",
       "4638  Иоанна - женщина на папском престоле /По роман...  221154310   \n",
       "5066                                    Анализируй это!  221054410   \n",
       "5067                                     Анализируй то!  221054410   \n",
       "\n",
       "               show_start_date            type  \\\n",
       "4637 2010-12-17 12:00:00+00:00  Художественный   \n",
       "4638 2010-12-17 12:00:00+00:00  Художественный   \n",
       "5066 2010-05-25 12:00:00+00:00  Художественный   \n",
       "5067 2010-05-25 12:00:00+00:00  Художественный   \n",
       "\n",
       "                                            film_studio  \\\n",
       "4637  Ше Вам, Скрипт Ассосье, Тэ Фэ 1 Фильм Продюксь...   \n",
       "4638   Константин Фильм, А Эр Ди Дегето Фильм, Дюне ...   \n",
       "5066          Уорнер Бразерс, Вилладж Роудшоу Филмз ЛТД   \n",
       "5067  Уорнер Бразерс, Виллидж Роадшоу Пикчерз, Эн-Пи...   \n",
       "\n",
       "                                production_country        director  \\\n",
       "4637                                       Франция    Эрик Лартиго   \n",
       "4638  Германия - Великобритания - Италия - Испания  Зенке Вортманн   \n",
       "5066                                 США-Австралия   ХЭрольд Рэмис   \n",
       "5067                                           США  Гарольд Реймис   \n",
       "\n",
       "                                        producer  \\\n",
       "4637                     Амандин Било, Алан Шаба   \n",
       "4638  Оливер Бербен, Дорис Д.Хайнце, Фарук Элтан   \n",
       "5066             Джейн Розенталь, Пола Уейнстейн   \n",
       "5067             Джейн Розенталь, Паул Уэйнстейн   \n",
       "\n",
       "                      age_restriction  refundable_support  \\\n",
       "4637  «16+» - для детей старше 16 лет                 NaN   \n",
       "4638  «16+» - для детей старше 16 лет                 NaN   \n",
       "5066  «16+» - для детей старше 16 лет                 NaN   \n",
       "5067  «12+» - для детей старше 12 лет                 NaN   \n",
       "\n",
       "      nonrefundable_support  budget financing_source  ratings  \\\n",
       "4637                    NaN     NaN              NaN     7.00   \n",
       "4638                    NaN     NaN              NaN     7.60   \n",
       "5066                    NaN     NaN              NaN     7.40   \n",
       "5067                    NaN     NaN              NaN     6.80   \n",
       "\n",
       "                       genres  box_office  \n",
       "4637        мелодрама,комедия         NaN  \n",
       "4638  драма,мелодрама,история         NaN  \n",
       "5066         комедия,криминал         NaN  \n",
       "5067         комедия,криминал         NaN  "
      ]
     },
     "execution_count": 24,
     "metadata": {},
     "output_type": "execute_result"
    }
   ],
   "source": [
    "df[df.duplicated(subset=['puNumber'], keep = False)]"
   ]
  },
  {
   "cell_type": "markdown",
   "metadata": {},
   "source": [
    "Как мы видим это не дубликаты, т.к  у нас отличаются названия фильмов. Номер прокатного удостоверения не уникален, возможно ошибка связана с человечесуим фактором. Считаю, что дублиткат можно оставить , т.к на исследование он не повлияет"
   ]
  },
  {
   "cell_type": "code",
   "execution_count": 25,
   "metadata": {},
   "outputs": [
    {
     "data": {
      "text/html": [
       "<div>\n",
       "<style scoped>\n",
       "    .dataframe tbody tr th:only-of-type {\n",
       "        vertical-align: middle;\n",
       "    }\n",
       "\n",
       "    .dataframe tbody tr th {\n",
       "        vertical-align: top;\n",
       "    }\n",
       "\n",
       "    .dataframe thead th {\n",
       "        text-align: right;\n",
       "    }\n",
       "</style>\n",
       "<table border=\"1\" class=\"dataframe\">\n",
       "  <thead>\n",
       "    <tr style=\"text-align: right;\">\n",
       "      <th></th>\n",
       "      <th>title</th>\n",
       "      <th>puNumber</th>\n",
       "      <th>show_start_date</th>\n",
       "      <th>type</th>\n",
       "      <th>film_studio</th>\n",
       "      <th>production_country</th>\n",
       "      <th>director</th>\n",
       "      <th>producer</th>\n",
       "      <th>age_restriction</th>\n",
       "      <th>refundable_support</th>\n",
       "      <th>nonrefundable_support</th>\n",
       "      <th>budget</th>\n",
       "      <th>financing_source</th>\n",
       "      <th>ratings</th>\n",
       "      <th>genres</th>\n",
       "      <th>box_office</th>\n",
       "    </tr>\n",
       "  </thead>\n",
       "  <tbody>\n",
       "    <tr>\n",
       "      <th>2</th>\n",
       "      <td>Особо опасен</td>\n",
       "      <td>221038416</td>\n",
       "      <td>2016-10-10 12:00:00+00:00</td>\n",
       "      <td>Художественный</td>\n",
       "      <td>Юниверсал Пикчерз, Кикстарт Продакшнз, Марк Пл...</td>\n",
       "      <td>США</td>\n",
       "      <td>Тимур Бекмамбетов</td>\n",
       "      <td>Джим Лемли, Джейсон Нетер, Марк Е.Платт, Яйн Смит</td>\n",
       "      <td>«18+» - запрещено для детей</td>\n",
       "      <td>NaN</td>\n",
       "      <td>NaN</td>\n",
       "      <td>NaN</td>\n",
       "      <td>NaN</td>\n",
       "      <td>6.80</td>\n",
       "      <td>фантастика,боевик,триллер</td>\n",
       "      <td>NaN</td>\n",
       "    </tr>\n",
       "    <tr>\n",
       "      <th>3</th>\n",
       "      <td>Особо опасен</td>\n",
       "      <td>221026916</td>\n",
       "      <td>2016-06-10 12:00:00+00:00</td>\n",
       "      <td>Художественный</td>\n",
       "      <td>Юниверсал Пикчерз, Кикстарт Продакшнз, Марк Пл...</td>\n",
       "      <td>США</td>\n",
       "      <td>Тимур Бекмамбетов</td>\n",
       "      <td>Джим Лемли, Джейсон Нетер, Марк Е.Платт, Яйн Смит</td>\n",
       "      <td>«18+» - запрещено для детей</td>\n",
       "      <td>NaN</td>\n",
       "      <td>NaN</td>\n",
       "      <td>NaN</td>\n",
       "      <td>NaN</td>\n",
       "      <td>6.80</td>\n",
       "      <td>фантастика,боевик,триллер</td>\n",
       "      <td>NaN</td>\n",
       "    </tr>\n",
       "    <tr>\n",
       "      <th>4</th>\n",
       "      <td>Особо опасен</td>\n",
       "      <td>221030815</td>\n",
       "      <td>2015-07-29 12:00:00+00:00</td>\n",
       "      <td>Художественный</td>\n",
       "      <td>Юниверсал Пикчерз, Кикстарт Продакшнз, Марк Пл...</td>\n",
       "      <td>США</td>\n",
       "      <td>Тимур Бекмамбетов</td>\n",
       "      <td>Джим Лемли, Джейсон Нетер, Марк Е.Платт, Яйн Смит</td>\n",
       "      <td>«18+» - запрещено для детей</td>\n",
       "      <td>NaN</td>\n",
       "      <td>NaN</td>\n",
       "      <td>NaN</td>\n",
       "      <td>NaN</td>\n",
       "      <td>6.80</td>\n",
       "      <td>фантастика,боевик,триллер</td>\n",
       "      <td>NaN</td>\n",
       "    </tr>\n",
       "    <tr>\n",
       "      <th>12</th>\n",
       "      <td>Малышка на миллион /По мотивам рассказов Ф.Х.Т...</td>\n",
       "      <td>221011415</td>\n",
       "      <td>2015-04-03 12:00:00+00:00</td>\n",
       "      <td>Художественный</td>\n",
       "      <td>Уорнер Бразерс, Лейкшор Интертейнмент, Малпасо...</td>\n",
       "      <td>США</td>\n",
       "      <td>Клинт Иствуд</td>\n",
       "      <td>Клинт Иствуд, Том Розенберг, Альберт С.Рудди, ...</td>\n",
       "      <td>«16+» - для детей старше 16 лет</td>\n",
       "      <td>NaN</td>\n",
       "      <td>NaN</td>\n",
       "      <td>NaN</td>\n",
       "      <td>NaN</td>\n",
       "      <td>8.10</td>\n",
       "      <td>драма,спорт</td>\n",
       "      <td>NaN</td>\n",
       "    </tr>\n",
       "    <tr>\n",
       "      <th>26</th>\n",
       "      <td>Оружейный барон</td>\n",
       "      <td>221012515</td>\n",
       "      <td>2015-04-03 12:00:00+00:00</td>\n",
       "      <td>Художественный</td>\n",
       "      <td>Вэ И Пэ Медиенфондс 3, Асендант Пикчерз, Сатур...</td>\n",
       "      <td>США - Франция - Турция</td>\n",
       "      <td>Эндрю Никкол</td>\n",
       "      <td>Норман Голуайтли, Энди Грош, Николас Кейдж, Эн...</td>\n",
       "      <td>«18+» - запрещено для детей</td>\n",
       "      <td>NaN</td>\n",
       "      <td>NaN</td>\n",
       "      <td>NaN</td>\n",
       "      <td>NaN</td>\n",
       "      <td>7.70</td>\n",
       "      <td>боевик,драма,криминал</td>\n",
       "      <td>NaN</td>\n",
       "    </tr>\n",
       "    <tr>\n",
       "      <th>...</th>\n",
       "      <td>...</td>\n",
       "      <td>...</td>\n",
       "      <td>...</td>\n",
       "      <td>...</td>\n",
       "      <td>...</td>\n",
       "      <td>...</td>\n",
       "      <td>...</td>\n",
       "      <td>...</td>\n",
       "      <td>...</td>\n",
       "      <td>...</td>\n",
       "      <td>...</td>\n",
       "      <td>...</td>\n",
       "      <td>...</td>\n",
       "      <td>...</td>\n",
       "      <td>...</td>\n",
       "      <td>...</td>\n",
       "    </tr>\n",
       "    <tr>\n",
       "      <th>7368</th>\n",
       "      <td>Невиновен</td>\n",
       "      <td>111019319</td>\n",
       "      <td>2019-11-07 12:00:00+00:00</td>\n",
       "      <td>Художественный</td>\n",
       "      <td>ООО \"Кавказфильм\"</td>\n",
       "      <td>Россия</td>\n",
       "      <td>А.Емкужев</td>\n",
       "      <td>А.Емкужев, А.Хуажева, ООО \"Корпорация Русская ...</td>\n",
       "      <td>«16+» - для детей старше 16 лет</td>\n",
       "      <td>NaN</td>\n",
       "      <td>NaN</td>\n",
       "      <td>NaN</td>\n",
       "      <td>NaN</td>\n",
       "      <td>7.50</td>\n",
       "      <td>триллер,детектив,криминал</td>\n",
       "      <td>NaN</td>\n",
       "    </tr>\n",
       "    <tr>\n",
       "      <th>7415</th>\n",
       "      <td>Отель \"Гранд Будапешт\"</td>\n",
       "      <td>121035119</td>\n",
       "      <td>2019-12-13 12:00:00+00:00</td>\n",
       "      <td>Художественный</td>\n",
       "      <td>Американ Эмпирикал, Индиан Пэинтбраш, Скотт Ру...</td>\n",
       "      <td>Германия, США</td>\n",
       "      <td>Уэс Андерсен</td>\n",
       "      <td>Уэс Андерсон, Джереми Доусон, Стивен Рейлс</td>\n",
       "      <td>«16+» - для детей старше 16 лет</td>\n",
       "      <td>NaN</td>\n",
       "      <td>NaN</td>\n",
       "      <td>NaN</td>\n",
       "      <td>NaN</td>\n",
       "      <td>7.90</td>\n",
       "      <td>комедия,приключения,детектив</td>\n",
       "      <td>NaN</td>\n",
       "    </tr>\n",
       "    <tr>\n",
       "      <th>7437</th>\n",
       "      <td>Зверь</td>\n",
       "      <td>121035919</td>\n",
       "      <td>2019-12-05 12:00:00+00:00</td>\n",
       "      <td>Художественный</td>\n",
       "      <td>Студио энд Нью</td>\n",
       "      <td>Южная Корея</td>\n",
       "      <td>Ли Джон-хо</td>\n",
       "      <td>Чан Гён-ик, Чон Джи-хун, Пэк Кён сук</td>\n",
       "      <td>«18+» - запрещено для детей</td>\n",
       "      <td>NaN</td>\n",
       "      <td>NaN</td>\n",
       "      <td>NaN</td>\n",
       "      <td>NaN</td>\n",
       "      <td>6.50</td>\n",
       "      <td>триллер,драма</td>\n",
       "      <td>175,003.51</td>\n",
       "    </tr>\n",
       "    <tr>\n",
       "      <th>7449</th>\n",
       "      <td>В тихом омуте</td>\n",
       "      <td>121036919</td>\n",
       "      <td>2019-12-09 12:00:00+00:00</td>\n",
       "      <td>Художественный</td>\n",
       "      <td>Хэд Гир Филмз, Крео Филмз, Локал Хироу, Метрол...</td>\n",
       "      <td>США</td>\n",
       "      <td>Адам Рэндолл</td>\n",
       "      <td>Мэтт Уолдек</td>\n",
       "      <td>«18+» - запрещено для детей</td>\n",
       "      <td>NaN</td>\n",
       "      <td>NaN</td>\n",
       "      <td>NaN</td>\n",
       "      <td>NaN</td>\n",
       "      <td>6.80</td>\n",
       "      <td>триллер,криминал,детектив</td>\n",
       "      <td>NaN</td>\n",
       "    </tr>\n",
       "    <tr>\n",
       "      <th>7473</th>\n",
       "      <td>Вторжение</td>\n",
       "      <td>111022519</td>\n",
       "      <td>2019-12-23 12:00:00+00:00</td>\n",
       "      <td>Художественный</td>\n",
       "      <td>ООО \"Арт Пикчерс Студия\", ООО \"Водород 2011\"</td>\n",
       "      <td>Россия</td>\n",
       "      <td>Ф.Бондарчук</td>\n",
       "      <td>Ф.Бондарчук, М.Врубель, А.Андрющенко, Д.Рудовский</td>\n",
       "      <td>«12+» - для детей старше 12 лет</td>\n",
       "      <td>100,000,000.00</td>\n",
       "      <td>400,000,000.00</td>\n",
       "      <td>944,000,000.00</td>\n",
       "      <td>Фонд кино</td>\n",
       "      <td>5.70</td>\n",
       "      <td>фантастика,боевик</td>\n",
       "      <td>NaN</td>\n",
       "    </tr>\n",
       "  </tbody>\n",
       "</table>\n",
       "<p>1272 rows × 16 columns</p>\n",
       "</div>"
      ],
      "text/plain": [
       "                                                  title   puNumber  \\\n",
       "2                                          Особо опасен  221038416   \n",
       "3                                          Особо опасен  221026916   \n",
       "4                                          Особо опасен  221030815   \n",
       "12    Малышка на миллион /По мотивам рассказов Ф.Х.Т...  221011415   \n",
       "26                                      Оружейный барон  221012515   \n",
       "...                                                 ...        ...   \n",
       "7368                                          Невиновен  111019319   \n",
       "7415                             Отель \"Гранд Будапешт\"  121035119   \n",
       "7437                                              Зверь  121035919   \n",
       "7449                                      В тихом омуте  121036919   \n",
       "7473                                          Вторжение  111022519   \n",
       "\n",
       "               show_start_date             type  \\\n",
       "2    2016-10-10 12:00:00+00:00   Художественный   \n",
       "3    2016-06-10 12:00:00+00:00   Художественный   \n",
       "4    2015-07-29 12:00:00+00:00   Художественный   \n",
       "12   2015-04-03 12:00:00+00:00   Художественный   \n",
       "26   2015-04-03 12:00:00+00:00   Художественный   \n",
       "...                        ...              ...   \n",
       "7368 2019-11-07 12:00:00+00:00   Художественный   \n",
       "7415 2019-12-13 12:00:00+00:00   Художественный   \n",
       "7437 2019-12-05 12:00:00+00:00   Художественный   \n",
       "7449 2019-12-09 12:00:00+00:00   Художественный   \n",
       "7473 2019-12-23 12:00:00+00:00   Художественный   \n",
       "\n",
       "                                            film_studio  \\\n",
       "2     Юниверсал Пикчерз, Кикстарт Продакшнз, Марк Пл...   \n",
       "3     Юниверсал Пикчерз, Кикстарт Продакшнз, Марк Пл...   \n",
       "4     Юниверсал Пикчерз, Кикстарт Продакшнз, Марк Пл...   \n",
       "12    Уорнер Бразерс, Лейкшор Интертейнмент, Малпасо...   \n",
       "26    Вэ И Пэ Медиенфондс 3, Асендант Пикчерз, Сатур...   \n",
       "...                                                 ...   \n",
       "7368                                  ООО \"Кавказфильм\"   \n",
       "7415  Американ Эмпирикал, Индиан Пэинтбраш, Скотт Ру...   \n",
       "7437                                     Студио энд Нью   \n",
       "7449  Хэд Гир Филмз, Крео Филмз, Локал Хироу, Метрол...   \n",
       "7473       ООО \"Арт Пикчерс Студия\", ООО \"Водород 2011\"   \n",
       "\n",
       "          production_country           director  \\\n",
       "2                        США  Тимур Бекмамбетов   \n",
       "3                        США  Тимур Бекмамбетов   \n",
       "4                        США  Тимур Бекмамбетов   \n",
       "12                       США       Клинт Иствуд   \n",
       "26    США - Франция - Турция       Эндрю Никкол   \n",
       "...                      ...                ...   \n",
       "7368                  Россия          А.Емкужев   \n",
       "7415           Германия, США       Уэс Андерсен   \n",
       "7437             Южная Корея         Ли Джон-хо   \n",
       "7449                     США       Адам Рэндолл   \n",
       "7473                  Россия        Ф.Бондарчук   \n",
       "\n",
       "                                               producer  \\\n",
       "2     Джим Лемли, Джейсон Нетер, Марк Е.Платт, Яйн Смит   \n",
       "3     Джим Лемли, Джейсон Нетер, Марк Е.Платт, Яйн Смит   \n",
       "4     Джим Лемли, Джейсон Нетер, Марк Е.Платт, Яйн Смит   \n",
       "12    Клинт Иствуд, Том Розенберг, Альберт С.Рудди, ...   \n",
       "26    Норман Голуайтли, Энди Грош, Николас Кейдж, Эн...   \n",
       "...                                                 ...   \n",
       "7368  А.Емкужев, А.Хуажева, ООО \"Корпорация Русская ...   \n",
       "7415         Уэс Андерсон, Джереми Доусон, Стивен Рейлс   \n",
       "7437               Чан Гён-ик, Чон Джи-хун, Пэк Кён сук   \n",
       "7449                                        Мэтт Уолдек   \n",
       "7473  Ф.Бондарчук, М.Врубель, А.Андрющенко, Д.Рудовский   \n",
       "\n",
       "                      age_restriction  refundable_support  \\\n",
       "2         «18+» - запрещено для детей                 NaN   \n",
       "3         «18+» - запрещено для детей                 NaN   \n",
       "4         «18+» - запрещено для детей                 NaN   \n",
       "12    «16+» - для детей старше 16 лет                 NaN   \n",
       "26        «18+» - запрещено для детей                 NaN   \n",
       "...                               ...                 ...   \n",
       "7368  «16+» - для детей старше 16 лет                 NaN   \n",
       "7415  «16+» - для детей старше 16 лет                 NaN   \n",
       "7437      «18+» - запрещено для детей                 NaN   \n",
       "7449      «18+» - запрещено для детей                 NaN   \n",
       "7473  «12+» - для детей старше 12 лет      100,000,000.00   \n",
       "\n",
       "      nonrefundable_support         budget financing_source  ratings  \\\n",
       "2                       NaN            NaN              NaN     6.80   \n",
       "3                       NaN            NaN              NaN     6.80   \n",
       "4                       NaN            NaN              NaN     6.80   \n",
       "12                      NaN            NaN              NaN     8.10   \n",
       "26                      NaN            NaN              NaN     7.70   \n",
       "...                     ...            ...              ...      ...   \n",
       "7368                    NaN            NaN              NaN     7.50   \n",
       "7415                    NaN            NaN              NaN     7.90   \n",
       "7437                    NaN            NaN              NaN     6.50   \n",
       "7449                    NaN            NaN              NaN     6.80   \n",
       "7473         400,000,000.00 944,000,000.00        Фонд кино     5.70   \n",
       "\n",
       "                            genres  box_office  \n",
       "2        фантастика,боевик,триллер         NaN  \n",
       "3        фантастика,боевик,триллер         NaN  \n",
       "4        фантастика,боевик,триллер         NaN  \n",
       "12                     драма,спорт         NaN  \n",
       "26           боевик,драма,криминал         NaN  \n",
       "...                            ...         ...  \n",
       "7368     триллер,детектив,криминал         NaN  \n",
       "7415  комедия,приключения,детектив         NaN  \n",
       "7437                 триллер,драма  175,003.51  \n",
       "7449     триллер,криминал,детектив         NaN  \n",
       "7473             фантастика,боевик         NaN  \n",
       "\n",
       "[1272 rows x 16 columns]"
      ]
     },
     "execution_count": 25,
     "metadata": {},
     "output_type": "execute_result"
    }
   ],
   "source": [
    "#Проверим дубликаты в названиях фльмов\n",
    "\n",
    "df[df['title'].duplicated(keep=False)]"
   ]
  },
  {
   "cell_type": "markdown",
   "metadata": {},
   "source": [
    "Дубликаты в названиях это нормкльно, т.к один фильм могли показывать в кино разное время  и каждый раз выдавалось новое удостоверение. "
   ]
  },
  {
   "cell_type": "markdown",
   "metadata": {
    "id": "52fOPrEBgFyQ"
   },
   "source": [
    "#### Шаг 2.4. Изучите категориальные значения\n",
    "\n",
    "- Посмотрите, какая общая проблема встречается почти во всех категориальных столбцах;\n",
    "- Исправьте проблемные значения в поле `type`.\n",
    "\n",
    "<div id=\"accordion\">\n",
    "    <div class=\"card\">\n",
    "        <div class=\"card-header\" id=\"headingThree\">\n",
    "            <button class=\"btn btn-link collapsed\" data-toggle=\"collapse\" data-target=\"#collapseHint_1\" aria-expanded=\"false\" aria-controls=\"collapseHint_1\">Подсказка</button>\n",
    "        </div>\n",
    "        <div id=\"collapseHint_1\" class=\"collapse\" aria-labelledby=\"headingThree\" data-parent=\"#accordion\">\n",
    "            <div class=\"card-body\">\n",
    "В поле <code>type</code> есть несколько значений, у которых появился пробел в начале строки. Самый простой способ их «починить» -- использовать метод <a href=\"https://pandas.pydata.org/docs/reference/api/pandas.Series.str.strip.html#pandas.Series.str.strip\">.str.strip</a>. Этот метод удаляет все пробелы, которые встречаются в начале и в конце строки. Применяют его таким образом:<br>\n",
    "<code>df['type'].str.strip()</code>\n",
    "            </div>\n",
    "        </div>\n",
    "    </div>\n",
    "</div>"
   ]
  },
  {
   "cell_type": "code",
   "execution_count": 26,
   "metadata": {
    "id": "PnXKIVdFgFyR"
   },
   "outputs": [],
   "source": [
    "# Удалим из столбца type лишние пробелы, которые встречаются в начале и в конце строки:\n",
    "df['type']=df['type'].str.strip()\n",
    "\n",
    "# Удалим  из столбца production_country лишние пробелы\n",
    "df['production_country']=df['production_country'].replace(' ','', regex=True)\n",
    "\n",
    "# Заменим еще в столбце production_country дефис на запятую в целях единообразия разделителей:\n",
    "df['production_country']=df['production_country'].replace('-',',', regex=True)"
   ]
  },
  {
   "cell_type": "markdown",
   "metadata": {},
   "source": [
    "В категориальных переменных встречаются  списки -  режиссеров, студий, жанров и стран. Считаю, что решением данной проблемы будет выделение первых значений из строк"
   ]
  },
  {
   "cell_type": "markdown",
   "metadata": {
    "id": "XFSN5lrEgFyR"
   },
   "source": [
    "#### Шаг 2.5. Проверьте количественные значения\n",
    "\n",
    "- Проверьте, обнаружились ли в таких столбцах подозрительные данные. Как с такими данными лучше поступить?\n",
    "\n"
   ]
  },
  {
   "cell_type": "code",
   "execution_count": 27,
   "metadata": {
    "id": "YbzClBxagFyS"
   },
   "outputs": [
    {
     "data": {
      "text/html": [
       "<div>\n",
       "<style scoped>\n",
       "    .dataframe tbody tr th:only-of-type {\n",
       "        vertical-align: middle;\n",
       "    }\n",
       "\n",
       "    .dataframe tbody tr th {\n",
       "        vertical-align: top;\n",
       "    }\n",
       "\n",
       "    .dataframe thead th {\n",
       "        text-align: right;\n",
       "    }\n",
       "</style>\n",
       "<table border=\"1\" class=\"dataframe\">\n",
       "  <thead>\n",
       "    <tr style=\"text-align: right;\">\n",
       "      <th></th>\n",
       "      <th>count</th>\n",
       "      <th>mean</th>\n",
       "      <th>std</th>\n",
       "      <th>min</th>\n",
       "      <th>25%</th>\n",
       "      <th>50%</th>\n",
       "      <th>75%</th>\n",
       "      <th>max</th>\n",
       "    </tr>\n",
       "  </thead>\n",
       "  <tbody>\n",
       "    <tr>\n",
       "      <th>puNumber</th>\n",
       "      <td>7,485.00</td>\n",
       "      <td>135,196,587.56</td>\n",
       "      <td>38,352,919.34</td>\n",
       "      <td>1,811,096.00</td>\n",
       "      <td>112,025,118.00</td>\n",
       "      <td>121,015,510.00</td>\n",
       "      <td>124,003,314.00</td>\n",
       "      <td>231,001,111.00</td>\n",
       "    </tr>\n",
       "    <tr>\n",
       "      <th>refundable_support</th>\n",
       "      <td>332.00</td>\n",
       "      <td>11,864,457.83</td>\n",
       "      <td>24,916,555.26</td>\n",
       "      <td>0.00</td>\n",
       "      <td>0.00</td>\n",
       "      <td>0.00</td>\n",
       "      <td>15,000,000.00</td>\n",
       "      <td>180,000,000.00</td>\n",
       "    </tr>\n",
       "    <tr>\n",
       "      <th>nonrefundable_support</th>\n",
       "      <td>332.00</td>\n",
       "      <td>48,980,988.89</td>\n",
       "      <td>59,980,117.92</td>\n",
       "      <td>0.00</td>\n",
       "      <td>25,000,000.00</td>\n",
       "      <td>30,000,000.00</td>\n",
       "      <td>40,375,000.00</td>\n",
       "      <td>400,000,000.00</td>\n",
       "    </tr>\n",
       "    <tr>\n",
       "      <th>budget</th>\n",
       "      <td>332.00</td>\n",
       "      <td>127,229,716.68</td>\n",
       "      <td>188,588,333.12</td>\n",
       "      <td>0.00</td>\n",
       "      <td>42,000,000.00</td>\n",
       "      <td>68,649,916.00</td>\n",
       "      <td>141,985,319.50</td>\n",
       "      <td>2,305,074,303.00</td>\n",
       "    </tr>\n",
       "    <tr>\n",
       "      <th>ratings</th>\n",
       "      <td>6,519.00</td>\n",
       "      <td>6.49</td>\n",
       "      <td>1.11</td>\n",
       "      <td>1.00</td>\n",
       "      <td>5.90</td>\n",
       "      <td>6.60</td>\n",
       "      <td>7.20</td>\n",
       "      <td>9.90</td>\n",
       "    </tr>\n",
       "    <tr>\n",
       "      <th>box_office</th>\n",
       "      <td>3,158.00</td>\n",
       "      <td>76,478,696.16</td>\n",
       "      <td>240,353,122.82</td>\n",
       "      <td>0.00</td>\n",
       "      <td>86,239.00</td>\n",
       "      <td>2,327,987.55</td>\n",
       "      <td>23,979,671.02</td>\n",
       "      <td>3,073,568,690.79</td>\n",
       "    </tr>\n",
       "  </tbody>\n",
       "</table>\n",
       "</div>"
      ],
      "text/plain": [
       "                         count           mean            std          min  \\\n",
       "puNumber              7,485.00 135,196,587.56  38,352,919.34 1,811,096.00   \n",
       "refundable_support      332.00  11,864,457.83  24,916,555.26         0.00   \n",
       "nonrefundable_support   332.00  48,980,988.89  59,980,117.92         0.00   \n",
       "budget                  332.00 127,229,716.68 188,588,333.12         0.00   \n",
       "ratings               6,519.00           6.49           1.11         1.00   \n",
       "box_office            3,158.00  76,478,696.16 240,353,122.82         0.00   \n",
       "\n",
       "                                 25%            50%            75%  \\\n",
       "puNumber              112,025,118.00 121,015,510.00 124,003,314.00   \n",
       "refundable_support              0.00           0.00  15,000,000.00   \n",
       "nonrefundable_support  25,000,000.00  30,000,000.00  40,375,000.00   \n",
       "budget                 42,000,000.00  68,649,916.00 141,985,319.50   \n",
       "ratings                         5.90           6.60           7.20   \n",
       "box_office                 86,239.00   2,327,987.55  23,979,671.02   \n",
       "\n",
       "                                   max  \n",
       "puNumber                231,001,111.00  \n",
       "refundable_support      180,000,000.00  \n",
       "nonrefundable_support   400,000,000.00  \n",
       "budget                2,305,074,303.00  \n",
       "ratings                           9.90  \n",
       "box_office            3,073,568,690.79  "
      ]
     },
     "execution_count": 27,
     "metadata": {},
     "output_type": "execute_result"
    }
   ],
   "source": [
    "# Опишем количественные значения:\n",
    "df.describe().T"
   ]
  },
  {
   "cell_type": "code",
   "execution_count": 28,
   "metadata": {},
   "outputs": [
    {
     "data": {
      "text/plain": [
       "16"
      ]
     },
     "execution_count": 28,
     "metadata": {},
     "output_type": "execute_result"
    }
   ],
   "source": [
    "#Посчитаем количество фильмов, в которых есть гос.поддержка, но при этом бюджет составляет ноль\n",
    "df[(df['nonrefundable_support'] != 0)&(df['budget']==0)]['title'].count()\n"
   ]
  },
  {
   "cell_type": "markdown",
   "metadata": {},
   "source": [
    "удалим эти строки и еще раз посчитаем"
   ]
  },
  {
   "cell_type": "code",
   "execution_count": 29,
   "metadata": {},
   "outputs": [
    {
     "data": {
      "text/plain": [
       "0"
      ]
     },
     "execution_count": 29,
     "metadata": {},
     "output_type": "execute_result"
    }
   ],
   "source": [
    "df = df[(df['nonrefundable_support'] != 0)&(df['budget']!=0)]\n",
    "df[(df['nonrefundable_support'] != 0)&(df['budget']==0)]['title'].count()"
   ]
  },
  {
   "cell_type": "code",
   "execution_count": 30,
   "metadata": {},
   "outputs": [
    {
     "data": {
      "text/plain": [
       "231"
      ]
     },
     "execution_count": 30,
     "metadata": {},
     "output_type": "execute_result"
    }
   ],
   "source": [
    "# Посчитаем количество фильмов, в которых кассовые сборы составляет менее 1000 руб:\n",
    "df[df['box_office'] < 1000]['title'].count()"
   ]
  },
  {
   "cell_type": "markdown",
   "metadata": {},
   "source": [
    "**Количественные значения содержатся в следующих столбцах:**\n",
    "\n",
    "- **budget** Есть фильмы  в которых нет бюджета, всего таких фильмов 16. Нам негде взять эти данные, удалим эти строки\n",
    "- **refundable_support** Даже если гос.поддержка была получена это не значит , что будет возврат средств\n",
    "- **nonrefundable_support** Получение гос.поддержки всегда означает наличие какого-то объёма невозвратных средств. Поэтому выглядят подозрительными 9 фильмов с гос.поддержкой, у которых объём невозвратных средств составляет 0 руб. Скорее всего, забыли указать сумму nonrefundable_support. Эти фильмы были удалены вместе с 16 записями с нулевым бюджетом.\n",
    "- **ratings** не у всех фильмов указан бюджет\n",
    "- **box_office** Эти значения есть только у половины фильмов. У 231го фильма сумма сборов меньше 1000 рублей - это выглядит подозрительно. Возможно значения должны быть в млн или тысячах"
   ]
  },
  {
   "cell_type": "code",
   "execution_count": 31,
   "metadata": {},
   "outputs": [
    {
     "name": "stdout",
     "output_type": "stream",
     "text": [
      "7485 7460 0.33\n"
     ]
    }
   ],
   "source": [
    "# Комментарий ревьюера\n",
    "# Проверим сколько удалено строк датасета\n",
    "a, b = len(temp), len(df)\n",
    "print(a, b, round((a-b)/a*100, 2))"
   ]
  },
  {
   "cell_type": "markdown",
   "metadata": {
    "id": "Eu6oWp2CgFyS"
   },
   "source": [
    "#### Шаг 2.6. Добавьте новые столбцы\n",
    "\n",
    "\n",
    "\n"
   ]
  },
  {
   "cell_type": "markdown",
   "metadata": {
    "id": "7GgW-UpAgFyS"
   },
   "source": [
    "- Создайте столбец с информацией о годе проката. Выделите год из даты премьеры фильма."
   ]
  },
  {
   "cell_type": "code",
   "execution_count": 32,
   "metadata": {
    "id": "I-yd1DkWgFyT"
   },
   "outputs": [
    {
     "data": {
      "text/html": [
       "<div>\n",
       "<style scoped>\n",
       "    .dataframe tbody tr th:only-of-type {\n",
       "        vertical-align: middle;\n",
       "    }\n",
       "\n",
       "    .dataframe tbody tr th {\n",
       "        vertical-align: top;\n",
       "    }\n",
       "\n",
       "    .dataframe thead th {\n",
       "        text-align: right;\n",
       "    }\n",
       "</style>\n",
       "<table border=\"1\" class=\"dataframe\">\n",
       "  <thead>\n",
       "    <tr style=\"text-align: right;\">\n",
       "      <th></th>\n",
       "      <th>title</th>\n",
       "      <th>puNumber</th>\n",
       "      <th>show_start_date</th>\n",
       "      <th>type</th>\n",
       "      <th>film_studio</th>\n",
       "      <th>production_country</th>\n",
       "      <th>director</th>\n",
       "      <th>producer</th>\n",
       "      <th>age_restriction</th>\n",
       "      <th>refundable_support</th>\n",
       "      <th>nonrefundable_support</th>\n",
       "      <th>budget</th>\n",
       "      <th>financing_source</th>\n",
       "      <th>ratings</th>\n",
       "      <th>genres</th>\n",
       "      <th>box_office</th>\n",
       "      <th>year</th>\n",
       "    </tr>\n",
       "  </thead>\n",
       "  <tbody>\n",
       "    <tr>\n",
       "      <th>0</th>\n",
       "      <td>Открытый простор</td>\n",
       "      <td>221048915</td>\n",
       "      <td>2015-11-27 12:00:00+00:00</td>\n",
       "      <td>Художественный</td>\n",
       "      <td>Тачстоун Пикчерз, Кобальт Пикчерз, Бикон Пикче...</td>\n",
       "      <td>США</td>\n",
       "      <td>Кевин Костнер</td>\n",
       "      <td>Дэвид Валдес, Кевин Костнер, Джейк Эбертс</td>\n",
       "      <td>«18+» - запрещено для детей</td>\n",
       "      <td>NaN</td>\n",
       "      <td>NaN</td>\n",
       "      <td>NaN</td>\n",
       "      <td>NaN</td>\n",
       "      <td>7.20</td>\n",
       "      <td>боевик,драма,мелодрама</td>\n",
       "      <td>NaN</td>\n",
       "      <td>2015</td>\n",
       "    </tr>\n",
       "    <tr>\n",
       "      <th>1</th>\n",
       "      <td>Особо важное задание</td>\n",
       "      <td>111013716</td>\n",
       "      <td>2016-09-13 12:00:00+00:00</td>\n",
       "      <td>Художественный</td>\n",
       "      <td>Киностудия \"Мосфильм\"</td>\n",
       "      <td>СССР</td>\n",
       "      <td>Е.Матвеев</td>\n",
       "      <td>NaN</td>\n",
       "      <td>«6+» - для детей старше 6 лет</td>\n",
       "      <td>NaN</td>\n",
       "      <td>NaN</td>\n",
       "      <td>NaN</td>\n",
       "      <td>NaN</td>\n",
       "      <td>6.60</td>\n",
       "      <td>драма,военный</td>\n",
       "      <td>NaN</td>\n",
       "      <td>2016</td>\n",
       "    </tr>\n",
       "    <tr>\n",
       "      <th>2</th>\n",
       "      <td>Особо опасен</td>\n",
       "      <td>221038416</td>\n",
       "      <td>2016-10-10 12:00:00+00:00</td>\n",
       "      <td>Художественный</td>\n",
       "      <td>Юниверсал Пикчерз, Кикстарт Продакшнз, Марк Пл...</td>\n",
       "      <td>США</td>\n",
       "      <td>Тимур Бекмамбетов</td>\n",
       "      <td>Джим Лемли, Джейсон Нетер, Марк Е.Платт, Яйн Смит</td>\n",
       "      <td>«18+» - запрещено для детей</td>\n",
       "      <td>NaN</td>\n",
       "      <td>NaN</td>\n",
       "      <td>NaN</td>\n",
       "      <td>NaN</td>\n",
       "      <td>6.80</td>\n",
       "      <td>фантастика,боевик,триллер</td>\n",
       "      <td>NaN</td>\n",
       "      <td>2016</td>\n",
       "    </tr>\n",
       "    <tr>\n",
       "      <th>3</th>\n",
       "      <td>Особо опасен</td>\n",
       "      <td>221026916</td>\n",
       "      <td>2016-06-10 12:00:00+00:00</td>\n",
       "      <td>Художественный</td>\n",
       "      <td>Юниверсал Пикчерз, Кикстарт Продакшнз, Марк Пл...</td>\n",
       "      <td>США</td>\n",
       "      <td>Тимур Бекмамбетов</td>\n",
       "      <td>Джим Лемли, Джейсон Нетер, Марк Е.Платт, Яйн Смит</td>\n",
       "      <td>«18+» - запрещено для детей</td>\n",
       "      <td>NaN</td>\n",
       "      <td>NaN</td>\n",
       "      <td>NaN</td>\n",
       "      <td>NaN</td>\n",
       "      <td>6.80</td>\n",
       "      <td>фантастика,боевик,триллер</td>\n",
       "      <td>NaN</td>\n",
       "      <td>2016</td>\n",
       "    </tr>\n",
       "    <tr>\n",
       "      <th>4</th>\n",
       "      <td>Особо опасен</td>\n",
       "      <td>221030815</td>\n",
       "      <td>2015-07-29 12:00:00+00:00</td>\n",
       "      <td>Художественный</td>\n",
       "      <td>Юниверсал Пикчерз, Кикстарт Продакшнз, Марк Пл...</td>\n",
       "      <td>США</td>\n",
       "      <td>Тимур Бекмамбетов</td>\n",
       "      <td>Джим Лемли, Джейсон Нетер, Марк Е.Платт, Яйн Смит</td>\n",
       "      <td>«18+» - запрещено для детей</td>\n",
       "      <td>NaN</td>\n",
       "      <td>NaN</td>\n",
       "      <td>NaN</td>\n",
       "      <td>NaN</td>\n",
       "      <td>6.80</td>\n",
       "      <td>фантастика,боевик,триллер</td>\n",
       "      <td>NaN</td>\n",
       "      <td>2015</td>\n",
       "    </tr>\n",
       "  </tbody>\n",
       "</table>\n",
       "</div>"
      ],
      "text/plain": [
       "                  title   puNumber           show_start_date            type  \\\n",
       "0      Открытый простор  221048915 2015-11-27 12:00:00+00:00  Художественный   \n",
       "1  Особо важное задание  111013716 2016-09-13 12:00:00+00:00  Художественный   \n",
       "2          Особо опасен  221038416 2016-10-10 12:00:00+00:00  Художественный   \n",
       "3          Особо опасен  221026916 2016-06-10 12:00:00+00:00  Художественный   \n",
       "4          Особо опасен  221030815 2015-07-29 12:00:00+00:00  Художественный   \n",
       "\n",
       "                                         film_studio production_country  \\\n",
       "0  Тачстоун Пикчерз, Кобальт Пикчерз, Бикон Пикче...                США   \n",
       "1                              Киностудия \"Мосфильм\"               СССР   \n",
       "2  Юниверсал Пикчерз, Кикстарт Продакшнз, Марк Пл...                США   \n",
       "3  Юниверсал Пикчерз, Кикстарт Продакшнз, Марк Пл...                США   \n",
       "4  Юниверсал Пикчерз, Кикстарт Продакшнз, Марк Пл...                США   \n",
       "\n",
       "            director                                           producer  \\\n",
       "0      Кевин Костнер          Дэвид Валдес, Кевин Костнер, Джейк Эбертс   \n",
       "1          Е.Матвеев                                                NaN   \n",
       "2  Тимур Бекмамбетов  Джим Лемли, Джейсон Нетер, Марк Е.Платт, Яйн Смит   \n",
       "3  Тимур Бекмамбетов  Джим Лемли, Джейсон Нетер, Марк Е.Платт, Яйн Смит   \n",
       "4  Тимур Бекмамбетов  Джим Лемли, Джейсон Нетер, Марк Е.Платт, Яйн Смит   \n",
       "\n",
       "                 age_restriction  refundable_support  nonrefundable_support  \\\n",
       "0    «18+» - запрещено для детей                 NaN                    NaN   \n",
       "1  «6+» - для детей старше 6 лет                 NaN                    NaN   \n",
       "2    «18+» - запрещено для детей                 NaN                    NaN   \n",
       "3    «18+» - запрещено для детей                 NaN                    NaN   \n",
       "4    «18+» - запрещено для детей                 NaN                    NaN   \n",
       "\n",
       "   budget financing_source  ratings                     genres  box_office  \\\n",
       "0     NaN              NaN     7.20     боевик,драма,мелодрама         NaN   \n",
       "1     NaN              NaN     6.60              драма,военный         NaN   \n",
       "2     NaN              NaN     6.80  фантастика,боевик,триллер         NaN   \n",
       "3     NaN              NaN     6.80  фантастика,боевик,триллер         NaN   \n",
       "4     NaN              NaN     6.80  фантастика,боевик,триллер         NaN   \n",
       "\n",
       "   year  \n",
       "0  2015  \n",
       "1  2016  \n",
       "2  2016  \n",
       "3  2016  \n",
       "4  2015  "
      ]
     },
     "execution_count": 32,
     "metadata": {},
     "output_type": "execute_result"
    }
   ],
   "source": [
    "#Выделим год премьеры из даты\n",
    "df['year']=pd.DatetimeIndex(df['show_start_date']).year\n",
    "\n",
    "df.head(5)"
   ]
  },
  {
   "cell_type": "markdown",
   "metadata": {
    "id": "nFTDLDYOgFyT"
   },
   "source": [
    "- Создайте два столбца: с именем и фамилией главного режиссёра и основным жанром фильма. В столбцы войдут первые значения из списка режиссёров и жанров соответственно.\n",
    "\n",
    "<div id=\"accordion\">\n",
    "    <div class=\"card\">\n",
    "        <div class=\"card-header\" id=\"headingThree\">\n",
    "            <button class=\"btn btn-link collapsed\" data-toggle=\"collapse\" data-target=\"#collapseHint_2\" aria-expanded=\"false\" aria-controls=\"collapseHint_2\">Подсказка</button>\n",
    "        </div>\n",
    "        <div id=\"collapseHint_2\" class=\"collapse\" aria-labelledby=\"headingThree\" data-parent=\"#accordion\">\n",
    "            <div class=\"card-body\">\n",
    "Чтобы создать такие столбцы, лучше всего использовать собственную функцию. Эту функцию можно применить к двум столбцам сразу. \n",
    "            </div>\n",
    "        </div>\n",
    "    </div>\n",
    "</div>"
   ]
  },
  {
   "cell_type": "code",
   "execution_count": 33,
   "metadata": {
    "id": "LSbRZKbMgFyU"
   },
   "outputs": [
    {
     "data": {
      "text/html": [
       "<div>\n",
       "<style scoped>\n",
       "    .dataframe tbody tr th:only-of-type {\n",
       "        vertical-align: middle;\n",
       "    }\n",
       "\n",
       "    .dataframe tbody tr th {\n",
       "        vertical-align: top;\n",
       "    }\n",
       "\n",
       "    .dataframe thead th {\n",
       "        text-align: right;\n",
       "    }\n",
       "</style>\n",
       "<table border=\"1\" class=\"dataframe\">\n",
       "  <thead>\n",
       "    <tr style=\"text-align: right;\">\n",
       "      <th></th>\n",
       "      <th>title</th>\n",
       "      <th>puNumber</th>\n",
       "      <th>show_start_date</th>\n",
       "      <th>type</th>\n",
       "      <th>film_studio</th>\n",
       "      <th>production_country</th>\n",
       "      <th>director</th>\n",
       "      <th>producer</th>\n",
       "      <th>age_restriction</th>\n",
       "      <th>refundable_support</th>\n",
       "      <th>nonrefundable_support</th>\n",
       "      <th>budget</th>\n",
       "      <th>financing_source</th>\n",
       "      <th>ratings</th>\n",
       "      <th>genres</th>\n",
       "      <th>box_office</th>\n",
       "      <th>year</th>\n",
       "      <th>main_director</th>\n",
       "      <th>main_genre</th>\n",
       "    </tr>\n",
       "  </thead>\n",
       "  <tbody>\n",
       "    <tr>\n",
       "      <th>0</th>\n",
       "      <td>Открытый простор</td>\n",
       "      <td>221048915</td>\n",
       "      <td>2015-11-27 12:00:00+00:00</td>\n",
       "      <td>Художественный</td>\n",
       "      <td>Тачстоун Пикчерз, Кобальт Пикчерз, Бикон Пикче...</td>\n",
       "      <td>США</td>\n",
       "      <td>Кевин Костнер</td>\n",
       "      <td>Дэвид Валдес, Кевин Костнер, Джейк Эбертс</td>\n",
       "      <td>«18+» - запрещено для детей</td>\n",
       "      <td>NaN</td>\n",
       "      <td>NaN</td>\n",
       "      <td>NaN</td>\n",
       "      <td>NaN</td>\n",
       "      <td>7.20</td>\n",
       "      <td>боевик,драма,мелодрама</td>\n",
       "      <td>NaN</td>\n",
       "      <td>2015</td>\n",
       "      <td>Кевин Костнер</td>\n",
       "      <td>боевик</td>\n",
       "    </tr>\n",
       "    <tr>\n",
       "      <th>1</th>\n",
       "      <td>Особо важное задание</td>\n",
       "      <td>111013716</td>\n",
       "      <td>2016-09-13 12:00:00+00:00</td>\n",
       "      <td>Художественный</td>\n",
       "      <td>Киностудия \"Мосфильм\"</td>\n",
       "      <td>СССР</td>\n",
       "      <td>Е.Матвеев</td>\n",
       "      <td>NaN</td>\n",
       "      <td>«6+» - для детей старше 6 лет</td>\n",
       "      <td>NaN</td>\n",
       "      <td>NaN</td>\n",
       "      <td>NaN</td>\n",
       "      <td>NaN</td>\n",
       "      <td>6.60</td>\n",
       "      <td>драма,военный</td>\n",
       "      <td>NaN</td>\n",
       "      <td>2016</td>\n",
       "      <td>Е.Матвеев</td>\n",
       "      <td>драма</td>\n",
       "    </tr>\n",
       "    <tr>\n",
       "      <th>2</th>\n",
       "      <td>Особо опасен</td>\n",
       "      <td>221038416</td>\n",
       "      <td>2016-10-10 12:00:00+00:00</td>\n",
       "      <td>Художественный</td>\n",
       "      <td>Юниверсал Пикчерз, Кикстарт Продакшнз, Марк Пл...</td>\n",
       "      <td>США</td>\n",
       "      <td>Тимур Бекмамбетов</td>\n",
       "      <td>Джим Лемли, Джейсон Нетер, Марк Е.Платт, Яйн Смит</td>\n",
       "      <td>«18+» - запрещено для детей</td>\n",
       "      <td>NaN</td>\n",
       "      <td>NaN</td>\n",
       "      <td>NaN</td>\n",
       "      <td>NaN</td>\n",
       "      <td>6.80</td>\n",
       "      <td>фантастика,боевик,триллер</td>\n",
       "      <td>NaN</td>\n",
       "      <td>2016</td>\n",
       "      <td>Тимур Бекмамбетов</td>\n",
       "      <td>фантастика</td>\n",
       "    </tr>\n",
       "    <tr>\n",
       "      <th>3</th>\n",
       "      <td>Особо опасен</td>\n",
       "      <td>221026916</td>\n",
       "      <td>2016-06-10 12:00:00+00:00</td>\n",
       "      <td>Художественный</td>\n",
       "      <td>Юниверсал Пикчерз, Кикстарт Продакшнз, Марк Пл...</td>\n",
       "      <td>США</td>\n",
       "      <td>Тимур Бекмамбетов</td>\n",
       "      <td>Джим Лемли, Джейсон Нетер, Марк Е.Платт, Яйн Смит</td>\n",
       "      <td>«18+» - запрещено для детей</td>\n",
       "      <td>NaN</td>\n",
       "      <td>NaN</td>\n",
       "      <td>NaN</td>\n",
       "      <td>NaN</td>\n",
       "      <td>6.80</td>\n",
       "      <td>фантастика,боевик,триллер</td>\n",
       "      <td>NaN</td>\n",
       "      <td>2016</td>\n",
       "      <td>Тимур Бекмамбетов</td>\n",
       "      <td>фантастика</td>\n",
       "    </tr>\n",
       "    <tr>\n",
       "      <th>4</th>\n",
       "      <td>Особо опасен</td>\n",
       "      <td>221030815</td>\n",
       "      <td>2015-07-29 12:00:00+00:00</td>\n",
       "      <td>Художественный</td>\n",
       "      <td>Юниверсал Пикчерз, Кикстарт Продакшнз, Марк Пл...</td>\n",
       "      <td>США</td>\n",
       "      <td>Тимур Бекмамбетов</td>\n",
       "      <td>Джим Лемли, Джейсон Нетер, Марк Е.Платт, Яйн Смит</td>\n",
       "      <td>«18+» - запрещено для детей</td>\n",
       "      <td>NaN</td>\n",
       "      <td>NaN</td>\n",
       "      <td>NaN</td>\n",
       "      <td>NaN</td>\n",
       "      <td>6.80</td>\n",
       "      <td>фантастика,боевик,триллер</td>\n",
       "      <td>NaN</td>\n",
       "      <td>2015</td>\n",
       "      <td>Тимур Бекмамбетов</td>\n",
       "      <td>фантастика</td>\n",
       "    </tr>\n",
       "  </tbody>\n",
       "</table>\n",
       "</div>"
      ],
      "text/plain": [
       "                  title   puNumber           show_start_date            type  \\\n",
       "0      Открытый простор  221048915 2015-11-27 12:00:00+00:00  Художественный   \n",
       "1  Особо важное задание  111013716 2016-09-13 12:00:00+00:00  Художественный   \n",
       "2          Особо опасен  221038416 2016-10-10 12:00:00+00:00  Художественный   \n",
       "3          Особо опасен  221026916 2016-06-10 12:00:00+00:00  Художественный   \n",
       "4          Особо опасен  221030815 2015-07-29 12:00:00+00:00  Художественный   \n",
       "\n",
       "                                         film_studio production_country  \\\n",
       "0  Тачстоун Пикчерз, Кобальт Пикчерз, Бикон Пикче...                США   \n",
       "1                              Киностудия \"Мосфильм\"               СССР   \n",
       "2  Юниверсал Пикчерз, Кикстарт Продакшнз, Марк Пл...                США   \n",
       "3  Юниверсал Пикчерз, Кикстарт Продакшнз, Марк Пл...                США   \n",
       "4  Юниверсал Пикчерз, Кикстарт Продакшнз, Марк Пл...                США   \n",
       "\n",
       "            director                                           producer  \\\n",
       "0      Кевин Костнер          Дэвид Валдес, Кевин Костнер, Джейк Эбертс   \n",
       "1          Е.Матвеев                                                NaN   \n",
       "2  Тимур Бекмамбетов  Джим Лемли, Джейсон Нетер, Марк Е.Платт, Яйн Смит   \n",
       "3  Тимур Бекмамбетов  Джим Лемли, Джейсон Нетер, Марк Е.Платт, Яйн Смит   \n",
       "4  Тимур Бекмамбетов  Джим Лемли, Джейсон Нетер, Марк Е.Платт, Яйн Смит   \n",
       "\n",
       "                 age_restriction  refundable_support  nonrefundable_support  \\\n",
       "0    «18+» - запрещено для детей                 NaN                    NaN   \n",
       "1  «6+» - для детей старше 6 лет                 NaN                    NaN   \n",
       "2    «18+» - запрещено для детей                 NaN                    NaN   \n",
       "3    «18+» - запрещено для детей                 NaN                    NaN   \n",
       "4    «18+» - запрещено для детей                 NaN                    NaN   \n",
       "\n",
       "   budget financing_source  ratings                     genres  box_office  \\\n",
       "0     NaN              NaN     7.20     боевик,драма,мелодрама         NaN   \n",
       "1     NaN              NaN     6.60              драма,военный         NaN   \n",
       "2     NaN              NaN     6.80  фантастика,боевик,триллер         NaN   \n",
       "3     NaN              NaN     6.80  фантастика,боевик,триллер         NaN   \n",
       "4     NaN              NaN     6.80  фантастика,боевик,триллер         NaN   \n",
       "\n",
       "   year      main_director  main_genre  \n",
       "0  2015      Кевин Костнер      боевик  \n",
       "1  2016          Е.Матвеев       драма  \n",
       "2  2016  Тимур Бекмамбетов  фантастика  \n",
       "3  2016  Тимур Бекмамбетов  фантастика  \n",
       "4  2015  Тимур Бекмамбетов  фантастика  "
      ]
     },
     "execution_count": 33,
     "metadata": {},
     "output_type": "execute_result"
    }
   ],
   "source": [
    "df['main_director'] = df['director'].str.split(\",\").str[0]\n",
    "df['main_genre'] = df['genres'].str.split(\",\").str[0]\n",
    "df['main_director'] = df['main_director'].str.strip()\n",
    "df['main_genre'] = df['main_genre'].str.strip()\n",
    "df.head(5)"
   ]
  },
  {
   "cell_type": "markdown",
   "metadata": {
    "id": "1FsCXHwdgFyU"
   },
   "source": [
    "- Посчитайте, какую долю от общего бюджета фильма составляет государственная поддержка."
   ]
  },
  {
   "cell_type": "code",
   "execution_count": 34,
   "metadata": {
    "id": "LV6qFuZLgFyV"
   },
   "outputs": [],
   "source": [
    "# Добавим в таблицу столбец total_support, в котором сумируем объем возвратных и невозвратных средств гос.поддержки:\n",
    "df['total_support'] = df['refundable_support'] + df['nonrefundable_support']\n",
    "\n",
    "# Добавим столбец с расчетом доли каждого вида гос.поддержки от общего бюджета фильма: \n",
    "df['%_total_support']=df['total_support']/df['budget']\n",
    "df['%_refundable_support']=df['refundable_support']/df['budget']\n",
    "df['%_nonrefundable_support']=df['nonrefundable_support']/df['budget']\n",
    "df.head(5)\n",
    "# Создадим столбец с главной страной:\n",
    "df_country=df['production_country'].str.split(',',expand=True)\n",
    "df['country_first']=df_country[0]"
   ]
  },
  {
   "cell_type": "code",
   "execution_count": 35,
   "metadata": {},
   "outputs": [
    {
     "data": {
      "text/html": [
       "<div>\n",
       "<style scoped>\n",
       "    .dataframe tbody tr th:only-of-type {\n",
       "        vertical-align: middle;\n",
       "    }\n",
       "\n",
       "    .dataframe tbody tr th {\n",
       "        vertical-align: top;\n",
       "    }\n",
       "\n",
       "    .dataframe thead th {\n",
       "        text-align: right;\n",
       "    }\n",
       "</style>\n",
       "<table border=\"1\" class=\"dataframe\">\n",
       "  <thead>\n",
       "    <tr style=\"text-align: right;\">\n",
       "      <th></th>\n",
       "      <th>count</th>\n",
       "      <th>mean</th>\n",
       "      <th>std</th>\n",
       "      <th>min</th>\n",
       "      <th>25%</th>\n",
       "      <th>50%</th>\n",
       "      <th>75%</th>\n",
       "      <th>max</th>\n",
       "    </tr>\n",
       "  </thead>\n",
       "  <tbody>\n",
       "    <tr>\n",
       "      <th>budget</th>\n",
       "      <td>307.00</td>\n",
       "      <td>133,337,107.24</td>\n",
       "      <td>192,921,923.81</td>\n",
       "      <td>14,462,464.00</td>\n",
       "      <td>45,510,944.00</td>\n",
       "      <td>70,876,172.00</td>\n",
       "      <td>148,225,750.00</td>\n",
       "      <td>2,305,074,303.00</td>\n",
       "    </tr>\n",
       "    <tr>\n",
       "      <th>total_support</th>\n",
       "      <td>307.00</td>\n",
       "      <td>59,771,071.16</td>\n",
       "      <td>73,872,664.01</td>\n",
       "      <td>3,000,000.00</td>\n",
       "      <td>25,100,000.00</td>\n",
       "      <td>35,000,000.00</td>\n",
       "      <td>60,000,000.00</td>\n",
       "      <td>500,000,000.00</td>\n",
       "    </tr>\n",
       "    <tr>\n",
       "      <th>refundable_support</th>\n",
       "      <td>307.00</td>\n",
       "      <td>10,410,423.45</td>\n",
       "      <td>23,856,986.78</td>\n",
       "      <td>0.00</td>\n",
       "      <td>0.00</td>\n",
       "      <td>0.00</td>\n",
       "      <td>10,000,000.00</td>\n",
       "      <td>180,000,000.00</td>\n",
       "    </tr>\n",
       "    <tr>\n",
       "      <th>nonrefundable_support</th>\n",
       "      <td>307.00</td>\n",
       "      <td>49,360,647.71</td>\n",
       "      <td>60,150,060.16</td>\n",
       "      <td>3,000,000.00</td>\n",
       "      <td>25,000,000.00</td>\n",
       "      <td>30,000,000.00</td>\n",
       "      <td>40,000,000.00</td>\n",
       "      <td>400,000,000.00</td>\n",
       "    </tr>\n",
       "    <tr>\n",
       "      <th>%_total_support</th>\n",
       "      <td>307.00</td>\n",
       "      <td>0.52</td>\n",
       "      <td>0.17</td>\n",
       "      <td>0.04</td>\n",
       "      <td>0.38</td>\n",
       "      <td>0.59</td>\n",
       "      <td>0.66</td>\n",
       "      <td>0.78</td>\n",
       "    </tr>\n",
       "    <tr>\n",
       "      <th>%_refundable_support</th>\n",
       "      <td>307.00</td>\n",
       "      <td>0.06</td>\n",
       "      <td>0.10</td>\n",
       "      <td>0.00</td>\n",
       "      <td>0.00</td>\n",
       "      <td>0.00</td>\n",
       "      <td>0.09</td>\n",
       "      <td>0.60</td>\n",
       "    </tr>\n",
       "    <tr>\n",
       "      <th>%_nonrefundable_support</th>\n",
       "      <td>307.00</td>\n",
       "      <td>0.46</td>\n",
       "      <td>0.18</td>\n",
       "      <td>0.02</td>\n",
       "      <td>0.32</td>\n",
       "      <td>0.48</td>\n",
       "      <td>0.65</td>\n",
       "      <td>0.70</td>\n",
       "    </tr>\n",
       "  </tbody>\n",
       "</table>\n",
       "</div>"
      ],
      "text/plain": [
       "                         count           mean            std           min  \\\n",
       "budget                  307.00 133,337,107.24 192,921,923.81 14,462,464.00   \n",
       "total_support           307.00  59,771,071.16  73,872,664.01  3,000,000.00   \n",
       "refundable_support      307.00  10,410,423.45  23,856,986.78          0.00   \n",
       "nonrefundable_support   307.00  49,360,647.71  60,150,060.16  3,000,000.00   \n",
       "%_total_support         307.00           0.52           0.17          0.04   \n",
       "%_refundable_support    307.00           0.06           0.10          0.00   \n",
       "%_nonrefundable_support 307.00           0.46           0.18          0.02   \n",
       "\n",
       "                                  25%           50%            75%  \\\n",
       "budget                  45,510,944.00 70,876,172.00 148,225,750.00   \n",
       "total_support           25,100,000.00 35,000,000.00  60,000,000.00   \n",
       "refundable_support               0.00          0.00  10,000,000.00   \n",
       "nonrefundable_support   25,000,000.00 30,000,000.00  40,000,000.00   \n",
       "%_total_support                  0.38          0.59           0.66   \n",
       "%_refundable_support             0.00          0.00           0.09   \n",
       "%_nonrefundable_support          0.32          0.48           0.65   \n",
       "\n",
       "                                     max  \n",
       "budget                  2,305,074,303.00  \n",
       "total_support             500,000,000.00  \n",
       "refundable_support        180,000,000.00  \n",
       "nonrefundable_support     400,000,000.00  \n",
       "%_total_support                     0.78  \n",
       "%_refundable_support                0.60  \n",
       "%_nonrefundable_support             0.70  "
      ]
     },
     "execution_count": 35,
     "metadata": {},
     "output_type": "execute_result"
    }
   ],
   "source": [
    "# Исключим пока из анализа фильмы, по которым не были заполненные данные по бюджету фильма, а также по объему невозвратных средств гос.поддержки:\n",
    "list=['budget', 'total_support', 'refundable_support', 'nonrefundable_support', '%_total_support', '%_refundable_support', '%_nonrefundable_support']\n",
    "df[list].describe().T"
   ]
  },
  {
   "cell_type": "markdown",
   "metadata": {},
   "source": [
    "Медианный бюджет фильма с гос.подержкой составляет 70.8 млн руб, а средний 133 млн руб.Это гооворит нам о том, что есть фильмы снятые с высоким бюджетом, это мы видим из макс значения в 230млн рублей."
   ]
  },
  {
   "cell_type": "markdown",
   "metadata": {},
   "source": [
    "**Мы провели предобработку данных. Проверили датасет нап дубликаты, добавили новые столбцы необходимые для дальнейшего исследования и удалили строки в которых есть гос.поддержка, но при этом бюджет составляет ноль**"
   ]
  },
  {
   "cell_type": "markdown",
   "metadata": {
    "id": "6t4EukPLgFyV"
   },
   "source": [
    "### Шаг 3. Проведите исследовательский анализ данных\n"
   ]
  },
  {
   "cell_type": "markdown",
   "metadata": {
    "id": "vAH8WCzugFyV"
   },
   "source": [
    "- Посмотрите, сколько фильмов выходило в прокат каждый год. Обратите внимание, что данные о прокате в кинотеатрах известны не для всех фильмов. Посчитайте, какую долю составляют фильмы с указанной информацией о прокате в кинотеатрах. Проанализируйте, как эта доля менялась по годам. Сделайте вывод о том, какой период полнее всего представлен в данных."
   ]
  },
  {
   "cell_type": "code",
   "execution_count": 36,
   "metadata": {
    "id": "ABeV47y7gFyW"
   },
   "outputs": [
    {
     "data": {
      "text/html": [
       "<div>\n",
       "<style scoped>\n",
       "    .dataframe tbody tr th:only-of-type {\n",
       "        vertical-align: middle;\n",
       "    }\n",
       "\n",
       "    .dataframe tbody tr th {\n",
       "        vertical-align: top;\n",
       "    }\n",
       "\n",
       "    .dataframe thead th {\n",
       "        text-align: right;\n",
       "    }\n",
       "</style>\n",
       "<table border=\"1\" class=\"dataframe\">\n",
       "  <thead>\n",
       "    <tr style=\"text-align: right;\">\n",
       "      <th></th>\n",
       "      <th>year</th>\n",
       "      <th>movies_in_theatres</th>\n",
       "    </tr>\n",
       "  </thead>\n",
       "  <tbody>\n",
       "    <tr>\n",
       "      <th>0</th>\n",
       "      <td>2010</td>\n",
       "      <td>105</td>\n",
       "    </tr>\n",
       "    <tr>\n",
       "      <th>1</th>\n",
       "      <td>2011</td>\n",
       "      <td>109</td>\n",
       "    </tr>\n",
       "    <tr>\n",
       "      <th>2</th>\n",
       "      <td>2012</td>\n",
       "      <td>128</td>\n",
       "    </tr>\n",
       "    <tr>\n",
       "      <th>3</th>\n",
       "      <td>2013</td>\n",
       "      <td>184</td>\n",
       "    </tr>\n",
       "    <tr>\n",
       "      <th>4</th>\n",
       "      <td>2014</td>\n",
       "      <td>278</td>\n",
       "    </tr>\n",
       "    <tr>\n",
       "      <th>5</th>\n",
       "      <td>2015</td>\n",
       "      <td>456</td>\n",
       "    </tr>\n",
       "    <tr>\n",
       "      <th>6</th>\n",
       "      <td>2016</td>\n",
       "      <td>523</td>\n",
       "    </tr>\n",
       "    <tr>\n",
       "      <th>7</th>\n",
       "      <td>2017</td>\n",
       "      <td>353</td>\n",
       "    </tr>\n",
       "    <tr>\n",
       "      <th>8</th>\n",
       "      <td>2018</td>\n",
       "      <td>470</td>\n",
       "    </tr>\n",
       "    <tr>\n",
       "      <th>9</th>\n",
       "      <td>2019</td>\n",
       "      <td>527</td>\n",
       "    </tr>\n",
       "  </tbody>\n",
       "</table>\n",
       "</div>"
      ],
      "text/plain": [
       "   year  movies_in_theatres\n",
       "0  2010                 105\n",
       "1  2011                 109\n",
       "2  2012                 128\n",
       "3  2013                 184\n",
       "4  2014                 278\n",
       "5  2015                 456\n",
       "6  2016                 523\n",
       "7  2017                 353\n",
       "8  2018                 470\n",
       "9  2019                 527"
      ]
     },
     "execution_count": 36,
     "metadata": {},
     "output_type": "execute_result"
    }
   ],
   "source": [
    "# Посчитаем сколько фильмов выходило в прокат каждый год:\n",
    "movie = df.groupby('year')['box_office'].count()\n",
    "movie = movie.to_frame().reset_index()\n",
    "movie.rename(columns={'box_office':'movies_in_theatres'}, inplace=True)\n",
    "movie"
   ]
  },
  {
   "cell_type": "code",
   "execution_count": 37,
   "metadata": {},
   "outputs": [
    {
     "data": {
      "text/html": [
       "<div>\n",
       "<style scoped>\n",
       "    .dataframe tbody tr th:only-of-type {\n",
       "        vertical-align: middle;\n",
       "    }\n",
       "\n",
       "    .dataframe tbody tr th {\n",
       "        vertical-align: top;\n",
       "    }\n",
       "\n",
       "    .dataframe thead th {\n",
       "        text-align: right;\n",
       "    }\n",
       "</style>\n",
       "<table border=\"1\" class=\"dataframe\">\n",
       "  <thead>\n",
       "    <tr style=\"text-align: right;\">\n",
       "      <th></th>\n",
       "      <th>year</th>\n",
       "      <th>films_total</th>\n",
       "      <th>movies_in_theatres</th>\n",
       "      <th>films_in_theatres_ratio, %</th>\n",
       "    </tr>\n",
       "  </thead>\n",
       "  <tbody>\n",
       "    <tr>\n",
       "      <th>0</th>\n",
       "      <td>2010</td>\n",
       "      <td>985</td>\n",
       "      <td>105</td>\n",
       "      <td>10.66</td>\n",
       "    </tr>\n",
       "    <tr>\n",
       "      <th>1</th>\n",
       "      <td>2011</td>\n",
       "      <td>622</td>\n",
       "      <td>109</td>\n",
       "      <td>17.52</td>\n",
       "    </tr>\n",
       "    <tr>\n",
       "      <th>2</th>\n",
       "      <td>2012</td>\n",
       "      <td>593</td>\n",
       "      <td>128</td>\n",
       "      <td>21.59</td>\n",
       "    </tr>\n",
       "    <tr>\n",
       "      <th>3</th>\n",
       "      <td>2013</td>\n",
       "      <td>630</td>\n",
       "      <td>184</td>\n",
       "      <td>29.21</td>\n",
       "    </tr>\n",
       "    <tr>\n",
       "      <th>4</th>\n",
       "      <td>2014</td>\n",
       "      <td>805</td>\n",
       "      <td>278</td>\n",
       "      <td>34.53</td>\n",
       "    </tr>\n",
       "    <tr>\n",
       "      <th>5</th>\n",
       "      <td>2015</td>\n",
       "      <td>696</td>\n",
       "      <td>456</td>\n",
       "      <td>65.52</td>\n",
       "    </tr>\n",
       "    <tr>\n",
       "      <th>6</th>\n",
       "      <td>2016</td>\n",
       "      <td>815</td>\n",
       "      <td>523</td>\n",
       "      <td>64.17</td>\n",
       "    </tr>\n",
       "    <tr>\n",
       "      <th>7</th>\n",
       "      <td>2017</td>\n",
       "      <td>501</td>\n",
       "      <td>353</td>\n",
       "      <td>70.46</td>\n",
       "    </tr>\n",
       "    <tr>\n",
       "      <th>8</th>\n",
       "      <td>2018</td>\n",
       "      <td>886</td>\n",
       "      <td>470</td>\n",
       "      <td>53.05</td>\n",
       "    </tr>\n",
       "    <tr>\n",
       "      <th>9</th>\n",
       "      <td>2019</td>\n",
       "      <td>927</td>\n",
       "      <td>527</td>\n",
       "      <td>56.85</td>\n",
       "    </tr>\n",
       "  </tbody>\n",
       "</table>\n",
       "</div>"
      ],
      "text/plain": [
       "   year  films_total  movies_in_theatres  films_in_theatres_ratio, %\n",
       "0  2010          985                 105                       10.66\n",
       "1  2011          622                 109                       17.52\n",
       "2  2012          593                 128                       21.59\n",
       "3  2013          630                 184                       29.21\n",
       "4  2014          805                 278                       34.53\n",
       "5  2015          696                 456                       65.52\n",
       "6  2016          815                 523                       64.17\n",
       "7  2017          501                 353                       70.46\n",
       "8  2018          886                 470                       53.05\n",
       "9  2019          927                 527                       56.85"
      ]
     },
     "metadata": {},
     "output_type": "display_data"
    },
    {
     "name": "stdout",
     "output_type": "stream",
     "text": [
      "Cреднее количество фильмов в год: 746\n",
      "Cреднее количество фильмов в кинотеатрах в год: 313\n",
      "Доля фильмов с указанной информацией о прокате в кинотеатрах: 42.36 %\n"
     ]
    }
   ],
   "source": [
    "\n",
    "films = df.groupby('year')['title'].count()\n",
    "films = films.to_frame().reset_index()\n",
    "films.rename(columns={'title':'films_total'}, inplace=True)\n",
    "films['movies_in_theatres'] = movie['movies_in_theatres']\n",
    "films['films_in_theatres_ratio, %']=(films['movies_in_theatres']/films['films_total'])*100\n",
    "\n",
    "display(films)\n",
    "\n",
    "print('Cреднее количество фильмов в год: %.0f' % films['films_total'].mean())\n",
    "print('Cреднее количество фильмов в кинотеатрах в год: %.0f' % movie['movies_in_theatres'].mean())\n",
    "print('Доля фильмов с указанной информацией о прокате в кинотеатрах: %.2f' % films['films_in_theatres_ratio, %'].mean(), '%')"
   ]
  },
  {
   "cell_type": "code",
   "execution_count": 38,
   "metadata": {
    "scrolled": false
   },
   "outputs": [
    {
     "data": {
      "image/png": "[encoded data removed]",
      "text/plain": [
       "<Figure size 720x360 with 1 Axes>"
      ]
     },
     "metadata": {
      "needs_background": "light"
     },
     "output_type": "display_data"
    }
   ],
   "source": [
    "# Построим барчарт по количеству фильмов получивших прокатные удостоверения и о прокате в кинотеатрах\n",
    "films.plot(x='year',  kind='bar', figsize = (10, 5), grid = True, title='Количество фильмов в год')\n",
    "plt.xlabel('Год')\n",
    "plt.ylabel('Кол-во фильмов')\n",
    "plt.show()"
   ]
  },
  {
   "cell_type": "code",
   "execution_count": 39,
   "metadata": {},
   "outputs": [
    {
     "data": {
      "text/html": [
       "<div>\n",
       "<style scoped>\n",
       "    .dataframe tbody tr th:only-of-type {\n",
       "        vertical-align: middle;\n",
       "    }\n",
       "\n",
       "    .dataframe tbody tr th {\n",
       "        vertical-align: top;\n",
       "    }\n",
       "\n",
       "    .dataframe thead th {\n",
       "        text-align: right;\n",
       "    }\n",
       "</style>\n",
       "<table border=\"1\" class=\"dataframe\">\n",
       "  <thead>\n",
       "    <tr style=\"text-align: right;\">\n",
       "      <th></th>\n",
       "      <th>year</th>\n",
       "      <th>films_total</th>\n",
       "      <th>movies_in_theatres</th>\n",
       "      <th>films_in_theatres_ratio, %</th>\n",
       "    </tr>\n",
       "  </thead>\n",
       "  <tbody>\n",
       "    <tr>\n",
       "      <th>year</th>\n",
       "      <td>1.00</td>\n",
       "      <td>0.15</td>\n",
       "      <td>0.91</td>\n",
       "      <td>0.87</td>\n",
       "    </tr>\n",
       "    <tr>\n",
       "      <th>films_total</th>\n",
       "      <td>0.15</td>\n",
       "      <td>1.00</td>\n",
       "      <td>0.30</td>\n",
       "      <td>-0.08</td>\n",
       "    </tr>\n",
       "    <tr>\n",
       "      <th>movies_in_theatres</th>\n",
       "      <td>0.91</td>\n",
       "      <td>0.30</td>\n",
       "      <td>1.00</td>\n",
       "      <td>0.90</td>\n",
       "    </tr>\n",
       "    <tr>\n",
       "      <th>films_in_theatres_ratio, %</th>\n",
       "      <td>0.87</td>\n",
       "      <td>-0.08</td>\n",
       "      <td>0.90</td>\n",
       "      <td>1.00</td>\n",
       "    </tr>\n",
       "  </tbody>\n",
       "</table>\n",
       "</div>"
      ],
      "text/plain": [
       "                            year  films_total  movies_in_theatres  \\\n",
       "year                        1.00         0.15                0.91   \n",
       "films_total                 0.15         1.00                0.30   \n",
       "movies_in_theatres          0.91         0.30                1.00   \n",
       "films_in_theatres_ratio, %  0.87        -0.08                0.90   \n",
       "\n",
       "                            films_in_theatres_ratio, %  \n",
       "year                                              0.87  \n",
       "films_total                                      -0.08  \n",
       "movies_in_theatres                                0.90  \n",
       "films_in_theatres_ratio, %                        1.00  "
      ]
     },
     "execution_count": 39,
     "metadata": {},
     "output_type": "execute_result"
    }
   ],
   "source": [
    "films.corr()"
   ]
  },
  {
   "cell_type": "code",
   "execution_count": 40,
   "metadata": {},
   "outputs": [
    {
     "data": {
      "text/html": [
       "<div>\n",
       "<style scoped>\n",
       "    .dataframe tbody tr th:only-of-type {\n",
       "        vertical-align: middle;\n",
       "    }\n",
       "\n",
       "    .dataframe tbody tr th {\n",
       "        vertical-align: top;\n",
       "    }\n",
       "\n",
       "    .dataframe thead th {\n",
       "        text-align: right;\n",
       "    }\n",
       "</style>\n",
       "<table border=\"1\" class=\"dataframe\">\n",
       "  <thead>\n",
       "    <tr style=\"text-align: right;\">\n",
       "      <th></th>\n",
       "      <th>count</th>\n",
       "      <th>mean</th>\n",
       "      <th>std</th>\n",
       "      <th>min</th>\n",
       "      <th>25%</th>\n",
       "      <th>50%</th>\n",
       "      <th>75%</th>\n",
       "      <th>max</th>\n",
       "    </tr>\n",
       "  </thead>\n",
       "  <tbody>\n",
       "    <tr>\n",
       "      <th>year</th>\n",
       "      <td>10.00</td>\n",
       "      <td>2,014.50</td>\n",
       "      <td>3.03</td>\n",
       "      <td>2,010.00</td>\n",
       "      <td>2,012.25</td>\n",
       "      <td>2,014.50</td>\n",
       "      <td>2,016.75</td>\n",
       "      <td>2,019.00</td>\n",
       "    </tr>\n",
       "    <tr>\n",
       "      <th>films_total</th>\n",
       "      <td>10.00</td>\n",
       "      <td>746.00</td>\n",
       "      <td>160.72</td>\n",
       "      <td>501.00</td>\n",
       "      <td>624.00</td>\n",
       "      <td>750.50</td>\n",
       "      <td>868.25</td>\n",
       "      <td>985.00</td>\n",
       "    </tr>\n",
       "    <tr>\n",
       "      <th>movies_in_theatres</th>\n",
       "      <td>10.00</td>\n",
       "      <td>313.30</td>\n",
       "      <td>174.34</td>\n",
       "      <td>105.00</td>\n",
       "      <td>142.00</td>\n",
       "      <td>315.50</td>\n",
       "      <td>466.50</td>\n",
       "      <td>527.00</td>\n",
       "    </tr>\n",
       "    <tr>\n",
       "      <th>films_in_theatres_ratio, %</th>\n",
       "      <td>10.00</td>\n",
       "      <td>42.36</td>\n",
       "      <td>22.14</td>\n",
       "      <td>10.66</td>\n",
       "      <td>23.49</td>\n",
       "      <td>43.79</td>\n",
       "      <td>62.34</td>\n",
       "      <td>70.46</td>\n",
       "    </tr>\n",
       "  </tbody>\n",
       "</table>\n",
       "</div>"
      ],
      "text/plain": [
       "                            count     mean    std      min      25%      50%  \\\n",
       "year                        10.00 2,014.50   3.03 2,010.00 2,012.25 2,014.50   \n",
       "films_total                 10.00   746.00 160.72   501.00   624.00   750.50   \n",
       "movies_in_theatres          10.00   313.30 174.34   105.00   142.00   315.50   \n",
       "films_in_theatres_ratio, %  10.00    42.36  22.14    10.66    23.49    43.79   \n",
       "\n",
       "                                75%      max  \n",
       "year                       2,016.75 2,019.00  \n",
       "films_total                  868.25   985.00  \n",
       "movies_in_theatres           466.50   527.00  \n",
       "films_in_theatres_ratio, %    62.34    70.46  "
      ]
     },
     "execution_count": 40,
     "metadata": {},
     "output_type": "execute_result"
    }
   ],
   "source": [
    "films.describe().T"
   ]
  },
  {
   "cell_type": "markdown",
   "metadata": {},
   "source": [
    "- Количество фильмов показынных в кино сильно меньше общего количества выданных прокатныхьудостоверений, это означает, что они получали разркгение например на показ в онлайн кинотеатрах. В среднем удостоверенияполучали 746 фильмов каждый, из них выходило в кинотеатрах в 2,4 раза меньше - 313 фильмов.\n",
    "\n",
    "- Количество фильмов, получающих прокатные удостоверения не сильно меняется за исследуемый период времени. В 2017 году было выдано меньше всего прокатных удостоверений.А вот число фильмов предназначенных для показа в кинотеатрах растет практически каждый год. Коэффициент корреляции **0.91** говорит о том, что год выхода имеет прямую положительную зависимость от количества фильмов в кинотеатрах."
   ]
  },
  {
   "cell_type": "markdown",
   "metadata": {
    "id": "BEOdcIrIgFyW"
   },
   "source": [
    "- Изучите, как менялась динамика проката по годам. В каком году сумма сборов была минимальной? А максимальной?"
   ]
  },
  {
   "cell_type": "code",
   "execution_count": 41,
   "metadata": {
    "id": "tfEhofYvgFyX"
   },
   "outputs": [
    {
     "data": {
      "text/plain": [
       "year\n",
       "2010        2,428,654.00\n",
       "2011       14,102,765.00\n",
       "2012        6,955,423.00\n",
       "2013       29,799,706.20\n",
       "2014    7,434,717,843.10\n",
       "2015   38,427,444,491.66\n",
       "2016   46,742,316,269.48\n",
       "2017   47,364,913,114.75\n",
       "2018   48,674,622,551.95\n",
       "2019   47,723,583,006.14\n",
       "Name: box_office, dtype: float64"
      ]
     },
     "execution_count": 41,
     "metadata": {},
     "output_type": "execute_result"
    }
   ],
   "source": [
    "# Посмотрим на величину проката за каждый год:\n",
    "box_office_result = df.groupby('year')['box_office'].sum()\n",
    "\n",
    "box_office_result"
   ]
  },
  {
   "cell_type": "code",
   "execution_count": 42,
   "metadata": {},
   "outputs": [
    {
     "data": {
      "text/plain": [
       "Text(0, 0.5, 'Кассовые сборы, млрд руб')"
      ]
     },
     "execution_count": 42,
     "metadata": {},
     "output_type": "execute_result"
    },
    {
     "data": {
      "image/png": "[encoded data removed]",
      "text/plain": [
       "<Figure size 432x288 with 1 Axes>"
      ]
     },
     "metadata": {
      "needs_background": "light"
     },
     "output_type": "display_data"
    }
   ],
   "source": [
    "# Посторим  график, отражающий зависимость между величиной кассовых сборов и годом:\n",
    "box_office_result.plot(kind='bar', grid=True)\n",
    "plt.title('Кассовые сборы')\n",
    "plt.xlabel('Годы')\n",
    "plt.ylabel('Кассовые сборы, млрд руб')"
   ]
  },
  {
   "cell_type": "markdown",
   "metadata": {
    "id": "G-7qS-N-gFyY"
   },
   "source": [
    "- С помощью сводной таблицы посчитайте среднюю и медианную сумму сборов для каждого года."
   ]
  },
  {
   "cell_type": "code",
   "execution_count": 43,
   "metadata": {
    "id": "jmp-rgg9gFyY"
   },
   "outputs": [
    {
     "data": {
      "text/html": [
       "<div>\n",
       "<style scoped>\n",
       "    .dataframe tbody tr th:only-of-type {\n",
       "        vertical-align: middle;\n",
       "    }\n",
       "\n",
       "    .dataframe tbody tr th {\n",
       "        vertical-align: top;\n",
       "    }\n",
       "\n",
       "    .dataframe thead th {\n",
       "        text-align: right;\n",
       "    }\n",
       "</style>\n",
       "<table border=\"1\" class=\"dataframe\">\n",
       "  <thead>\n",
       "    <tr style=\"text-align: right;\">\n",
       "      <th></th>\n",
       "      <th>mean</th>\n",
       "      <th>median</th>\n",
       "    </tr>\n",
       "    <tr>\n",
       "      <th>year</th>\n",
       "      <th></th>\n",
       "      <th></th>\n",
       "    </tr>\n",
       "  </thead>\n",
       "  <tbody>\n",
       "    <tr>\n",
       "      <th>2010</th>\n",
       "      <td>23,130.04</td>\n",
       "      <td>1,700.00</td>\n",
       "    </tr>\n",
       "    <tr>\n",
       "      <th>2011</th>\n",
       "      <td>129,383.17</td>\n",
       "      <td>3,000.00</td>\n",
       "    </tr>\n",
       "    <tr>\n",
       "      <th>2012</th>\n",
       "      <td>54,339.24</td>\n",
       "      <td>5,660.00</td>\n",
       "    </tr>\n",
       "    <tr>\n",
       "      <th>2013</th>\n",
       "      <td>161,954.92</td>\n",
       "      <td>3,522.50</td>\n",
       "    </tr>\n",
       "    <tr>\n",
       "      <th>2014</th>\n",
       "      <td>26,743,589.36</td>\n",
       "      <td>18,137.50</td>\n",
       "    </tr>\n",
       "    <tr>\n",
       "      <th>2015</th>\n",
       "      <td>84,270,711.60</td>\n",
       "      <td>4,742,671.67</td>\n",
       "    </tr>\n",
       "    <tr>\n",
       "      <th>2016</th>\n",
       "      <td>89,373,453.67</td>\n",
       "      <td>3,776,087.56</td>\n",
       "    </tr>\n",
       "    <tr>\n",
       "      <th>2017</th>\n",
       "      <td>134,178,224.12</td>\n",
       "      <td>9,876,765.00</td>\n",
       "    </tr>\n",
       "    <tr>\n",
       "      <th>2018</th>\n",
       "      <td>103,563,026.71</td>\n",
       "      <td>8,730,277.53</td>\n",
       "    </tr>\n",
       "    <tr>\n",
       "      <th>2019</th>\n",
       "      <td>90,557,083.50</td>\n",
       "      <td>4,554,745.00</td>\n",
       "    </tr>\n",
       "  </tbody>\n",
       "</table>\n",
       "</div>"
      ],
      "text/plain": [
       "               mean       median\n",
       "year                            \n",
       "2010      23,130.04     1,700.00\n",
       "2011     129,383.17     3,000.00\n",
       "2012      54,339.24     5,660.00\n",
       "2013     161,954.92     3,522.50\n",
       "2014  26,743,589.36    18,137.50\n",
       "2015  84,270,711.60 4,742,671.67\n",
       "2016  89,373,453.67 3,776,087.56\n",
       "2017 134,178,224.12 9,876,765.00\n",
       "2018 103,563,026.71 8,730,277.53\n",
       "2019  90,557,083.50 4,554,745.00"
      ]
     },
     "execution_count": 43,
     "metadata": {},
     "output_type": "execute_result"
    }
   ],
   "source": [
    "\n",
    "df.groupby('year')['box_office'].agg(['mean','median'])"
   ]
  },
  {
   "cell_type": "markdown",
   "metadata": {},
   "source": [
    "Для наглядности построим график с медианой и средним по годам"
   ]
  },
  {
   "cell_type": "code",
   "execution_count": 44,
   "metadata": {},
   "outputs": [
    {
     "data": {
      "image/png": "[encoded data removed]",
      "text/plain": [
       "<Figure size 432x288 with 1 Axes>"
      ]
     },
     "metadata": {
      "needs_background": "light"
     },
     "output_type": "display_data"
    }
   ],
   "source": [
    "\n",
    "(\n",
    "    df.groupby('year')['box_office']\n",
    "    .agg(['median', 'mean'])\n",
    "    .plot(style='-o', grid=True, figsize=(6, 4))\n",
    ")\n",
    "plt.title('Среднее и медианное значение сборов для каждого года')\n",
    "plt.xlabel('Год')\n",
    "plt.ylabel('Сумма сборов, руб')\n",
    "plt.show()"
   ]
  },
  {
   "cell_type": "markdown",
   "metadata": {},
   "source": [
    "**Медианное значение сильно отличается от среднего. Это говорит о том, что есть  фильмы с очень высокими сборами, которые очень сильно влияют на среднее значение. В 2017 году быи самые высокие сборы, но при этом было выдано меньгъше всего прокатных удостоверений**"
   ]
  },
  {
   "cell_type": "markdown",
   "metadata": {
    "id": "Ok89WFwJgFyZ"
   },
   "source": [
    "- Определите, влияет ли возрастное ограничение аудитории («6+», «12+», «16+», «18+» и т. д.) на сборы фильма в прокате в период с 2015 по 2019 год? Фильмы с каким возрастным ограничением собрали больше всего денег в прокате? Меняется ли картина в зависимости от года? Если да, предположите, с чем это может быть связано."
   ]
  },
  {
   "cell_type": "code",
   "execution_count": 45,
   "metadata": {
    "id": "jsSbEqfjgFya"
   },
   "outputs": [
    {
     "data": {
      "text/html": [
       "<div>\n",
       "<style scoped>\n",
       "    .dataframe tbody tr th:only-of-type {\n",
       "        vertical-align: middle;\n",
       "    }\n",
       "\n",
       "    .dataframe tbody tr th {\n",
       "        vertical-align: top;\n",
       "    }\n",
       "\n",
       "    .dataframe thead th {\n",
       "        text-align: right;\n",
       "    }\n",
       "</style>\n",
       "<table border=\"1\" class=\"dataframe\">\n",
       "  <thead>\n",
       "    <tr style=\"text-align: right;\">\n",
       "      <th></th>\n",
       "      <th>Год</th>\n",
       "      <th>Возрастное ограничение</th>\n",
       "      <th>Сборы, млн. руб</th>\n",
       "    </tr>\n",
       "  </thead>\n",
       "  <tbody>\n",
       "    <tr>\n",
       "      <th>0</th>\n",
       "      <td>2015</td>\n",
       "      <td>«0+» - для любой зрительской аудитории</td>\n",
       "      <td>379.05</td>\n",
       "    </tr>\n",
       "    <tr>\n",
       "      <th>1</th>\n",
       "      <td>2015</td>\n",
       "      <td>«12+» - для детей старше 12 лет</td>\n",
       "      <td>13,399.86</td>\n",
       "    </tr>\n",
       "    <tr>\n",
       "      <th>2</th>\n",
       "      <td>2015</td>\n",
       "      <td>«16+» - для детей старше 16 лет</td>\n",
       "      <td>10,770.57</td>\n",
       "    </tr>\n",
       "    <tr>\n",
       "      <th>3</th>\n",
       "      <td>2015</td>\n",
       "      <td>«18+» - запрещено для детей</td>\n",
       "      <td>5,430.35</td>\n",
       "    </tr>\n",
       "    <tr>\n",
       "      <th>4</th>\n",
       "      <td>2015</td>\n",
       "      <td>«6+» - для детей старше 6 лет</td>\n",
       "      <td>8,447.62</td>\n",
       "    </tr>\n",
       "    <tr>\n",
       "      <th>5</th>\n",
       "      <td>2016</td>\n",
       "      <td>«0+» - для любой зрительской аудитории</td>\n",
       "      <td>150.23</td>\n",
       "    </tr>\n",
       "    <tr>\n",
       "      <th>6</th>\n",
       "      <td>2016</td>\n",
       "      <td>«12+» - для детей старше 12 лет</td>\n",
       "      <td>11,150.76</td>\n",
       "    </tr>\n",
       "    <tr>\n",
       "      <th>7</th>\n",
       "      <td>2016</td>\n",
       "      <td>«16+» - для детей старше 16 лет</td>\n",
       "      <td>16,594.25</td>\n",
       "    </tr>\n",
       "    <tr>\n",
       "      <th>8</th>\n",
       "      <td>2016</td>\n",
       "      <td>«18+» - запрещено для детей</td>\n",
       "      <td>6,793.93</td>\n",
       "    </tr>\n",
       "    <tr>\n",
       "      <th>9</th>\n",
       "      <td>2016</td>\n",
       "      <td>«6+» - для детей старше 6 лет</td>\n",
       "      <td>12,053.15</td>\n",
       "    </tr>\n",
       "    <tr>\n",
       "      <th>10</th>\n",
       "      <td>2017</td>\n",
       "      <td>«0+» - для любой зрительской аудитории</td>\n",
       "      <td>229.60</td>\n",
       "    </tr>\n",
       "    <tr>\n",
       "      <th>11</th>\n",
       "      <td>2017</td>\n",
       "      <td>«12+» - для детей старше 12 лет</td>\n",
       "      <td>7,517.42</td>\n",
       "    </tr>\n",
       "    <tr>\n",
       "      <th>12</th>\n",
       "      <td>2017</td>\n",
       "      <td>«16+» - для детей старше 16 лет</td>\n",
       "      <td>18,694.59</td>\n",
       "    </tr>\n",
       "    <tr>\n",
       "      <th>13</th>\n",
       "      <td>2017</td>\n",
       "      <td>«18+» - запрещено для детей</td>\n",
       "      <td>9,651.50</td>\n",
       "    </tr>\n",
       "    <tr>\n",
       "      <th>14</th>\n",
       "      <td>2017</td>\n",
       "      <td>«6+» - для детей старше 6 лет</td>\n",
       "      <td>11,271.81</td>\n",
       "    </tr>\n",
       "    <tr>\n",
       "      <th>15</th>\n",
       "      <td>2018</td>\n",
       "      <td>«0+» - для любой зрительской аудитории</td>\n",
       "      <td>32.45</td>\n",
       "    </tr>\n",
       "    <tr>\n",
       "      <th>16</th>\n",
       "      <td>2018</td>\n",
       "      <td>«12+» - для детей старше 12 лет</td>\n",
       "      <td>14,267.29</td>\n",
       "    </tr>\n",
       "    <tr>\n",
       "      <th>17</th>\n",
       "      <td>2018</td>\n",
       "      <td>«16+» - для детей старше 16 лет</td>\n",
       "      <td>16,278.41</td>\n",
       "    </tr>\n",
       "    <tr>\n",
       "      <th>18</th>\n",
       "      <td>2018</td>\n",
       "      <td>«18+» - запрещено для детей</td>\n",
       "      <td>8,760.09</td>\n",
       "    </tr>\n",
       "    <tr>\n",
       "      <th>19</th>\n",
       "      <td>2018</td>\n",
       "      <td>«6+» - для детей старше 6 лет</td>\n",
       "      <td>9,336.39</td>\n",
       "    </tr>\n",
       "    <tr>\n",
       "      <th>20</th>\n",
       "      <td>2019</td>\n",
       "      <td>«0+» - для любой зрительской аудитории</td>\n",
       "      <td>17.75</td>\n",
       "    </tr>\n",
       "    <tr>\n",
       "      <th>21</th>\n",
       "      <td>2019</td>\n",
       "      <td>«12+» - для детей старше 12 лет</td>\n",
       "      <td>12,680.20</td>\n",
       "    </tr>\n",
       "    <tr>\n",
       "      <th>22</th>\n",
       "      <td>2019</td>\n",
       "      <td>«16+» - для детей старше 16 лет</td>\n",
       "      <td>12,699.97</td>\n",
       "    </tr>\n",
       "    <tr>\n",
       "      <th>23</th>\n",
       "      <td>2019</td>\n",
       "      <td>«18+» - запрещено для детей</td>\n",
       "      <td>10,121.80</td>\n",
       "    </tr>\n",
       "    <tr>\n",
       "      <th>24</th>\n",
       "      <td>2019</td>\n",
       "      <td>«6+» - для детей старше 6 лет</td>\n",
       "      <td>12,203.87</td>\n",
       "    </tr>\n",
       "  </tbody>\n",
       "</table>\n",
       "</div>"
      ],
      "text/plain": [
       "     Год                  Возрастное ограничение  Сборы, млн. руб\n",
       "0   2015  «0+» - для любой зрительской аудитории           379.05\n",
       "1   2015         «12+» - для детей старше 12 лет        13,399.86\n",
       "2   2015         «16+» - для детей старше 16 лет        10,770.57\n",
       "3   2015             «18+» - запрещено для детей         5,430.35\n",
       "4   2015           «6+» - для детей старше 6 лет         8,447.62\n",
       "5   2016  «0+» - для любой зрительской аудитории           150.23\n",
       "6   2016         «12+» - для детей старше 12 лет        11,150.76\n",
       "7   2016         «16+» - для детей старше 16 лет        16,594.25\n",
       "8   2016             «18+» - запрещено для детей         6,793.93\n",
       "9   2016           «6+» - для детей старше 6 лет        12,053.15\n",
       "10  2017  «0+» - для любой зрительской аудитории           229.60\n",
       "11  2017         «12+» - для детей старше 12 лет         7,517.42\n",
       "12  2017         «16+» - для детей старше 16 лет        18,694.59\n",
       "13  2017             «18+» - запрещено для детей         9,651.50\n",
       "14  2017           «6+» - для детей старше 6 лет        11,271.81\n",
       "15  2018  «0+» - для любой зрительской аудитории            32.45\n",
       "16  2018         «12+» - для детей старше 12 лет        14,267.29\n",
       "17  2018         «16+» - для детей старше 16 лет        16,278.41\n",
       "18  2018             «18+» - запрещено для детей         8,760.09\n",
       "19  2018           «6+» - для детей старше 6 лет         9,336.39\n",
       "20  2019  «0+» - для любой зрительской аудитории            17.75\n",
       "21  2019         «12+» - для детей старше 12 лет        12,680.20\n",
       "22  2019         «16+» - для детей старше 16 лет        12,699.97\n",
       "23  2019             «18+» - запрещено для детей        10,121.80\n",
       "24  2019           «6+» - для детей старше 6 лет        12,203.87"
      ]
     },
     "execution_count": 45,
     "metadata": {},
     "output_type": "execute_result"
    }
   ],
   "source": [
    "box_office_age = df.query('year >= 2015').groupby(['year', 'age_restriction'])['box_office'].agg('sum').reset_index()\n",
    "box_office_age['box_office'] = box_office_age['box_office']/1000000\n",
    "box_office_age.rename(columns={'year':'Год'\n",
    "                               ,'age_restriction': 'Возрастное ограничение'\n",
    "                               ,'box_office':'Сборы, млн. руб'}, inplace=True)\n",
    "box_office_age"
   ]
  },
  {
   "cell_type": "code",
   "execution_count": 46,
   "metadata": {},
   "outputs": [
    {
     "data": {
      "image/png": "[encoded data removed]",
      "text/plain": [
       "<Figure size 617.875x360 with 1 Axes>"
      ]
     },
     "metadata": {
      "needs_background": "light"
     },
     "output_type": "display_data"
    }
   ],
   "source": [
    "#Построим график зависимости сборов по возрастной категории от года\n",
    "box_office_age_gr = sns.catplot(x='Год', y='Сборы, млн. руб', hue='Возрастное ограничение', data=box_office_age, kind='bar');\n",
    "plt.title('Сборы фильмов по возрастным ограничениям');\n",
    "plt.xlabel('Год');\n",
    "plt.ylabel('Сумма сборов по годам, млн.руб');"
   ]
  },
  {
   "cell_type": "markdown",
   "metadata": {},
   "source": [
    "\n",
    "По полученным данным можно сказать, что категория 16+ пользуется наибольшей популярностью, она не балы первой только в 2015 году, когда  лидером стала категория 12+, в 2019 году 6+. Эти  категории собирают кассу выше, чем 0+ и 18+, скорее всего из-за более широкого круга зрителей. "
   ]
  },
  {
   "cell_type": "markdown",
   "metadata": {},
   "source": [
    "***Вывод***\n",
    "- Количество фильмов показынных в кино сильно меньше общего количества выданных прокатных удостоверений.\n",
    "- Количество фильмов, получающих прокатные удостоверения не сильно меняется за исследуемый период времени.\n",
    "- Число фильмов предназначенных для показа в кинотеатрах растет практически каждый год. \n",
    "- Фильмы категории **16+** собирают самую большую кассу\n",
    "- в 2017 году были самые большие сборы "
   ]
  },
  {
   "cell_type": "code",
   "execution_count": 47,
   "metadata": {},
   "outputs": [
    {
     "data": {
      "image/png": "[encoded data removed]",
      "text/plain": [
       "<Figure size 576x576 with 1 Axes>"
      ]
     },
     "metadata": {
      "needs_background": "light"
     },
     "output_type": "display_data"
    }
   ],
   "source": [
    "temp = df.copy()\n",
    "# для удобства укоротим названия категорий\n",
    "# Функция для выбора первого элемента из перечисления\n",
    "def get_first_value(s, sep = ','):\n",
    "    value_lst = s.split(sep=sep)\n",
    "    return value_lst[0]\n",
    "\n",
    "temp['age_restriction'] = temp['age_restriction'].apply(lambda x: get_first_value(x, sep='-'))\n",
    "# сохраним маску для среза по годам\n",
    "year_mask = temp['year'] >= 2015\n",
    "\n",
    "plt.figure(figsize=(8, 8))\n",
    "(sns.boxplot(data = temp.loc[year_mask], y = 'box_office', x='age_restriction', showfliers=False, showmeans=True)\n",
    "    .set(title = 'Кассовые сборы в зависимости от возрастной категории', \n",
    "         xlabel = 'Возрастные категории', ylabel = 'Кассовый сбор'))\n",
    "plt.text(0, 3.0e8,'Треугольник показывает среднее значение')\n",
    "plt.show()"
   ]
  },
  {
   "cell_type": "markdown",
   "metadata": {
    "id": "l_Kg6Ku4gFya"
   },
   "source": [
    "### Шаг 4. Исследуйте фильмы, которые получили государственную поддержку\n",
    "\n",
    "На этом этапе нет конкретных инструкций и заданий — поищите интересные закономерности в данных. Посмотрите, сколько выделяют средств на поддержку кино. Проверьте, хорошо ли окупаются такие фильмы, какой у них рейтинг."
   ]
  },
  {
   "cell_type": "code",
   "execution_count": 48,
   "metadata": {
    "id": "W9QKpjUdgFyb",
    "scrolled": true
   },
   "outputs": [
    {
     "data": {
      "text/html": [
       "<div>\n",
       "<style scoped>\n",
       "    .dataframe tbody tr th:only-of-type {\n",
       "        vertical-align: middle;\n",
       "    }\n",
       "\n",
       "    .dataframe tbody tr th {\n",
       "        vertical-align: top;\n",
       "    }\n",
       "\n",
       "    .dataframe thead th {\n",
       "        text-align: right;\n",
       "    }\n",
       "</style>\n",
       "<table border=\"1\" class=\"dataframe\">\n",
       "  <thead>\n",
       "    <tr style=\"text-align: right;\">\n",
       "      <th></th>\n",
       "      <th>title</th>\n",
       "      <th>puNumber</th>\n",
       "      <th>show_start_date</th>\n",
       "      <th>type</th>\n",
       "      <th>film_studio</th>\n",
       "      <th>production_country</th>\n",
       "      <th>director</th>\n",
       "      <th>producer</th>\n",
       "      <th>age_restriction</th>\n",
       "      <th>refundable_support</th>\n",
       "      <th>...</th>\n",
       "      <th>genres</th>\n",
       "      <th>box_office</th>\n",
       "      <th>year</th>\n",
       "      <th>main_director</th>\n",
       "      <th>main_genre</th>\n",
       "      <th>total_support</th>\n",
       "      <th>%_total_support</th>\n",
       "      <th>%_refundable_support</th>\n",
       "      <th>%_nonrefundable_support</th>\n",
       "      <th>country_first</th>\n",
       "    </tr>\n",
       "  </thead>\n",
       "  <tbody>\n",
       "    <tr>\n",
       "      <th>1281</th>\n",
       "      <td>Пока еще жива</td>\n",
       "      <td>111005313</td>\n",
       "      <td>2013-10-11 12:00:00+00:00</td>\n",
       "      <td>Художественный</td>\n",
       "      <td>АНО содействия развитию кинематографии \"Ангел-...</td>\n",
       "      <td>Россия</td>\n",
       "      <td>А.Атанесян</td>\n",
       "      <td>А.Атанесян, М.Бабаханов, Р.Бутко</td>\n",
       "      <td>«16+» - для детей старше 16 лет</td>\n",
       "      <td>0.00</td>\n",
       "      <td>...</td>\n",
       "      <td>драма,мелодрама</td>\n",
       "      <td>365,353.60</td>\n",
       "      <td>2013</td>\n",
       "      <td>А.Атанесян</td>\n",
       "      <td>драма</td>\n",
       "      <td>26,500,000.00</td>\n",
       "      <td>0.33</td>\n",
       "      <td>0.00</td>\n",
       "      <td>0.33</td>\n",
       "      <td>Россия</td>\n",
       "    </tr>\n",
       "    <tr>\n",
       "      <th>1448</th>\n",
       "      <td>Бесславные придурки</td>\n",
       "      <td>111003314</td>\n",
       "      <td>2014-03-28 12:00:00+00:00</td>\n",
       "      <td>Художественный</td>\n",
       "      <td>ООО \"Компания \"АТК-Студио\"</td>\n",
       "      <td>Россия</td>\n",
       "      <td>А.Якимчук</td>\n",
       "      <td>А.Тютрюмов</td>\n",
       "      <td>«12+» - для детей старше 12 лет</td>\n",
       "      <td>0.00</td>\n",
       "      <td>...</td>\n",
       "      <td>NaN</td>\n",
       "      <td>28,140.00</td>\n",
       "      <td>2014</td>\n",
       "      <td>А.Якимчук</td>\n",
       "      <td>NaN</td>\n",
       "      <td>26,000,000.00</td>\n",
       "      <td>0.70</td>\n",
       "      <td>0.00</td>\n",
       "      <td>0.70</td>\n",
       "      <td>Россия</td>\n",
       "    </tr>\n",
       "    <tr>\n",
       "      <th>1498</th>\n",
       "      <td>Невидимки</td>\n",
       "      <td>111004213</td>\n",
       "      <td>2013-09-10 12:00:00+00:00</td>\n",
       "      <td>Художественный</td>\n",
       "      <td>ООО \"Компания \"РЕАЛ-ДАКОТА\"</td>\n",
       "      <td>Россия</td>\n",
       "      <td>Р.Давлетьяров, С.Комаров</td>\n",
       "      <td>Р.Давлетьяров, А.Котелевский, А.Олейников</td>\n",
       "      <td>«12+» - для детей старше 12 лет</td>\n",
       "      <td>0.00</td>\n",
       "      <td>...</td>\n",
       "      <td>комедия,фантастика</td>\n",
       "      <td>19,957,031.50</td>\n",
       "      <td>2013</td>\n",
       "      <td>Р.Давлетьяров</td>\n",
       "      <td>комедия</td>\n",
       "      <td>107,847,945.00</td>\n",
       "      <td>0.61</td>\n",
       "      <td>0.00</td>\n",
       "      <td>0.61</td>\n",
       "      <td>Россия</td>\n",
       "    </tr>\n",
       "    <tr>\n",
       "      <th>1524</th>\n",
       "      <td>БЕРЦЫ</td>\n",
       "      <td>111004314</td>\n",
       "      <td>2014-05-05 12:00:00+00:00</td>\n",
       "      <td>Художественный</td>\n",
       "      <td>ООО \"Студия \"Пассажир\"</td>\n",
       "      <td>Россия</td>\n",
       "      <td>Е.Миндадзе (псевдоним Катя Шагалова)</td>\n",
       "      <td>Л.Антонова</td>\n",
       "      <td>«16+» - для детей старше 16 лет</td>\n",
       "      <td>0.00</td>\n",
       "      <td>...</td>\n",
       "      <td>драма</td>\n",
       "      <td>55,917.50</td>\n",
       "      <td>2014</td>\n",
       "      <td>Е.Миндадзе (псевдоним Катя Шагалова)</td>\n",
       "      <td>драма</td>\n",
       "      <td>28,000,000.00</td>\n",
       "      <td>0.69</td>\n",
       "      <td>0.00</td>\n",
       "      <td>0.69</td>\n",
       "      <td>Россия</td>\n",
       "    </tr>\n",
       "    <tr>\n",
       "      <th>1792</th>\n",
       "      <td>Братья Ч</td>\n",
       "      <td>111004414</td>\n",
       "      <td>2014-04-23 12:00:00+00:00</td>\n",
       "      <td>Художественный</td>\n",
       "      <td>ООО \"Студия \"Пассажир\"</td>\n",
       "      <td>Россия</td>\n",
       "      <td>М.Угаров</td>\n",
       "      <td>А.Миндадзе, Л.Антонова</td>\n",
       "      <td>«16+» - для детей старше 16 лет</td>\n",
       "      <td>0.00</td>\n",
       "      <td>...</td>\n",
       "      <td>драма</td>\n",
       "      <td>232,100.00</td>\n",
       "      <td>2014</td>\n",
       "      <td>М.Угаров</td>\n",
       "      <td>драма</td>\n",
       "      <td>25,000,000.00</td>\n",
       "      <td>0.62</td>\n",
       "      <td>0.00</td>\n",
       "      <td>0.62</td>\n",
       "      <td>Россия</td>\n",
       "    </tr>\n",
       "    <tr>\n",
       "      <th>1853</th>\n",
       "      <td>Тайна Сухаревой башни. Чародей равновесия</td>\n",
       "      <td>114000115</td>\n",
       "      <td>2015-02-18 12:00:00+00:00</td>\n",
       "      <td>Анимационный</td>\n",
       "      <td>ООО \"Студия \"Мастер-Фильм\"</td>\n",
       "      <td>Россия</td>\n",
       "      <td>С.Серегин</td>\n",
       "      <td>А.Герасимов</td>\n",
       "      <td>«6+» - для детей старше 6 лет</td>\n",
       "      <td>0.00</td>\n",
       "      <td>...</td>\n",
       "      <td>мультфильм,фэнтези,история</td>\n",
       "      <td>15,078,858.60</td>\n",
       "      <td>2015</td>\n",
       "      <td>С.Серегин</td>\n",
       "      <td>мультфильм</td>\n",
       "      <td>25,000,000.00</td>\n",
       "      <td>0.48</td>\n",
       "      <td>0.00</td>\n",
       "      <td>0.48</td>\n",
       "      <td>Россия</td>\n",
       "    </tr>\n",
       "    <tr>\n",
       "      <th>1869</th>\n",
       "      <td>А зори здесь тихие..._</td>\n",
       "      <td>111002915</td>\n",
       "      <td>2015-03-16 12:00:00+00:00</td>\n",
       "      <td>Художественный</td>\n",
       "      <td>ООО \"Компания \"Реал-Дакота\"</td>\n",
       "      <td>Россия</td>\n",
       "      <td>Р.Давлетьяров</td>\n",
       "      <td>NaN</td>\n",
       "      <td>«12+» - для детей старше 12 лет</td>\n",
       "      <td>50,000,000.00</td>\n",
       "      <td>...</td>\n",
       "      <td>драма,военный,история</td>\n",
       "      <td>249,166,767.70</td>\n",
       "      <td>2015</td>\n",
       "      <td>Р.Давлетьяров</td>\n",
       "      <td>драма</td>\n",
       "      <td>150,000,000.00</td>\n",
       "      <td>0.68</td>\n",
       "      <td>0.23</td>\n",
       "      <td>0.45</td>\n",
       "      <td>Россия</td>\n",
       "    </tr>\n",
       "    <tr>\n",
       "      <th>1870</th>\n",
       "      <td>Две женщины</td>\n",
       "      <td>111013714</td>\n",
       "      <td>2014-10-02 12:00:00+00:00</td>\n",
       "      <td>Художественный</td>\n",
       "      <td>ООО \"Продюсерский Центр \"Хорошо Продакшн\", Rez...</td>\n",
       "      <td>Россия,Франция,Латвия</td>\n",
       "      <td>В.Глаголева</td>\n",
       "      <td>Н.Иванова</td>\n",
       "      <td>«12+» - для детей старше 12 лет</td>\n",
       "      <td>0.00</td>\n",
       "      <td>...</td>\n",
       "      <td>драма</td>\n",
       "      <td>4,731,239.50</td>\n",
       "      <td>2014</td>\n",
       "      <td>В.Глаголева</td>\n",
       "      <td>драма</td>\n",
       "      <td>46,502,299.00</td>\n",
       "      <td>0.54</td>\n",
       "      <td>0.00</td>\n",
       "      <td>0.54</td>\n",
       "      <td>Россия</td>\n",
       "    </tr>\n",
       "    <tr>\n",
       "      <th>1902</th>\n",
       "      <td>Призрак_.</td>\n",
       "      <td>111001815</td>\n",
       "      <td>2015-03-02 12:00:00+00:00</td>\n",
       "      <td>Художественный</td>\n",
       "      <td>ООО \"Водород 2011\"</td>\n",
       "      <td>Россия</td>\n",
       "      <td>А.Войтинский</td>\n",
       "      <td>С.Сельянов</td>\n",
       "      <td>«6+» - для детей старше 6 лет</td>\n",
       "      <td>0.00</td>\n",
       "      <td>...</td>\n",
       "      <td>триллер,боевик,приключения</td>\n",
       "      <td>352,804,320.40</td>\n",
       "      <td>2015</td>\n",
       "      <td>А.Войтинский</td>\n",
       "      <td>триллер</td>\n",
       "      <td>75,000,000.00</td>\n",
       "      <td>0.54</td>\n",
       "      <td>0.00</td>\n",
       "      <td>0.54</td>\n",
       "      <td>Россия</td>\n",
       "    </tr>\n",
       "    <tr>\n",
       "      <th>1911</th>\n",
       "      <td>Ведьма .</td>\n",
       "      <td>111002215</td>\n",
       "      <td>2015-03-05 12:00:00+00:00</td>\n",
       "      <td>Художественный</td>\n",
       "      <td>ООО \"Кинокомпания \"Ракурс\"</td>\n",
       "      <td>Россия</td>\n",
       "      <td>Д.Федоров</td>\n",
       "      <td>В.Сидоренко</td>\n",
       "      <td>«16+» - для детей старше 16 лет</td>\n",
       "      <td>0.00</td>\n",
       "      <td>...</td>\n",
       "      <td>фэнтези,приключения,драма</td>\n",
       "      <td>51,907.50</td>\n",
       "      <td>2015</td>\n",
       "      <td>Д.Федоров</td>\n",
       "      <td>фэнтези</td>\n",
       "      <td>34,000,000.00</td>\n",
       "      <td>0.70</td>\n",
       "      <td>0.00</td>\n",
       "      <td>0.70</td>\n",
       "      <td>Россия</td>\n",
       "    </tr>\n",
       "  </tbody>\n",
       "</table>\n",
       "<p>10 rows × 24 columns</p>\n",
       "</div>"
      ],
      "text/plain": [
       "                                          title   puNumber  \\\n",
       "1281                              Пока еще жива  111005313   \n",
       "1448                        Бесславные придурки  111003314   \n",
       "1498                                  Невидимки  111004213   \n",
       "1524                                      БЕРЦЫ  111004314   \n",
       "1792                                   Братья Ч  111004414   \n",
       "1853  Тайна Сухаревой башни. Чародей равновесия  114000115   \n",
       "1869                     А зори здесь тихие..._  111002915   \n",
       "1870                                Две женщины  111013714   \n",
       "1902                                  Призрак_.  111001815   \n",
       "1911                                   Ведьма .  111002215   \n",
       "\n",
       "               show_start_date            type  \\\n",
       "1281 2013-10-11 12:00:00+00:00  Художественный   \n",
       "1448 2014-03-28 12:00:00+00:00  Художественный   \n",
       "1498 2013-09-10 12:00:00+00:00  Художественный   \n",
       "1524 2014-05-05 12:00:00+00:00  Художественный   \n",
       "1792 2014-04-23 12:00:00+00:00  Художественный   \n",
       "1853 2015-02-18 12:00:00+00:00    Анимационный   \n",
       "1869 2015-03-16 12:00:00+00:00  Художественный   \n",
       "1870 2014-10-02 12:00:00+00:00  Художественный   \n",
       "1902 2015-03-02 12:00:00+00:00  Художественный   \n",
       "1911 2015-03-05 12:00:00+00:00  Художественный   \n",
       "\n",
       "                                            film_studio  \\\n",
       "1281  АНО содействия развитию кинематографии \"Ангел-...   \n",
       "1448                         ООО \"Компания \"АТК-Студио\"   \n",
       "1498                        ООО \"Компания \"РЕАЛ-ДАКОТА\"   \n",
       "1524                             ООО \"Студия \"Пассажир\"   \n",
       "1792                             ООО \"Студия \"Пассажир\"   \n",
       "1853                        ООО \"Студия \"Мастер-Фильм\"    \n",
       "1869                        ООО \"Компания \"Реал-Дакота\"   \n",
       "1870  ООО \"Продюсерский Центр \"Хорошо Продакшн\", Rez...   \n",
       "1902                                 ООО \"Водород 2011\"   \n",
       "1911                         ООО \"Кинокомпания \"Ракурс\"   \n",
       "\n",
       "         production_country                              director  \\\n",
       "1281                 Россия                            А.Атанесян   \n",
       "1448                 Россия                             А.Якимчук   \n",
       "1498                 Россия              Р.Давлетьяров, С.Комаров   \n",
       "1524                 Россия  Е.Миндадзе (псевдоним Катя Шагалова)   \n",
       "1792                 Россия                              М.Угаров   \n",
       "1853                 Россия                             С.Серегин   \n",
       "1869                 Россия                         Р.Давлетьяров   \n",
       "1870  Россия,Франция,Латвия                           В.Глаголева   \n",
       "1902                 Россия                          А.Войтинский   \n",
       "1911                 Россия                             Д.Федоров   \n",
       "\n",
       "                                       producer  \\\n",
       "1281           А.Атанесян, М.Бабаханов, Р.Бутко   \n",
       "1448                                 А.Тютрюмов   \n",
       "1498  Р.Давлетьяров, А.Котелевский, А.Олейников   \n",
       "1524                                 Л.Антонова   \n",
       "1792                     А.Миндадзе, Л.Антонова   \n",
       "1853                                А.Герасимов   \n",
       "1869                                        NaN   \n",
       "1870                                  Н.Иванова   \n",
       "1902                                 С.Сельянов   \n",
       "1911                                В.Сидоренко   \n",
       "\n",
       "                      age_restriction  refundable_support  ...  \\\n",
       "1281  «16+» - для детей старше 16 лет                0.00  ...   \n",
       "1448  «12+» - для детей старше 12 лет                0.00  ...   \n",
       "1498  «12+» - для детей старше 12 лет                0.00  ...   \n",
       "1524  «16+» - для детей старше 16 лет                0.00  ...   \n",
       "1792  «16+» - для детей старше 16 лет                0.00  ...   \n",
       "1853    «6+» - для детей старше 6 лет                0.00  ...   \n",
       "1869  «12+» - для детей старше 12 лет       50,000,000.00  ...   \n",
       "1870  «12+» - для детей старше 12 лет                0.00  ...   \n",
       "1902    «6+» - для детей старше 6 лет                0.00  ...   \n",
       "1911  «16+» - для детей старше 16 лет                0.00  ...   \n",
       "\n",
       "                          genres     box_office  year  \\\n",
       "1281             драма,мелодрама     365,353.60  2013   \n",
       "1448                         NaN      28,140.00  2014   \n",
       "1498          комедия,фантастика  19,957,031.50  2013   \n",
       "1524                       драма      55,917.50  2014   \n",
       "1792                       драма     232,100.00  2014   \n",
       "1853  мультфильм,фэнтези,история  15,078,858.60  2015   \n",
       "1869       драма,военный,история 249,166,767.70  2015   \n",
       "1870                       драма   4,731,239.50  2014   \n",
       "1902  триллер,боевик,приключения 352,804,320.40  2015   \n",
       "1911   фэнтези,приключения,драма      51,907.50  2015   \n",
       "\n",
       "                             main_director  main_genre  total_support  \\\n",
       "1281                            А.Атанесян       драма  26,500,000.00   \n",
       "1448                             А.Якимчук         NaN  26,000,000.00   \n",
       "1498                         Р.Давлетьяров     комедия 107,847,945.00   \n",
       "1524  Е.Миндадзе (псевдоним Катя Шагалова)       драма  28,000,000.00   \n",
       "1792                              М.Угаров       драма  25,000,000.00   \n",
       "1853                             С.Серегин  мультфильм  25,000,000.00   \n",
       "1869                         Р.Давлетьяров       драма 150,000,000.00   \n",
       "1870                           В.Глаголева       драма  46,502,299.00   \n",
       "1902                          А.Войтинский     триллер  75,000,000.00   \n",
       "1911                             Д.Федоров     фэнтези  34,000,000.00   \n",
       "\n",
       "      %_total_support %_refundable_support %_nonrefundable_support  \\\n",
       "1281             0.33                 0.00                    0.33   \n",
       "1448             0.70                 0.00                    0.70   \n",
       "1498             0.61                 0.00                    0.61   \n",
       "1524             0.69                 0.00                    0.69   \n",
       "1792             0.62                 0.00                    0.62   \n",
       "1853             0.48                 0.00                    0.48   \n",
       "1869             0.68                 0.23                    0.45   \n",
       "1870             0.54                 0.00                    0.54   \n",
       "1902             0.54                 0.00                    0.54   \n",
       "1911             0.70                 0.00                    0.70   \n",
       "\n",
       "      country_first  \n",
       "1281         Россия  \n",
       "1448         Россия  \n",
       "1498         Россия  \n",
       "1524         Россия  \n",
       "1792         Россия  \n",
       "1853         Россия  \n",
       "1869         Россия  \n",
       "1870         Россия  \n",
       "1902         Россия  \n",
       "1911         Россия  \n",
       "\n",
       "[10 rows x 24 columns]"
      ]
     },
     "metadata": {},
     "output_type": "display_data"
    },
    {
     "name": "stdout",
     "output_type": "stream",
     "text": [
      "Кол-во прокатных удостоверний у фильмов с гос.поддержкой: 307\n",
      "Кол-во фильмов с гос.поддержкой: 307\n"
     ]
    }
   ],
   "source": [
    "# Создадим таблицу с данными по фильмам с гос.поддержкой:\n",
    "budget_movies=df.query('nonrefundable_support>=0')\n",
    "display(budget_movies.head(10))\n",
    "print('Кол-во прокатных удостоверний у фильмов с гос.поддержкой:', len(budget_movies['puNumber']))\n",
    "print('Кол-во фильмов с гос.поддержкой:', len(budget_movies['title'].unique()))"
   ]
  },
  {
   "cell_type": "code",
   "execution_count": 49,
   "metadata": {},
   "outputs": [
    {
     "data": {
      "text/html": [
       "<div>\n",
       "<style scoped>\n",
       "    .dataframe tbody tr th:only-of-type {\n",
       "        vertical-align: middle;\n",
       "    }\n",
       "\n",
       "    .dataframe tbody tr th {\n",
       "        vertical-align: top;\n",
       "    }\n",
       "\n",
       "    .dataframe thead th {\n",
       "        text-align: right;\n",
       "    }\n",
       "</style>\n",
       "<table border=\"1\" class=\"dataframe\">\n",
       "  <thead>\n",
       "    <tr style=\"text-align: right;\">\n",
       "      <th></th>\n",
       "      <th>title</th>\n",
       "      <th>puNumber</th>\n",
       "      <th>show_start_date</th>\n",
       "      <th>type</th>\n",
       "      <th>film_studio</th>\n",
       "      <th>production_country</th>\n",
       "      <th>director</th>\n",
       "      <th>producer</th>\n",
       "      <th>age_restriction</th>\n",
       "      <th>refundable_support</th>\n",
       "      <th>...</th>\n",
       "      <th>genres</th>\n",
       "      <th>box_office</th>\n",
       "      <th>year</th>\n",
       "      <th>main_director</th>\n",
       "      <th>main_genre</th>\n",
       "      <th>total_support</th>\n",
       "      <th>%_total_support</th>\n",
       "      <th>%_refundable_support</th>\n",
       "      <th>%_nonrefundable_support</th>\n",
       "      <th>country_first</th>\n",
       "    </tr>\n",
       "  </thead>\n",
       "  <tbody>\n",
       "    <tr>\n",
       "      <th>2799</th>\n",
       "      <td>Золотая рыбка (2015)</td>\n",
       "      <td>111018715</td>\n",
       "      <td>2015-10-29 12:00:00+00:00</td>\n",
       "      <td>Художественный</td>\n",
       "      <td>ООО \"Кинокомпания Дебют\"</td>\n",
       "      <td>Россия</td>\n",
       "      <td>А.Галибин</td>\n",
       "      <td>Б.Токарев</td>\n",
       "      <td>«12+» - для детей старше 12 лет</td>\n",
       "      <td>0.00</td>\n",
       "      <td>...</td>\n",
       "      <td>драма</td>\n",
       "      <td>NaN</td>\n",
       "      <td>2015</td>\n",
       "      <td>А.Галибин</td>\n",
       "      <td>драма</td>\n",
       "      <td>25,000,000.00</td>\n",
       "      <td>0.60</td>\n",
       "      <td>0.00</td>\n",
       "      <td>0.60</td>\n",
       "      <td>Россия</td>\n",
       "    </tr>\n",
       "    <tr>\n",
       "      <th>3336</th>\n",
       "      <td>Любовь и Сакс</td>\n",
       "      <td>111001217</td>\n",
       "      <td>2017-02-16 12:00:00+00:00</td>\n",
       "      <td>Художественный</td>\n",
       "      <td>ООО \"ДжемСтудия\"</td>\n",
       "      <td>Россия</td>\n",
       "      <td>А.Сурикова</td>\n",
       "      <td>А.Голутва</td>\n",
       "      <td>«12+» - для детей старше 12 лет</td>\n",
       "      <td>0.00</td>\n",
       "      <td>...</td>\n",
       "      <td>мелодрама</td>\n",
       "      <td>NaN</td>\n",
       "      <td>2017</td>\n",
       "      <td>А.Сурикова</td>\n",
       "      <td>мелодрама</td>\n",
       "      <td>10,000,000.00</td>\n",
       "      <td>0.16</td>\n",
       "      <td>0.00</td>\n",
       "      <td>0.16</td>\n",
       "      <td>Россия</td>\n",
       "    </tr>\n",
       "    <tr>\n",
       "      <th>3710</th>\n",
       "      <td>Колобанга. Только для пользователей Интернета ...</td>\n",
       "      <td>214010116</td>\n",
       "      <td>2016-10-06 12:00:00+00:00</td>\n",
       "      <td>Анимационный</td>\n",
       "      <td>ООО \"Колобанга\"</td>\n",
       "      <td>Россия</td>\n",
       "      <td>А.Романец</td>\n",
       "      <td>А.Ревва</td>\n",
       "      <td>«0+» - для любой зрительской аудитории</td>\n",
       "      <td>0.00</td>\n",
       "      <td>...</td>\n",
       "      <td>мультфильм,приключения,детектив</td>\n",
       "      <td>NaN</td>\n",
       "      <td>2016</td>\n",
       "      <td>А.Романец</td>\n",
       "      <td>мультфильм</td>\n",
       "      <td>11,520,000.00</td>\n",
       "      <td>0.62</td>\n",
       "      <td>0.00</td>\n",
       "      <td>0.62</td>\n",
       "      <td>Россия</td>\n",
       "    </tr>\n",
       "    <tr>\n",
       "      <th>5660</th>\n",
       "      <td>Детский юмористический киножурнал \"ЕРАЛАШ\", вы...</td>\n",
       "      <td>111011917</td>\n",
       "      <td>2017-12-26 12:00:00+00:00</td>\n",
       "      <td>Художественный</td>\n",
       "      <td>ООО \"Продюсерский центр ЕРАЛАШ\"</td>\n",
       "      <td>Россия</td>\n",
       "      <td>Е.Соколов, В.Панжев, Г.Курлаев, С.Морозов, М.С...</td>\n",
       "      <td>ООО \"Продюсерский центр ЕРАЛАШ\"</td>\n",
       "      <td>«0+» - для любой зрительской аудитории</td>\n",
       "      <td>0.00</td>\n",
       "      <td>...</td>\n",
       "      <td>детский,комедия</td>\n",
       "      <td>NaN</td>\n",
       "      <td>2017</td>\n",
       "      <td>Е.Соколов</td>\n",
       "      <td>детский</td>\n",
       "      <td>25,000,000.00</td>\n",
       "      <td>0.56</td>\n",
       "      <td>0.00</td>\n",
       "      <td>0.56</td>\n",
       "      <td>Россия</td>\n",
       "    </tr>\n",
       "    <tr>\n",
       "      <th>6475</th>\n",
       "      <td>Зима</td>\n",
       "      <td>111023518</td>\n",
       "      <td>2019-03-15 12:00:00+00:00</td>\n",
       "      <td>Художественный</td>\n",
       "      <td>ООО \"КиноТрест\"</td>\n",
       "      <td>Россия</td>\n",
       "      <td>С.Черников</td>\n",
       "      <td>З.Болотаев, А.Плотников, Н.Агеев, А.Горский, П...</td>\n",
       "      <td>«16+» - для детей старше 16 лет</td>\n",
       "      <td>0.00</td>\n",
       "      <td>...</td>\n",
       "      <td>драма,криминал</td>\n",
       "      <td>NaN</td>\n",
       "      <td>2019</td>\n",
       "      <td>С.Черников</td>\n",
       "      <td>драма</td>\n",
       "      <td>25,000,000.00</td>\n",
       "      <td>0.63</td>\n",
       "      <td>0.00</td>\n",
       "      <td>0.63</td>\n",
       "      <td>Россия</td>\n",
       "    </tr>\n",
       "    <tr>\n",
       "      <th>6708</th>\n",
       "      <td>Мальчик русский</td>\n",
       "      <td>111002619</td>\n",
       "      <td>2019-02-20 12:00:00+00:00</td>\n",
       "      <td>Художественный</td>\n",
       "      <td>АО \"Ленфильм\"</td>\n",
       "      <td>Россия</td>\n",
       "      <td>А.Золотухин</td>\n",
       "      <td>NaN</td>\n",
       "      <td>«12+» - для детей старше 12 лет</td>\n",
       "      <td>0.00</td>\n",
       "      <td>...</td>\n",
       "      <td>драма,военный,история</td>\n",
       "      <td>NaN</td>\n",
       "      <td>2019</td>\n",
       "      <td>А.Золотухин</td>\n",
       "      <td>драма</td>\n",
       "      <td>30,000,000.00</td>\n",
       "      <td>0.64</td>\n",
       "      <td>0.00</td>\n",
       "      <td>0.64</td>\n",
       "      <td>Россия</td>\n",
       "    </tr>\n",
       "    <tr>\n",
       "      <th>6967</th>\n",
       "      <td>Танец с саблями</td>\n",
       "      <td>111008619</td>\n",
       "      <td>2019-05-29 12:00:00+00:00</td>\n",
       "      <td>Художественный</td>\n",
       "      <td>ООО \"Кинокомпания Флагман\" по заказу ООО \"ММЕ\"</td>\n",
       "      <td>Россия</td>\n",
       "      <td>Ю.Разыков</td>\n",
       "      <td>Р.Дишдишян, ООО \"МАРС МЕДИА ЭНТЕРТЕЙНМЕНТ\"</td>\n",
       "      <td>«16+» - для детей старше 16 лет</td>\n",
       "      <td>0.00</td>\n",
       "      <td>...</td>\n",
       "      <td>драма,история,биография</td>\n",
       "      <td>NaN</td>\n",
       "      <td>2019</td>\n",
       "      <td>Ю.Разыков</td>\n",
       "      <td>драма</td>\n",
       "      <td>40,000,000.00</td>\n",
       "      <td>0.65</td>\n",
       "      <td>0.00</td>\n",
       "      <td>0.65</td>\n",
       "      <td>Россия</td>\n",
       "    </tr>\n",
       "    <tr>\n",
       "      <th>7008</th>\n",
       "      <td>Куратор</td>\n",
       "      <td>111010019</td>\n",
       "      <td>2019-06-13 12:00:00+00:00</td>\n",
       "      <td>Художественный</td>\n",
       "      <td>ООО \"Кинокомпания Атлантик\", 20 стэпс продакшнс</td>\n",
       "      <td>Россия,Грузия</td>\n",
       "      <td>П.Левченко</td>\n",
       "      <td>Е.Филиппова</td>\n",
       "      <td>«16+» - для детей старше 16 лет</td>\n",
       "      <td>0.00</td>\n",
       "      <td>...</td>\n",
       "      <td>драма,криминал,детектив</td>\n",
       "      <td>NaN</td>\n",
       "      <td>2019</td>\n",
       "      <td>П.Левченко</td>\n",
       "      <td>драма</td>\n",
       "      <td>25,000,000.00</td>\n",
       "      <td>0.41</td>\n",
       "      <td>0.00</td>\n",
       "      <td>0.41</td>\n",
       "      <td>Россия</td>\n",
       "    </tr>\n",
       "    <tr>\n",
       "      <th>7179</th>\n",
       "      <td>Байкал - Сердце мира 3D</td>\n",
       "      <td>112004619</td>\n",
       "      <td>2019-11-01 12:00:00+00:00</td>\n",
       "      <td>Документальный</td>\n",
       "      <td>ООО \"Продюсерский центр \"Новое Время\"</td>\n",
       "      <td>Россия</td>\n",
       "      <td>А.Попова</td>\n",
       "      <td>И.Добровольский, А.Разуваева, Ю.Перкуль</td>\n",
       "      <td>«0+» - для любой зрительской аудитории</td>\n",
       "      <td>0.00</td>\n",
       "      <td>...</td>\n",
       "      <td>семейный</td>\n",
       "      <td>NaN</td>\n",
       "      <td>2019</td>\n",
       "      <td>А.Попова</td>\n",
       "      <td>семейный</td>\n",
       "      <td>3,000,000.00</td>\n",
       "      <td>0.09</td>\n",
       "      <td>0.00</td>\n",
       "      <td>0.09</td>\n",
       "      <td>Россия</td>\n",
       "    </tr>\n",
       "    <tr>\n",
       "      <th>7228</th>\n",
       "      <td>На Луне</td>\n",
       "      <td>111015519</td>\n",
       "      <td>2019-11-01 12:00:00+00:00</td>\n",
       "      <td>Художественный</td>\n",
       "      <td>ООО \"Киностудия \"ВЕРТИКАЛЬ\"</td>\n",
       "      <td>Россия</td>\n",
       "      <td>Е.Михалков-Кончаловский</td>\n",
       "      <td>С.Говорухин, Е.Маскина</td>\n",
       "      <td>«16+» - для детей старше 16 лет</td>\n",
       "      <td>0.00</td>\n",
       "      <td>...</td>\n",
       "      <td>приключения,триллер</td>\n",
       "      <td>NaN</td>\n",
       "      <td>2019</td>\n",
       "      <td>Е.Михалков-Кончаловский</td>\n",
       "      <td>приключения</td>\n",
       "      <td>35,000,000.00</td>\n",
       "      <td>0.60</td>\n",
       "      <td>0.00</td>\n",
       "      <td>0.60</td>\n",
       "      <td>Россия</td>\n",
       "    </tr>\n",
       "    <tr>\n",
       "      <th>7343</th>\n",
       "      <td>Кроличья лапа</td>\n",
       "      <td>111018919</td>\n",
       "      <td>2019-11-20 12:00:00+00:00</td>\n",
       "      <td>Художественный</td>\n",
       "      <td>ООО \"Зебра\", \"Артемис\", \"Гринлит\"</td>\n",
       "      <td>Россия,Бельгия,Финляндия</td>\n",
       "      <td>Н.Джорджадзе</td>\n",
       "      <td>Ю.Соболевская</td>\n",
       "      <td>«16+» - для детей старше 16 лет</td>\n",
       "      <td>0.00</td>\n",
       "      <td>...</td>\n",
       "      <td>NaN</td>\n",
       "      <td>NaN</td>\n",
       "      <td>2019</td>\n",
       "      <td>Н.Джорджадзе</td>\n",
       "      <td>NaN</td>\n",
       "      <td>30,000,000.00</td>\n",
       "      <td>0.63</td>\n",
       "      <td>0.00</td>\n",
       "      <td>0.63</td>\n",
       "      <td>Россия</td>\n",
       "    </tr>\n",
       "    <tr>\n",
       "      <th>7473</th>\n",
       "      <td>Вторжение</td>\n",
       "      <td>111022519</td>\n",
       "      <td>2019-12-23 12:00:00+00:00</td>\n",
       "      <td>Художественный</td>\n",
       "      <td>ООО \"Арт Пикчерс Студия\", ООО \"Водород 2011\"</td>\n",
       "      <td>Россия</td>\n",
       "      <td>Ф.Бондарчук</td>\n",
       "      <td>Ф.Бондарчук, М.Врубель, А.Андрющенко, Д.Рудовский</td>\n",
       "      <td>«12+» - для детей старше 12 лет</td>\n",
       "      <td>100,000,000.00</td>\n",
       "      <td>...</td>\n",
       "      <td>фантастика,боевик</td>\n",
       "      <td>NaN</td>\n",
       "      <td>2019</td>\n",
       "      <td>Ф.Бондарчук</td>\n",
       "      <td>фантастика</td>\n",
       "      <td>500,000,000.00</td>\n",
       "      <td>0.53</td>\n",
       "      <td>0.11</td>\n",
       "      <td>0.42</td>\n",
       "      <td>Россия</td>\n",
       "    </tr>\n",
       "    <tr>\n",
       "      <th>7475</th>\n",
       "      <td>Я свободен</td>\n",
       "      <td>111023019</td>\n",
       "      <td>2019-12-26 12:00:00+00:00</td>\n",
       "      <td>Художественный</td>\n",
       "      <td>АО \"ТПО \"Киностудия им. М.Горького\"</td>\n",
       "      <td>Россия</td>\n",
       "      <td>И.Северов</td>\n",
       "      <td>С.Зернов</td>\n",
       "      <td>«12+» - для детей старше 12 лет</td>\n",
       "      <td>0.00</td>\n",
       "      <td>...</td>\n",
       "      <td>драма</td>\n",
       "      <td>NaN</td>\n",
       "      <td>2019</td>\n",
       "      <td>И.Северов</td>\n",
       "      <td>драма</td>\n",
       "      <td>30,000,000.00</td>\n",
       "      <td>0.65</td>\n",
       "      <td>0.00</td>\n",
       "      <td>0.65</td>\n",
       "      <td>Россия</td>\n",
       "    </tr>\n",
       "    <tr>\n",
       "      <th>7477</th>\n",
       "      <td>(Не)идеальный мужчина</td>\n",
       "      <td>111023119</td>\n",
       "      <td>2019-12-24 12:00:00+00:00</td>\n",
       "      <td>Художественный</td>\n",
       "      <td>ООО \"Нон-Стоп Продакшн\"</td>\n",
       "      <td>Россия</td>\n",
       "      <td>М.Бальчюнас (псевдоним М.Вайсберг)</td>\n",
       "      <td>С.Мелькумов, А.Роднянский, М.Вайсберг, Р.Минас...</td>\n",
       "      <td>«12+» - для детей старше 12 лет</td>\n",
       "      <td>40,000,000.00</td>\n",
       "      <td>...</td>\n",
       "      <td>комедия,фантастика,мелодрама</td>\n",
       "      <td>NaN</td>\n",
       "      <td>2019</td>\n",
       "      <td>М.Бальчюнас (псевдоним М.Вайсберг)</td>\n",
       "      <td>комедия</td>\n",
       "      <td>100,000,000.00</td>\n",
       "      <td>0.67</td>\n",
       "      <td>0.27</td>\n",
       "      <td>0.40</td>\n",
       "      <td>Россия</td>\n",
       "    </tr>\n",
       "  </tbody>\n",
       "</table>\n",
       "<p>14 rows × 24 columns</p>\n",
       "</div>"
      ],
      "text/plain": [
       "                                                  title   puNumber  \\\n",
       "2799                               Золотая рыбка (2015)  111018715   \n",
       "3336                                      Любовь и Сакс  111001217   \n",
       "3710  Колобанга. Только для пользователей Интернета ...  214010116   \n",
       "5660  Детский юмористический киножурнал \"ЕРАЛАШ\", вы...  111011917   \n",
       "6475                                               Зима  111023518   \n",
       "6708                                    Мальчик русский  111002619   \n",
       "6967                                    Танец с саблями  111008619   \n",
       "7008                                            Куратор  111010019   \n",
       "7179                            Байкал - Сердце мира 3D  112004619   \n",
       "7228                                            На Луне  111015519   \n",
       "7343                                      Кроличья лапа  111018919   \n",
       "7473                                          Вторжение  111022519   \n",
       "7475                                         Я свободен  111023019   \n",
       "7477                              (Не)идеальный мужчина  111023119   \n",
       "\n",
       "               show_start_date            type  \\\n",
       "2799 2015-10-29 12:00:00+00:00  Художественный   \n",
       "3336 2017-02-16 12:00:00+00:00  Художественный   \n",
       "3710 2016-10-06 12:00:00+00:00    Анимационный   \n",
       "5660 2017-12-26 12:00:00+00:00  Художественный   \n",
       "6475 2019-03-15 12:00:00+00:00  Художественный   \n",
       "6708 2019-02-20 12:00:00+00:00  Художественный   \n",
       "6967 2019-05-29 12:00:00+00:00  Художественный   \n",
       "7008 2019-06-13 12:00:00+00:00  Художественный   \n",
       "7179 2019-11-01 12:00:00+00:00  Документальный   \n",
       "7228 2019-11-01 12:00:00+00:00  Художественный   \n",
       "7343 2019-11-20 12:00:00+00:00  Художественный   \n",
       "7473 2019-12-23 12:00:00+00:00  Художественный   \n",
       "7475 2019-12-26 12:00:00+00:00  Художественный   \n",
       "7477 2019-12-24 12:00:00+00:00  Художественный   \n",
       "\n",
       "                                          film_studio  \\\n",
       "2799                         ООО \"Кинокомпания Дебют\"   \n",
       "3336                                 ООО \"ДжемСтудия\"   \n",
       "3710                                  ООО \"Колобанга\"   \n",
       "5660                  ООО \"Продюсерский центр ЕРАЛАШ\"   \n",
       "6475                                  ООО \"КиноТрест\"   \n",
       "6708                                    АО \"Ленфильм\"   \n",
       "6967   ООО \"Кинокомпания Флагман\" по заказу ООО \"ММЕ\"   \n",
       "7008  ООО \"Кинокомпания Атлантик\", 20 стэпс продакшнс   \n",
       "7179            ООО \"Продюсерский центр \"Новое Время\"   \n",
       "7228                      ООО \"Киностудия \"ВЕРТИКАЛЬ\"   \n",
       "7343                ООО \"Зебра\", \"Артемис\", \"Гринлит\"   \n",
       "7473     ООО \"Арт Пикчерс Студия\", ООО \"Водород 2011\"   \n",
       "7475              АО \"ТПО \"Киностудия им. М.Горького\"   \n",
       "7477                         ООО \"Нон-Стоп Продакшн\"    \n",
       "\n",
       "            production_country  \\\n",
       "2799                    Россия   \n",
       "3336                    Россия   \n",
       "3710                    Россия   \n",
       "5660                    Россия   \n",
       "6475                    Россия   \n",
       "6708                    Россия   \n",
       "6967                    Россия   \n",
       "7008             Россия,Грузия   \n",
       "7179                    Россия   \n",
       "7228                    Россия   \n",
       "7343  Россия,Бельгия,Финляндия   \n",
       "7473                    Россия   \n",
       "7475                    Россия   \n",
       "7477                    Россия   \n",
       "\n",
       "                                               director  \\\n",
       "2799                                          А.Галибин   \n",
       "3336                                         А.Сурикова   \n",
       "3710                                          А.Романец   \n",
       "5660  Е.Соколов, В.Панжев, Г.Курлаев, С.Морозов, М.С...   \n",
       "6475                                         С.Черников   \n",
       "6708                                        А.Золотухин   \n",
       "6967                                          Ю.Разыков   \n",
       "7008                                         П.Левченко   \n",
       "7179                                           А.Попова   \n",
       "7228                            Е.Михалков-Кончаловский   \n",
       "7343                                       Н.Джорджадзе   \n",
       "7473                                        Ф.Бондарчук   \n",
       "7475                                          И.Северов   \n",
       "7477                 М.Бальчюнас (псевдоним М.Вайсберг)   \n",
       "\n",
       "                                               producer  \\\n",
       "2799                                          Б.Токарев   \n",
       "3336                                          А.Голутва   \n",
       "3710                                            А.Ревва   \n",
       "5660                    ООО \"Продюсерский центр ЕРАЛАШ\"   \n",
       "6475  З.Болотаев, А.Плотников, Н.Агеев, А.Горский, П...   \n",
       "6708                                                NaN   \n",
       "6967         Р.Дишдишян, ООО \"МАРС МЕДИА ЭНТЕРТЕЙНМЕНТ\"   \n",
       "7008                                        Е.Филиппова   \n",
       "7179            И.Добровольский, А.Разуваева, Ю.Перкуль   \n",
       "7228                             С.Говорухин, Е.Маскина   \n",
       "7343                                      Ю.Соболевская   \n",
       "7473  Ф.Бондарчук, М.Врубель, А.Андрющенко, Д.Рудовский   \n",
       "7475                                           С.Зернов   \n",
       "7477  С.Мелькумов, А.Роднянский, М.Вайсберг, Р.Минас...   \n",
       "\n",
       "                             age_restriction  refundable_support  ...  \\\n",
       "2799         «12+» - для детей старше 12 лет                0.00  ...   \n",
       "3336         «12+» - для детей старше 12 лет                0.00  ...   \n",
       "3710  «0+» - для любой зрительской аудитории                0.00  ...   \n",
       "5660  «0+» - для любой зрительской аудитории                0.00  ...   \n",
       "6475         «16+» - для детей старше 16 лет                0.00  ...   \n",
       "6708         «12+» - для детей старше 12 лет                0.00  ...   \n",
       "6967         «16+» - для детей старше 16 лет                0.00  ...   \n",
       "7008         «16+» - для детей старше 16 лет                0.00  ...   \n",
       "7179  «0+» - для любой зрительской аудитории                0.00  ...   \n",
       "7228         «16+» - для детей старше 16 лет                0.00  ...   \n",
       "7343         «16+» - для детей старше 16 лет                0.00  ...   \n",
       "7473         «12+» - для детей старше 12 лет      100,000,000.00  ...   \n",
       "7475         «12+» - для детей старше 12 лет                0.00  ...   \n",
       "7477         «12+» - для детей старше 12 лет       40,000,000.00  ...   \n",
       "\n",
       "                               genres  box_office  year  \\\n",
       "2799                            драма         NaN  2015   \n",
       "3336                        мелодрама         NaN  2017   \n",
       "3710  мультфильм,приключения,детектив         NaN  2016   \n",
       "5660                  детский,комедия         NaN  2017   \n",
       "6475                   драма,криминал         NaN  2019   \n",
       "6708            драма,военный,история         NaN  2019   \n",
       "6967          драма,история,биография         NaN  2019   \n",
       "7008          драма,криминал,детектив         NaN  2019   \n",
       "7179                         семейный         NaN  2019   \n",
       "7228              приключения,триллер         NaN  2019   \n",
       "7343                              NaN         NaN  2019   \n",
       "7473                фантастика,боевик         NaN  2019   \n",
       "7475                            драма         NaN  2019   \n",
       "7477     комедия,фантастика,мелодрама         NaN  2019   \n",
       "\n",
       "                           main_director   main_genre  total_support  \\\n",
       "2799                           А.Галибин        драма  25,000,000.00   \n",
       "3336                          А.Сурикова    мелодрама  10,000,000.00   \n",
       "3710                           А.Романец   мультфильм  11,520,000.00   \n",
       "5660                           Е.Соколов      детский  25,000,000.00   \n",
       "6475                          С.Черников        драма  25,000,000.00   \n",
       "6708                         А.Золотухин        драма  30,000,000.00   \n",
       "6967                           Ю.Разыков        драма  40,000,000.00   \n",
       "7008                          П.Левченко        драма  25,000,000.00   \n",
       "7179                            А.Попова     семейный   3,000,000.00   \n",
       "7228             Е.Михалков-Кончаловский  приключения  35,000,000.00   \n",
       "7343                        Н.Джорджадзе          NaN  30,000,000.00   \n",
       "7473                         Ф.Бондарчук   фантастика 500,000,000.00   \n",
       "7475                           И.Северов        драма  30,000,000.00   \n",
       "7477  М.Бальчюнас (псевдоним М.Вайсберг)      комедия 100,000,000.00   \n",
       "\n",
       "      %_total_support %_refundable_support %_nonrefundable_support  \\\n",
       "2799             0.60                 0.00                    0.60   \n",
       "3336             0.16                 0.00                    0.16   \n",
       "3710             0.62                 0.00                    0.62   \n",
       "5660             0.56                 0.00                    0.56   \n",
       "6475             0.63                 0.00                    0.63   \n",
       "6708             0.64                 0.00                    0.64   \n",
       "6967             0.65                 0.00                    0.65   \n",
       "7008             0.41                 0.00                    0.41   \n",
       "7179             0.09                 0.00                    0.09   \n",
       "7228             0.60                 0.00                    0.60   \n",
       "7343             0.63                 0.00                    0.63   \n",
       "7473             0.53                 0.11                    0.42   \n",
       "7475             0.65                 0.00                    0.65   \n",
       "7477             0.67                 0.27                    0.40   \n",
       "\n",
       "      country_first  \n",
       "2799         Россия  \n",
       "3336         Россия  \n",
       "3710         Россия  \n",
       "5660         Россия  \n",
       "6475         Россия  \n",
       "6708         Россия  \n",
       "6967         Россия  \n",
       "7008         Россия  \n",
       "7179         Россия  \n",
       "7228         Россия  \n",
       "7343         Россия  \n",
       "7473         Россия  \n",
       "7475         Россия  \n",
       "7477         Россия  \n",
       "\n",
       "[14 rows x 24 columns]"
      ]
     },
     "execution_count": 49,
     "metadata": {},
     "output_type": "execute_result"
    }
   ],
   "source": [
    "#Выясним у каких фильмов нет данных о кассе\n",
    "\n",
    "budget_movies[budget_movies['box_office'].isna()]"
   ]
  },
  {
   "cell_type": "markdown",
   "metadata": {},
   "source": [
    "У нас 14 фильмов без данных о сборах. Попробуем найти значения на кинопоиске"
   ]
  },
  {
   "cell_type": "markdown",
   "metadata": {},
   "source": [
    "**Я нашел данные по сборам только на следующие ильмы. Возьмем средний курс доллара за 68 рублей и посчитаем кассу:**\n",
    "- **Любовь и Сакс** - данных нет.Удаляем\n",
    "- **Колобанга** данных нет.Удаляем\n",
    "- **Детский юмористический киножурнал \"ЕРАЛАШ\", выпуски 312-323** - данных нет.Удаляем\n",
    "- **Зима**- сборы 21743  = 1 478 524 руб\n",
    "- **Мальчик русский (2018)** - сборы 29398  = 1 999 064 руб\n",
    "- **Танец с саблями (2018)** - сборы 43011  = 2 924 748 руб\n",
    "- **Куратор (2019)** - сборы 2382 = 161976 руб\n",
    "- **Байкал - Сердце мира 3D** -сборы 235 737 = 16 030 116 руб\n",
    "- **На Луне (2019)** - сборы 27190 = 1 848 920 руб\n",
    "- **Кроличья лапа (2019)** -сборы 14985 = 1 018 980 руб\n",
    "- **Вторжение (2019)** - сборы 32 649 672 = 2 220 177 696 руб\n",
    "- **Я свободен (2019)**- данных нет.Удаляем\n",
    "- **(НЕ)идеальный мужчина (2019**) - сборы 15 767 966  = 1 072 221 688 руб"
   ]
  },
  {
   "cell_type": "code",
   "execution_count": 50,
   "metadata": {},
   "outputs": [
    {
     "data": {
      "text/html": [
       "<div>\n",
       "<style scoped>\n",
       "    .dataframe tbody tr th:only-of-type {\n",
       "        vertical-align: middle;\n",
       "    }\n",
       "\n",
       "    .dataframe tbody tr th {\n",
       "        vertical-align: top;\n",
       "    }\n",
       "\n",
       "    .dataframe thead th {\n",
       "        text-align: right;\n",
       "    }\n",
       "</style>\n",
       "<table border=\"1\" class=\"dataframe\">\n",
       "  <thead>\n",
       "    <tr style=\"text-align: right;\">\n",
       "      <th></th>\n",
       "      <th>title</th>\n",
       "      <th>puNumber</th>\n",
       "      <th>show_start_date</th>\n",
       "      <th>type</th>\n",
       "      <th>film_studio</th>\n",
       "      <th>production_country</th>\n",
       "      <th>director</th>\n",
       "      <th>producer</th>\n",
       "      <th>age_restriction</th>\n",
       "      <th>refundable_support</th>\n",
       "      <th>...</th>\n",
       "      <th>genres</th>\n",
       "      <th>box_office</th>\n",
       "      <th>year</th>\n",
       "      <th>main_director</th>\n",
       "      <th>main_genre</th>\n",
       "      <th>total_support</th>\n",
       "      <th>%_total_support</th>\n",
       "      <th>%_refundable_support</th>\n",
       "      <th>%_nonrefundable_support</th>\n",
       "      <th>country_first</th>\n",
       "    </tr>\n",
       "  </thead>\n",
       "  <tbody>\n",
       "  </tbody>\n",
       "</table>\n",
       "<p>0 rows × 24 columns</p>\n",
       "</div>"
      ],
      "text/plain": [
       "Empty DataFrame\n",
       "Columns: [title, puNumber, show_start_date, type, film_studio, production_country, director, producer, age_restriction, refundable_support, nonrefundable_support, budget, financing_source, ratings, genres, box_office, year, main_director, main_genre, total_support, %_total_support, %_refundable_support, %_nonrefundable_support, country_first]\n",
       "Index: []\n",
       "\n",
       "[0 rows x 24 columns]"
      ]
     },
     "execution_count": 50,
     "metadata": {},
     "output_type": "execute_result"
    }
   ],
   "source": [
    "budget_movies = budget_movies.drop(index=[2799])\n",
    "budget_movies = budget_movies.drop(index=[3336])\n",
    "budget_movies = budget_movies.drop(index=[3710])\n",
    "budget_movies = budget_movies.drop(index=[5660])\n",
    "budget_movies.loc[6475, 'box_office'] = 1478524\n",
    "budget_movies.loc[6708, 'box_office'] = 1999064\n",
    "budget_movies.loc[6967, 'box_office'] = 2924748\n",
    "budget_movies.loc[7008, 'box_office'] = 161976\n",
    "budget_movies.loc[7179, 'box_office'] = 16030116\n",
    "budget_movies.loc[7228, 'box_office'] = 1848920\n",
    "budget_movies.loc[7343, 'box_office'] = 1018980\n",
    "budget_movies.loc[7473, 'box_office'] = 2220177696\n",
    "budget_movies = budget_movies.drop(index=[7475])\n",
    "budget_movies.loc[7477, 'box_office'] = 1072221688\n",
    "budget_movies = budget_movies.reset_index(drop=True)\n",
    "budget_movies[budget_movies['box_office'].isna()]"
   ]
  },
  {
   "cell_type": "markdown",
   "metadata": {},
   "source": [
    "Создадим два столбца,\n",
    "total_support - сумма государственной поддержки(возвратная и невозвратная части);\n",
    "profit - прибыль или убыток от релиза киноленты (касса минус бюджет)."
   ]
  },
  {
   "cell_type": "code",
   "execution_count": 51,
   "metadata": {},
   "outputs": [
    {
     "data": {
      "text/html": [
       "<div>\n",
       "<style scoped>\n",
       "    .dataframe tbody tr th:only-of-type {\n",
       "        vertical-align: middle;\n",
       "    }\n",
       "\n",
       "    .dataframe tbody tr th {\n",
       "        vertical-align: top;\n",
       "    }\n",
       "\n",
       "    .dataframe thead th {\n",
       "        text-align: right;\n",
       "    }\n",
       "</style>\n",
       "<table border=\"1\" class=\"dataframe\">\n",
       "  <thead>\n",
       "    <tr style=\"text-align: right;\">\n",
       "      <th></th>\n",
       "      <th>title</th>\n",
       "      <th>puNumber</th>\n",
       "      <th>show_start_date</th>\n",
       "      <th>type</th>\n",
       "      <th>film_studio</th>\n",
       "      <th>production_country</th>\n",
       "      <th>director</th>\n",
       "      <th>producer</th>\n",
       "      <th>age_restriction</th>\n",
       "      <th>refundable_support</th>\n",
       "      <th>...</th>\n",
       "      <th>box_office</th>\n",
       "      <th>year</th>\n",
       "      <th>main_director</th>\n",
       "      <th>main_genre</th>\n",
       "      <th>total_support</th>\n",
       "      <th>%_total_support</th>\n",
       "      <th>%_refundable_support</th>\n",
       "      <th>%_nonrefundable_support</th>\n",
       "      <th>country_first</th>\n",
       "      <th>profit</th>\n",
       "    </tr>\n",
       "  </thead>\n",
       "  <tbody>\n",
       "    <tr>\n",
       "      <th>0</th>\n",
       "      <td>Пока еще жива</td>\n",
       "      <td>111005313</td>\n",
       "      <td>2013-10-11 12:00:00+00:00</td>\n",
       "      <td>Художественный</td>\n",
       "      <td>АНО содействия развитию кинематографии \"Ангел-...</td>\n",
       "      <td>Россия</td>\n",
       "      <td>А.Атанесян</td>\n",
       "      <td>А.Атанесян, М.Бабаханов, Р.Бутко</td>\n",
       "      <td>«16+» - для детей старше 16 лет</td>\n",
       "      <td>0.00</td>\n",
       "      <td>...</td>\n",
       "      <td>365,353.60</td>\n",
       "      <td>2013</td>\n",
       "      <td>А.Атанесян</td>\n",
       "      <td>драма</td>\n",
       "      <td>26,500,000.00</td>\n",
       "      <td>0.33</td>\n",
       "      <td>0.00</td>\n",
       "      <td>0.33</td>\n",
       "      <td>Россия</td>\n",
       "      <td>-79,046,546.40</td>\n",
       "    </tr>\n",
       "    <tr>\n",
       "      <th>1</th>\n",
       "      <td>Бесславные придурки</td>\n",
       "      <td>111003314</td>\n",
       "      <td>2014-03-28 12:00:00+00:00</td>\n",
       "      <td>Художественный</td>\n",
       "      <td>ООО \"Компания \"АТК-Студио\"</td>\n",
       "      <td>Россия</td>\n",
       "      <td>А.Якимчук</td>\n",
       "      <td>А.Тютрюмов</td>\n",
       "      <td>«12+» - для детей старше 12 лет</td>\n",
       "      <td>0.00</td>\n",
       "      <td>...</td>\n",
       "      <td>28,140.00</td>\n",
       "      <td>2014</td>\n",
       "      <td>А.Якимчук</td>\n",
       "      <td>NaN</td>\n",
       "      <td>26,000,000.00</td>\n",
       "      <td>0.70</td>\n",
       "      <td>0.00</td>\n",
       "      <td>0.70</td>\n",
       "      <td>Россия</td>\n",
       "      <td>-37,114,717.00</td>\n",
       "    </tr>\n",
       "    <tr>\n",
       "      <th>2</th>\n",
       "      <td>Невидимки</td>\n",
       "      <td>111004213</td>\n",
       "      <td>2013-09-10 12:00:00+00:00</td>\n",
       "      <td>Художественный</td>\n",
       "      <td>ООО \"Компания \"РЕАЛ-ДАКОТА\"</td>\n",
       "      <td>Россия</td>\n",
       "      <td>Р.Давлетьяров, С.Комаров</td>\n",
       "      <td>Р.Давлетьяров, А.Котелевский, А.Олейников</td>\n",
       "      <td>«12+» - для детей старше 12 лет</td>\n",
       "      <td>0.00</td>\n",
       "      <td>...</td>\n",
       "      <td>19,957,031.50</td>\n",
       "      <td>2013</td>\n",
       "      <td>Р.Давлетьяров</td>\n",
       "      <td>комедия</td>\n",
       "      <td>107,847,945.00</td>\n",
       "      <td>0.61</td>\n",
       "      <td>0.00</td>\n",
       "      <td>0.61</td>\n",
       "      <td>Россия</td>\n",
       "      <td>-156,066,458.50</td>\n",
       "    </tr>\n",
       "    <tr>\n",
       "      <th>3</th>\n",
       "      <td>БЕРЦЫ</td>\n",
       "      <td>111004314</td>\n",
       "      <td>2014-05-05 12:00:00+00:00</td>\n",
       "      <td>Художественный</td>\n",
       "      <td>ООО \"Студия \"Пассажир\"</td>\n",
       "      <td>Россия</td>\n",
       "      <td>Е.Миндадзе (псевдоним Катя Шагалова)</td>\n",
       "      <td>Л.Антонова</td>\n",
       "      <td>«16+» - для детей старше 16 лет</td>\n",
       "      <td>0.00</td>\n",
       "      <td>...</td>\n",
       "      <td>55,917.50</td>\n",
       "      <td>2014</td>\n",
       "      <td>Е.Миндадзе (псевдоним Катя Шагалова)</td>\n",
       "      <td>драма</td>\n",
       "      <td>28,000,000.00</td>\n",
       "      <td>0.69</td>\n",
       "      <td>0.00</td>\n",
       "      <td>0.69</td>\n",
       "      <td>Россия</td>\n",
       "      <td>-40,518,222.50</td>\n",
       "    </tr>\n",
       "    <tr>\n",
       "      <th>4</th>\n",
       "      <td>Братья Ч</td>\n",
       "      <td>111004414</td>\n",
       "      <td>2014-04-23 12:00:00+00:00</td>\n",
       "      <td>Художественный</td>\n",
       "      <td>ООО \"Студия \"Пассажир\"</td>\n",
       "      <td>Россия</td>\n",
       "      <td>М.Угаров</td>\n",
       "      <td>А.Миндадзе, Л.Антонова</td>\n",
       "      <td>«16+» - для детей старше 16 лет</td>\n",
       "      <td>0.00</td>\n",
       "      <td>...</td>\n",
       "      <td>232,100.00</td>\n",
       "      <td>2014</td>\n",
       "      <td>М.Угаров</td>\n",
       "      <td>драма</td>\n",
       "      <td>25,000,000.00</td>\n",
       "      <td>0.62</td>\n",
       "      <td>0.00</td>\n",
       "      <td>0.62</td>\n",
       "      <td>Россия</td>\n",
       "      <td>-39,783,022.00</td>\n",
       "    </tr>\n",
       "    <tr>\n",
       "      <th>...</th>\n",
       "      <td>...</td>\n",
       "      <td>...</td>\n",
       "      <td>...</td>\n",
       "      <td>...</td>\n",
       "      <td>...</td>\n",
       "      <td>...</td>\n",
       "      <td>...</td>\n",
       "      <td>...</td>\n",
       "      <td>...</td>\n",
       "      <td>...</td>\n",
       "      <td>...</td>\n",
       "      <td>...</td>\n",
       "      <td>...</td>\n",
       "      <td>...</td>\n",
       "      <td>...</td>\n",
       "      <td>...</td>\n",
       "      <td>...</td>\n",
       "      <td>...</td>\n",
       "      <td>...</td>\n",
       "      <td>...</td>\n",
       "      <td>...</td>\n",
       "    </tr>\n",
       "    <tr>\n",
       "      <th>297</th>\n",
       "      <td>Фиксики против кработов</td>\n",
       "      <td>114004819</td>\n",
       "      <td>2019-12-21 12:00:00+00:00</td>\n",
       "      <td>Анимационный</td>\n",
       "      <td>АО \"Аэроплан\"</td>\n",
       "      <td>Россия</td>\n",
       "      <td>В.Бедошвили, О.Ужинов, И.Пшонкин, Д.Цыбулькин</td>\n",
       "      <td>Г.Васильев, С.Саркисов, И.Попов</td>\n",
       "      <td>«6+» - для детей старше 6 лет</td>\n",
       "      <td>80,000,000.00</td>\n",
       "      <td>...</td>\n",
       "      <td>387,590,521.72</td>\n",
       "      <td>2019</td>\n",
       "      <td>В.Бедошвили</td>\n",
       "      <td>мультфильм</td>\n",
       "      <td>120,000,000.00</td>\n",
       "      <td>0.44</td>\n",
       "      <td>0.30</td>\n",
       "      <td>0.15</td>\n",
       "      <td>Россия</td>\n",
       "      <td>117,590,521.72</td>\n",
       "    </tr>\n",
       "    <tr>\n",
       "      <th>298</th>\n",
       "      <td>Холоп</td>\n",
       "      <td>111021719</td>\n",
       "      <td>2019-12-19 12:00:00+00:00</td>\n",
       "      <td>Художественный</td>\n",
       "      <td>ООО \"МЕМ-МЕДИА\" по заказу АО \"ВБД Груп\"</td>\n",
       "      <td>Россия</td>\n",
       "      <td>К.Шипенко</td>\n",
       "      <td>Э.Илоян, Д.Жалинский, В.Дусмухаметов, Т.Бадзие...</td>\n",
       "      <td>«12+» - для детей старше 12 лет</td>\n",
       "      <td>25,000,000.00</td>\n",
       "      <td>...</td>\n",
       "      <td>3,073,568,690.79</td>\n",
       "      <td>2019</td>\n",
       "      <td>К.Шипенко</td>\n",
       "      <td>комедия</td>\n",
       "      <td>60,000,000.00</td>\n",
       "      <td>0.38</td>\n",
       "      <td>0.16</td>\n",
       "      <td>0.22</td>\n",
       "      <td>Россия</td>\n",
       "      <td>2,913,568,690.79</td>\n",
       "    </tr>\n",
       "    <tr>\n",
       "      <th>299</th>\n",
       "      <td>Союз спасения</td>\n",
       "      <td>111022019</td>\n",
       "      <td>2019-12-26 12:00:00+00:00</td>\n",
       "      <td>Художественный</td>\n",
       "      <td>ЗАО \"Дирекция кино\"</td>\n",
       "      <td>Россия</td>\n",
       "      <td>А.Кравчук</td>\n",
       "      <td>А.Максимов, К.Эрнст</td>\n",
       "      <td>«12+» - для детей старше 12 лет</td>\n",
       "      <td>100,000,000.00</td>\n",
       "      <td>...</td>\n",
       "      <td>717,703,185.53</td>\n",
       "      <td>2019</td>\n",
       "      <td>А.Кравчук</td>\n",
       "      <td>история</td>\n",
       "      <td>500,000,000.00</td>\n",
       "      <td>0.51</td>\n",
       "      <td>0.10</td>\n",
       "      <td>0.41</td>\n",
       "      <td>Россия</td>\n",
       "      <td>-262,296,814.47</td>\n",
       "    </tr>\n",
       "    <tr>\n",
       "      <th>300</th>\n",
       "      <td>Вторжение</td>\n",
       "      <td>111022519</td>\n",
       "      <td>2019-12-23 12:00:00+00:00</td>\n",
       "      <td>Художественный</td>\n",
       "      <td>ООО \"Арт Пикчерс Студия\", ООО \"Водород 2011\"</td>\n",
       "      <td>Россия</td>\n",
       "      <td>Ф.Бондарчук</td>\n",
       "      <td>Ф.Бондарчук, М.Врубель, А.Андрющенко, Д.Рудовский</td>\n",
       "      <td>«12+» - для детей старше 12 лет</td>\n",
       "      <td>100,000,000.00</td>\n",
       "      <td>...</td>\n",
       "      <td>2,220,177,696.00</td>\n",
       "      <td>2019</td>\n",
       "      <td>Ф.Бондарчук</td>\n",
       "      <td>фантастика</td>\n",
       "      <td>500,000,000.00</td>\n",
       "      <td>0.53</td>\n",
       "      <td>0.11</td>\n",
       "      <td>0.42</td>\n",
       "      <td>Россия</td>\n",
       "      <td>1,276,177,696.00</td>\n",
       "    </tr>\n",
       "    <tr>\n",
       "      <th>301</th>\n",
       "      <td>(Не)идеальный мужчина</td>\n",
       "      <td>111023119</td>\n",
       "      <td>2019-12-24 12:00:00+00:00</td>\n",
       "      <td>Художественный</td>\n",
       "      <td>ООО \"Нон-Стоп Продакшн\"</td>\n",
       "      <td>Россия</td>\n",
       "      <td>М.Бальчюнас (псевдоним М.Вайсберг)</td>\n",
       "      <td>С.Мелькумов, А.Роднянский, М.Вайсберг, Р.Минас...</td>\n",
       "      <td>«12+» - для детей старше 12 лет</td>\n",
       "      <td>40,000,000.00</td>\n",
       "      <td>...</td>\n",
       "      <td>1,072,221,688.00</td>\n",
       "      <td>2019</td>\n",
       "      <td>М.Бальчюнас (псевдоним М.Вайсберг)</td>\n",
       "      <td>комедия</td>\n",
       "      <td>100,000,000.00</td>\n",
       "      <td>0.67</td>\n",
       "      <td>0.27</td>\n",
       "      <td>0.40</td>\n",
       "      <td>Россия</td>\n",
       "      <td>922,074,186.00</td>\n",
       "    </tr>\n",
       "  </tbody>\n",
       "</table>\n",
       "<p>302 rows × 25 columns</p>\n",
       "</div>"
      ],
      "text/plain": [
       "                       title   puNumber           show_start_date  \\\n",
       "0              Пока еще жива  111005313 2013-10-11 12:00:00+00:00   \n",
       "1        Бесславные придурки  111003314 2014-03-28 12:00:00+00:00   \n",
       "2                  Невидимки  111004213 2013-09-10 12:00:00+00:00   \n",
       "3                      БЕРЦЫ  111004314 2014-05-05 12:00:00+00:00   \n",
       "4                   Братья Ч  111004414 2014-04-23 12:00:00+00:00   \n",
       "..                       ...        ...                       ...   \n",
       "297  Фиксики против кработов  114004819 2019-12-21 12:00:00+00:00   \n",
       "298                    Холоп  111021719 2019-12-19 12:00:00+00:00   \n",
       "299            Союз спасения  111022019 2019-12-26 12:00:00+00:00   \n",
       "300                Вторжение  111022519 2019-12-23 12:00:00+00:00   \n",
       "301    (Не)идеальный мужчина  111023119 2019-12-24 12:00:00+00:00   \n",
       "\n",
       "               type                                        film_studio  \\\n",
       "0    Художественный  АНО содействия развитию кинематографии \"Ангел-...   \n",
       "1    Художественный                         ООО \"Компания \"АТК-Студио\"   \n",
       "2    Художественный                        ООО \"Компания \"РЕАЛ-ДАКОТА\"   \n",
       "3    Художественный                             ООО \"Студия \"Пассажир\"   \n",
       "4    Художественный                             ООО \"Студия \"Пассажир\"   \n",
       "..              ...                                                ...   \n",
       "297    Анимационный                                      АО \"Аэроплан\"   \n",
       "298  Художественный            ООО \"МЕМ-МЕДИА\" по заказу АО \"ВБД Груп\"   \n",
       "299  Художественный                                ЗАО \"Дирекция кино\"   \n",
       "300  Художественный       ООО \"Арт Пикчерс Студия\", ООО \"Водород 2011\"   \n",
       "301  Художественный                           ООО \"Нон-Стоп Продакшн\"    \n",
       "\n",
       "    production_country                                       director  \\\n",
       "0               Россия                                     А.Атанесян   \n",
       "1               Россия                                      А.Якимчук   \n",
       "2               Россия                       Р.Давлетьяров, С.Комаров   \n",
       "3               Россия           Е.Миндадзе (псевдоним Катя Шагалова)   \n",
       "4               Россия                                       М.Угаров   \n",
       "..                 ...                                            ...   \n",
       "297             Россия  В.Бедошвили, О.Ужинов, И.Пшонкин, Д.Цыбулькин   \n",
       "298             Россия                                      К.Шипенко   \n",
       "299             Россия                                      А.Кравчук   \n",
       "300             Россия                                    Ф.Бондарчук   \n",
       "301             Россия             М.Бальчюнас (псевдоним М.Вайсберг)   \n",
       "\n",
       "                                              producer  \\\n",
       "0                     А.Атанесян, М.Бабаханов, Р.Бутко   \n",
       "1                                           А.Тютрюмов   \n",
       "2            Р.Давлетьяров, А.Котелевский, А.Олейников   \n",
       "3                                           Л.Антонова   \n",
       "4                               А.Миндадзе, Л.Антонова   \n",
       "..                                                 ...   \n",
       "297                    Г.Васильев, С.Саркисов, И.Попов   \n",
       "298  Э.Илоян, Д.Жалинский, В.Дусмухаметов, Т.Бадзие...   \n",
       "299                                А.Максимов, К.Эрнст   \n",
       "300  Ф.Бондарчук, М.Врубель, А.Андрющенко, Д.Рудовский   \n",
       "301  С.Мелькумов, А.Роднянский, М.Вайсберг, Р.Минас...   \n",
       "\n",
       "                     age_restriction  refundable_support  ...  \\\n",
       "0    «16+» - для детей старше 16 лет                0.00  ...   \n",
       "1    «12+» - для детей старше 12 лет                0.00  ...   \n",
       "2    «12+» - для детей старше 12 лет                0.00  ...   \n",
       "3    «16+» - для детей старше 16 лет                0.00  ...   \n",
       "4    «16+» - для детей старше 16 лет                0.00  ...   \n",
       "..                               ...                 ...  ...   \n",
       "297    «6+» - для детей старше 6 лет       80,000,000.00  ...   \n",
       "298  «12+» - для детей старше 12 лет       25,000,000.00  ...   \n",
       "299  «12+» - для детей старше 12 лет      100,000,000.00  ...   \n",
       "300  «12+» - для детей старше 12 лет      100,000,000.00  ...   \n",
       "301  «12+» - для детей старше 12 лет       40,000,000.00  ...   \n",
       "\n",
       "          box_office  year                         main_director  main_genre  \\\n",
       "0         365,353.60  2013                            А.Атанесян       драма   \n",
       "1          28,140.00  2014                             А.Якимчук         NaN   \n",
       "2      19,957,031.50  2013                         Р.Давлетьяров     комедия   \n",
       "3          55,917.50  2014  Е.Миндадзе (псевдоним Катя Шагалова)       драма   \n",
       "4         232,100.00  2014                              М.Угаров       драма   \n",
       "..               ...   ...                                   ...         ...   \n",
       "297   387,590,521.72  2019                           В.Бедошвили  мультфильм   \n",
       "298 3,073,568,690.79  2019                             К.Шипенко     комедия   \n",
       "299   717,703,185.53  2019                             А.Кравчук     история   \n",
       "300 2,220,177,696.00  2019                           Ф.Бондарчук  фантастика   \n",
       "301 1,072,221,688.00  2019    М.Бальчюнас (псевдоним М.Вайсберг)     комедия   \n",
       "\n",
       "     total_support  %_total_support  %_refundable_support  \\\n",
       "0    26,500,000.00             0.33                  0.00   \n",
       "1    26,000,000.00             0.70                  0.00   \n",
       "2   107,847,945.00             0.61                  0.00   \n",
       "3    28,000,000.00             0.69                  0.00   \n",
       "4    25,000,000.00             0.62                  0.00   \n",
       "..             ...              ...                   ...   \n",
       "297 120,000,000.00             0.44                  0.30   \n",
       "298  60,000,000.00             0.38                  0.16   \n",
       "299 500,000,000.00             0.51                  0.10   \n",
       "300 500,000,000.00             0.53                  0.11   \n",
       "301 100,000,000.00             0.67                  0.27   \n",
       "\n",
       "    %_nonrefundable_support country_first           profit  \n",
       "0                      0.33        Россия   -79,046,546.40  \n",
       "1                      0.70        Россия   -37,114,717.00  \n",
       "2                      0.61        Россия  -156,066,458.50  \n",
       "3                      0.69        Россия   -40,518,222.50  \n",
       "4                      0.62        Россия   -39,783,022.00  \n",
       "..                      ...           ...              ...  \n",
       "297                    0.15        Россия   117,590,521.72  \n",
       "298                    0.22        Россия 2,913,568,690.79  \n",
       "299                    0.41        Россия  -262,296,814.47  \n",
       "300                    0.42        Россия 1,276,177,696.00  \n",
       "301                    0.40        Россия   922,074,186.00  \n",
       "\n",
       "[302 rows x 25 columns]"
      ]
     },
     "execution_count": 51,
     "metadata": {},
     "output_type": "execute_result"
    }
   ],
   "source": [
    "budget_movies['profit'] = budget_movies['box_office'] - budget_movies['budget']\n",
    "budget_movies"
   ]
  },
  {
   "cell_type": "code",
   "execution_count": 52,
   "metadata": {},
   "outputs": [
    {
     "data": {
      "text/plain": [
       "count           302.00\n",
       "mean     60,424,499.49\n",
       "std      74,299,732.56\n",
       "min       3,000,000.00\n",
       "25%      25,383,750.00\n",
       "50%      35,000,000.00\n",
       "75%      60,000,000.00\n",
       "max     500,000,000.00\n",
       "Name: total_support, dtype: float64"
      ]
     },
     "metadata": {},
     "output_type": "display_data"
    },
    {
     "name": "stdout",
     "output_type": "stream",
     "text": [
      "Суммарная гос.поддержка за весь период: 18248198847\n"
     ]
    }
   ],
   "source": [
    "# Посчитаем, сколько выделяется средств на поддержку кино за весь период:\n",
    "display(budget_movies['total_support'].describe())\n",
    "print('Суммарная гос.поддержка за весь период: %.0f' % budget_movies['total_support'].sum())"
   ]
  },
  {
   "cell_type": "code",
   "execution_count": 53,
   "metadata": {},
   "outputs": [],
   "source": [
    "# посмотрим  как распределилась гос.поддержка по годам:\n",
    "budget_pivot  = budget_movies.groupby('year')['total_support'].agg(['sum','count', 'median'])\n"
   ]
  },
  {
   "cell_type": "code",
   "execution_count": 54,
   "metadata": {},
   "outputs": [
    {
     "data": {
      "text/plain": [
       "Text(0, 0.5, 'Сумма гос.поддержки, млрд руб')"
      ]
     },
     "execution_count": 54,
     "metadata": {},
     "output_type": "execute_result"
    },
    {
     "data": {
      "image/png": "[encoded data removed]",
      "text/plain": [
       "<Figure size 432x288 with 1 Axes>"
      ]
     },
     "metadata": {
      "needs_background": "light"
     },
     "output_type": "display_data"
    }
   ],
   "source": [
    "# Посторим  график, отражающий зависимость между величиной гос.поддержки и годом:\n",
    "budget_pivot['sum'].plot(kind='bar', grid=True)\n",
    "plt.title('Сумма гос.поддержки по годам')\n",
    "plt.xlabel('Годы')\n",
    "plt.ylabel('Сумма гос.поддержки, млрд руб')"
   ]
  },
  {
   "cell_type": "code",
   "execution_count": 55,
   "metadata": {},
   "outputs": [
    {
     "data": {
      "text/plain": [
       "Text(0, 0.5, 'Количество фильмов')"
      ]
     },
     "execution_count": 55,
     "metadata": {},
     "output_type": "execute_result"
    },
    {
     "data": {
      "image/png": "[encoded data removed]",
      "text/plain": [
       "<Figure size 432x288 with 1 Axes>"
      ]
     },
     "metadata": {
      "needs_background": "light"
     },
     "output_type": "display_data"
    }
   ],
   "source": [
    "# Посторим  график, отражающий зависимость между количеством фильмов, снятых с гос.поддержкой и годом:\n",
    "budget_pivot['count'].plot(kind='bar', grid=True)\n",
    "plt.title('Количество фильмов, снятых с гос.поддержкой, по годам')\n",
    "plt.xlabel('Годы')\n",
    "plt.ylabel('Количество фильмов')"
   ]
  },
  {
   "cell_type": "code",
   "execution_count": 56,
   "metadata": {},
   "outputs": [
    {
     "data": {
      "text/plain": [
       "year\n",
       "2013   107,847,945.00\n",
       "2014    90,000,000.00\n",
       "2015   250,000,000.00\n",
       "2016   450,000,000.00\n",
       "2017   400,000,000.00\n",
       "2018   260,000,000.00\n",
       "2019   500,000,000.00\n",
       "Name: total_support, dtype: float64"
      ]
     },
     "metadata": {},
     "output_type": "display_data"
    },
    {
     "data": {
      "text/plain": [
       "Text(0, 0.5, 'Максимальная сумма гос.поддержки, млн руб')"
      ]
     },
     "execution_count": 56,
     "metadata": {},
     "output_type": "execute_result"
    },
    {
     "data": {
      "image/png": "[encoded data removed]",
      "text/plain": [
       "<Figure size 432x288 with 1 Axes>"
      ]
     },
     "metadata": {
      "needs_background": "light"
     },
     "output_type": "display_data"
    }
   ],
   "source": [
    "max_support=budget_movies.groupby('year')['total_support'].agg('max')\n",
    "display(max_support)\n",
    "\n",
    "max_support.plot(kind='bar', grid=True)\n",
    "plt.title('Максимальная сумма гос.поддержки по годам')\n",
    "plt.xlabel('Годы')\n",
    "plt.ylabel('Максимальная сумма гос.поддержки, млн руб')"
   ]
  },
  {
   "cell_type": "code",
   "execution_count": 57,
   "metadata": {},
   "outputs": [
    {
     "name": "stdout",
     "output_type": "stream",
     "text": [
      "Суммарный бюджет фильмов с гос.поддержкой за весь период: 40722032858\n",
      "Суммарные кассовые сборы фильмов с гос.поддержкой за весь период: 40332532635\n"
     ]
    }
   ],
   "source": [
    "# Посчитаем, каков совокупный бюджет фильмов с гос.поддержкой:\n",
    "print('Суммарный бюджет фильмов с гос.поддержкой за весь период: %.0f' % budget_movies['budget'].sum())\n",
    "print('Суммарные кассовые сборы фильмов с гос.поддержкой за весь период: %.0f' % budget_movies['box_office'].sum())"
   ]
  },
  {
   "cell_type": "code",
   "execution_count": 58,
   "metadata": {},
   "outputs": [
    {
     "data": {
      "text/html": [
       "<div>\n",
       "<style scoped>\n",
       "    .dataframe tbody tr th:only-of-type {\n",
       "        vertical-align: middle;\n",
       "    }\n",
       "\n",
       "    .dataframe tbody tr th {\n",
       "        vertical-align: top;\n",
       "    }\n",
       "\n",
       "    .dataframe thead tr th {\n",
       "        text-align: left;\n",
       "    }\n",
       "\n",
       "    .dataframe thead tr:last-of-type th {\n",
       "        text-align: right;\n",
       "    }\n",
       "</style>\n",
       "<table border=\"1\" class=\"dataframe\">\n",
       "  <thead>\n",
       "    <tr>\n",
       "      <th></th>\n",
       "      <th colspan=\"3\" halign=\"left\">box_office</th>\n",
       "      <th colspan=\"3\" halign=\"left\">budget</th>\n",
       "      <th>result</th>\n",
       "    </tr>\n",
       "    <tr>\n",
       "      <th></th>\n",
       "      <th>sum</th>\n",
       "      <th>count</th>\n",
       "      <th>median</th>\n",
       "      <th>sum</th>\n",
       "      <th>count</th>\n",
       "      <th>median</th>\n",
       "      <th>sum</th>\n",
       "    </tr>\n",
       "    <tr>\n",
       "      <th>year</th>\n",
       "      <th></th>\n",
       "      <th></th>\n",
       "      <th></th>\n",
       "      <th></th>\n",
       "      <th></th>\n",
       "      <th></th>\n",
       "      <th></th>\n",
       "    </tr>\n",
       "  </thead>\n",
       "  <tbody>\n",
       "    <tr>\n",
       "      <th>2013</th>\n",
       "      <td>20,322,385.10</td>\n",
       "      <td>2</td>\n",
       "      <td>10,161,192.55</td>\n",
       "      <td>255,435,390.00</td>\n",
       "      <td>2</td>\n",
       "      <td>127,717,695.00</td>\n",
       "      <td>-235,113,004.90</td>\n",
       "    </tr>\n",
       "    <tr>\n",
       "      <th>2014</th>\n",
       "      <td>1,007,188,150.50</td>\n",
       "      <td>15</td>\n",
       "      <td>4,731,239.50</td>\n",
       "      <td>1,279,484,783.00</td>\n",
       "      <td>15</td>\n",
       "      <td>70,876,172.00</td>\n",
       "      <td>-272,296,632.50</td>\n",
       "    </tr>\n",
       "    <tr>\n",
       "      <th>2015</th>\n",
       "      <td>4,715,364,713.40</td>\n",
       "      <td>76</td>\n",
       "      <td>3,538,064.75</td>\n",
       "      <td>6,731,185,263.00</td>\n",
       "      <td>76</td>\n",
       "      <td>55,567,193.50</td>\n",
       "      <td>-2,015,820,549.60</td>\n",
       "    </tr>\n",
       "    <tr>\n",
       "      <th>2016</th>\n",
       "      <td>4,957,724,366.67</td>\n",
       "      <td>57</td>\n",
       "      <td>16,814,329.46</td>\n",
       "      <td>7,210,236,668.00</td>\n",
       "      <td>57</td>\n",
       "      <td>69,883,049.00</td>\n",
       "      <td>-2,252,512,301.33</td>\n",
       "    </tr>\n",
       "    <tr>\n",
       "      <th>2017</th>\n",
       "      <td>9,666,281,198.20</td>\n",
       "      <td>35</td>\n",
       "      <td>30,156,174.04</td>\n",
       "      <td>6,529,477,775.00</td>\n",
       "      <td>35</td>\n",
       "      <td>80,000,000.00</td>\n",
       "      <td>3,136,803,423.20</td>\n",
       "    </tr>\n",
       "    <tr>\n",
       "      <th>2018</th>\n",
       "      <td>8,940,288,427.88</td>\n",
       "      <td>51</td>\n",
       "      <td>22,730,244.88</td>\n",
       "      <td>6,466,193,929.00</td>\n",
       "      <td>51</td>\n",
       "      <td>93,000,000.00</td>\n",
       "      <td>2,474,094,498.88</td>\n",
       "    </tr>\n",
       "    <tr>\n",
       "      <th>2019</th>\n",
       "      <td>11,025,363,393.18</td>\n",
       "      <td>66</td>\n",
       "      <td>16,396,869.66</td>\n",
       "      <td>12,250,019,050.00</td>\n",
       "      <td>66</td>\n",
       "      <td>78,388,683.00</td>\n",
       "      <td>-1,224,655,656.82</td>\n",
       "    </tr>\n",
       "  </tbody>\n",
       "</table>\n",
       "</div>"
      ],
      "text/plain": [
       "            box_office                                budget        \\\n",
       "                   sum count        median               sum count   \n",
       "year                                                                 \n",
       "2013     20,322,385.10     2 10,161,192.55    255,435,390.00     2   \n",
       "2014  1,007,188,150.50    15  4,731,239.50  1,279,484,783.00    15   \n",
       "2015  4,715,364,713.40    76  3,538,064.75  6,731,185,263.00    76   \n",
       "2016  4,957,724,366.67    57 16,814,329.46  7,210,236,668.00    57   \n",
       "2017  9,666,281,198.20    35 30,156,174.04  6,529,477,775.00    35   \n",
       "2018  8,940,288,427.88    51 22,730,244.88  6,466,193,929.00    51   \n",
       "2019 11,025,363,393.18    66 16,396,869.66 12,250,019,050.00    66   \n",
       "\n",
       "                               result  \n",
       "             median               sum  \n",
       "year                                   \n",
       "2013 127,717,695.00   -235,113,004.90  \n",
       "2014  70,876,172.00   -272,296,632.50  \n",
       "2015  55,567,193.50 -2,015,820,549.60  \n",
       "2016  69,883,049.00 -2,252,512,301.33  \n",
       "2017  80,000,000.00  3,136,803,423.20  \n",
       "2018  93,000,000.00  2,474,094,498.88  \n",
       "2019  78,388,683.00 -1,224,655,656.82  "
      ]
     },
     "execution_count": 58,
     "metadata": {},
     "output_type": "execute_result"
    }
   ],
   "source": [
    "# Посмотрим как распределились бюджеты и кассовые сборы по годам:\n",
    "budget_movies_pivot=budget_movies.groupby('year')['box_office', 'budget'].agg(['sum','count', 'median'])\n",
    "budget_movies_pivot['result','sum']=budget_movies_pivot['box_office','sum']-budget_movies_pivot['budget','sum']\n",
    "budget_movies_pivot\n"
   ]
  },
  {
   "cell_type": "code",
   "execution_count": 59,
   "metadata": {},
   "outputs": [
    {
     "data": {
      "text/plain": [
       "Text(0, 0.5, 'Результат, млрд руб')"
      ]
     },
     "execution_count": 59,
     "metadata": {},
     "output_type": "execute_result"
    },
    {
     "data": {
      "image/png": "[encoded data removed]",
      "text/plain": [
       "<Figure size 432x288 with 1 Axes>"
      ]
     },
     "metadata": {
      "needs_background": "light"
     },
     "output_type": "display_data"
    }
   ],
   "source": [
    "# Посторим  график, отражающий прибыльность фильмов с гос.поддержкой по годам:\n",
    "budget_movies_pivot['result','sum'].plot(kind='bar', grid=True)\n",
    "plt.title('Кассовые сборы за минусом гос.поддержки по годам')\n",
    "plt.xlabel('Годы')\n",
    "plt.ylabel('Результат, млрд руб')"
   ]
  },
  {
   "cell_type": "code",
   "execution_count": 60,
   "metadata": {},
   "outputs": [
    {
     "data": {
      "text/plain": [
       "<AxesSubplot:ylabel='age_restriction'>"
      ]
     },
     "metadata": {},
     "output_type": "display_data"
    },
    {
     "data": {
      "text/plain": [
       "count     5.00\n",
       "mean     60.40\n",
       "std      46.39\n",
       "min       6.00\n",
       "25%      27.00\n",
       "50%      55.00\n",
       "75%      98.00\n",
       "max     116.00\n",
       "Name: age_restriction, dtype: float64"
      ]
     },
     "execution_count": 60,
     "metadata": {},
     "output_type": "execute_result"
    },
    {
     "data": {
      "image/png": "[encoded data removed]",
      "text/plain": [
       "<Figure size 576x576 with 1 Axes>"
      ]
     },
     "metadata": {},
     "output_type": "display_data"
    }
   ],
   "source": [
    "# Посмотрим, для каких возрастных категорий снимают фильмы с гос.поддержкой:\n",
    "display(budget_movies['age_restriction'].value_counts().plot.pie(y='count', figsize=(8, 8),autopct='%1.2f%%'))\n",
    "plt.title('Распределение возрастных категорий фильмов с гос.поддержкой')\n",
    "\n",
    "budget_movies['age_restriction'].value_counts().describe()"
   ]
  },
  {
   "cell_type": "code",
   "execution_count": 61,
   "metadata": {},
   "outputs": [
    {
     "data": {
      "text/plain": [
       "<AxesSubplot:ylabel='age_restriction'>"
      ]
     },
     "metadata": {},
     "output_type": "display_data"
    },
    {
     "data": {
      "text/plain": [
       "count       5.00\n",
       "mean    1,114.80\n",
       "std       720.57\n",
       "min       432.00\n",
       "25%       515.00\n",
       "50%     1,023.00\n",
       "75%     1,416.00\n",
       "max     2,188.00\n",
       "Name: age_restriction, dtype: float64"
      ]
     },
     "execution_count": 61,
     "metadata": {},
     "output_type": "execute_result"
    },
    {
     "data": {
      "image/png": "[encoded data removed]",
      "text/plain": [
       "<Figure size 576x576 with 1 Axes>"
      ]
     },
     "metadata": {},
     "output_type": "display_data"
    }
   ],
   "source": [
    "#Выведем для каких возрастных категорий снимают фильмы без гос.поддержки:\n",
    "nebudget_movies=df.query('country_first!=\"Россия\"')\n",
    "display(nebudget_movies['age_restriction'].value_counts().plot.pie(y='count', figsize=(8, 8),autopct='%1.2f%%'))\n",
    "plt.title('Распределение возрастных категорий фильмов БЕЗ гос.поддержки')\n",
    "\n",
    "nebudget_movies['age_restriction'].value_counts().describe()"
   ]
  },
  {
   "cell_type": "markdown",
   "metadata": {},
   "source": [
    "Как мы видим из графиков распределение филмов по категориям с гос.поддержкой и без примерно одинаковое"
   ]
  },
  {
   "cell_type": "code",
   "execution_count": 62,
   "metadata": {},
   "outputs": [
    {
     "data": {
      "text/plain": [
       "main_director                      type          \n",
       "Р.Давлетьяров                      Художественный    2\n",
       "С.Мокрицкий                        Художественный    2\n",
       "Р.Артемьев (псев.С.Васильев)       Художественный    1\n",
       "М.Демченко                         Художественный    1\n",
       "М.Михайлова                        Художественный    1\n",
       "М.Морсков                          Художественный    1\n",
       "Н.Бондарчук                        Художественный    1\n",
       "Н.Лебедев                          Художественный    1\n",
       "Н.Степанова при участии С.Иванова  Художественный    1\n",
       "П.Руминов                          Художественный    1\n",
       "Name: ratings, dtype: int64"
      ]
     },
     "execution_count": 62,
     "metadata": {},
     "output_type": "execute_result"
    }
   ],
   "source": [
    "#Выведем имена главных режиссеров рейтинг фильм ов которых выше 8 и их жанры:\n",
    "budget_movies.query('ratings>7').groupby(['main_director', 'type'])['ratings'].count().sort_values(ascending=False).head(10)"
   ]
  },
  {
   "cell_type": "code",
   "execution_count": 63,
   "metadata": {},
   "outputs": [
    {
     "data": {
      "text/html": [
       "<div>\n",
       "<style scoped>\n",
       "    .dataframe tbody tr th:only-of-type {\n",
       "        vertical-align: middle;\n",
       "    }\n",
       "\n",
       "    .dataframe tbody tr th {\n",
       "        vertical-align: top;\n",
       "    }\n",
       "\n",
       "    .dataframe thead th {\n",
       "        text-align: right;\n",
       "    }\n",
       "</style>\n",
       "<table border=\"1\" class=\"dataframe\">\n",
       "  <thead>\n",
       "    <tr style=\"text-align: right;\">\n",
       "      <th></th>\n",
       "      <th>total_support</th>\n",
       "    </tr>\n",
       "    <tr>\n",
       "      <th>main_genre</th>\n",
       "      <th></th>\n",
       "    </tr>\n",
       "  </thead>\n",
       "  <tbody>\n",
       "    <tr>\n",
       "      <th>история</th>\n",
       "      <td>255,000,000.00</td>\n",
       "    </tr>\n",
       "    <tr>\n",
       "      <th>спорт</th>\n",
       "      <td>151,666,666.67</td>\n",
       "    </tr>\n",
       "    <tr>\n",
       "      <th>фантастика</th>\n",
       "      <td>115,600,000.00</td>\n",
       "    </tr>\n",
       "    <tr>\n",
       "      <th>приключения</th>\n",
       "      <td>99,428,571.43</td>\n",
       "    </tr>\n",
       "    <tr>\n",
       "      <th>детектив</th>\n",
       "      <td>97,000,000.00</td>\n",
       "    </tr>\n",
       "    <tr>\n",
       "      <th>фэнтези</th>\n",
       "      <td>93,900,000.00</td>\n",
       "    </tr>\n",
       "    <tr>\n",
       "      <th>криминал</th>\n",
       "      <td>93,333,333.33</td>\n",
       "    </tr>\n",
       "    <tr>\n",
       "      <th>мультфильм</th>\n",
       "      <td>76,904,761.90</td>\n",
       "    </tr>\n",
       "    <tr>\n",
       "      <th>мюзикл</th>\n",
       "      <td>60,113,279.75</td>\n",
       "    </tr>\n",
       "    <tr>\n",
       "      <th>драма</th>\n",
       "      <td>57,604,518.13</td>\n",
       "    </tr>\n",
       "  </tbody>\n",
       "</table>\n",
       "</div>"
      ],
      "text/plain": [
       "             total_support\n",
       "main_genre                \n",
       "история     255,000,000.00\n",
       "спорт       151,666,666.67\n",
       "фантастика  115,600,000.00\n",
       "приключения  99,428,571.43\n",
       "детектив     97,000,000.00\n",
       "фэнтези      93,900,000.00\n",
       "криминал     93,333,333.33\n",
       "мультфильм   76,904,761.90\n",
       "мюзикл       60,113,279.75\n",
       "драма        57,604,518.13"
      ]
     },
     "execution_count": 63,
     "metadata": {},
     "output_type": "execute_result"
    }
   ],
   "source": [
    "(\n",
    "    budget_movies\n",
    "    .pivot_table(index= 'main_genre', values = ['total_support'])\n",
    "    .sort_values(by='total_support',ascending=False)\n",
    "    .head(10)\n",
    ")\n"
   ]
  },
  {
   "cell_type": "markdown",
   "metadata": {},
   "source": [
    "Больше всего гос.поддержки получили фильмы в историческом, спортивном, фантастическом жанрах. Режиссеры С.Мокрицкий и Р.Давльетьяров получили еще  и высокие ркйтинги"
   ]
  },
  {
   "cell_type": "code",
   "execution_count": 64,
   "metadata": {},
   "outputs": [],
   "source": [
    "corr_param = [\n",
    "    'year',\n",
    "    'refundable_support',\n",
    "    'nonrefundable_support',\n",
    "    'budget',\n",
    "    'ratings',\n",
    "    'box_office',\n",
    "    'total_support',\n",
    "    'profit']\n",
    "# Список с названиями параметров на русском\n",
    "corr_labels = [\n",
    "    'год',\n",
    "    'объём возвратных средств;',\n",
    "    'объём невозвратных средств',\n",
    "    'общий бюджет фильма',\n",
    "    'рейтинг',\n",
    "    'сборы в рублях',\n",
    "    'общая сумма гос.поддержки',\n",
    "    'прибыль']"
   ]
  },
  {
   "cell_type": "code",
   "execution_count": 65,
   "metadata": {},
   "outputs": [
    {
     "data": {
      "text/html": [
       "<div>\n",
       "<style scoped>\n",
       "    .dataframe tbody tr th:only-of-type {\n",
       "        vertical-align: middle;\n",
       "    }\n",
       "\n",
       "    .dataframe tbody tr th {\n",
       "        vertical-align: top;\n",
       "    }\n",
       "\n",
       "    .dataframe thead th {\n",
       "        text-align: right;\n",
       "    }\n",
       "</style>\n",
       "<table border=\"1\" class=\"dataframe\">\n",
       "  <thead>\n",
       "    <tr style=\"text-align: right;\">\n",
       "      <th></th>\n",
       "      <th>year</th>\n",
       "      <th>refundable_support</th>\n",
       "      <th>nonrefundable_support</th>\n",
       "      <th>budget</th>\n",
       "      <th>ratings</th>\n",
       "      <th>box_office</th>\n",
       "      <th>total_support</th>\n",
       "      <th>profit</th>\n",
       "    </tr>\n",
       "  </thead>\n",
       "  <tbody>\n",
       "    <tr>\n",
       "      <th>year</th>\n",
       "      <td>1.00</td>\n",
       "      <td>0.07</td>\n",
       "      <td>0.12</td>\n",
       "      <td>0.17</td>\n",
       "      <td>0.01</td>\n",
       "      <td>0.13</td>\n",
       "      <td>0.12</td>\n",
       "      <td>0.05</td>\n",
       "    </tr>\n",
       "    <tr>\n",
       "      <th>refundable_support</th>\n",
       "      <td>0.07</td>\n",
       "      <td>1.00</td>\n",
       "      <td>0.44</td>\n",
       "      <td>0.70</td>\n",
       "      <td>0.01</td>\n",
       "      <td>0.37</td>\n",
       "      <td>0.68</td>\n",
       "      <td>-0.02</td>\n",
       "    </tr>\n",
       "    <tr>\n",
       "      <th>nonrefundable_support</th>\n",
       "      <td>0.12</td>\n",
       "      <td>0.44</td>\n",
       "      <td>1.00</td>\n",
       "      <td>0.64</td>\n",
       "      <td>0.13</td>\n",
       "      <td>0.52</td>\n",
       "      <td>0.96</td>\n",
       "      <td>0.19</td>\n",
       "    </tr>\n",
       "    <tr>\n",
       "      <th>budget</th>\n",
       "      <td>0.17</td>\n",
       "      <td>0.70</td>\n",
       "      <td>0.64</td>\n",
       "      <td>1.00</td>\n",
       "      <td>0.09</td>\n",
       "      <td>0.42</td>\n",
       "      <td>0.75</td>\n",
       "      <td>-0.13</td>\n",
       "    </tr>\n",
       "    <tr>\n",
       "      <th>ratings</th>\n",
       "      <td>0.01</td>\n",
       "      <td>0.01</td>\n",
       "      <td>0.13</td>\n",
       "      <td>0.09</td>\n",
       "      <td>1.00</td>\n",
       "      <td>0.12</td>\n",
       "      <td>0.11</td>\n",
       "      <td>0.07</td>\n",
       "    </tr>\n",
       "    <tr>\n",
       "      <th>box_office</th>\n",
       "      <td>0.13</td>\n",
       "      <td>0.37</td>\n",
       "      <td>0.52</td>\n",
       "      <td>0.42</td>\n",
       "      <td>0.12</td>\n",
       "      <td>1.00</td>\n",
       "      <td>0.54</td>\n",
       "      <td>0.85</td>\n",
       "    </tr>\n",
       "    <tr>\n",
       "      <th>total_support</th>\n",
       "      <td>0.12</td>\n",
       "      <td>0.68</td>\n",
       "      <td>0.96</td>\n",
       "      <td>0.75</td>\n",
       "      <td>0.11</td>\n",
       "      <td>0.54</td>\n",
       "      <td>1.00</td>\n",
       "      <td>0.15</td>\n",
       "    </tr>\n",
       "    <tr>\n",
       "      <th>profit</th>\n",
       "      <td>0.05</td>\n",
       "      <td>-0.02</td>\n",
       "      <td>0.19</td>\n",
       "      <td>-0.13</td>\n",
       "      <td>0.07</td>\n",
       "      <td>0.85</td>\n",
       "      <td>0.15</td>\n",
       "      <td>1.00</td>\n",
       "    </tr>\n",
       "  </tbody>\n",
       "</table>\n",
       "</div>"
      ],
      "text/plain": [
       "                       year  refundable_support  nonrefundable_support  \\\n",
       "year                   1.00                0.07                   0.12   \n",
       "refundable_support     0.07                1.00                   0.44   \n",
       "nonrefundable_support  0.12                0.44                   1.00   \n",
       "budget                 0.17                0.70                   0.64   \n",
       "ratings                0.01                0.01                   0.13   \n",
       "box_office             0.13                0.37                   0.52   \n",
       "total_support          0.12                0.68                   0.96   \n",
       "profit                 0.05               -0.02                   0.19   \n",
       "\n",
       "                       budget  ratings  box_office  total_support  profit  \n",
       "year                     0.17     0.01        0.13           0.12    0.05  \n",
       "refundable_support       0.70     0.01        0.37           0.68   -0.02  \n",
       "nonrefundable_support    0.64     0.13        0.52           0.96    0.19  \n",
       "budget                   1.00     0.09        0.42           0.75   -0.13  \n",
       "ratings                  0.09     1.00        0.12           0.11    0.07  \n",
       "box_office               0.42     0.12        1.00           0.54    0.85  \n",
       "total_support            0.75     0.11        0.54           1.00    0.15  \n",
       "profit                  -0.13     0.07        0.85           0.15    1.00  "
      ]
     },
     "execution_count": 65,
     "metadata": {},
     "output_type": "execute_result"
    }
   ],
   "source": [
    "corr_matrix  = budget_movies[corr_param].corr()\n",
    "corr_matrix"
   ]
  },
  {
   "cell_type": "code",
   "execution_count": 66,
   "metadata": {},
   "outputs": [
    {
     "data": {
      "image/png": "[encoded data removed]",
      "text/plain": [
       "<Figure size 1080x720 with 2 Axes>"
      ]
     },
     "metadata": {
      "needs_background": "light"
     },
     "output_type": "display_data"
    }
   ],
   "source": [
    "plt.figure(figsize = (15, 10))\n",
    "sns.heatmap(\n",
    "    corr_matrix, annot = True, vmin=-1, vmax=1,\n",
    "    center= 0, cmap= 'coolwarm', linewidths=1, linecolor='black',\n",
    "    yticklabels=corr_labels,\n",
    "    xticklabels=corr_labels\n",
    ").set_title('Коэффициенты корреляции для субсидируемых фильмов');\n"
   ]
  },
  {
   "cell_type": "markdown",
   "metadata": {},
   "source": [
    "Прослеживается тесная связь между общим размером субсидий c бюджетом фильма и невозвратными субсидиями. Касса и невозвратные субсидии  корреляция 0.52"
   ]
  },
  {
   "cell_type": "code",
   "execution_count": 67,
   "metadata": {},
   "outputs": [
    {
     "data": {
      "text/html": [
       "<div>\n",
       "<style scoped>\n",
       "    .dataframe tbody tr th:only-of-type {\n",
       "        vertical-align: middle;\n",
       "    }\n",
       "\n",
       "    .dataframe tbody tr th {\n",
       "        vertical-align: top;\n",
       "    }\n",
       "\n",
       "    .dataframe thead th {\n",
       "        text-align: right;\n",
       "    }\n",
       "</style>\n",
       "<table border=\"1\" class=\"dataframe\">\n",
       "  <thead>\n",
       "    <tr style=\"text-align: right;\">\n",
       "      <th></th>\n",
       "      <th>total_support</th>\n",
       "    </tr>\n",
       "    <tr>\n",
       "      <th>main_director</th>\n",
       "      <th></th>\n",
       "    </tr>\n",
       "  </thead>\n",
       "  <tbody>\n",
       "    <tr>\n",
       "      <th>Ф.Бондарчук</th>\n",
       "      <td>500,000,000.00</td>\n",
       "    </tr>\n",
       "    <tr>\n",
       "      <th>А.Кравчук</th>\n",
       "      <td>500,000,000.00</td>\n",
       "    </tr>\n",
       "    <tr>\n",
       "      <th>А.Мизгирев</th>\n",
       "      <td>450,000,000.00</td>\n",
       "    </tr>\n",
       "    <tr>\n",
       "      <th>Н.Лебедев</th>\n",
       "      <td>442,104,482.00</td>\n",
       "    </tr>\n",
       "    <tr>\n",
       "      <th>А.Мегердичев</th>\n",
       "      <td>400,000,000.00</td>\n",
       "    </tr>\n",
       "    <tr>\n",
       "      <th>И.Шурховецкий</th>\n",
       "      <td>350,000,000.00</td>\n",
       "    </tr>\n",
       "    <tr>\n",
       "      <th>Н.Хомерики</th>\n",
       "      <td>300,000,000.00</td>\n",
       "    </tr>\n",
       "    <tr>\n",
       "      <th>А.Учитель</th>\n",
       "      <td>300,000,000.00</td>\n",
       "    </tr>\n",
       "    <tr>\n",
       "      <th>О.Степченко</th>\n",
       "      <td>270,000,000.00</td>\n",
       "    </tr>\n",
       "    <tr>\n",
       "      <th>Д.Козловский</th>\n",
       "      <td>260,000,000.00</td>\n",
       "    </tr>\n",
       "  </tbody>\n",
       "</table>\n",
       "</div>"
      ],
      "text/plain": [
       "               total_support\n",
       "main_director               \n",
       "Ф.Бондарчук   500,000,000.00\n",
       "А.Кравчук     500,000,000.00\n",
       "А.Мизгирев    450,000,000.00\n",
       "Н.Лебедев     442,104,482.00\n",
       "А.Мегердичев  400,000,000.00\n",
       "И.Шурховецкий 350,000,000.00\n",
       "Н.Хомерики    300,000,000.00\n",
       "А.Учитель     300,000,000.00\n",
       "О.Степченко   270,000,000.00\n",
       "Д.Козловский  260,000,000.00"
      ]
     },
     "execution_count": 67,
     "metadata": {},
     "output_type": "execute_result"
    }
   ],
   "source": [
    "#Посмотрим кто из режисеров получил больше субсидий\n",
    "(\n",
    "    budget_movies\n",
    "    .pivot_table(index= 'main_director', values = ['total_support'])\n",
    "    .sort_values(by='total_support',ascending=False)\n",
    "    .head(10)\n",
    ")\n"
   ]
  },
  {
   "cell_type": "code",
   "execution_count": 68,
   "metadata": {
    "scrolled": false
   },
   "outputs": [
    {
     "data": {
      "text/html": [
       "<div>\n",
       "<style scoped>\n",
       "    .dataframe tbody tr th:only-of-type {\n",
       "        vertical-align: middle;\n",
       "    }\n",
       "\n",
       "    .dataframe tbody tr th {\n",
       "        vertical-align: top;\n",
       "    }\n",
       "\n",
       "    .dataframe thead th {\n",
       "        text-align: right;\n",
       "    }\n",
       "</style>\n",
       "<table border=\"1\" class=\"dataframe\">\n",
       "  <thead>\n",
       "    <tr style=\"text-align: right;\">\n",
       "      <th></th>\n",
       "      <th>total_support_count</th>\n",
       "      <th>total_support_sum</th>\n",
       "      <th>total_support_mean</th>\n",
       "      <th>profit_count</th>\n",
       "      <th>profit_sum</th>\n",
       "      <th>profit_mean</th>\n",
       "      <th>ratings_count</th>\n",
       "      <th>ratings_sum</th>\n",
       "      <th>ratings_mean</th>\n",
       "    </tr>\n",
       "    <tr>\n",
       "      <th>main_director</th>\n",
       "      <th></th>\n",
       "      <th></th>\n",
       "      <th></th>\n",
       "      <th></th>\n",
       "      <th></th>\n",
       "      <th></th>\n",
       "      <th></th>\n",
       "      <th></th>\n",
       "      <th></th>\n",
       "    </tr>\n",
       "  </thead>\n",
       "  <tbody>\n",
       "    <tr>\n",
       "      <th>Н.Хомерики</th>\n",
       "      <td>2</td>\n",
       "      <td>600,000,000.00</td>\n",
       "      <td>300,000,000.00</td>\n",
       "      <td>2</td>\n",
       "      <td>-490,758,115.80</td>\n",
       "      <td>-245,379,057.90</td>\n",
       "      <td>2</td>\n",
       "      <td>12.30</td>\n",
       "      <td>6.15</td>\n",
       "    </tr>\n",
       "    <tr>\n",
       "      <th>Ф.Бондарчук</th>\n",
       "      <td>1</td>\n",
       "      <td>500,000,000.00</td>\n",
       "      <td>500,000,000.00</td>\n",
       "      <td>1</td>\n",
       "      <td>1,276,177,696.00</td>\n",
       "      <td>1,276,177,696.00</td>\n",
       "      <td>1</td>\n",
       "      <td>5.70</td>\n",
       "      <td>5.70</td>\n",
       "    </tr>\n",
       "    <tr>\n",
       "      <th>А.Кравчук</th>\n",
       "      <td>1</td>\n",
       "      <td>500,000,000.00</td>\n",
       "      <td>500,000,000.00</td>\n",
       "      <td>1</td>\n",
       "      <td>-262,296,814.47</td>\n",
       "      <td>-262,296,814.47</td>\n",
       "      <td>1</td>\n",
       "      <td>6.00</td>\n",
       "      <td>6.00</td>\n",
       "    </tr>\n",
       "    <tr>\n",
       "      <th>Р.Давлетьяров</th>\n",
       "      <td>5</td>\n",
       "      <td>459,847,945.00</td>\n",
       "      <td>91,969,589.00</td>\n",
       "      <td>5</td>\n",
       "      <td>-471,167,304.56</td>\n",
       "      <td>-94,233,460.91</td>\n",
       "      <td>5</td>\n",
       "      <td>33.90</td>\n",
       "      <td>6.78</td>\n",
       "    </tr>\n",
       "    <tr>\n",
       "      <th>А.Мизгирев</th>\n",
       "      <td>1</td>\n",
       "      <td>450,000,000.00</td>\n",
       "      <td>450,000,000.00</td>\n",
       "      <td>1</td>\n",
       "      <td>-319,915,396.40</td>\n",
       "      <td>-319,915,396.40</td>\n",
       "      <td>1</td>\n",
       "      <td>6.60</td>\n",
       "      <td>6.60</td>\n",
       "    </tr>\n",
       "    <tr>\n",
       "      <th>Н.Лебедев</th>\n",
       "      <td>1</td>\n",
       "      <td>442,104,482.00</td>\n",
       "      <td>442,104,482.00</td>\n",
       "      <td>1</td>\n",
       "      <td>766,971,523.00</td>\n",
       "      <td>766,971,523.00</td>\n",
       "      <td>1</td>\n",
       "      <td>7.60</td>\n",
       "      <td>7.60</td>\n",
       "    </tr>\n",
       "    <tr>\n",
       "      <th>А.Мегердичев</th>\n",
       "      <td>1</td>\n",
       "      <td>400,000,000.00</td>\n",
       "      <td>400,000,000.00</td>\n",
       "      <td>1</td>\n",
       "      <td>2,189,493,953.00</td>\n",
       "      <td>2,189,493,953.00</td>\n",
       "      <td>1</td>\n",
       "      <td>7.50</td>\n",
       "      <td>7.50</td>\n",
       "    </tr>\n",
       "    <tr>\n",
       "      <th>Д.Дьяченко</th>\n",
       "      <td>4</td>\n",
       "      <td>351,000,000.00</td>\n",
       "      <td>87,750,000.00</td>\n",
       "      <td>4</td>\n",
       "      <td>1,624,203,322.12</td>\n",
       "      <td>406,050,830.53</td>\n",
       "      <td>4</td>\n",
       "      <td>22.60</td>\n",
       "      <td>5.65</td>\n",
       "    </tr>\n",
       "    <tr>\n",
       "      <th>А.Цицилин</th>\n",
       "      <td>3</td>\n",
       "      <td>350,000,000.00</td>\n",
       "      <td>116,666,666.67</td>\n",
       "      <td>3</td>\n",
       "      <td>-321,836,566.75</td>\n",
       "      <td>-107,278,855.58</td>\n",
       "      <td>3</td>\n",
       "      <td>19.00</td>\n",
       "      <td>6.33</td>\n",
       "    </tr>\n",
       "    <tr>\n",
       "      <th>И.Шурховецкий</th>\n",
       "      <td>1</td>\n",
       "      <td>350,000,000.00</td>\n",
       "      <td>350,000,000.00</td>\n",
       "      <td>1</td>\n",
       "      <td>90,392,336.00</td>\n",
       "      <td>90,392,336.00</td>\n",
       "      <td>1</td>\n",
       "      <td>6.40</td>\n",
       "      <td>6.40</td>\n",
       "    </tr>\n",
       "  </tbody>\n",
       "</table>\n",
       "</div>"
      ],
      "text/plain": [
       "               total_support_count  total_support_sum  total_support_mean  \\\n",
       "main_director                                                               \n",
       "Н.Хомерики                       2     600,000,000.00      300,000,000.00   \n",
       "Ф.Бондарчук                      1     500,000,000.00      500,000,000.00   \n",
       "А.Кравчук                        1     500,000,000.00      500,000,000.00   \n",
       "Р.Давлетьяров                    5     459,847,945.00       91,969,589.00   \n",
       "А.Мизгирев                       1     450,000,000.00      450,000,000.00   \n",
       "Н.Лебедев                        1     442,104,482.00      442,104,482.00   \n",
       "А.Мегердичев                     1     400,000,000.00      400,000,000.00   \n",
       "Д.Дьяченко                       4     351,000,000.00       87,750,000.00   \n",
       "А.Цицилин                        3     350,000,000.00      116,666,666.67   \n",
       "И.Шурховецкий                    1     350,000,000.00      350,000,000.00   \n",
       "\n",
       "               profit_count       profit_sum      profit_mean  ratings_count  \\\n",
       "main_director                                                                  \n",
       "Н.Хомерики                2  -490,758,115.80  -245,379,057.90              2   \n",
       "Ф.Бондарчук               1 1,276,177,696.00 1,276,177,696.00              1   \n",
       "А.Кравчук                 1  -262,296,814.47  -262,296,814.47              1   \n",
       "Р.Давлетьяров             5  -471,167,304.56   -94,233,460.91              5   \n",
       "А.Мизгирев                1  -319,915,396.40  -319,915,396.40              1   \n",
       "Н.Лебедев                 1   766,971,523.00   766,971,523.00              1   \n",
       "А.Мегердичев              1 2,189,493,953.00 2,189,493,953.00              1   \n",
       "Д.Дьяченко                4 1,624,203,322.12   406,050,830.53              4   \n",
       "А.Цицилин                 3  -321,836,566.75  -107,278,855.58              3   \n",
       "И.Шурховецкий             1    90,392,336.00    90,392,336.00              1   \n",
       "\n",
       "               ratings_sum  ratings_mean  \n",
       "main_director                             \n",
       "Н.Хомерики           12.30          6.15  \n",
       "Ф.Бондарчук           5.70          5.70  \n",
       "А.Кравчук             6.00          6.00  \n",
       "Р.Давлетьяров        33.90          6.78  \n",
       "А.Мизгирев            6.60          6.60  \n",
       "Н.Лебедев             7.60          7.60  \n",
       "А.Мегердичев          7.50          7.50  \n",
       "Д.Дьяченко           22.60          5.65  \n",
       "А.Цицилин            19.00          6.33  \n",
       "И.Шурховецкий         6.40          6.40  "
      ]
     },
     "execution_count": 68,
     "metadata": {},
     "output_type": "execute_result"
    }
   ],
   "source": [
    "top_director = (\n",
    "                budget_movies\n",
    "                .groupby('main_director')['total_support', 'profit', 'ratings']\n",
    "                .agg(['count', 'sum', 'mean'])\n",
    ")\n",
    "top_director.columns = ['_'.join(col).strip() for col in top_director.columns.values]\n",
    "top_director.sort_values(by='total_support_sum', ascending=False).head(10)"
   ]
  },
  {
   "cell_type": "code",
   "execution_count": 69,
   "metadata": {},
   "outputs": [
    {
     "data": {
      "text/html": [
       "<div>\n",
       "<style scoped>\n",
       "    .dataframe tbody tr th:only-of-type {\n",
       "        vertical-align: middle;\n",
       "    }\n",
       "\n",
       "    .dataframe tbody tr th {\n",
       "        vertical-align: top;\n",
       "    }\n",
       "\n",
       "    .dataframe thead th {\n",
       "        text-align: right;\n",
       "    }\n",
       "</style>\n",
       "<table border=\"1\" class=\"dataframe\">\n",
       "  <thead>\n",
       "    <tr style=\"text-align: right;\">\n",
       "      <th></th>\n",
       "      <th>total_support_count</th>\n",
       "      <th>total_support_sum</th>\n",
       "      <th>total_support_mean</th>\n",
       "      <th>profit_count</th>\n",
       "      <th>profit_sum</th>\n",
       "      <th>profit_mean</th>\n",
       "      <th>ratings_count</th>\n",
       "      <th>ratings_sum</th>\n",
       "      <th>ratings_mean</th>\n",
       "    </tr>\n",
       "    <tr>\n",
       "      <th>main_director</th>\n",
       "      <th></th>\n",
       "      <th></th>\n",
       "      <th></th>\n",
       "      <th></th>\n",
       "      <th></th>\n",
       "      <th></th>\n",
       "      <th></th>\n",
       "      <th></th>\n",
       "      <th></th>\n",
       "    </tr>\n",
       "  </thead>\n",
       "  <tbody>\n",
       "    <tr>\n",
       "      <th>К.Шипенко</th>\n",
       "      <td>3</td>\n",
       "      <td>312,000,000.00</td>\n",
       "      <td>104,000,000.00</td>\n",
       "      <td>3</td>\n",
       "      <td>3,122,841,549.79</td>\n",
       "      <td>1,040,947,183.26</td>\n",
       "      <td>3</td>\n",
       "      <td>20.50</td>\n",
       "      <td>6.83</td>\n",
       "    </tr>\n",
       "    <tr>\n",
       "      <th>А.Мегердичев</th>\n",
       "      <td>1</td>\n",
       "      <td>400,000,000.00</td>\n",
       "      <td>400,000,000.00</td>\n",
       "      <td>1</td>\n",
       "      <td>2,189,493,953.00</td>\n",
       "      <td>2,189,493,953.00</td>\n",
       "      <td>1</td>\n",
       "      <td>7.50</td>\n",
       "      <td>7.50</td>\n",
       "    </tr>\n",
       "    <tr>\n",
       "      <th>А.Сидоров</th>\n",
       "      <td>1</td>\n",
       "      <td>180,000,000.00</td>\n",
       "      <td>180,000,000.00</td>\n",
       "      <td>1</td>\n",
       "      <td>1,707,969,287.52</td>\n",
       "      <td>1,707,969,287.52</td>\n",
       "      <td>1</td>\n",
       "      <td>6.50</td>\n",
       "      <td>6.50</td>\n",
       "    </tr>\n",
       "    <tr>\n",
       "      <th>Д.Дьяченко</th>\n",
       "      <td>4</td>\n",
       "      <td>351,000,000.00</td>\n",
       "      <td>87,750,000.00</td>\n",
       "      <td>4</td>\n",
       "      <td>1,624,203,322.12</td>\n",
       "      <td>406,050,830.53</td>\n",
       "      <td>4</td>\n",
       "      <td>22.60</td>\n",
       "      <td>5.65</td>\n",
       "    </tr>\n",
       "    <tr>\n",
       "      <th>О.Трофим</th>\n",
       "      <td>1</td>\n",
       "      <td>85,000,000.00</td>\n",
       "      <td>85,000,000.00</td>\n",
       "      <td>1</td>\n",
       "      <td>1,297,146,575.89</td>\n",
       "      <td>1,297,146,575.89</td>\n",
       "      <td>0</td>\n",
       "      <td>0.00</td>\n",
       "      <td>NaN</td>\n",
       "    </tr>\n",
       "    <tr>\n",
       "      <th>Ф.Бондарчук</th>\n",
       "      <td>1</td>\n",
       "      <td>500,000,000.00</td>\n",
       "      <td>500,000,000.00</td>\n",
       "      <td>1</td>\n",
       "      <td>1,276,177,696.00</td>\n",
       "      <td>1,276,177,696.00</td>\n",
       "      <td>1</td>\n",
       "      <td>5.70</td>\n",
       "      <td>5.70</td>\n",
       "    </tr>\n",
       "    <tr>\n",
       "      <th>М.Бальчюнас (псевдоним М.Вайсберг)</th>\n",
       "      <td>1</td>\n",
       "      <td>100,000,000.00</td>\n",
       "      <td>100,000,000.00</td>\n",
       "      <td>1</td>\n",
       "      <td>922,074,186.00</td>\n",
       "      <td>922,074,186.00</td>\n",
       "      <td>1</td>\n",
       "      <td>4.50</td>\n",
       "      <td>4.50</td>\n",
       "    </tr>\n",
       "    <tr>\n",
       "      <th>Н.Лебедев</th>\n",
       "      <td>1</td>\n",
       "      <td>442,104,482.00</td>\n",
       "      <td>442,104,482.00</td>\n",
       "      <td>1</td>\n",
       "      <td>766,971,523.00</td>\n",
       "      <td>766,971,523.00</td>\n",
       "      <td>1</td>\n",
       "      <td>7.60</td>\n",
       "      <td>7.60</td>\n",
       "    </tr>\n",
       "    <tr>\n",
       "      <th>Д.Киселев</th>\n",
       "      <td>2</td>\n",
       "      <td>350,000,000.00</td>\n",
       "      <td>175,000,000.00</td>\n",
       "      <td>2</td>\n",
       "      <td>696,959,413.00</td>\n",
       "      <td>348,479,706.50</td>\n",
       "      <td>2</td>\n",
       "      <td>13.30</td>\n",
       "      <td>6.65</td>\n",
       "    </tr>\n",
       "    <tr>\n",
       "      <th>Т.Бекмамбетов</th>\n",
       "      <td>2</td>\n",
       "      <td>250,000,000.00</td>\n",
       "      <td>125,000,000.00</td>\n",
       "      <td>2</td>\n",
       "      <td>615,037,455.97</td>\n",
       "      <td>307,518,727.99</td>\n",
       "      <td>2</td>\n",
       "      <td>11.70</td>\n",
       "      <td>5.85</td>\n",
       "    </tr>\n",
       "  </tbody>\n",
       "</table>\n",
       "</div>"
      ],
      "text/plain": [
       "                                    total_support_count  total_support_sum  \\\n",
       "main_director                                                                \n",
       "К.Шипенко                                             3     312,000,000.00   \n",
       "А.Мегердичев                                          1     400,000,000.00   \n",
       "А.Сидоров                                             1     180,000,000.00   \n",
       "Д.Дьяченко                                            4     351,000,000.00   \n",
       "О.Трофим                                              1      85,000,000.00   \n",
       "Ф.Бондарчук                                           1     500,000,000.00   \n",
       "М.Бальчюнас (псевдоним М.Вайсберг)                    1     100,000,000.00   \n",
       "Н.Лебедев                                             1     442,104,482.00   \n",
       "Д.Киселев                                             2     350,000,000.00   \n",
       "Т.Бекмамбетов                                         2     250,000,000.00   \n",
       "\n",
       "                                    total_support_mean  profit_count  \\\n",
       "main_director                                                          \n",
       "К.Шипенко                               104,000,000.00             3   \n",
       "А.Мегердичев                            400,000,000.00             1   \n",
       "А.Сидоров                               180,000,000.00             1   \n",
       "Д.Дьяченко                               87,750,000.00             4   \n",
       "О.Трофим                                 85,000,000.00             1   \n",
       "Ф.Бондарчук                             500,000,000.00             1   \n",
       "М.Бальчюнас (псевдоним М.Вайсберг)      100,000,000.00             1   \n",
       "Н.Лебедев                               442,104,482.00             1   \n",
       "Д.Киселев                               175,000,000.00             2   \n",
       "Т.Бекмамбетов                           125,000,000.00             2   \n",
       "\n",
       "                                         profit_sum      profit_mean  \\\n",
       "main_director                                                          \n",
       "К.Шипенко                          3,122,841,549.79 1,040,947,183.26   \n",
       "А.Мегердичев                       2,189,493,953.00 2,189,493,953.00   \n",
       "А.Сидоров                          1,707,969,287.52 1,707,969,287.52   \n",
       "Д.Дьяченко                         1,624,203,322.12   406,050,830.53   \n",
       "О.Трофим                           1,297,146,575.89 1,297,146,575.89   \n",
       "Ф.Бондарчук                        1,276,177,696.00 1,276,177,696.00   \n",
       "М.Бальчюнас (псевдоним М.Вайсберг)   922,074,186.00   922,074,186.00   \n",
       "Н.Лебедев                            766,971,523.00   766,971,523.00   \n",
       "Д.Киселев                            696,959,413.00   348,479,706.50   \n",
       "Т.Бекмамбетов                        615,037,455.97   307,518,727.99   \n",
       "\n",
       "                                    ratings_count  ratings_sum  ratings_mean  \n",
       "main_director                                                                 \n",
       "К.Шипенко                                       3        20.50          6.83  \n",
       "А.Мегердичев                                    1         7.50          7.50  \n",
       "А.Сидоров                                       1         6.50          6.50  \n",
       "Д.Дьяченко                                      4        22.60          5.65  \n",
       "О.Трофим                                        0         0.00           NaN  \n",
       "Ф.Бондарчук                                     1         5.70          5.70  \n",
       "М.Бальчюнас (псевдоним М.Вайсберг)              1         4.50          4.50  \n",
       "Н.Лебедев                                       1         7.60          7.60  \n",
       "Д.Киселев                                       2        13.30          6.65  \n",
       "Т.Бекмамбетов                                   2        11.70          5.85  "
      ]
     },
     "execution_count": 69,
     "metadata": {},
     "output_type": "execute_result"
    }
   ],
   "source": [
    "top_director.sort_values(by='profit_sum', ascending=False).head(10)"
   ]
  },
  {
   "cell_type": "markdown",
   "metadata": {},
   "source": [
    "**ВЫВОД**\n",
    "- **Бондарчук** получил 500 млн поддержки, которые окупились. Хомерики получил на три фильма 600 млн на два фитльма, но провалился в прокате.\n",
    "- **Давлетьярову** профинансировали 5 фильмапочти на 460 млн. руб, которые так же не окупились.\n",
    "\n",
    "- **Шипенко** получил на 3 фильма 312 млн. и собрал хорошую кассу в 3.12 млрд рублей. \n",
    "- **Дьяченко** получил на 4 фильма 351 млн рублей поддержки и смог заработать 1.62 млрд рублей\n",
    "- Больше всего гос.поддержки получили фильмы в историческом, спортивном, фантастическом жанрах. Режиссеры С.Мокрицкий и Р.Давльетьяров получили еще и высокие ркйтинги\n",
    "- 38.41% от общего количества фильмов с гос.поддержкой составляют фильмы категории **16+**"
   ]
  },
  {
   "cell_type": "markdown",
   "metadata": {
    "id": "V2gYwMcPgFyd"
   },
   "source": [
    "### Шаг 5. Напишите общий вывод"
   ]
  },
  {
   "cell_type": "markdown",
   "metadata": {},
   "source": [
    "**Перед нами была поставлена задача изучить российский кинопроката и выявить текущие тренды. Мы получили данные о прокатных удостоверениях, сборах и государственной поддержке фильмов**\n",
    "\n",
    "Мы провели предобработку данных. Проверили датасет нап дубликаты, добавили новые столбцы необходимые для дальнейшего исследования и удалили строки в которых есть гос.поддержка, но при этом бюджет составляет ноль\n",
    "\n",
    "\n",
    "***ВЫВОД:***\n",
    "\n",
    "- Начиная с 2014 года количество выланных удостоверений растет , только в 2017 году было падение\n",
    "- Больше всекго поддержки получили исторические и спортивные фильмы, что мы собственно и наблюдаем в нашем прокате\n",
    "- Больбше всего фильмов выходи в прокт в категории **16+** \n",
    "- Количество фильмов, снятых с участием государства составляет чуть более 4% от всех фильмов, выпущенных в прокат за все время\n",
    "- Всего за период была выделена поддержка на сумму 18 248 198 847  руб. \n",
    "- Минимальное значение гос.поддержки составило 3 млн руб.\n",
    "- Общая касса за весь период с гос.поддержкой, составляет 40 332 532 634 руб\n",
    "\n"
   ]
  },
  {
   "cell_type": "markdown",
   "metadata": {},
   "source": [
    "Так же хочется отметить тот факт , что фильм с господдержкой скорее всего не окупится в отличии от фильма с частным финансированием . Я думаю это связано с тем , что люди тратят не свои деньги и относятся к ним более халатно.Тут можно провести аналогию с футбольными клубами , частные футбольные клубы более экономически эффективны по сравнению с клубами имеющими гос.финансипрвание"
   ]
  }
 ],
 "metadata": {
  "ExecuteTimeLog": [
   {
    "duration": 537,
    "start_time": "2021-07-07T10:12:08.634Z"
   },
   {
    "duration": 206,
    "start_time": "2021-07-07T10:12:30.191Z"
   },
   {
    "duration": 227,
    "start_time": "2021-07-07T10:12:33.078Z"
   },
   {
    "duration": 153,
    "start_time": "2021-07-07T10:13:42.146Z"
   },
   {
    "duration": 233,
    "start_time": "2021-07-07T10:30:09.252Z"
   },
   {
    "duration": 19,
    "start_time": "2021-07-07T10:30:15.577Z"
   },
   {
    "duration": 18,
    "start_time": "2021-07-07T10:30:57.348Z"
   },
   {
    "duration": 19,
    "start_time": "2021-07-07T10:31:17.452Z"
   },
   {
    "duration": 21,
    "start_time": "2021-07-07T10:31:32.227Z"
   },
   {
    "duration": 27,
    "start_time": "2021-07-07T10:32:06.588Z"
   },
   {
    "duration": 23,
    "start_time": "2021-07-07T10:32:43.645Z"
   },
   {
    "duration": 24,
    "start_time": "2021-07-07T10:33:06.948Z"
   },
   {
    "duration": 7,
    "start_time": "2021-07-07T10:33:28.558Z"
   },
   {
    "duration": 23,
    "start_time": "2021-07-07T10:33:43.761Z"
   },
   {
    "duration": 28,
    "start_time": "2021-07-07T10:34:13.466Z"
   },
   {
    "duration": 23,
    "start_time": "2021-07-07T10:35:56.187Z"
   },
   {
    "duration": 6,
    "start_time": "2021-07-07T10:36:48.182Z"
   },
   {
    "duration": 14,
    "start_time": "2021-07-07T10:37:49.641Z"
   },
   {
    "duration": 6,
    "start_time": "2021-07-07T10:38:06.694Z"
   },
   {
    "duration": 6,
    "start_time": "2021-07-07T10:38:13.493Z"
   },
   {
    "duration": 19,
    "start_time": "2021-07-07T10:38:44.056Z"
   },
   {
    "duration": 186,
    "start_time": "2021-07-07T10:48:35.618Z"
   },
   {
    "duration": 24,
    "start_time": "2021-07-07T10:48:51.498Z"
   },
   {
    "duration": 20,
    "start_time": "2021-07-07T10:48:59.415Z"
   },
   {
    "duration": 20,
    "start_time": "2021-07-07T10:53:02.195Z"
   },
   {
    "duration": 188,
    "start_time": "2021-07-07T10:54:40.486Z"
   },
   {
    "duration": 115,
    "start_time": "2021-07-07T10:54:52.552Z"
   },
   {
    "duration": 214,
    "start_time": "2021-07-07T10:54:56.354Z"
   },
   {
    "duration": 47,
    "start_time": "2021-07-07T10:54:58.282Z"
   },
   {
    "duration": 217,
    "start_time": "2021-07-07T10:59:16.075Z"
   },
   {
    "duration": 51,
    "start_time": "2021-07-07T10:59:16.243Z"
   },
   {
    "duration": 578,
    "start_time": "2021-07-07T10:59:18.774Z"
   },
   {
    "duration": 161,
    "start_time": "2021-07-07T10:59:21.238Z"
   },
   {
    "duration": 59,
    "start_time": "2021-07-07T10:59:21.453Z"
   },
   {
    "duration": 3,
    "start_time": "2021-07-07T11:02:10.786Z"
   },
   {
    "duration": 13,
    "start_time": "2021-07-07T11:07:07.722Z"
   },
   {
    "duration": 26,
    "start_time": "2021-07-07T11:07:17.958Z"
   },
   {
    "duration": 22,
    "start_time": "2021-07-07T11:08:17.939Z"
   },
   {
    "duration": 212,
    "start_time": "2021-07-07T11:08:19.665Z"
   },
   {
    "duration": 21,
    "start_time": "2021-07-07T11:08:29.945Z"
   },
   {
    "duration": 31,
    "start_time": "2021-07-07T11:08:38.899Z"
   },
   {
    "duration": 23,
    "start_time": "2021-07-07T11:08:54.527Z"
   },
   {
    "duration": 8,
    "start_time": "2021-07-07T11:18:55.974Z"
   },
   {
    "duration": 7,
    "start_time": "2021-07-07T11:19:03.639Z"
   },
   {
    "duration": 7,
    "start_time": "2021-07-07T11:19:06.444Z"
   },
   {
    "duration": 578,
    "start_time": "2021-07-07T12:09:59.576Z"
   },
   {
    "duration": 195,
    "start_time": "2021-07-07T12:10:00.156Z"
   },
   {
    "duration": 115,
    "start_time": "2021-07-07T12:10:00.353Z"
   },
   {
    "duration": 3,
    "start_time": "2021-07-07T12:10:00.470Z"
   },
   {
    "duration": 32,
    "start_time": "2021-07-07T12:10:00.474Z"
   },
   {
    "duration": 23,
    "start_time": "2021-07-07T12:10:00.508Z"
   },
   {
    "duration": 19,
    "start_time": "2021-07-07T12:10:00.533Z"
   },
   {
    "duration": 44,
    "start_time": "2021-07-07T12:10:00.553Z"
   },
   {
    "duration": 7,
    "start_time": "2021-07-07T12:10:00.600Z"
   },
   {
    "duration": 7,
    "start_time": "2021-07-07T12:19:45.761Z"
   },
   {
    "duration": 21,
    "start_time": "2021-07-07T12:21:35.482Z"
   },
   {
    "duration": 21,
    "start_time": "2021-07-07T12:29:23.569Z"
   },
   {
    "duration": 525,
    "start_time": "2021-07-07T12:29:44.542Z"
   },
   {
    "duration": 214,
    "start_time": "2021-07-07T12:29:45.069Z"
   },
   {
    "duration": 92,
    "start_time": "2021-07-07T12:29:45.285Z"
   },
   {
    "duration": 3,
    "start_time": "2021-07-07T12:29:45.379Z"
   },
   {
    "duration": 28,
    "start_time": "2021-07-07T12:29:45.384Z"
   },
   {
    "duration": 23,
    "start_time": "2021-07-07T12:29:45.413Z"
   },
   {
    "duration": 21,
    "start_time": "2021-07-07T12:29:45.437Z"
   },
   {
    "duration": 41,
    "start_time": "2021-07-07T12:29:45.460Z"
   },
   {
    "duration": 7,
    "start_time": "2021-07-07T12:29:45.502Z"
   },
   {
    "duration": 20,
    "start_time": "2021-07-07T12:29:45.511Z"
   },
   {
    "duration": 12,
    "start_time": "2021-07-07T12:34:02.800Z"
   },
   {
    "duration": 7,
    "start_time": "2021-07-07T12:35:10.479Z"
   },
   {
    "duration": 8,
    "start_time": "2021-07-07T12:35:22.440Z"
   },
   {
    "duration": 6,
    "start_time": "2021-07-07T12:35:35.649Z"
   },
   {
    "duration": 6,
    "start_time": "2021-07-07T12:35:43.107Z"
   },
   {
    "duration": 22,
    "start_time": "2021-07-07T12:38:03.029Z"
   },
   {
    "duration": 10,
    "start_time": "2021-07-07T12:38:06.592Z"
   },
   {
    "duration": 563,
    "start_time": "2021-07-07T12:38:46.493Z"
   },
   {
    "duration": 265,
    "start_time": "2021-07-07T12:38:47.058Z"
   },
   {
    "duration": 94,
    "start_time": "2021-07-07T12:38:47.325Z"
   },
   {
    "duration": 3,
    "start_time": "2021-07-07T12:38:47.422Z"
   },
   {
    "duration": 30,
    "start_time": "2021-07-07T12:38:47.427Z"
   },
   {
    "duration": 16,
    "start_time": "2021-07-07T12:38:53.305Z"
   },
   {
    "duration": 10,
    "start_time": "2021-07-07T12:38:53.499Z"
   },
   {
    "duration": 8,
    "start_time": "2021-07-07T12:39:48.161Z"
   },
   {
    "duration": 27,
    "start_time": "2021-07-07T12:41:17.629Z"
   },
   {
    "duration": 17,
    "start_time": "2021-07-07T12:41:17.867Z"
   },
   {
    "duration": 21,
    "start_time": "2021-07-07T12:41:19.310Z"
   },
   {
    "duration": 7,
    "start_time": "2021-07-07T12:41:19.544Z"
   },
   {
    "duration": 20,
    "start_time": "2021-07-07T12:41:20.504Z"
   },
   {
    "duration": 554,
    "start_time": "2021-07-07T12:56:23.696Z"
   },
   {
    "duration": 200,
    "start_time": "2021-07-07T12:56:25.234Z"
   },
   {
    "duration": 119,
    "start_time": "2021-07-07T12:56:25.480Z"
   },
   {
    "duration": 4,
    "start_time": "2021-07-07T12:56:25.762Z"
   },
   {
    "duration": 26,
    "start_time": "2021-07-07T12:56:27.172Z"
   },
   {
    "duration": 12,
    "start_time": "2021-07-07T12:56:29.051Z"
   },
   {
    "duration": 10,
    "start_time": "2021-07-07T12:56:29.291Z"
   },
   {
    "duration": 8,
    "start_time": "2021-07-07T12:56:29.623Z"
   },
   {
    "duration": 28,
    "start_time": "2021-07-07T12:56:32.137Z"
   },
   {
    "duration": 19,
    "start_time": "2021-07-07T12:56:39.785Z"
   },
   {
    "duration": 20,
    "start_time": "2021-07-07T12:56:44.297Z"
   },
   {
    "duration": 7,
    "start_time": "2021-07-07T12:56:45.392Z"
   },
   {
    "duration": 23,
    "start_time": "2021-07-07T12:56:46.615Z"
   },
   {
    "duration": 4,
    "start_time": "2021-07-07T12:57:06.625Z"
   },
   {
    "duration": 32,
    "start_time": "2021-07-07T12:57:36.690Z"
   },
   {
    "duration": 18,
    "start_time": "2021-07-07T12:58:00.149Z"
   },
   {
    "duration": 15,
    "start_time": "2021-07-07T12:59:16.793Z"
   },
   {
    "duration": 7,
    "start_time": "2021-07-07T13:19:22.624Z"
   },
   {
    "duration": 6,
    "start_time": "2021-07-07T14:17:33.527Z"
   },
   {
    "duration": 9,
    "start_time": "2021-07-07T14:17:48.409Z"
   },
   {
    "duration": 8,
    "start_time": "2021-07-07T14:20:13.060Z"
   },
   {
    "duration": 8,
    "start_time": "2021-07-07T14:20:37.957Z"
   },
   {
    "duration": 8,
    "start_time": "2021-07-07T14:20:47.470Z"
   },
   {
    "duration": 9,
    "start_time": "2021-07-07T14:20:54.503Z"
   },
   {
    "duration": 10,
    "start_time": "2021-07-07T14:28:57.763Z"
   },
   {
    "duration": 3,
    "start_time": "2021-07-07T14:30:23.377Z"
   },
   {
    "duration": 3,
    "start_time": "2021-07-07T14:30:36.489Z"
   },
   {
    "duration": 103,
    "start_time": "2021-07-07T14:30:52.351Z"
   },
   {
    "duration": 8,
    "start_time": "2021-07-07T14:30:54.763Z"
   },
   {
    "duration": 8,
    "start_time": "2021-07-07T14:31:29.301Z"
   },
   {
    "duration": 13,
    "start_time": "2021-07-07T14:31:44.516Z"
   },
   {
    "duration": 7,
    "start_time": "2021-07-07T14:33:10.972Z"
   },
   {
    "duration": 11,
    "start_time": "2021-07-07T14:33:27.780Z"
   },
   {
    "duration": 8,
    "start_time": "2021-07-07T14:34:44.588Z"
   },
   {
    "duration": 57,
    "start_time": "2021-07-07T14:35:59.042Z"
   },
   {
    "duration": 3,
    "start_time": "2021-07-07T14:36:28.168Z"
   },
   {
    "duration": 5,
    "start_time": "2021-07-07T14:36:46.254Z"
   },
   {
    "duration": 4,
    "start_time": "2021-07-07T14:36:52.714Z"
   },
   {
    "duration": 3,
    "start_time": "2021-07-07T14:36:56.612Z"
   },
   {
    "duration": 4,
    "start_time": "2021-07-07T14:36:57.049Z"
   },
   {
    "duration": 3,
    "start_time": "2021-07-07T14:39:21.214Z"
   },
   {
    "duration": 7,
    "start_time": "2021-07-07T14:39:52.406Z"
   },
   {
    "duration": 11,
    "start_time": "2021-07-07T14:39:58.576Z"
   },
   {
    "duration": 9,
    "start_time": "2021-07-07T14:40:26.301Z"
   },
   {
    "duration": 10,
    "start_time": "2021-07-07T14:40:31.704Z"
   },
   {
    "duration": 11,
    "start_time": "2021-07-07T14:40:36.249Z"
   },
   {
    "duration": 10,
    "start_time": "2021-07-07T14:40:39.783Z"
   },
   {
    "duration": 9,
    "start_time": "2021-07-07T14:40:48.558Z"
   },
   {
    "duration": 10,
    "start_time": "2021-07-07T14:40:57.143Z"
   },
   {
    "duration": 9,
    "start_time": "2021-07-07T14:41:06.074Z"
   },
   {
    "duration": 4324,
    "start_time": "2021-07-07T14:41:22.004Z"
   },
   {
    "duration": 11,
    "start_time": "2021-07-07T14:41:33.392Z"
   },
   {
    "duration": 9,
    "start_time": "2021-07-07T14:41:39.288Z"
   },
   {
    "duration": 569,
    "start_time": "2021-07-07T14:42:14.387Z"
   },
   {
    "duration": 197,
    "start_time": "2021-07-07T14:42:14.959Z"
   },
   {
    "duration": 84,
    "start_time": "2021-07-07T14:42:16.052Z"
   },
   {
    "duration": 4,
    "start_time": "2021-07-07T14:42:16.900Z"
   },
   {
    "duration": 27,
    "start_time": "2021-07-07T14:42:19.898Z"
   },
   {
    "duration": 12,
    "start_time": "2021-07-07T14:42:21.577Z"
   },
   {
    "duration": 9,
    "start_time": "2021-07-07T14:42:21.813Z"
   },
   {
    "duration": 9,
    "start_time": "2021-07-07T14:42:22.569Z"
   },
   {
    "duration": 29,
    "start_time": "2021-07-07T14:42:25.837Z"
   },
   {
    "duration": 20,
    "start_time": "2021-07-07T14:42:27.003Z"
   },
   {
    "duration": 21,
    "start_time": "2021-07-07T14:42:28.767Z"
   },
   {
    "duration": 7,
    "start_time": "2021-07-07T14:42:29.838Z"
   },
   {
    "duration": 4,
    "start_time": "2021-07-07T14:43:25.493Z"
   },
   {
    "duration": 7,
    "start_time": "2021-07-07T14:43:26.573Z"
   },
   {
    "duration": 10,
    "start_time": "2021-07-07T14:43:31.639Z"
   },
   {
    "duration": 9,
    "start_time": "2021-07-07T14:43:32.046Z"
   },
   {
    "duration": 10,
    "start_time": "2021-07-07T14:43:33.301Z"
   },
   {
    "duration": 12,
    "start_time": "2021-07-07T14:43:33.658Z"
   },
   {
    "duration": 8,
    "start_time": "2021-07-07T14:43:34.552Z"
   },
   {
    "duration": 9,
    "start_time": "2021-07-07T14:43:35.058Z"
   },
   {
    "duration": 12,
    "start_time": "2021-07-07T14:43:35.914Z"
   },
   {
    "duration": 17,
    "start_time": "2021-07-07T14:45:34.368Z"
   },
   {
    "duration": 512,
    "start_time": "2021-07-07T14:51:58.236Z"
   },
   {
    "duration": 223,
    "start_time": "2021-07-07T14:51:58.750Z"
   },
   {
    "duration": 93,
    "start_time": "2021-07-07T14:51:58.977Z"
   },
   {
    "duration": 4,
    "start_time": "2021-07-07T14:51:59.071Z"
   },
   {
    "duration": 37,
    "start_time": "2021-07-07T14:51:59.077Z"
   },
   {
    "duration": 18,
    "start_time": "2021-07-07T14:51:59.116Z"
   },
   {
    "duration": 10,
    "start_time": "2021-07-07T14:51:59.137Z"
   },
   {
    "duration": 8,
    "start_time": "2021-07-07T14:51:59.149Z"
   },
   {
    "duration": 54,
    "start_time": "2021-07-07T14:51:59.158Z"
   },
   {
    "duration": 18,
    "start_time": "2021-07-07T14:51:59.213Z"
   },
   {
    "duration": 22,
    "start_time": "2021-07-07T14:51:59.232Z"
   },
   {
    "duration": 36,
    "start_time": "2021-07-07T14:51:59.255Z"
   },
   {
    "duration": 7,
    "start_time": "2021-07-07T14:51:59.293Z"
   },
   {
    "duration": 10,
    "start_time": "2021-07-07T14:51:59.302Z"
   },
   {
    "duration": 9,
    "start_time": "2021-07-07T14:51:59.313Z"
   },
   {
    "duration": 11,
    "start_time": "2021-07-07T14:51:59.324Z"
   },
   {
    "duration": 8,
    "start_time": "2021-07-07T14:51:59.337Z"
   },
   {
    "duration": 46,
    "start_time": "2021-07-07T14:51:59.347Z"
   },
   {
    "duration": 22,
    "start_time": "2021-07-07T14:51:59.395Z"
   },
   {
    "duration": 24,
    "start_time": "2021-07-07T14:57:32.911Z"
   },
   {
    "duration": 7,
    "start_time": "2021-07-07T14:58:22.070Z"
   },
   {
    "duration": 4,
    "start_time": "2021-07-07T14:59:11.239Z"
   },
   {
    "duration": 25,
    "start_time": "2021-07-07T15:07:22.208Z"
   },
   {
    "duration": 16,
    "start_time": "2021-07-07T15:08:25.560Z"
   },
   {
    "duration": 15,
    "start_time": "2021-07-07T15:08:40.647Z"
   },
   {
    "duration": 14,
    "start_time": "2021-07-07T15:08:46.669Z"
   },
   {
    "duration": 533,
    "start_time": "2021-07-07T15:18:07.440Z"
   },
   {
    "duration": 173,
    "start_time": "2021-07-07T15:18:07.974Z"
   },
   {
    "duration": 84,
    "start_time": "2021-07-07T15:18:08.149Z"
   },
   {
    "duration": 3,
    "start_time": "2021-07-07T15:18:08.235Z"
   },
   {
    "duration": 30,
    "start_time": "2021-07-07T15:18:08.240Z"
   },
   {
    "duration": 22,
    "start_time": "2021-07-07T15:18:08.272Z"
   },
   {
    "duration": 11,
    "start_time": "2021-07-07T15:18:08.295Z"
   },
   {
    "duration": 11,
    "start_time": "2021-07-07T15:18:08.309Z"
   },
   {
    "duration": 40,
    "start_time": "2021-07-07T15:18:08.322Z"
   },
   {
    "duration": 42,
    "start_time": "2021-07-07T15:18:08.364Z"
   },
   {
    "duration": 22,
    "start_time": "2021-07-07T15:18:08.408Z"
   },
   {
    "duration": 5,
    "start_time": "2021-07-07T15:18:08.432Z"
   },
   {
    "duration": 13,
    "start_time": "2021-07-07T15:18:08.439Z"
   },
   {
    "duration": 9,
    "start_time": "2021-07-07T15:18:08.454Z"
   },
   {
    "duration": 32,
    "start_time": "2021-07-07T15:18:08.465Z"
   },
   {
    "duration": 10,
    "start_time": "2021-07-07T15:18:08.501Z"
   },
   {
    "duration": 7,
    "start_time": "2021-07-07T15:18:08.513Z"
   },
   {
    "duration": 11,
    "start_time": "2021-07-07T15:18:08.521Z"
   },
   {
    "duration": 17,
    "start_time": "2021-07-07T15:18:08.534Z"
   },
   {
    "duration": 44,
    "start_time": "2021-07-07T15:18:08.553Z"
   },
   {
    "duration": 22,
    "start_time": "2021-07-07T15:18:08.599Z"
   },
   {
    "duration": 61,
    "start_time": "2021-07-07T15:18:08.622Z"
   },
   {
    "duration": 7,
    "start_time": "2021-07-07T15:18:39.457Z"
   },
   {
    "duration": 5,
    "start_time": "2021-07-07T16:05:17.020Z"
   },
   {
    "duration": 5,
    "start_time": "2021-07-07T16:51:28.794Z"
   },
   {
    "duration": 546,
    "start_time": "2021-07-07T16:52:26.306Z"
   },
   {
    "duration": 203,
    "start_time": "2021-07-07T16:52:27.523Z"
   },
   {
    "duration": 85,
    "start_time": "2021-07-07T16:52:27.736Z"
   },
   {
    "duration": 4,
    "start_time": "2021-07-07T16:52:27.899Z"
   },
   {
    "duration": 25,
    "start_time": "2021-07-07T16:52:28.674Z"
   },
   {
    "duration": 8,
    "start_time": "2021-07-07T16:52:32.956Z"
   },
   {
    "duration": 18,
    "start_time": "2021-07-07T16:52:35.616Z"
   },
   {
    "duration": 6,
    "start_time": "2021-07-07T16:52:36.913Z"
   },
   {
    "duration": 11,
    "start_time": "2021-07-07T16:52:40.258Z"
   },
   {
    "duration": 10,
    "start_time": "2021-07-07T16:52:46.251Z"
   },
   {
    "duration": 8,
    "start_time": "2021-07-07T16:52:47.182Z"
   },
   {
    "duration": 27,
    "start_time": "2021-07-07T16:53:20.391Z"
   },
   {
    "duration": 20,
    "start_time": "2021-07-07T16:53:22.022Z"
   },
   {
    "duration": 23,
    "start_time": "2021-07-07T16:53:23.690Z"
   },
   {
    "duration": 8,
    "start_time": "2021-07-07T16:53:24.261Z"
   },
   {
    "duration": 4,
    "start_time": "2021-07-07T16:53:38.733Z"
   },
   {
    "duration": 7,
    "start_time": "2021-07-07T16:53:40.445Z"
   },
   {
    "duration": 11,
    "start_time": "2021-07-07T16:53:41.348Z"
   },
   {
    "duration": 13,
    "start_time": "2021-07-07T16:53:45.250Z"
   },
   {
    "duration": 12,
    "start_time": "2021-07-07T16:53:45.467Z"
   },
   {
    "duration": 4,
    "start_time": "2021-07-07T16:55:32.704Z"
   },
   {
    "duration": 12,
    "start_time": "2021-07-07T16:55:49.012Z"
   },
   {
    "duration": 18,
    "start_time": "2021-07-07T16:55:49.547Z"
   },
   {
    "duration": 611,
    "start_time": "2021-07-07T16:58:35.156Z"
   },
   {
    "duration": 200,
    "start_time": "2021-07-07T16:58:35.770Z"
   },
   {
    "duration": 86,
    "start_time": "2021-07-07T16:58:35.972Z"
   },
   {
    "duration": 3,
    "start_time": "2021-07-07T16:58:36.060Z"
   },
   {
    "duration": 27,
    "start_time": "2021-07-07T16:58:36.065Z"
   },
   {
    "duration": 8,
    "start_time": "2021-07-07T16:58:36.094Z"
   },
   {
    "duration": 17,
    "start_time": "2021-07-07T16:58:36.103Z"
   },
   {
    "duration": 5,
    "start_time": "2021-07-07T16:58:36.123Z"
   },
   {
    "duration": 11,
    "start_time": "2021-07-07T16:58:36.130Z"
   },
   {
    "duration": 7,
    "start_time": "2021-07-07T16:58:36.143Z"
   },
   {
    "duration": 37,
    "start_time": "2021-07-07T16:58:36.152Z"
   },
   {
    "duration": 27,
    "start_time": "2021-07-07T16:58:36.191Z"
   },
   {
    "duration": 19,
    "start_time": "2021-07-07T16:58:36.219Z"
   },
   {
    "duration": 49,
    "start_time": "2021-07-07T16:58:36.240Z"
   },
   {
    "duration": 6,
    "start_time": "2021-07-07T16:58:36.291Z"
   },
   {
    "duration": 3,
    "start_time": "2021-07-07T16:58:36.299Z"
   },
   {
    "duration": 13,
    "start_time": "2021-07-07T16:58:36.304Z"
   },
   {
    "duration": 10,
    "start_time": "2021-07-07T16:58:36.319Z"
   },
   {
    "duration": 10,
    "start_time": "2021-07-07T16:58:36.331Z"
   },
   {
    "duration": 44,
    "start_time": "2021-07-07T16:58:36.343Z"
   },
   {
    "duration": 4,
    "start_time": "2021-07-07T16:58:36.388Z"
   },
   {
    "duration": 13,
    "start_time": "2021-07-07T16:58:36.394Z"
   },
   {
    "duration": 16,
    "start_time": "2021-07-07T16:58:36.410Z"
   },
   {
    "duration": 8,
    "start_time": "2021-07-07T17:02:31.629Z"
   },
   {
    "duration": 8,
    "start_time": "2021-07-07T17:02:34.308Z"
   },
   {
    "duration": 6,
    "start_time": "2021-07-07T17:05:13.483Z"
   },
   {
    "duration": 17,
    "start_time": "2021-07-07T17:05:20.606Z"
   },
   {
    "duration": 7,
    "start_time": "2021-07-07T17:05:34.638Z"
   },
   {
    "duration": 3,
    "start_time": "2021-07-07T17:06:31.883Z"
   },
   {
    "duration": 570,
    "start_time": "2021-07-07T17:06:37.165Z"
   },
   {
    "duration": 174,
    "start_time": "2021-07-07T17:06:37.737Z"
   },
   {
    "duration": 47,
    "start_time": "2021-07-07T17:06:37.913Z"
   },
   {
    "duration": 3,
    "start_time": "2021-07-07T17:06:37.962Z"
   },
   {
    "duration": 27,
    "start_time": "2021-07-07T17:06:37.967Z"
   },
   {
    "duration": 7,
    "start_time": "2021-07-07T17:06:37.996Z"
   },
   {
    "duration": 16,
    "start_time": "2021-07-07T17:06:38.005Z"
   },
   {
    "duration": 6,
    "start_time": "2021-07-07T17:06:38.024Z"
   },
   {
    "duration": 12,
    "start_time": "2021-07-07T17:06:38.031Z"
   },
   {
    "duration": 41,
    "start_time": "2021-07-07T17:06:38.045Z"
   },
   {
    "duration": 8,
    "start_time": "2021-07-07T17:06:38.088Z"
   },
   {
    "duration": 26,
    "start_time": "2021-07-07T17:06:38.098Z"
   },
   {
    "duration": 17,
    "start_time": "2021-07-07T17:06:38.126Z"
   },
   {
    "duration": 43,
    "start_time": "2021-07-07T17:06:38.144Z"
   },
   {
    "duration": 6,
    "start_time": "2021-07-07T17:06:38.188Z"
   },
   {
    "duration": 5,
    "start_time": "2021-07-07T17:06:38.195Z"
   },
   {
    "duration": 9,
    "start_time": "2021-07-07T17:06:38.201Z"
   },
   {
    "duration": 12,
    "start_time": "2021-07-07T17:06:38.212Z"
   },
   {
    "duration": 11,
    "start_time": "2021-07-07T17:06:38.226Z"
   },
   {
    "duration": 47,
    "start_time": "2021-07-07T17:06:38.239Z"
   },
   {
    "duration": 4,
    "start_time": "2021-07-07T17:06:38.288Z"
   },
   {
    "duration": 13,
    "start_time": "2021-07-07T17:06:38.293Z"
   },
   {
    "duration": 5,
    "start_time": "2021-07-07T17:06:38.309Z"
   },
   {
    "duration": 18,
    "start_time": "2021-07-07T17:06:38.325Z"
   },
   {
    "duration": 20,
    "start_time": "2021-07-07T17:07:02.805Z"
   },
   {
    "duration": 19,
    "start_time": "2021-07-07T17:07:08.527Z"
   },
   {
    "duration": 19,
    "start_time": "2021-07-07T17:07:12.758Z"
   },
   {
    "duration": 22,
    "start_time": "2021-07-07T17:07:17.497Z"
   },
   {
    "duration": 19,
    "start_time": "2021-07-07T17:07:19.645Z"
   },
   {
    "duration": 10,
    "start_time": "2021-07-07T17:07:34.239Z"
   },
   {
    "duration": 17,
    "start_time": "2021-07-07T17:07:54.144Z"
   },
   {
    "duration": 14,
    "start_time": "2021-07-07T17:08:14.357Z"
   },
   {
    "duration": 616,
    "start_time": "2021-07-07T17:08:45.254Z"
   },
   {
    "duration": 178,
    "start_time": "2021-07-07T17:08:45.872Z"
   },
   {
    "duration": 60,
    "start_time": "2021-07-07T17:08:46.054Z"
   },
   {
    "duration": 3,
    "start_time": "2021-07-07T17:08:46.116Z"
   },
   {
    "duration": 26,
    "start_time": "2021-07-07T17:08:46.121Z"
   },
   {
    "duration": 7,
    "start_time": "2021-07-07T17:08:46.149Z"
   },
   {
    "duration": 17,
    "start_time": "2021-07-07T17:08:46.158Z"
   },
   {
    "duration": 14,
    "start_time": "2021-07-07T17:08:46.176Z"
   },
   {
    "duration": 17,
    "start_time": "2021-07-07T17:08:46.193Z"
   },
   {
    "duration": 9,
    "start_time": "2021-07-07T17:08:46.211Z"
   },
   {
    "duration": 21,
    "start_time": "2021-07-07T17:08:46.221Z"
   },
   {
    "duration": 49,
    "start_time": "2021-07-07T17:08:46.244Z"
   },
   {
    "duration": 24,
    "start_time": "2021-07-07T17:08:46.295Z"
   },
   {
    "duration": 22,
    "start_time": "2021-07-07T17:08:46.321Z"
   },
   {
    "duration": 6,
    "start_time": "2021-07-07T17:08:46.345Z"
   },
   {
    "duration": 5,
    "start_time": "2021-07-07T17:08:46.353Z"
   },
   {
    "duration": 13,
    "start_time": "2021-07-07T17:08:46.386Z"
   },
   {
    "duration": 12,
    "start_time": "2021-07-07T17:08:46.402Z"
   },
   {
    "duration": 10,
    "start_time": "2021-07-07T17:08:46.415Z"
   },
   {
    "duration": 7,
    "start_time": "2021-07-07T17:08:46.427Z"
   },
   {
    "duration": 8,
    "start_time": "2021-07-07T17:08:46.435Z"
   },
   {
    "duration": 68,
    "start_time": "2021-07-07T17:08:46.446Z"
   },
   {
    "duration": 13,
    "start_time": "2021-07-07T17:08:46.516Z"
   },
   {
    "duration": 78,
    "start_time": "2021-07-07T17:08:46.530Z"
   },
   {
    "duration": 40,
    "start_time": "2021-07-07T17:09:08.185Z"
   },
   {
    "duration": 16,
    "start_time": "2021-07-07T17:09:19.324Z"
   },
   {
    "duration": 21,
    "start_time": "2021-07-07T17:09:23.290Z"
   },
   {
    "duration": 13,
    "start_time": "2021-07-07T17:09:54.812Z"
   },
   {
    "duration": 13,
    "start_time": "2021-07-07T17:10:02.039Z"
   },
   {
    "duration": 10,
    "start_time": "2021-07-07T17:10:29.632Z"
   },
   {
    "duration": 13,
    "start_time": "2021-07-07T17:10:52.372Z"
   },
   {
    "duration": 13,
    "start_time": "2021-07-07T17:11:17.270Z"
   },
   {
    "duration": 13,
    "start_time": "2021-07-07T17:14:59.284Z"
   },
   {
    "duration": 547,
    "start_time": "2021-07-07T17:18:52.403Z"
   },
   {
    "duration": 163,
    "start_time": "2021-07-07T17:18:52.952Z"
   },
   {
    "duration": 44,
    "start_time": "2021-07-07T17:18:53.117Z"
   },
   {
    "duration": 3,
    "start_time": "2021-07-07T17:18:53.162Z"
   },
   {
    "duration": 26,
    "start_time": "2021-07-07T17:18:53.167Z"
   },
   {
    "duration": 6,
    "start_time": "2021-07-07T17:18:53.195Z"
   },
   {
    "duration": 15,
    "start_time": "2021-07-07T17:18:53.203Z"
   },
   {
    "duration": 5,
    "start_time": "2021-07-07T17:18:53.220Z"
   },
   {
    "duration": 11,
    "start_time": "2021-07-07T17:18:53.228Z"
   },
   {
    "duration": 9,
    "start_time": "2021-07-07T17:18:53.241Z"
   },
   {
    "duration": 41,
    "start_time": "2021-07-07T17:18:53.252Z"
   },
   {
    "duration": 33,
    "start_time": "2021-07-07T17:18:53.295Z"
   },
   {
    "duration": 19,
    "start_time": "2021-07-07T17:18:53.330Z"
   },
   {
    "duration": 49,
    "start_time": "2021-07-07T17:18:53.350Z"
   },
   {
    "duration": 5,
    "start_time": "2021-07-07T17:18:53.401Z"
   },
   {
    "duration": 5,
    "start_time": "2021-07-07T17:18:53.408Z"
   },
   {
    "duration": 11,
    "start_time": "2021-07-07T17:18:53.414Z"
   },
   {
    "duration": 9,
    "start_time": "2021-07-07T17:18:53.427Z"
   },
   {
    "duration": 10,
    "start_time": "2021-07-07T17:18:53.437Z"
   },
   {
    "duration": 39,
    "start_time": "2021-07-07T17:18:53.448Z"
   },
   {
    "duration": 26,
    "start_time": "2021-07-07T17:18:55.799Z"
   },
   {
    "duration": 598,
    "start_time": "2021-07-07T17:20:17.862Z"
   },
   {
    "duration": 161,
    "start_time": "2021-07-07T17:20:18.462Z"
   },
   {
    "duration": 45,
    "start_time": "2021-07-07T17:20:18.626Z"
   },
   {
    "duration": 4,
    "start_time": "2021-07-07T17:20:18.673Z"
   },
   {
    "duration": 38,
    "start_time": "2021-07-07T17:20:26.877Z"
   },
   {
    "duration": 7,
    "start_time": "2021-07-07T17:20:37.405Z"
   },
   {
    "duration": 19,
    "start_time": "2021-07-07T17:20:51.534Z"
   },
   {
    "duration": 5,
    "start_time": "2021-07-07T17:20:57.228Z"
   },
   {
    "duration": 7,
    "start_time": "2021-07-07T17:21:08.235Z"
   },
   {
    "duration": 19,
    "start_time": "2021-07-07T17:21:42.158Z"
   },
   {
    "duration": 14,
    "start_time": "2021-07-07T17:21:50.225Z"
   },
   {
    "duration": 22,
    "start_time": "2021-07-07T17:22:54.104Z"
   },
   {
    "duration": 5,
    "start_time": "2021-07-07T17:22:56.371Z"
   },
   {
    "duration": 14,
    "start_time": "2021-07-07T17:22:58.316Z"
   },
   {
    "duration": 5,
    "start_time": "2021-07-07T17:22:58.493Z"
   },
   {
    "duration": 35,
    "start_time": "2021-07-07T17:22:59.666Z"
   },
   {
    "duration": 6,
    "start_time": "2021-07-07T17:23:02.410Z"
   },
   {
    "duration": 611,
    "start_time": "2021-07-07T17:24:59.664Z"
   },
   {
    "duration": 178,
    "start_time": "2021-07-07T17:25:01.945Z"
   },
   {
    "duration": 47,
    "start_time": "2021-07-07T17:25:02.125Z"
   },
   {
    "duration": 2,
    "start_time": "2021-07-07T17:25:07.903Z"
   },
   {
    "duration": 254,
    "start_time": "2021-07-07T17:25:08.232Z"
   },
   {
    "duration": 182,
    "start_time": "2021-07-07T17:25:08.671Z"
   },
   {
    "duration": 6,
    "start_time": "2021-07-07T17:25:13.104Z"
   },
   {
    "duration": 36,
    "start_time": "2021-07-07T17:25:13.662Z"
   },
   {
    "duration": 7,
    "start_time": "2021-07-07T17:25:14.528Z"
   },
   {
    "duration": 24,
    "start_time": "2021-07-07T17:25:27.982Z"
   },
   {
    "duration": 3,
    "start_time": "2021-07-07T17:25:48.982Z"
   },
   {
    "duration": 165,
    "start_time": "2021-07-07T17:25:48.987Z"
   },
   {
    "duration": 50,
    "start_time": "2021-07-07T17:25:49.154Z"
   },
   {
    "duration": 4,
    "start_time": "2021-07-07T17:25:49.206Z"
   },
   {
    "duration": 26,
    "start_time": "2021-07-07T17:25:49.212Z"
   },
   {
    "duration": 7,
    "start_time": "2021-07-07T17:25:49.240Z"
   },
   {
    "duration": 16,
    "start_time": "2021-07-07T17:25:49.249Z"
   },
   {
    "duration": 22,
    "start_time": "2021-07-07T17:25:49.266Z"
   },
   {
    "duration": 16,
    "start_time": "2021-07-07T17:25:49.291Z"
   },
   {
    "duration": 9,
    "start_time": "2021-07-07T17:25:49.309Z"
   },
   {
    "duration": 7,
    "start_time": "2021-07-07T17:25:49.319Z"
   },
   {
    "duration": 28,
    "start_time": "2021-07-07T17:25:49.328Z"
   },
   {
    "duration": 44,
    "start_time": "2021-07-07T17:25:49.357Z"
   },
   {
    "duration": 22,
    "start_time": "2021-07-07T17:25:49.403Z"
   },
   {
    "duration": 7,
    "start_time": "2021-07-07T17:25:49.427Z"
   },
   {
    "duration": 3,
    "start_time": "2021-07-07T17:25:49.436Z"
   },
   {
    "duration": 44,
    "start_time": "2021-07-07T17:25:49.441Z"
   },
   {
    "duration": 12,
    "start_time": "2021-07-07T17:25:49.488Z"
   },
   {
    "duration": 13,
    "start_time": "2021-07-07T17:25:49.502Z"
   },
   {
    "duration": 10,
    "start_time": "2021-07-07T17:25:49.516Z"
   },
   {
    "duration": 62,
    "start_time": "2021-07-07T17:25:49.527Z"
   },
   {
    "duration": 26,
    "start_time": "2021-07-07T17:26:51.809Z"
   },
   {
    "duration": 26,
    "start_time": "2021-07-07T17:26:55.759Z"
   },
   {
    "duration": 26,
    "start_time": "2021-07-07T17:27:04.501Z"
   },
   {
    "duration": 25,
    "start_time": "2021-07-07T17:28:24.859Z"
   },
   {
    "duration": 21,
    "start_time": "2021-07-07T17:28:55.250Z"
   },
   {
    "duration": 21,
    "start_time": "2021-07-07T17:28:58.885Z"
   },
   {
    "duration": 7,
    "start_time": "2021-07-07T17:45:40.972Z"
   },
   {
    "duration": 13,
    "start_time": "2021-07-07T17:45:42.529Z"
   },
   {
    "duration": 27,
    "start_time": "2021-07-07T17:45:51.026Z"
   },
   {
    "duration": 518,
    "start_time": "2021-07-07T17:46:15.532Z"
   },
   {
    "duration": 235,
    "start_time": "2021-07-07T17:46:16.053Z"
   },
   {
    "duration": 80,
    "start_time": "2021-07-07T17:46:16.292Z"
   },
   {
    "duration": 5,
    "start_time": "2021-07-07T17:46:16.373Z"
   },
   {
    "duration": 26,
    "start_time": "2021-07-07T17:46:16.380Z"
   },
   {
    "duration": 7,
    "start_time": "2021-07-07T17:46:16.408Z"
   },
   {
    "duration": 16,
    "start_time": "2021-07-07T17:46:16.418Z"
   },
   {
    "duration": 5,
    "start_time": "2021-07-07T17:46:16.436Z"
   },
   {
    "duration": 13,
    "start_time": "2021-07-07T17:46:16.442Z"
   },
   {
    "duration": 35,
    "start_time": "2021-07-07T17:46:16.456Z"
   },
   {
    "duration": 8,
    "start_time": "2021-07-07T17:46:16.493Z"
   },
   {
    "duration": 28,
    "start_time": "2021-07-07T17:46:16.502Z"
   },
   {
    "duration": 17,
    "start_time": "2021-07-07T17:46:16.532Z"
   },
   {
    "duration": 44,
    "start_time": "2021-07-07T17:46:16.551Z"
   },
   {
    "duration": 6,
    "start_time": "2021-07-07T17:46:16.597Z"
   },
   {
    "duration": 4,
    "start_time": "2021-07-07T17:46:16.605Z"
   },
   {
    "duration": 9,
    "start_time": "2021-07-07T17:46:16.610Z"
   },
   {
    "duration": 9,
    "start_time": "2021-07-07T17:46:16.621Z"
   },
   {
    "duration": 10,
    "start_time": "2021-07-07T17:46:16.632Z"
   },
   {
    "duration": 43,
    "start_time": "2021-07-07T17:46:16.644Z"
   },
   {
    "duration": 26,
    "start_time": "2021-07-07T17:46:16.689Z"
   },
   {
    "duration": 19,
    "start_time": "2021-07-07T17:46:16.718Z"
   },
   {
    "duration": 8,
    "start_time": "2021-07-07T17:46:16.738Z"
   },
   {
    "duration": 43,
    "start_time": "2021-07-07T17:46:16.747Z"
   },
   {
    "duration": 19,
    "start_time": "2021-07-07T17:46:16.791Z"
   },
   {
    "duration": 9,
    "start_time": "2021-07-07T17:46:16.812Z"
   },
   {
    "duration": 60,
    "start_time": "2021-07-07T17:46:16.822Z"
   },
   {
    "duration": -8,
    "start_time": "2021-07-07T17:46:16.892Z"
   },
   {
    "duration": 12,
    "start_time": "2021-07-07T17:48:47.707Z"
   },
   {
    "duration": 553,
    "start_time": "2021-07-07T18:10:09.350Z"
   },
   {
    "duration": 230,
    "start_time": "2021-07-07T18:10:09.905Z"
   },
   {
    "duration": 97,
    "start_time": "2021-07-07T18:10:10.137Z"
   },
   {
    "duration": 5,
    "start_time": "2021-07-07T18:10:10.236Z"
   },
   {
    "duration": 29,
    "start_time": "2021-07-07T18:10:10.242Z"
   },
   {
    "duration": 7,
    "start_time": "2021-07-07T18:10:10.272Z"
   },
   {
    "duration": 15,
    "start_time": "2021-07-07T18:10:10.281Z"
   },
   {
    "duration": 4,
    "start_time": "2021-07-07T18:10:10.299Z"
   },
   {
    "duration": 14,
    "start_time": "2021-07-07T18:10:10.305Z"
   },
   {
    "duration": 8,
    "start_time": "2021-07-07T18:10:10.321Z"
   },
   {
    "duration": 8,
    "start_time": "2021-07-07T18:10:10.331Z"
   },
   {
    "duration": 56,
    "start_time": "2021-07-07T18:10:10.341Z"
   },
   {
    "duration": 19,
    "start_time": "2021-07-07T18:10:10.399Z"
   },
   {
    "duration": 23,
    "start_time": "2021-07-07T18:10:10.419Z"
   },
   {
    "duration": 6,
    "start_time": "2021-07-07T18:10:10.444Z"
   },
   {
    "duration": 9,
    "start_time": "2021-07-07T18:10:10.451Z"
   },
   {
    "duration": 30,
    "start_time": "2021-07-07T18:10:10.462Z"
   },
   {
    "duration": 9,
    "start_time": "2021-07-07T18:10:10.494Z"
   },
   {
    "duration": 14,
    "start_time": "2021-07-07T18:10:10.505Z"
   },
   {
    "duration": 7,
    "start_time": "2021-07-07T18:10:10.521Z"
   },
   {
    "duration": 26,
    "start_time": "2021-07-07T18:10:10.530Z"
   },
   {
    "duration": 44,
    "start_time": "2021-07-07T18:10:10.558Z"
   },
   {
    "duration": 7,
    "start_time": "2021-07-07T18:10:10.605Z"
   },
   {
    "duration": 11,
    "start_time": "2021-07-07T18:10:10.614Z"
   },
   {
    "duration": 19,
    "start_time": "2021-07-07T18:10:10.626Z"
   },
   {
    "duration": 44,
    "start_time": "2021-07-07T18:10:10.646Z"
   },
   {
    "duration": 516,
    "start_time": "2021-07-07T18:14:00.826Z"
   },
   {
    "duration": 230,
    "start_time": "2021-07-07T18:14:01.344Z"
   },
   {
    "duration": 105,
    "start_time": "2021-07-07T18:14:01.576Z"
   },
   {
    "duration": 5,
    "start_time": "2021-07-07T18:14:01.683Z"
   },
   {
    "duration": 46,
    "start_time": "2021-07-07T18:14:01.690Z"
   },
   {
    "duration": 7,
    "start_time": "2021-07-07T18:14:01.738Z"
   },
   {
    "duration": 20,
    "start_time": "2021-07-07T18:14:01.747Z"
   },
   {
    "duration": 16,
    "start_time": "2021-07-07T18:14:01.769Z"
   },
   {
    "duration": 14,
    "start_time": "2021-07-07T18:14:01.787Z"
   },
   {
    "duration": 15,
    "start_time": "2021-07-07T18:14:01.803Z"
   },
   {
    "duration": 12,
    "start_time": "2021-07-07T18:14:01.820Z"
   },
   {
    "duration": 35,
    "start_time": "2021-07-07T18:14:01.833Z"
   },
   {
    "duration": 31,
    "start_time": "2021-07-07T18:14:01.869Z"
   },
   {
    "duration": 37,
    "start_time": "2021-07-07T18:14:01.902Z"
   },
   {
    "duration": 8,
    "start_time": "2021-07-07T18:14:01.942Z"
   },
   {
    "duration": 16,
    "start_time": "2021-07-07T18:14:01.952Z"
   },
   {
    "duration": 13,
    "start_time": "2021-07-07T18:14:01.970Z"
   },
   {
    "duration": 32,
    "start_time": "2021-07-07T18:14:01.985Z"
   },
   {
    "duration": 11,
    "start_time": "2021-07-07T18:14:02.019Z"
   },
   {
    "duration": 22,
    "start_time": "2021-07-07T18:14:02.031Z"
   },
   {
    "duration": 27,
    "start_time": "2021-07-07T18:14:02.055Z"
   },
   {
    "duration": 18,
    "start_time": "2021-07-07T18:14:02.084Z"
   },
   {
    "duration": 18,
    "start_time": "2021-07-07T18:14:02.106Z"
   },
   {
    "duration": 11,
    "start_time": "2021-07-07T18:14:02.126Z"
   },
   {
    "duration": 21,
    "start_time": "2021-07-07T18:14:02.138Z"
   },
   {
    "duration": 32,
    "start_time": "2021-07-07T18:14:02.161Z"
   },
   {
    "duration": 28,
    "start_time": "2021-07-07T18:14:44.295Z"
   },
   {
    "duration": 6,
    "start_time": "2021-07-07T18:15:05.834Z"
   },
   {
    "duration": 511,
    "start_time": "2021-07-07T18:15:41.541Z"
   },
   {
    "duration": 183,
    "start_time": "2021-07-07T18:15:42.054Z"
   },
   {
    "duration": 50,
    "start_time": "2021-07-07T18:15:42.239Z"
   },
   {
    "duration": 5,
    "start_time": "2021-07-07T18:15:42.291Z"
   },
   {
    "duration": 48,
    "start_time": "2021-07-07T18:15:42.297Z"
   },
   {
    "duration": 8,
    "start_time": "2021-07-07T18:15:42.346Z"
   },
   {
    "duration": 17,
    "start_time": "2021-07-07T18:15:42.356Z"
   },
   {
    "duration": 15,
    "start_time": "2021-07-07T18:15:42.375Z"
   },
   {
    "duration": 12,
    "start_time": "2021-07-07T18:15:42.392Z"
   },
   {
    "duration": 7,
    "start_time": "2021-07-07T18:15:42.406Z"
   },
   {
    "duration": 7,
    "start_time": "2021-07-07T18:15:42.415Z"
   },
   {
    "duration": 29,
    "start_time": "2021-07-07T18:15:42.423Z"
   },
   {
    "duration": 43,
    "start_time": "2021-07-07T18:15:42.453Z"
   },
   {
    "duration": 18,
    "start_time": "2021-07-07T18:15:42.497Z"
   },
   {
    "duration": 6,
    "start_time": "2021-07-07T18:15:42.516Z"
   },
   {
    "duration": 3,
    "start_time": "2021-07-07T18:15:42.523Z"
   },
   {
    "duration": 18,
    "start_time": "2021-07-07T18:15:42.528Z"
   },
   {
    "duration": 10,
    "start_time": "2021-07-07T18:15:42.547Z"
   },
   {
    "duration": 36,
    "start_time": "2021-07-07T18:15:42.559Z"
   },
   {
    "duration": 8,
    "start_time": "2021-07-07T18:15:42.597Z"
   },
   {
    "duration": 28,
    "start_time": "2021-07-07T18:15:42.606Z"
   },
   {
    "duration": 52,
    "start_time": "2021-07-07T18:15:42.635Z"
   },
   {
    "duration": 7,
    "start_time": "2021-07-07T18:15:42.690Z"
   },
   {
    "duration": 10,
    "start_time": "2021-07-07T18:15:42.699Z"
   },
   {
    "duration": 19,
    "start_time": "2021-07-07T18:15:42.711Z"
   },
   {
    "duration": 9,
    "start_time": "2021-07-07T18:15:42.732Z"
   },
   {
    "duration": 5,
    "start_time": "2021-07-07T18:15:42.743Z"
   },
   {
    "duration": 1450,
    "start_time": "2021-07-07T18:15:51.984Z"
   },
   {
    "duration": 161,
    "start_time": "2021-07-07T18:15:53.435Z"
   },
   {
    "duration": 124,
    "start_time": "2021-07-07T18:15:53.598Z"
   },
   {
    "duration": 5,
    "start_time": "2021-07-07T18:15:53.724Z"
   },
   {
    "duration": 34,
    "start_time": "2021-07-07T18:15:53.730Z"
   },
   {
    "duration": 7,
    "start_time": "2021-07-07T18:15:53.765Z"
   },
   {
    "duration": 15,
    "start_time": "2021-07-07T18:15:53.773Z"
   },
   {
    "duration": 5,
    "start_time": "2021-07-07T18:15:53.791Z"
   },
   {
    "duration": 19,
    "start_time": "2021-07-07T18:15:53.798Z"
   },
   {
    "duration": 9,
    "start_time": "2021-07-07T18:15:53.818Z"
   },
   {
    "duration": 19,
    "start_time": "2021-07-07T18:15:53.828Z"
   },
   {
    "duration": 27,
    "start_time": "2021-07-07T18:15:53.848Z"
   },
   {
    "duration": 16,
    "start_time": "2021-07-07T18:15:53.884Z"
   },
   {
    "duration": 29,
    "start_time": "2021-07-07T18:15:53.901Z"
   },
   {
    "duration": 5,
    "start_time": "2021-07-07T18:15:53.932Z"
   },
   {
    "duration": 15,
    "start_time": "2021-07-07T18:15:53.939Z"
   },
   {
    "duration": 13,
    "start_time": "2021-07-07T18:15:53.956Z"
   },
   {
    "duration": 20,
    "start_time": "2021-07-07T18:15:53.971Z"
   },
   {
    "duration": 14,
    "start_time": "2021-07-07T18:15:53.992Z"
   },
   {
    "duration": 9,
    "start_time": "2021-07-07T18:15:54.009Z"
   },
   {
    "duration": 28,
    "start_time": "2021-07-07T18:15:54.020Z"
   },
   {
    "duration": 50,
    "start_time": "2021-07-07T18:15:54.051Z"
   },
   {
    "duration": 8,
    "start_time": "2021-07-07T18:15:54.105Z"
   },
   {
    "duration": 11,
    "start_time": "2021-07-07T18:15:54.115Z"
   },
   {
    "duration": 20,
    "start_time": "2021-07-07T18:15:54.128Z"
   },
   {
    "duration": 13,
    "start_time": "2021-07-07T18:15:54.184Z"
   },
   {
    "duration": 7,
    "start_time": "2021-07-07T18:15:54.199Z"
   },
   {
    "duration": 7,
    "start_time": "2021-07-07T18:17:08.042Z"
   },
   {
    "duration": 8,
    "start_time": "2021-07-07T18:17:21.008Z"
   },
   {
    "duration": 7,
    "start_time": "2021-07-07T18:17:29.003Z"
   },
   {
    "duration": 8,
    "start_time": "2021-07-07T18:17:32.492Z"
   },
   {
    "duration": 9,
    "start_time": "2021-07-07T18:17:41.758Z"
   },
   {
    "duration": 255,
    "start_time": "2021-07-07T18:20:20.897Z"
   },
   {
    "duration": 173,
    "start_time": "2021-07-07T18:20:26.636Z"
   },
   {
    "duration": 7,
    "start_time": "2021-07-07T18:21:47.164Z"
   },
   {
    "duration": 254,
    "start_time": "2021-07-07T18:23:08.703Z"
   },
   {
    "duration": 21,
    "start_time": "2021-07-07T18:23:22.506Z"
   },
   {
    "duration": 315,
    "start_time": "2021-07-07T18:25:54.801Z"
   },
   {
    "duration": 34,
    "start_time": "2021-07-07T18:26:51.817Z"
   },
   {
    "duration": 327,
    "start_time": "2021-07-07T18:26:56.147Z"
   },
   {
    "duration": 342,
    "start_time": "2021-07-07T18:27:15.887Z"
   },
   {
    "duration": 302,
    "start_time": "2021-07-07T18:28:18.569Z"
   },
   {
    "duration": 226,
    "start_time": "2021-07-07T18:29:20.879Z"
   },
   {
    "duration": 207,
    "start_time": "2021-07-07T18:29:58.114Z"
   },
   {
    "duration": 140,
    "start_time": "2021-07-07T18:32:04.372Z"
   },
   {
    "duration": 158,
    "start_time": "2021-07-07T18:32:32.508Z"
   },
   {
    "duration": 145,
    "start_time": "2021-07-07T18:32:41.365Z"
   },
   {
    "duration": 132,
    "start_time": "2021-07-07T18:32:45.199Z"
   },
   {
    "duration": 11,
    "start_time": "2021-07-07T18:35:24.679Z"
   },
   {
    "duration": 268,
    "start_time": "2021-07-07T18:36:16.145Z"
   },
   {
    "duration": 227,
    "start_time": "2021-07-07T18:37:04.918Z"
   },
   {
    "duration": 3,
    "start_time": "2021-07-07T18:37:33.012Z"
   },
   {
    "duration": 671,
    "start_time": "2021-07-07T18:37:38.295Z"
   },
   {
    "duration": 54,
    "start_time": "2021-07-07T18:37:53.406Z"
   },
   {
    "duration": 631,
    "start_time": "2021-07-07T18:37:56.463Z"
   },
   {
    "duration": 19,
    "start_time": "2021-07-07T18:39:40.535Z"
   },
   {
    "duration": 20,
    "start_time": "2021-07-07T18:40:12.236Z"
   },
   {
    "duration": 633,
    "start_time": "2021-07-07T18:42:00.398Z"
   },
   {
    "duration": 218,
    "start_time": "2021-07-07T18:42:01.033Z"
   },
   {
    "duration": 49,
    "start_time": "2021-07-07T18:42:01.253Z"
   },
   {
    "duration": 5,
    "start_time": "2021-07-07T18:42:01.303Z"
   },
   {
    "duration": 27,
    "start_time": "2021-07-07T18:42:01.310Z"
   },
   {
    "duration": 8,
    "start_time": "2021-07-07T18:42:01.339Z"
   },
   {
    "duration": 20,
    "start_time": "2021-07-07T18:42:01.348Z"
   },
   {
    "duration": 6,
    "start_time": "2021-07-07T18:42:01.386Z"
   },
   {
    "duration": 16,
    "start_time": "2021-07-07T18:42:01.394Z"
   },
   {
    "duration": 9,
    "start_time": "2021-07-07T18:42:01.411Z"
   },
   {
    "duration": 11,
    "start_time": "2021-07-07T18:42:01.421Z"
   },
   {
    "duration": 31,
    "start_time": "2021-07-07T18:42:01.434Z"
   },
   {
    "duration": 18,
    "start_time": "2021-07-07T18:42:01.485Z"
   },
   {
    "duration": 23,
    "start_time": "2021-07-07T18:42:01.505Z"
   },
   {
    "duration": 6,
    "start_time": "2021-07-07T18:42:01.530Z"
   },
   {
    "duration": 10,
    "start_time": "2021-07-07T18:42:01.538Z"
   },
   {
    "duration": 13,
    "start_time": "2021-07-07T18:42:01.550Z"
   },
   {
    "duration": 24,
    "start_time": "2021-07-07T18:42:01.564Z"
   },
   {
    "duration": 20,
    "start_time": "2021-07-07T18:42:01.590Z"
   },
   {
    "duration": 8,
    "start_time": "2021-07-07T18:42:01.611Z"
   },
   {
    "duration": 31,
    "start_time": "2021-07-07T18:42:01.620Z"
   },
   {
    "duration": 39,
    "start_time": "2021-07-07T18:42:01.653Z"
   },
   {
    "duration": 8,
    "start_time": "2021-07-07T18:42:01.696Z"
   },
   {
    "duration": 13,
    "start_time": "2021-07-07T18:42:01.705Z"
   },
   {
    "duration": 20,
    "start_time": "2021-07-07T18:42:01.720Z"
   },
   {
    "duration": 12,
    "start_time": "2021-07-07T18:42:01.741Z"
   },
   {
    "duration": 35,
    "start_time": "2021-07-07T18:42:01.755Z"
   },
   {
    "duration": 14,
    "start_time": "2021-07-07T18:42:01.792Z"
   },
   {
    "duration": 188,
    "start_time": "2021-07-07T18:42:01.808Z"
   },
   {
    "duration": 19,
    "start_time": "2021-07-07T18:42:01.998Z"
   },
   {
    "duration": 175,
    "start_time": "2021-07-07T18:42:02.019Z"
   },
   {
    "duration": 134,
    "start_time": "2021-07-07T18:42:02.196Z"
   },
   {
    "duration": 10,
    "start_time": "2021-07-07T18:42:02.331Z"
   },
   {
    "duration": 19,
    "start_time": "2021-07-07T18:42:02.343Z"
   },
   {
    "duration": 628,
    "start_time": "2021-07-07T18:46:30.701Z"
   },
   {
    "duration": 183,
    "start_time": "2021-07-07T18:46:31.331Z"
   },
   {
    "duration": 48,
    "start_time": "2021-07-07T18:46:31.516Z"
   },
   {
    "duration": 5,
    "start_time": "2021-07-07T18:46:31.566Z"
   },
   {
    "duration": 28,
    "start_time": "2021-07-07T18:46:31.572Z"
   },
   {
    "duration": 8,
    "start_time": "2021-07-07T18:46:31.602Z"
   },
   {
    "duration": 19,
    "start_time": "2021-07-07T18:46:31.611Z"
   },
   {
    "duration": 6,
    "start_time": "2021-07-07T18:46:31.633Z"
   },
   {
    "duration": 17,
    "start_time": "2021-07-07T18:46:31.642Z"
   },
   {
    "duration": 10,
    "start_time": "2021-07-07T18:46:31.684Z"
   },
   {
    "duration": 9,
    "start_time": "2021-07-07T18:46:31.695Z"
   },
   {
    "duration": 28,
    "start_time": "2021-07-07T18:46:31.705Z"
   },
   {
    "duration": 18,
    "start_time": "2021-07-07T18:46:31.735Z"
   },
   {
    "duration": 48,
    "start_time": "2021-07-07T18:46:31.755Z"
   },
   {
    "duration": 6,
    "start_time": "2021-07-07T18:46:31.804Z"
   },
   {
    "duration": 4,
    "start_time": "2021-07-07T18:46:31.812Z"
   },
   {
    "duration": 9,
    "start_time": "2021-07-07T18:46:31.817Z"
   },
   {
    "duration": 10,
    "start_time": "2021-07-07T18:46:31.827Z"
   },
   {
    "duration": 12,
    "start_time": "2021-07-07T18:46:31.838Z"
   },
   {
    "duration": 39,
    "start_time": "2021-07-07T18:46:31.851Z"
   },
   {
    "duration": 24,
    "start_time": "2021-07-07T18:46:31.892Z"
   },
   {
    "duration": 15,
    "start_time": "2021-07-07T18:46:31.918Z"
   },
   {
    "duration": 7,
    "start_time": "2021-07-07T18:46:31.936Z"
   },
   {
    "duration": 8,
    "start_time": "2021-07-07T18:46:31.944Z"
   },
   {
    "duration": 19,
    "start_time": "2021-07-07T18:46:31.984Z"
   },
   {
    "duration": 10,
    "start_time": "2021-07-07T18:46:32.004Z"
   },
   {
    "duration": 5,
    "start_time": "2021-07-07T18:46:32.016Z"
   },
   {
    "duration": 9,
    "start_time": "2021-07-07T18:46:32.023Z"
   },
   {
    "duration": 199,
    "start_time": "2021-07-07T18:46:32.033Z"
   },
   {
    "duration": 19,
    "start_time": "2021-07-07T18:46:32.234Z"
   },
   {
    "duration": 159,
    "start_time": "2021-07-07T18:46:32.255Z"
   },
   {
    "duration": 134,
    "start_time": "2021-07-07T18:46:32.416Z"
   },
   {
    "duration": 10,
    "start_time": "2021-07-07T18:46:32.552Z"
   },
   {
    "duration": 34,
    "start_time": "2021-07-07T18:46:32.563Z"
   },
   {
    "duration": 1039,
    "start_time": "2021-07-08T08:41:09.419Z"
   },
   {
    "duration": 333,
    "start_time": "2021-07-08T08:41:10.459Z"
   },
   {
    "duration": 173,
    "start_time": "2021-07-08T08:41:10.794Z"
   },
   {
    "duration": 5,
    "start_time": "2021-07-08T08:41:10.968Z"
   },
   {
    "duration": 25,
    "start_time": "2021-07-08T08:41:10.975Z"
   },
   {
    "duration": 9,
    "start_time": "2021-07-08T08:41:11.002Z"
   },
   {
    "duration": 18,
    "start_time": "2021-07-08T08:41:11.013Z"
   },
   {
    "duration": 6,
    "start_time": "2021-07-08T08:41:11.033Z"
   },
   {
    "duration": 44,
    "start_time": "2021-07-08T08:41:11.042Z"
   },
   {
    "duration": 10,
    "start_time": "2021-07-08T08:41:11.088Z"
   },
   {
    "duration": 9,
    "start_time": "2021-07-08T08:41:11.100Z"
   },
   {
    "duration": 27,
    "start_time": "2021-07-08T08:41:11.111Z"
   },
   {
    "duration": 46,
    "start_time": "2021-07-08T08:41:11.140Z"
   },
   {
    "duration": 17,
    "start_time": "2021-07-08T08:41:11.187Z"
   },
   {
    "duration": 6,
    "start_time": "2021-07-08T08:41:11.206Z"
   },
   {
    "duration": 5,
    "start_time": "2021-07-08T08:41:11.213Z"
   },
   {
    "duration": 10,
    "start_time": "2021-07-08T08:41:11.219Z"
   },
   {
    "duration": 9,
    "start_time": "2021-07-08T08:41:11.230Z"
   },
   {
    "duration": 45,
    "start_time": "2021-07-08T08:41:11.241Z"
   },
   {
    "duration": 7,
    "start_time": "2021-07-08T08:41:11.287Z"
   },
   {
    "duration": 24,
    "start_time": "2021-07-08T08:41:11.296Z"
   },
   {
    "duration": 16,
    "start_time": "2021-07-08T08:41:11.322Z"
   },
   {
    "duration": 7,
    "start_time": "2021-07-08T08:41:11.341Z"
   },
   {
    "duration": 41,
    "start_time": "2021-07-08T08:41:11.349Z"
   },
   {
    "duration": 17,
    "start_time": "2021-07-08T08:41:11.391Z"
   },
   {
    "duration": 9,
    "start_time": "2021-07-08T08:41:11.410Z"
   },
   {
    "duration": 5,
    "start_time": "2021-07-08T08:41:11.421Z"
   },
   {
    "duration": 6,
    "start_time": "2021-07-08T08:41:11.428Z"
   },
   {
    "duration": 198,
    "start_time": "2021-07-08T08:41:11.435Z"
   },
   {
    "duration": 18,
    "start_time": "2021-07-08T08:41:11.635Z"
   },
   {
    "duration": 155,
    "start_time": "2021-07-08T08:41:11.655Z"
   },
   {
    "duration": 138,
    "start_time": "2021-07-08T08:41:11.811Z"
   },
   {
    "duration": 10,
    "start_time": "2021-07-08T08:41:11.950Z"
   },
   {
    "duration": 29,
    "start_time": "2021-07-08T08:41:11.961Z"
   },
   {
    "duration": 171,
    "start_time": "2021-07-08T08:47:44.522Z"
   },
   {
    "duration": 124,
    "start_time": "2021-07-08T08:47:46.872Z"
   },
   {
    "duration": 191,
    "start_time": "2021-07-08T08:47:58.148Z"
   },
   {
    "duration": 191,
    "start_time": "2021-07-08T08:48:07.412Z"
   },
   {
    "duration": 261,
    "start_time": "2021-07-08T08:48:10.385Z"
   },
   {
    "duration": 255,
    "start_time": "2021-07-08T08:48:14.494Z"
   },
   {
    "duration": 219,
    "start_time": "2021-07-08T08:48:22.752Z"
   },
   {
    "duration": 173,
    "start_time": "2021-07-08T08:49:06.395Z"
   },
   {
    "duration": 180,
    "start_time": "2021-07-08T08:49:21.011Z"
   },
   {
    "duration": 6,
    "start_time": "2021-07-08T08:50:31.697Z"
   },
   {
    "duration": 10,
    "start_time": "2021-07-08T08:50:47.394Z"
   },
   {
    "duration": 11,
    "start_time": "2021-07-08T08:53:49.332Z"
   },
   {
    "duration": 171,
    "start_time": "2021-07-08T08:54:28.408Z"
   },
   {
    "duration": 636,
    "start_time": "2021-07-08T09:02:48.385Z"
   },
   {
    "duration": 227,
    "start_time": "2021-07-08T09:02:49.023Z"
   },
   {
    "duration": 104,
    "start_time": "2021-07-08T09:02:49.252Z"
   },
   {
    "duration": 5,
    "start_time": "2021-07-08T09:02:49.358Z"
   },
   {
    "duration": 27,
    "start_time": "2021-07-08T09:02:49.365Z"
   },
   {
    "duration": 8,
    "start_time": "2021-07-08T09:02:49.394Z"
   },
   {
    "duration": 18,
    "start_time": "2021-07-08T09:02:49.404Z"
   },
   {
    "duration": 6,
    "start_time": "2021-07-08T09:02:49.424Z"
   },
   {
    "duration": 11,
    "start_time": "2021-07-08T09:02:49.433Z"
   },
   {
    "duration": 13,
    "start_time": "2021-07-08T09:02:49.485Z"
   },
   {
    "duration": 9,
    "start_time": "2021-07-08T09:02:49.500Z"
   },
   {
    "duration": 38,
    "start_time": "2021-07-08T09:02:49.511Z"
   },
   {
    "duration": 42,
    "start_time": "2021-07-08T09:02:49.551Z"
   },
   {
    "duration": 21,
    "start_time": "2021-07-08T09:02:49.594Z"
   },
   {
    "duration": 6,
    "start_time": "2021-07-08T09:02:49.616Z"
   },
   {
    "duration": 3,
    "start_time": "2021-07-08T09:02:49.623Z"
   },
   {
    "duration": 9,
    "start_time": "2021-07-08T09:02:49.628Z"
   },
   {
    "duration": 52,
    "start_time": "2021-07-08T09:02:49.638Z"
   },
   {
    "duration": 11,
    "start_time": "2021-07-08T09:02:49.692Z"
   },
   {
    "duration": 8,
    "start_time": "2021-07-08T09:02:49.704Z"
   },
   {
    "duration": 27,
    "start_time": "2021-07-08T09:02:49.713Z"
   },
   {
    "duration": 59,
    "start_time": "2021-07-08T09:02:49.741Z"
   },
   {
    "duration": 8,
    "start_time": "2021-07-08T09:02:49.803Z"
   },
   {
    "duration": 14,
    "start_time": "2021-07-08T09:02:49.813Z"
   },
   {
    "duration": 20,
    "start_time": "2021-07-08T09:02:49.829Z"
   },
   {
    "duration": 44,
    "start_time": "2021-07-08T09:02:49.851Z"
   },
   {
    "duration": 14,
    "start_time": "2021-07-08T09:02:49.896Z"
   },
   {
    "duration": 221,
    "start_time": "2021-07-08T09:02:49.912Z"
   },
   {
    "duration": 6,
    "start_time": "2021-07-08T09:02:50.134Z"
   },
   {
    "duration": 206,
    "start_time": "2021-07-08T09:02:50.142Z"
   },
   {
    "duration": 19,
    "start_time": "2021-07-08T09:02:50.350Z"
   },
   {
    "duration": 21,
    "start_time": "2021-07-08T09:02:50.370Z"
   },
   {
    "duration": 20,
    "start_time": "2021-07-08T09:02:50.393Z"
   },
   {
    "duration": 5,
    "start_time": "2021-07-08T09:02:50.414Z"
   },
   {
    "duration": 5,
    "start_time": "2021-07-08T09:03:34.173Z"
   },
   {
    "duration": 6,
    "start_time": "2021-07-08T09:04:49.062Z"
   },
   {
    "duration": 9,
    "start_time": "2021-07-08T09:04:50.118Z"
   },
   {
    "duration": 14,
    "start_time": "2021-07-08T09:04:58.512Z"
   },
   {
    "duration": 9,
    "start_time": "2021-07-08T09:05:10.988Z"
   },
   {
    "duration": 11,
    "start_time": "2021-07-08T09:05:11.743Z"
   },
   {
    "duration": 7,
    "start_time": "2021-07-08T09:05:25.677Z"
   },
   {
    "duration": 13,
    "start_time": "2021-07-08T09:05:47.189Z"
   },
   {
    "duration": 13,
    "start_time": "2021-07-08T09:05:54.755Z"
   },
   {
    "duration": 4,
    "start_time": "2021-07-08T09:06:29.189Z"
   },
   {
    "duration": 244,
    "start_time": "2021-07-08T09:06:29.195Z"
   },
   {
    "duration": 91,
    "start_time": "2021-07-08T09:06:29.441Z"
   },
   {
    "duration": 4,
    "start_time": "2021-07-08T09:06:29.534Z"
   },
   {
    "duration": 28,
    "start_time": "2021-07-08T09:06:29.540Z"
   },
   {
    "duration": 6,
    "start_time": "2021-07-08T09:06:29.570Z"
   },
   {
    "duration": 18,
    "start_time": "2021-07-08T09:06:29.578Z"
   },
   {
    "duration": 5,
    "start_time": "2021-07-08T09:06:29.597Z"
   },
   {
    "duration": 13,
    "start_time": "2021-07-08T09:06:29.605Z"
   },
   {
    "duration": 8,
    "start_time": "2021-07-08T09:06:29.620Z"
   },
   {
    "duration": 7,
    "start_time": "2021-07-08T09:06:29.630Z"
   },
   {
    "duration": 63,
    "start_time": "2021-07-08T09:06:29.639Z"
   },
   {
    "duration": 17,
    "start_time": "2021-07-08T09:06:29.704Z"
   },
   {
    "duration": 20,
    "start_time": "2021-07-08T09:06:29.723Z"
   },
   {
    "duration": 6,
    "start_time": "2021-07-08T09:06:29.745Z"
   },
   {
    "duration": 3,
    "start_time": "2021-07-08T09:06:29.752Z"
   },
   {
    "duration": 7,
    "start_time": "2021-07-08T09:06:29.785Z"
   },
   {
    "duration": 11,
    "start_time": "2021-07-08T09:06:29.794Z"
   },
   {
    "duration": 15,
    "start_time": "2021-07-08T09:06:29.807Z"
   },
   {
    "duration": 8,
    "start_time": "2021-07-08T09:06:29.823Z"
   },
   {
    "duration": 70,
    "start_time": "2021-07-08T09:06:29.832Z"
   },
   {
    "duration": 17,
    "start_time": "2021-07-08T09:06:29.903Z"
   },
   {
    "duration": 9,
    "start_time": "2021-07-08T09:06:29.921Z"
   },
   {
    "duration": 9,
    "start_time": "2021-07-08T09:06:29.932Z"
   },
   {
    "duration": 57,
    "start_time": "2021-07-08T09:06:29.942Z"
   },
   {
    "duration": 11,
    "start_time": "2021-07-08T09:06:30.001Z"
   },
   {
    "duration": 19,
    "start_time": "2021-07-08T09:06:30.016Z"
   },
   {
    "duration": 217,
    "start_time": "2021-07-08T09:06:30.037Z"
   },
   {
    "duration": 6,
    "start_time": "2021-07-08T09:06:30.255Z"
   },
   {
    "duration": 205,
    "start_time": "2021-07-08T09:06:30.263Z"
   },
   {
    "duration": 27,
    "start_time": "2021-07-08T09:06:30.470Z"
   },
   {
    "duration": 11,
    "start_time": "2021-07-08T09:06:30.500Z"
   },
   {
    "duration": 31,
    "start_time": "2021-07-08T09:06:30.513Z"
   },
   {
    "duration": 18,
    "start_time": "2021-07-08T09:06:30.546Z"
   },
   {
    "duration": 11,
    "start_time": "2021-07-08T09:06:30.566Z"
   },
   {
    "duration": 19,
    "start_time": "2021-07-08T09:06:30.579Z"
   },
   {
    "duration": 20,
    "start_time": "2021-07-08T09:06:49.466Z"
   },
   {
    "duration": 9,
    "start_time": "2021-07-08T09:06:51.994Z"
   },
   {
    "duration": 20,
    "start_time": "2021-07-08T09:06:52.273Z"
   },
   {
    "duration": 246,
    "start_time": "2021-07-08T09:10:21.272Z"
   },
   {
    "duration": 84,
    "start_time": "2021-07-08T09:10:21.436Z"
   },
   {
    "duration": 7,
    "start_time": "2021-07-08T09:10:37.608Z"
   },
   {
    "duration": 189,
    "start_time": "2021-07-08T09:10:38.573Z"
   },
   {
    "duration": 185,
    "start_time": "2021-07-08T09:10:53.181Z"
   },
   {
    "duration": 11,
    "start_time": "2021-07-08T09:10:59.549Z"
   },
   {
    "duration": 42,
    "start_time": "2021-07-08T09:10:59.709Z"
   },
   {
    "duration": 12,
    "start_time": "2021-07-08T09:11:02.857Z"
   },
   {
    "duration": 28,
    "start_time": "2021-07-08T09:11:10.062Z"
   },
   {
    "duration": 249,
    "start_time": "2021-07-08T09:11:37.388Z"
   },
   {
    "duration": 232,
    "start_time": "2021-07-08T09:11:49.485Z"
   },
   {
    "duration": 453,
    "start_time": "2021-07-08T09:12:01.546Z"
   },
   {
    "duration": 440,
    "start_time": "2021-07-08T09:12:12.347Z"
   },
   {
    "duration": 213,
    "start_time": "2021-07-08T09:13:32.196Z"
   },
   {
    "duration": 172,
    "start_time": "2021-07-08T09:14:07.400Z"
   },
   {
    "duration": 185,
    "start_time": "2021-07-08T09:14:14.905Z"
   },
   {
    "duration": 209,
    "start_time": "2021-07-08T09:14:40.109Z"
   },
   {
    "duration": 201,
    "start_time": "2021-07-08T09:14:54.506Z"
   },
   {
    "duration": 622,
    "start_time": "2021-07-08T09:18:14.497Z"
   },
   {
    "duration": 220,
    "start_time": "2021-07-08T09:18:15.121Z"
   },
   {
    "duration": 79,
    "start_time": "2021-07-08T09:18:15.343Z"
   },
   {
    "duration": 4,
    "start_time": "2021-07-08T09:18:15.425Z"
   },
   {
    "duration": 24,
    "start_time": "2021-07-08T09:18:15.431Z"
   },
   {
    "duration": 8,
    "start_time": "2021-07-08T09:18:15.457Z"
   },
   {
    "duration": 16,
    "start_time": "2021-07-08T09:18:15.466Z"
   },
   {
    "duration": 5,
    "start_time": "2021-07-08T09:18:15.484Z"
   },
   {
    "duration": 10,
    "start_time": "2021-07-08T09:18:15.493Z"
   },
   {
    "duration": 8,
    "start_time": "2021-07-08T09:18:15.504Z"
   },
   {
    "duration": 7,
    "start_time": "2021-07-08T09:18:15.513Z"
   },
   {
    "duration": 26,
    "start_time": "2021-07-08T09:18:15.522Z"
   },
   {
    "duration": 49,
    "start_time": "2021-07-08T09:18:15.550Z"
   },
   {
    "duration": 21,
    "start_time": "2021-07-08T09:18:15.601Z"
   },
   {
    "duration": 8,
    "start_time": "2021-07-08T09:18:15.624Z"
   },
   {
    "duration": 3,
    "start_time": "2021-07-08T09:18:15.634Z"
   },
   {
    "duration": 8,
    "start_time": "2021-07-08T09:18:15.639Z"
   },
   {
    "duration": 45,
    "start_time": "2021-07-08T09:18:15.649Z"
   },
   {
    "duration": 13,
    "start_time": "2021-07-08T09:18:15.696Z"
   },
   {
    "duration": 10,
    "start_time": "2021-07-08T09:18:15.711Z"
   },
   {
    "duration": 64,
    "start_time": "2021-07-08T09:18:15.722Z"
   },
   {
    "duration": 19,
    "start_time": "2021-07-08T09:18:15.788Z"
   },
   {
    "duration": 9,
    "start_time": "2021-07-08T09:18:15.809Z"
   },
   {
    "duration": 9,
    "start_time": "2021-07-08T09:18:15.820Z"
   },
   {
    "duration": 18,
    "start_time": "2021-07-08T09:18:15.831Z"
   },
   {
    "duration": 43,
    "start_time": "2021-07-08T09:18:15.851Z"
   },
   {
    "duration": 12,
    "start_time": "2021-07-08T09:18:15.897Z"
   },
   {
    "duration": 219,
    "start_time": "2021-07-08T09:18:15.911Z"
   },
   {
    "duration": 8,
    "start_time": "2021-07-08T09:18:16.132Z"
   },
   {
    "duration": 199,
    "start_time": "2021-07-08T09:18:16.141Z"
   },
   {
    "duration": 18,
    "start_time": "2021-07-08T09:18:16.341Z"
   },
   {
    "duration": 24,
    "start_time": "2021-07-08T09:18:16.361Z"
   },
   {
    "duration": 24,
    "start_time": "2021-07-08T09:18:16.387Z"
   },
   {
    "duration": 211,
    "start_time": "2021-07-08T09:18:16.413Z"
   },
   {
    "duration": 18,
    "start_time": "2021-07-08T09:18:16.626Z"
   },
   {
    "duration": 596,
    "start_time": "2021-07-08T10:06:33.623Z"
   },
   {
    "duration": 181,
    "start_time": "2021-07-08T10:06:34.221Z"
   },
   {
    "duration": 176,
    "start_time": "2021-07-08T10:06:34.635Z"
   },
   {
    "duration": 239,
    "start_time": "2021-07-08T10:06:55.572Z"
   },
   {
    "duration": 6,
    "start_time": "2021-07-08T10:06:57.687Z"
   },
   {
    "duration": 4,
    "start_time": "2021-07-08T10:07:03.956Z"
   },
   {
    "duration": 4,
    "start_time": "2021-07-08T10:07:10.376Z"
   },
   {
    "duration": 4,
    "start_time": "2021-07-08T10:17:19.889Z"
   },
   {
    "duration": 3,
    "start_time": "2021-07-08T10:19:19.407Z"
   },
   {
    "duration": 197,
    "start_time": "2021-07-08T10:19:19.412Z"
   },
   {
    "duration": 127,
    "start_time": "2021-07-08T10:19:19.611Z"
   },
   {
    "duration": 4,
    "start_time": "2021-07-08T10:19:19.740Z"
   },
   {
    "duration": 27,
    "start_time": "2021-07-08T10:19:19.746Z"
   },
   {
    "duration": 7,
    "start_time": "2021-07-08T10:19:19.775Z"
   },
   {
    "duration": 30,
    "start_time": "2021-07-08T10:19:19.784Z"
   },
   {
    "duration": 7,
    "start_time": "2021-07-08T10:19:19.817Z"
   },
   {
    "duration": 26,
    "start_time": "2021-07-08T10:19:19.826Z"
   },
   {
    "duration": 18,
    "start_time": "2021-07-08T10:19:19.854Z"
   },
   {
    "duration": 14,
    "start_time": "2021-07-08T10:19:19.874Z"
   },
   {
    "duration": 48,
    "start_time": "2021-07-08T10:19:19.890Z"
   },
   {
    "duration": 17,
    "start_time": "2021-07-08T10:19:19.940Z"
   },
   {
    "duration": 38,
    "start_time": "2021-07-08T10:19:19.959Z"
   },
   {
    "duration": 8,
    "start_time": "2021-07-08T10:19:19.999Z"
   },
   {
    "duration": 15,
    "start_time": "2021-07-08T10:19:20.009Z"
   },
   {
    "duration": 22,
    "start_time": "2021-07-08T10:19:20.026Z"
   },
   {
    "duration": 10,
    "start_time": "2021-07-08T10:19:20.050Z"
   },
   {
    "duration": 10,
    "start_time": "2021-07-08T10:19:20.062Z"
   },
   {
    "duration": 20,
    "start_time": "2021-07-08T10:19:20.073Z"
   },
   {
    "duration": 29,
    "start_time": "2021-07-08T10:19:20.095Z"
   },
   {
    "duration": 17,
    "start_time": "2021-07-08T10:19:20.126Z"
   },
   {
    "duration": 40,
    "start_time": "2021-07-08T10:19:20.146Z"
   },
   {
    "duration": 15,
    "start_time": "2021-07-08T10:19:20.189Z"
   },
   {
    "duration": 19,
    "start_time": "2021-07-08T10:19:20.206Z"
   },
   {
    "duration": 10,
    "start_time": "2021-07-08T10:19:20.226Z"
   },
   {
    "duration": 11,
    "start_time": "2021-07-08T10:19:20.238Z"
   },
   {
    "duration": 297,
    "start_time": "2021-07-08T10:19:20.250Z"
   },
   {
    "duration": 6,
    "start_time": "2021-07-08T10:19:20.549Z"
   },
   {
    "duration": 191,
    "start_time": "2021-07-08T10:19:20.557Z"
   },
   {
    "duration": 19,
    "start_time": "2021-07-08T10:19:20.750Z"
   },
   {
    "duration": 20,
    "start_time": "2021-07-08T10:19:20.771Z"
   },
   {
    "duration": 15,
    "start_time": "2021-07-08T10:19:20.793Z"
   },
   {
    "duration": 222,
    "start_time": "2021-07-08T10:19:20.809Z"
   },
   {
    "duration": 20,
    "start_time": "2021-07-08T10:19:21.033Z"
   },
   {
    "duration": 27,
    "start_time": "2021-07-08T10:45:04.055Z"
   },
   {
    "duration": 8,
    "start_time": "2021-07-08T10:45:08.478Z"
   },
   {
    "duration": 8,
    "start_time": "2021-07-08T10:45:31.982Z"
   },
   {
    "duration": 10,
    "start_time": "2021-07-08T10:46:01.221Z"
   },
   {
    "duration": 17,
    "start_time": "2021-07-08T10:46:40.011Z"
   },
   {
    "duration": 193,
    "start_time": "2021-07-08T10:48:19.471Z"
   },
   {
    "duration": 225,
    "start_time": "2021-07-08T10:49:26.480Z"
   },
   {
    "duration": 204,
    "start_time": "2021-07-08T10:49:59.992Z"
   },
   {
    "duration": 435,
    "start_time": "2021-07-08T10:50:06.779Z"
   },
   {
    "duration": 199,
    "start_time": "2021-07-08T10:50:14.891Z"
   },
   {
    "duration": 204,
    "start_time": "2021-07-08T10:50:18.501Z"
   },
   {
    "duration": 244,
    "start_time": "2021-07-08T10:50:23.359Z"
   },
   {
    "duration": 192,
    "start_time": "2021-07-08T10:50:29.135Z"
   },
   {
    "duration": 218,
    "start_time": "2021-07-08T10:50:33.092Z"
   },
   {
    "duration": 207,
    "start_time": "2021-07-08T10:52:45.381Z"
   },
   {
    "duration": 5,
    "start_time": "2021-07-08T10:53:34.641Z"
   },
   {
    "duration": 196,
    "start_time": "2021-07-08T10:53:41.478Z"
   },
   {
    "duration": 43,
    "start_time": "2021-07-08T10:53:50.335Z"
   },
   {
    "duration": 32,
    "start_time": "2021-07-08T10:53:55.294Z"
   },
   {
    "duration": 55,
    "start_time": "2021-07-08T10:54:09.675Z"
   },
   {
    "duration": 16,
    "start_time": "2021-07-08T10:54:12.260Z"
   },
   {
    "duration": 15,
    "start_time": "2021-07-08T10:54:49.150Z"
   },
   {
    "duration": 20,
    "start_time": "2021-07-08T10:56:07.596Z"
   },
   {
    "duration": 16,
    "start_time": "2021-07-08T10:58:26.276Z"
   },
   {
    "duration": 22,
    "start_time": "2021-07-08T10:59:00.486Z"
   },
   {
    "duration": 18,
    "start_time": "2021-07-08T11:02:09.653Z"
   },
   {
    "duration": 10,
    "start_time": "2021-07-08T11:03:44.331Z"
   },
   {
    "duration": 10,
    "start_time": "2021-07-08T11:03:54.055Z"
   },
   {
    "duration": 12,
    "start_time": "2021-07-08T11:04:41.967Z"
   },
   {
    "duration": 24,
    "start_time": "2021-07-08T11:07:30.732Z"
   },
   {
    "duration": 6,
    "start_time": "2021-07-08T11:07:37.364Z"
   },
   {
    "duration": 16,
    "start_time": "2021-07-08T11:08:01.819Z"
   },
   {
    "duration": 17,
    "start_time": "2021-07-08T11:09:47.488Z"
   },
   {
    "duration": 246,
    "start_time": "2021-07-08T11:10:00.830Z"
   },
   {
    "duration": 18,
    "start_time": "2021-07-08T11:13:55.195Z"
   },
   {
    "duration": 204,
    "start_time": "2021-07-08T11:14:04.951Z"
   },
   {
    "duration": 19,
    "start_time": "2021-07-08T11:15:10.613Z"
   },
   {
    "duration": 680,
    "start_time": "2021-07-08T11:16:25.793Z"
   },
   {
    "duration": 451,
    "start_time": "2021-07-08T11:16:40.313Z"
   },
   {
    "duration": 469,
    "start_time": "2021-07-08T11:17:21.286Z"
   },
   {
    "duration": 20,
    "start_time": "2021-07-08T11:19:12.554Z"
   },
   {
    "duration": 35,
    "start_time": "2021-07-08T11:20:05.484Z"
   },
   {
    "duration": 53,
    "start_time": "2021-07-08T11:21:40.050Z"
   },
   {
    "duration": 13,
    "start_time": "2021-07-08T11:22:26.059Z"
   },
   {
    "duration": 19,
    "start_time": "2021-07-08T11:22:47.419Z"
   },
   {
    "duration": 25,
    "start_time": "2021-07-08T11:23:19.958Z"
   },
   {
    "duration": 29,
    "start_time": "2021-07-08T11:23:25.415Z"
   },
   {
    "duration": 10,
    "start_time": "2021-07-08T11:24:45.138Z"
   },
   {
    "duration": 19,
    "start_time": "2021-07-08T11:24:54.498Z"
   },
   {
    "duration": 12,
    "start_time": "2021-07-08T11:25:32.225Z"
   },
   {
    "duration": 19,
    "start_time": "2021-07-08T11:25:37.092Z"
   },
   {
    "duration": 17,
    "start_time": "2021-07-08T11:25:58.116Z"
   },
   {
    "duration": 15,
    "start_time": "2021-07-08T11:26:02.258Z"
   },
   {
    "duration": 8,
    "start_time": "2021-07-08T11:26:59.682Z"
   },
   {
    "duration": 184,
    "start_time": "2021-07-08T11:27:21.894Z"
   },
   {
    "duration": 8,
    "start_time": "2021-07-08T11:27:23.824Z"
   },
   {
    "duration": 202,
    "start_time": "2021-07-08T11:27:23.962Z"
   },
   {
    "duration": 360,
    "start_time": "2021-07-08T11:28:33.215Z"
   },
   {
    "duration": 231,
    "start_time": "2021-07-08T11:32:05.542Z"
   },
   {
    "duration": 607,
    "start_time": "2021-07-08T11:36:27.854Z"
   },
   {
    "duration": 241,
    "start_time": "2021-07-08T11:36:28.463Z"
   },
   {
    "duration": 67,
    "start_time": "2021-07-08T11:36:28.709Z"
   },
   {
    "duration": 5,
    "start_time": "2021-07-08T11:36:28.778Z"
   },
   {
    "duration": 32,
    "start_time": "2021-07-08T11:36:28.784Z"
   },
   {
    "duration": 11,
    "start_time": "2021-07-08T11:36:28.819Z"
   },
   {
    "duration": 20,
    "start_time": "2021-07-08T11:36:28.834Z"
   },
   {
    "duration": 36,
    "start_time": "2021-07-08T11:36:28.857Z"
   },
   {
    "duration": 16,
    "start_time": "2021-07-08T11:36:28.895Z"
   },
   {
    "duration": 14,
    "start_time": "2021-07-08T11:36:28.913Z"
   },
   {
    "duration": 9,
    "start_time": "2021-07-08T11:36:28.930Z"
   },
   {
    "duration": 55,
    "start_time": "2021-07-08T11:36:28.941Z"
   },
   {
    "duration": 27,
    "start_time": "2021-07-08T11:36:28.999Z"
   },
   {
    "duration": 30,
    "start_time": "2021-07-08T11:36:29.028Z"
   },
   {
    "duration": 31,
    "start_time": "2021-07-08T11:36:29.060Z"
   },
   {
    "duration": 3,
    "start_time": "2021-07-08T11:36:29.093Z"
   },
   {
    "duration": 12,
    "start_time": "2021-07-08T11:36:29.099Z"
   },
   {
    "duration": 11,
    "start_time": "2021-07-08T11:36:29.112Z"
   },
   {
    "duration": 12,
    "start_time": "2021-07-08T11:36:29.125Z"
   },
   {
    "duration": 9,
    "start_time": "2021-07-08T11:36:29.139Z"
   },
   {
    "duration": 31,
    "start_time": "2021-07-08T11:36:29.191Z"
   },
   {
    "duration": 17,
    "start_time": "2021-07-08T11:36:29.226Z"
   },
   {
    "duration": 7,
    "start_time": "2021-07-08T11:36:29.245Z"
   },
   {
    "duration": 10,
    "start_time": "2021-07-08T11:36:29.254Z"
   },
   {
    "duration": 30,
    "start_time": "2021-07-08T11:36:29.292Z"
   },
   {
    "duration": 11,
    "start_time": "2021-07-08T11:36:29.324Z"
   },
   {
    "duration": 11,
    "start_time": "2021-07-08T11:36:29.337Z"
   },
   {
    "duration": 230,
    "start_time": "2021-07-08T11:36:29.349Z"
   },
   {
    "duration": 13,
    "start_time": "2021-07-08T11:36:29.588Z"
   },
   {
    "duration": 205,
    "start_time": "2021-07-08T11:36:29.603Z"
   },
   {
    "duration": 20,
    "start_time": "2021-07-08T11:36:29.810Z"
   },
   {
    "duration": 9,
    "start_time": "2021-07-08T11:36:29.832Z"
   },
   {
    "duration": 16,
    "start_time": "2021-07-08T11:36:29.843Z"
   },
   {
    "duration": 283,
    "start_time": "2021-07-08T11:36:29.861Z"
   },
   {
    "duration": 50,
    "start_time": "2021-07-08T11:36:30.146Z"
   },
   {
    "duration": 14,
    "start_time": "2021-07-08T11:36:30.198Z"
   },
   {
    "duration": 11,
    "start_time": "2021-07-08T11:36:30.214Z"
   },
   {
    "duration": 245,
    "start_time": "2021-07-08T11:36:30.227Z"
   },
   {
    "duration": 439,
    "start_time": "2021-07-08T11:36:30.474Z"
   },
   {
    "duration": 210,
    "start_time": "2021-07-08T11:36:30.915Z"
   },
   {
    "duration": 15,
    "start_time": "2021-07-08T11:36:31.127Z"
   },
   {
    "duration": 17,
    "start_time": "2021-07-08T11:38:20.451Z"
   },
   {
    "duration": 642,
    "start_time": "2021-07-08T11:46:17.881Z"
   },
   {
    "duration": 210,
    "start_time": "2021-07-08T11:46:18.525Z"
   },
   {
    "duration": 104,
    "start_time": "2021-07-08T11:46:18.741Z"
   },
   {
    "duration": 8,
    "start_time": "2021-07-08T11:46:18.847Z"
   },
   {
    "duration": 25,
    "start_time": "2021-07-08T11:46:18.857Z"
   },
   {
    "duration": 14,
    "start_time": "2021-07-08T11:46:18.884Z"
   },
   {
    "duration": 22,
    "start_time": "2021-07-08T11:46:18.900Z"
   },
   {
    "duration": 5,
    "start_time": "2021-07-08T11:46:18.924Z"
   },
   {
    "duration": 13,
    "start_time": "2021-07-08T11:46:18.931Z"
   },
   {
    "duration": 45,
    "start_time": "2021-07-08T11:46:18.946Z"
   },
   {
    "duration": 12,
    "start_time": "2021-07-08T11:46:18.993Z"
   },
   {
    "duration": 38,
    "start_time": "2021-07-08T11:46:19.006Z"
   },
   {
    "duration": 50,
    "start_time": "2021-07-08T11:46:19.046Z"
   },
   {
    "duration": 29,
    "start_time": "2021-07-08T11:46:19.099Z"
   },
   {
    "duration": 7,
    "start_time": "2021-07-08T11:46:19.130Z"
   },
   {
    "duration": 3,
    "start_time": "2021-07-08T11:46:19.139Z"
   },
   {
    "duration": 11,
    "start_time": "2021-07-08T11:46:19.144Z"
   },
   {
    "duration": 40,
    "start_time": "2021-07-08T11:46:19.157Z"
   },
   {
    "duration": 15,
    "start_time": "2021-07-08T11:46:19.199Z"
   },
   {
    "duration": 10,
    "start_time": "2021-07-08T11:46:19.217Z"
   },
   {
    "duration": 68,
    "start_time": "2021-07-08T11:46:19.230Z"
   },
   {
    "duration": 17,
    "start_time": "2021-07-08T11:46:19.301Z"
   },
   {
    "duration": 7,
    "start_time": "2021-07-08T11:46:19.321Z"
   },
   {
    "duration": 11,
    "start_time": "2021-07-08T11:46:19.330Z"
   },
   {
    "duration": 59,
    "start_time": "2021-07-08T11:46:19.343Z"
   },
   {
    "duration": 17,
    "start_time": "2021-07-08T11:46:19.405Z"
   },
   {
    "duration": 16,
    "start_time": "2021-07-08T11:46:19.424Z"
   },
   {
    "duration": 252,
    "start_time": "2021-07-08T11:46:19.443Z"
   },
   {
    "duration": 9,
    "start_time": "2021-07-08T11:46:19.697Z"
   },
   {
    "duration": 224,
    "start_time": "2021-07-08T11:46:19.708Z"
   },
   {
    "duration": 21,
    "start_time": "2021-07-08T11:46:19.934Z"
   },
   {
    "duration": 9,
    "start_time": "2021-07-08T11:46:19.956Z"
   },
   {
    "duration": 32,
    "start_time": "2021-07-08T11:46:19.967Z"
   },
   {
    "duration": 288,
    "start_time": "2021-07-08T11:46:20.004Z"
   },
   {
    "duration": 23,
    "start_time": "2021-07-08T11:46:20.300Z"
   },
   {
    "duration": 11,
    "start_time": "2021-07-08T11:46:20.325Z"
   },
   {
    "duration": 11,
    "start_time": "2021-07-08T11:46:20.339Z"
   },
   {
    "duration": 259,
    "start_time": "2021-07-08T11:46:20.352Z"
   },
   {
    "duration": 438,
    "start_time": "2021-07-08T11:46:20.613Z"
   },
   {
    "duration": 207,
    "start_time": "2021-07-08T11:46:21.054Z"
   },
   {
    "duration": 27,
    "start_time": "2021-07-08T11:46:21.262Z"
   },
   {
    "duration": 19,
    "start_time": "2021-07-08T11:46:21.291Z"
   },
   {
    "duration": 820,
    "start_time": "2021-07-08T11:49:01.655Z"
   },
   {
    "duration": 372,
    "start_time": "2021-07-08T11:49:02.478Z"
   },
   {
    "duration": 98,
    "start_time": "2021-07-08T11:49:02.853Z"
   },
   {
    "duration": 6,
    "start_time": "2021-07-08T11:49:02.953Z"
   },
   {
    "duration": 39,
    "start_time": "2021-07-08T11:49:02.960Z"
   },
   {
    "duration": 9,
    "start_time": "2021-07-08T11:49:03.003Z"
   },
   {
    "duration": 23,
    "start_time": "2021-07-08T11:49:03.014Z"
   },
   {
    "duration": 6,
    "start_time": "2021-07-08T11:49:03.041Z"
   },
   {
    "duration": 20,
    "start_time": "2021-07-08T11:49:03.049Z"
   },
   {
    "duration": 18,
    "start_time": "2021-07-08T11:49:03.084Z"
   },
   {
    "duration": 14,
    "start_time": "2021-07-08T11:49:03.104Z"
   },
   {
    "duration": 39,
    "start_time": "2021-07-08T11:49:03.119Z"
   },
   {
    "duration": 38,
    "start_time": "2021-07-08T11:49:03.160Z"
   },
   {
    "duration": 26,
    "start_time": "2021-07-08T11:49:03.200Z"
   },
   {
    "duration": 7,
    "start_time": "2021-07-08T11:49:03.227Z"
   },
   {
    "duration": 4,
    "start_time": "2021-07-08T11:49:03.236Z"
   },
   {
    "duration": 15,
    "start_time": "2021-07-08T11:49:03.243Z"
   },
   {
    "duration": 21,
    "start_time": "2021-07-08T11:49:03.285Z"
   },
   {
    "duration": 17,
    "start_time": "2021-07-08T11:49:03.309Z"
   },
   {
    "duration": 10,
    "start_time": "2021-07-08T11:49:03.328Z"
   },
   {
    "duration": 65,
    "start_time": "2021-07-08T11:49:03.340Z"
   },
   {
    "duration": 18,
    "start_time": "2021-07-08T11:49:03.407Z"
   },
   {
    "duration": 8,
    "start_time": "2021-07-08T11:49:03.428Z"
   },
   {
    "duration": 15,
    "start_time": "2021-07-08T11:49:03.438Z"
   },
   {
    "duration": 40,
    "start_time": "2021-07-08T11:49:03.455Z"
   },
   {
    "duration": 12,
    "start_time": "2021-07-08T11:49:03.497Z"
   },
   {
    "duration": 29,
    "start_time": "2021-07-08T11:49:03.511Z"
   },
   {
    "duration": 285,
    "start_time": "2021-07-08T11:49:03.542Z"
   },
   {
    "duration": 8,
    "start_time": "2021-07-08T11:49:03.829Z"
   },
   {
    "duration": 227,
    "start_time": "2021-07-08T11:49:03.838Z"
   },
   {
    "duration": 40,
    "start_time": "2021-07-08T11:49:04.066Z"
   },
   {
    "duration": 10,
    "start_time": "2021-07-08T11:49:04.108Z"
   },
   {
    "duration": 26,
    "start_time": "2021-07-08T11:49:04.121Z"
   },
   {
    "duration": 290,
    "start_time": "2021-07-08T11:49:04.149Z"
   },
   {
    "duration": 26,
    "start_time": "2021-07-08T11:49:04.441Z"
   },
   {
    "duration": 31,
    "start_time": "2021-07-08T11:49:04.470Z"
   },
   {
    "duration": 14,
    "start_time": "2021-07-08T11:49:04.503Z"
   },
   {
    "duration": 259,
    "start_time": "2021-07-08T11:49:04.521Z"
   },
   {
    "duration": 480,
    "start_time": "2021-07-08T11:49:04.782Z"
   },
   {
    "duration": 225,
    "start_time": "2021-07-08T11:49:05.264Z"
   },
   {
    "duration": 22,
    "start_time": "2021-07-08T11:49:05.491Z"
   },
   {
    "duration": 24,
    "start_time": "2021-07-08T11:49:05.515Z"
   },
   {
    "duration": 634,
    "start_time": "2021-07-08T11:52:24.960Z"
   },
   {
    "duration": 199,
    "start_time": "2021-07-08T11:52:25.599Z"
   },
   {
    "duration": 106,
    "start_time": "2021-07-08T11:52:25.803Z"
   },
   {
    "duration": 7,
    "start_time": "2021-07-08T11:52:25.911Z"
   },
   {
    "duration": 29,
    "start_time": "2021-07-08T11:52:25.920Z"
   },
   {
    "duration": 7,
    "start_time": "2021-07-08T11:52:25.951Z"
   },
   {
    "duration": 26,
    "start_time": "2021-07-08T11:52:25.961Z"
   },
   {
    "duration": 11,
    "start_time": "2021-07-08T11:52:25.990Z"
   },
   {
    "duration": 29,
    "start_time": "2021-07-08T11:52:26.005Z"
   },
   {
    "duration": 9,
    "start_time": "2021-07-08T11:52:26.036Z"
   },
   {
    "duration": 8,
    "start_time": "2021-07-08T11:52:26.047Z"
   },
   {
    "duration": 63,
    "start_time": "2021-07-08T11:52:26.057Z"
   },
   {
    "duration": 17,
    "start_time": "2021-07-08T11:52:26.122Z"
   },
   {
    "duration": 43,
    "start_time": "2021-07-08T11:52:26.142Z"
   },
   {
    "duration": 17,
    "start_time": "2021-07-08T11:52:26.187Z"
   },
   {
    "duration": 5,
    "start_time": "2021-07-08T11:52:26.206Z"
   },
   {
    "duration": 12,
    "start_time": "2021-07-08T11:52:26.212Z"
   },
   {
    "duration": 11,
    "start_time": "2021-07-08T11:52:26.226Z"
   },
   {
    "duration": 12,
    "start_time": "2021-07-08T11:52:26.238Z"
   },
   {
    "duration": 38,
    "start_time": "2021-07-08T11:52:26.252Z"
   },
   {
    "duration": 40,
    "start_time": "2021-07-08T11:52:26.292Z"
   },
   {
    "duration": 17,
    "start_time": "2021-07-08T11:52:26.336Z"
   },
   {
    "duration": 39,
    "start_time": "2021-07-08T11:52:26.355Z"
   },
   {
    "duration": 11,
    "start_time": "2021-07-08T11:52:26.395Z"
   },
   {
    "duration": 23,
    "start_time": "2021-07-08T11:52:26.408Z"
   },
   {
    "duration": 12,
    "start_time": "2021-07-08T11:52:26.432Z"
   },
   {
    "duration": 41,
    "start_time": "2021-07-08T11:52:26.446Z"
   },
   {
    "duration": 215,
    "start_time": "2021-07-08T11:52:26.493Z"
   },
   {
    "duration": 8,
    "start_time": "2021-07-08T11:52:26.710Z"
   },
   {
    "duration": 228,
    "start_time": "2021-07-08T11:52:26.720Z"
   },
   {
    "duration": 18,
    "start_time": "2021-07-08T11:52:26.950Z"
   },
   {
    "duration": 35,
    "start_time": "2021-07-08T11:52:26.969Z"
   },
   {
    "duration": 23,
    "start_time": "2021-07-08T11:52:27.006Z"
   },
   {
    "duration": 258,
    "start_time": "2021-07-08T11:52:27.030Z"
   },
   {
    "duration": 24,
    "start_time": "2021-07-08T11:52:27.290Z"
   },
   {
    "duration": 12,
    "start_time": "2021-07-08T11:52:27.316Z"
   },
   {
    "duration": 10,
    "start_time": "2021-07-08T11:52:27.329Z"
   },
   {
    "duration": 298,
    "start_time": "2021-07-08T11:52:27.341Z"
   },
   {
    "duration": 436,
    "start_time": "2021-07-08T11:52:27.641Z"
   },
   {
    "duration": 216,
    "start_time": "2021-07-08T11:52:28.079Z"
   },
   {
    "duration": 20,
    "start_time": "2021-07-08T11:52:28.297Z"
   },
   {
    "duration": 17,
    "start_time": "2021-07-08T11:52:28.319Z"
   },
   {
    "duration": 419,
    "start_time": "2024-02-05T07:26:50.286Z"
   },
   {
    "duration": 349,
    "start_time": "2024-02-05T07:28:13.307Z"
   },
   {
    "duration": 67,
    "start_time": "2024-02-05T07:28:48.898Z"
   },
   {
    "duration": 25,
    "start_time": "2024-02-05T07:28:55.530Z"
   },
   {
    "duration": 16,
    "start_time": "2024-02-05T07:29:26.392Z"
   },
   {
    "duration": 7,
    "start_time": "2024-02-05T07:30:36.857Z"
   },
   {
    "duration": 16,
    "start_time": "2024-02-05T07:31:07.537Z"
   },
   {
    "duration": 17,
    "start_time": "2024-02-05T07:41:12.066Z"
   },
   {
    "duration": 25,
    "start_time": "2024-02-05T07:52:56.253Z"
   },
   {
    "duration": 12,
    "start_time": "2024-02-05T07:55:07.015Z"
   },
   {
    "duration": 9,
    "start_time": "2024-02-05T07:55:53.669Z"
   },
   {
    "duration": 386,
    "start_time": "2024-02-05T10:32:19.215Z"
   },
   {
    "duration": 342,
    "start_time": "2024-02-05T10:32:19.635Z"
   },
   {
    "duration": 22,
    "start_time": "2024-02-05T10:32:20.044Z"
   },
   {
    "duration": 22,
    "start_time": "2024-02-05T10:32:22.261Z"
   },
   {
    "duration": 11,
    "start_time": "2024-02-05T10:32:23.949Z"
   },
   {
    "duration": 66,
    "start_time": "2024-02-05T10:32:55.044Z"
   },
   {
    "duration": 20,
    "start_time": "2024-02-05T10:33:02.317Z"
   },
   {
    "duration": 17,
    "start_time": "2024-02-05T10:33:07.951Z"
   },
   {
    "duration": 8,
    "start_time": "2024-02-05T10:38:17.285Z"
   },
   {
    "duration": 578,
    "start_time": "2024-02-05T10:38:40.705Z"
   },
   {
    "duration": 5,
    "start_time": "2024-02-05T10:39:13.796Z"
   },
   {
    "duration": 19,
    "start_time": "2024-02-05T10:53:26.122Z"
   },
   {
    "duration": 4,
    "start_time": "2024-02-05T11:01:28.900Z"
   },
   {
    "duration": 6,
    "start_time": "2024-02-05T11:02:10.795Z"
   },
   {
    "duration": 573,
    "start_time": "2024-02-05T11:02:17.682Z"
   },
   {
    "duration": 651,
    "start_time": "2024-02-05T11:02:22.149Z"
   },
   {
    "duration": 980,
    "start_time": "2024-02-05T11:14:22.450Z"
   },
   {
    "duration": 51,
    "start_time": "2024-02-05T11:16:11.183Z"
   },
   {
    "duration": 14,
    "start_time": "2024-02-05T11:21:21.995Z"
   },
   {
    "duration": 10,
    "start_time": "2024-02-05T11:22:45.951Z"
   },
   {
    "duration": 8,
    "start_time": "2024-02-05T11:22:58.333Z"
   },
   {
    "duration": 3,
    "start_time": "2024-02-05T11:23:58.870Z"
   },
   {
    "duration": 142,
    "start_time": "2024-02-05T11:23:58.875Z"
   },
   {
    "duration": 22,
    "start_time": "2024-02-05T11:23:59.019Z"
   },
   {
    "duration": 16,
    "start_time": "2024-02-05T11:23:59.043Z"
   },
   {
    "duration": 7,
    "start_time": "2024-02-05T11:23:59.061Z"
   },
   {
    "duration": 20,
    "start_time": "2024-02-05T11:23:59.069Z"
   },
   {
    "duration": 25,
    "start_time": "2024-02-05T11:23:59.091Z"
   },
   {
    "duration": 9,
    "start_time": "2024-02-05T11:24:02.006Z"
   },
   {
    "duration": 9,
    "start_time": "2024-02-05T11:24:07.655Z"
   },
   {
    "duration": 10,
    "start_time": "2024-02-05T11:29:41.244Z"
   },
   {
    "duration": 10,
    "start_time": "2024-02-05T11:31:48.602Z"
   },
   {
    "duration": 11,
    "start_time": "2024-02-05T11:33:46.162Z"
   },
   {
    "duration": 10,
    "start_time": "2024-02-05T11:33:55.228Z"
   },
   {
    "duration": 9,
    "start_time": "2024-02-05T11:34:26.819Z"
   },
   {
    "duration": 10,
    "start_time": "2024-02-05T11:34:40.725Z"
   },
   {
    "duration": 4,
    "start_time": "2024-02-05T11:34:46.947Z"
   },
   {
    "duration": 129,
    "start_time": "2024-02-05T11:34:46.953Z"
   },
   {
    "duration": 15,
    "start_time": "2024-02-05T11:34:47.084Z"
   },
   {
    "duration": 18,
    "start_time": "2024-02-05T11:34:47.100Z"
   },
   {
    "duration": 7,
    "start_time": "2024-02-05T11:34:47.120Z"
   },
   {
    "duration": 11,
    "start_time": "2024-02-05T11:34:47.128Z"
   },
   {
    "duration": 43,
    "start_time": "2024-02-05T11:34:47.141Z"
   },
   {
    "duration": 292,
    "start_time": "2024-02-05T11:34:48.982Z"
   },
   {
    "duration": 9,
    "start_time": "2024-02-05T11:37:47.616Z"
   },
   {
    "duration": 9,
    "start_time": "2024-02-05T11:37:50.293Z"
   },
   {
    "duration": 10,
    "start_time": "2024-02-05T11:37:55.582Z"
   },
   {
    "duration": 13,
    "start_time": "2024-02-05T11:40:06.912Z"
   },
   {
    "duration": 10,
    "start_time": "2024-02-05T11:41:57.811Z"
   },
   {
    "duration": 10,
    "start_time": "2024-02-05T11:42:00.543Z"
   },
   {
    "duration": 4,
    "start_time": "2024-02-05T11:43:00.081Z"
   },
   {
    "duration": 176,
    "start_time": "2024-02-05T11:43:00.087Z"
   },
   {
    "duration": 16,
    "start_time": "2024-02-05T11:43:00.265Z"
   },
   {
    "duration": 81,
    "start_time": "2024-02-05T11:43:00.282Z"
   },
   {
    "duration": 55,
    "start_time": "2024-02-05T11:43:00.365Z"
   },
   {
    "duration": 95,
    "start_time": "2024-02-05T11:43:00.421Z"
   },
   {
    "duration": 74,
    "start_time": "2024-02-05T11:43:00.518Z"
   },
   {
    "duration": 5,
    "start_time": "2024-02-05T11:43:06.808Z"
   },
   {
    "duration": 12,
    "start_time": "2024-02-05T11:43:23.658Z"
   },
   {
    "duration": 10,
    "start_time": "2024-02-05T11:44:30.359Z"
   },
   {
    "duration": 4,
    "start_time": "2024-02-05T11:44:37.469Z"
   },
   {
    "duration": 17,
    "start_time": "2024-02-05T11:44:58.706Z"
   },
   {
    "duration": 8,
    "start_time": "2024-02-05T11:45:17.967Z"
   },
   {
    "duration": 18,
    "start_time": "2024-02-05T11:45:27.136Z"
   },
   {
    "duration": 8,
    "start_time": "2024-02-05T11:46:17.939Z"
   },
   {
    "duration": 11,
    "start_time": "2024-02-05T11:46:24.713Z"
   },
   {
    "duration": 3,
    "start_time": "2024-02-05T11:46:46.460Z"
   },
   {
    "duration": 147,
    "start_time": "2024-02-05T11:46:46.465Z"
   },
   {
    "duration": 15,
    "start_time": "2024-02-05T11:46:46.613Z"
   },
   {
    "duration": 16,
    "start_time": "2024-02-05T11:46:46.629Z"
   },
   {
    "duration": 8,
    "start_time": "2024-02-05T11:46:46.647Z"
   },
   {
    "duration": 20,
    "start_time": "2024-02-05T11:46:46.656Z"
   },
   {
    "duration": 24,
    "start_time": "2024-02-05T11:46:46.678Z"
   },
   {
    "duration": 5,
    "start_time": "2024-02-05T11:46:46.704Z"
   },
   {
    "duration": 23,
    "start_time": "2024-02-05T11:46:46.710Z"
   },
   {
    "duration": 9,
    "start_time": "2024-02-05T11:46:50.644Z"
   },
   {
    "duration": 9,
    "start_time": "2024-02-05T11:47:59.906Z"
   },
   {
    "duration": 16,
    "start_time": "2024-02-05T11:48:04.788Z"
   },
   {
    "duration": 9,
    "start_time": "2024-02-05T11:48:04.806Z"
   },
   {
    "duration": 17,
    "start_time": "2024-02-05T11:48:11.707Z"
   },
   {
    "duration": 3,
    "start_time": "2024-02-05T11:48:13.646Z"
   },
   {
    "duration": 147,
    "start_time": "2024-02-05T11:48:13.652Z"
   },
   {
    "duration": 15,
    "start_time": "2024-02-05T11:48:13.801Z"
   },
   {
    "duration": 28,
    "start_time": "2024-02-05T11:48:13.817Z"
   },
   {
    "duration": 12,
    "start_time": "2024-02-05T11:48:13.847Z"
   },
   {
    "duration": 24,
    "start_time": "2024-02-05T11:48:13.861Z"
   },
   {
    "duration": 24,
    "start_time": "2024-02-05T11:48:13.886Z"
   },
   {
    "duration": 22,
    "start_time": "2024-02-05T11:48:13.911Z"
   },
   {
    "duration": 28,
    "start_time": "2024-02-05T11:48:13.934Z"
   },
   {
    "duration": 26,
    "start_time": "2024-02-05T11:48:13.964Z"
   },
   {
    "duration": 12,
    "start_time": "2024-02-05T11:57:18.641Z"
   },
   {
    "duration": 7,
    "start_time": "2024-02-05T11:57:29.757Z"
   },
   {
    "duration": 6,
    "start_time": "2024-02-05T11:57:33.152Z"
   },
   {
    "duration": 17,
    "start_time": "2024-02-05T11:57:52.209Z"
   },
   {
    "duration": 13,
    "start_time": "2024-02-05T12:00:38.954Z"
   },
   {
    "duration": 12,
    "start_time": "2024-02-05T12:00:41.666Z"
   },
   {
    "duration": 25,
    "start_time": "2024-02-05T12:01:36.822Z"
   },
   {
    "duration": 18,
    "start_time": "2024-02-05T12:02:52.679Z"
   },
   {
    "duration": 11,
    "start_time": "2024-02-05T12:06:55.673Z"
   },
   {
    "duration": 3,
    "start_time": "2024-02-05T12:07:06.036Z"
   },
   {
    "duration": 128,
    "start_time": "2024-02-05T12:07:06.041Z"
   },
   {
    "duration": 18,
    "start_time": "2024-02-05T12:07:06.170Z"
   },
   {
    "duration": 19,
    "start_time": "2024-02-05T12:07:06.190Z"
   },
   {
    "duration": 7,
    "start_time": "2024-02-05T12:07:06.211Z"
   },
   {
    "duration": 24,
    "start_time": "2024-02-05T12:07:06.219Z"
   },
   {
    "duration": 19,
    "start_time": "2024-02-05T12:07:06.245Z"
   },
   {
    "duration": 5,
    "start_time": "2024-02-05T12:07:06.280Z"
   },
   {
    "duration": 19,
    "start_time": "2024-02-05T12:07:06.286Z"
   },
   {
    "duration": 6,
    "start_time": "2024-02-05T12:07:06.307Z"
   },
   {
    "duration": 22,
    "start_time": "2024-02-05T12:07:06.314Z"
   },
   {
    "duration": 9,
    "start_time": "2024-02-05T12:07:06.338Z"
   },
   {
    "duration": 12,
    "start_time": "2024-02-05T12:07:08.892Z"
   },
   {
    "duration": 9,
    "start_time": "2024-02-05T12:07:49.382Z"
   },
   {
    "duration": 3,
    "start_time": "2024-02-05T12:08:05.043Z"
   },
   {
    "duration": 168,
    "start_time": "2024-02-05T12:08:05.048Z"
   },
   {
    "duration": 14,
    "start_time": "2024-02-05T12:08:05.218Z"
   },
   {
    "duration": 40,
    "start_time": "2024-02-05T12:08:05.234Z"
   },
   {
    "duration": 21,
    "start_time": "2024-02-05T12:08:05.276Z"
   },
   {
    "duration": 17,
    "start_time": "2024-02-05T12:08:05.298Z"
   },
   {
    "duration": 18,
    "start_time": "2024-02-05T12:08:05.317Z"
   },
   {
    "duration": 14,
    "start_time": "2024-02-05T12:08:05.336Z"
   },
   {
    "duration": 31,
    "start_time": "2024-02-05T12:08:05.351Z"
   },
   {
    "duration": 15,
    "start_time": "2024-02-05T12:08:05.383Z"
   },
   {
    "duration": 19,
    "start_time": "2024-02-05T12:08:11.273Z"
   },
   {
    "duration": 3,
    "start_time": "2024-02-05T12:09:03.340Z"
   },
   {
    "duration": 144,
    "start_time": "2024-02-05T12:09:03.346Z"
   },
   {
    "duration": 17,
    "start_time": "2024-02-05T12:09:03.491Z"
   },
   {
    "duration": 23,
    "start_time": "2024-02-05T12:09:03.510Z"
   },
   {
    "duration": 11,
    "start_time": "2024-02-05T12:09:03.536Z"
   },
   {
    "duration": 25,
    "start_time": "2024-02-05T12:09:03.549Z"
   },
   {
    "duration": 23,
    "start_time": "2024-02-05T12:09:03.577Z"
   },
   {
    "duration": 5,
    "start_time": "2024-02-05T12:09:03.602Z"
   },
   {
    "duration": 21,
    "start_time": "2024-02-05T12:09:03.609Z"
   },
   {
    "duration": 7,
    "start_time": "2024-02-05T12:09:03.632Z"
   },
   {
    "duration": 40,
    "start_time": "2024-02-05T12:09:03.640Z"
   },
   {
    "duration": 10,
    "start_time": "2024-02-05T12:09:03.682Z"
   },
   {
    "duration": 24,
    "start_time": "2024-02-05T12:09:03.694Z"
   },
   {
    "duration": 15,
    "start_time": "2024-02-05T12:09:06.071Z"
   },
   {
    "duration": 2,
    "start_time": "2024-02-05T12:09:19.414Z"
   },
   {
    "duration": 126,
    "start_time": "2024-02-05T12:09:19.418Z"
   },
   {
    "duration": 15,
    "start_time": "2024-02-05T12:09:19.546Z"
   },
   {
    "duration": 19,
    "start_time": "2024-02-05T12:09:19.563Z"
   },
   {
    "duration": 7,
    "start_time": "2024-02-05T12:09:19.584Z"
   },
   {
    "duration": 10,
    "start_time": "2024-02-05T12:09:19.592Z"
   },
   {
    "duration": 20,
    "start_time": "2024-02-05T12:09:19.604Z"
   },
   {
    "duration": 4,
    "start_time": "2024-02-05T12:09:19.626Z"
   },
   {
    "duration": 15,
    "start_time": "2024-02-05T12:09:19.632Z"
   },
   {
    "duration": 31,
    "start_time": "2024-02-05T12:09:19.649Z"
   },
   {
    "duration": 16,
    "start_time": "2024-02-05T12:09:19.682Z"
   },
   {
    "duration": 23,
    "start_time": "2024-02-05T12:09:19.699Z"
   },
   {
    "duration": 26,
    "start_time": "2024-02-05T12:09:19.724Z"
   },
   {
    "duration": 31,
    "start_time": "2024-02-05T12:09:19.753Z"
   },
   {
    "duration": 9,
    "start_time": "2024-02-05T12:15:38.001Z"
   },
   {
    "duration": 12,
    "start_time": "2024-02-05T12:15:47.022Z"
   },
   {
    "duration": 16,
    "start_time": "2024-02-05T12:16:53.510Z"
   },
   {
    "duration": 3,
    "start_time": "2024-02-05T12:17:14.277Z"
   },
   {
    "duration": 20,
    "start_time": "2024-02-05T12:24:11.015Z"
   },
   {
    "duration": 5,
    "start_time": "2024-02-05T12:27:01.071Z"
   },
   {
    "duration": 9,
    "start_time": "2024-02-05T12:28:55.149Z"
   },
   {
    "duration": 12,
    "start_time": "2024-02-05T12:29:46.748Z"
   },
   {
    "duration": 11,
    "start_time": "2024-02-05T12:58:17.138Z"
   },
   {
    "duration": 21,
    "start_time": "2024-02-05T12:58:26.017Z"
   },
   {
    "duration": 6,
    "start_time": "2024-02-05T13:29:17.007Z"
   },
   {
    "duration": 21,
    "start_time": "2024-02-05T13:29:33.209Z"
   },
   {
    "duration": 31,
    "start_time": "2024-02-05T13:46:56.425Z"
   },
   {
    "duration": 25,
    "start_time": "2024-02-05T14:14:28.353Z"
   },
   {
    "duration": 22,
    "start_time": "2024-02-05T14:16:44.218Z"
   },
   {
    "duration": 12,
    "start_time": "2024-02-05T14:17:22.267Z"
   },
   {
    "duration": 42,
    "start_time": "2024-02-05T14:17:28.300Z"
   },
   {
    "duration": 10,
    "start_time": "2024-02-05T14:35:43.452Z"
   },
   {
    "duration": 9,
    "start_time": "2024-02-05T14:35:56.493Z"
   },
   {
    "duration": 11,
    "start_time": "2024-02-05T14:37:53.239Z"
   },
   {
    "duration": 10,
    "start_time": "2024-02-05T14:41:31.935Z"
   },
   {
    "duration": 9,
    "start_time": "2024-02-05T14:42:09.876Z"
   },
   {
    "duration": 7,
    "start_time": "2024-02-05T14:42:18.659Z"
   },
   {
    "duration": 10,
    "start_time": "2024-02-05T14:55:45.342Z"
   },
   {
    "duration": 1083,
    "start_time": "2024-02-05T14:55:55.560Z"
   },
   {
    "duration": 8,
    "start_time": "2024-02-05T14:56:19.233Z"
   },
   {
    "duration": 5,
    "start_time": "2024-02-05T14:56:25.403Z"
   },
   {
    "duration": 10,
    "start_time": "2024-02-05T14:58:17.640Z"
   },
   {
    "duration": 12,
    "start_time": "2024-02-05T14:58:26.572Z"
   },
   {
    "duration": 10,
    "start_time": "2024-02-05T14:58:34.067Z"
   },
   {
    "duration": 41,
    "start_time": "2024-02-05T14:58:52.217Z"
   },
   {
    "duration": 7,
    "start_time": "2024-02-05T15:00:14.489Z"
   },
   {
    "duration": 6,
    "start_time": "2024-02-05T15:15:29.700Z"
   },
   {
    "duration": 11,
    "start_time": "2024-02-05T15:16:14.500Z"
   },
   {
    "duration": 35,
    "start_time": "2024-02-05T15:16:47.845Z"
   },
   {
    "duration": 23,
    "start_time": "2024-02-05T15:29:09.281Z"
   },
   {
    "duration": 13,
    "start_time": "2024-02-05T15:30:39.031Z"
   },
   {
    "duration": 32,
    "start_time": "2024-02-05T15:30:50.676Z"
   },
   {
    "duration": 72,
    "start_time": "2024-02-05T17:58:43.877Z"
   },
   {
    "duration": 1410,
    "start_time": "2024-02-05T17:58:49.728Z"
   },
   {
    "duration": 275,
    "start_time": "2024-02-05T17:58:51.140Z"
   },
   {
    "duration": 20,
    "start_time": "2024-02-05T17:58:51.416Z"
   },
   {
    "duration": 16,
    "start_time": "2024-02-05T17:58:51.438Z"
   },
   {
    "duration": 7,
    "start_time": "2024-02-05T17:58:51.456Z"
   },
   {
    "duration": 12,
    "start_time": "2024-02-05T17:58:51.465Z"
   },
   {
    "duration": 37,
    "start_time": "2024-02-05T17:58:51.479Z"
   },
   {
    "duration": 10,
    "start_time": "2024-02-05T17:58:51.518Z"
   },
   {
    "duration": 28,
    "start_time": "2024-02-05T17:58:51.529Z"
   },
   {
    "duration": 9,
    "start_time": "2024-02-05T17:58:51.559Z"
   },
   {
    "duration": 19,
    "start_time": "2024-02-05T17:58:51.570Z"
   },
   {
    "duration": 10,
    "start_time": "2024-02-05T17:58:51.590Z"
   },
   {
    "duration": 31,
    "start_time": "2024-02-05T17:58:51.601Z"
   },
   {
    "duration": 16,
    "start_time": "2024-02-05T17:58:51.634Z"
   },
   {
    "duration": 11,
    "start_time": "2024-02-05T17:58:51.652Z"
   },
   {
    "duration": 18,
    "start_time": "2024-02-05T17:58:51.665Z"
   },
   {
    "duration": 32,
    "start_time": "2024-02-05T17:58:51.685Z"
   },
   {
    "duration": 11,
    "start_time": "2024-02-05T17:58:51.720Z"
   },
   {
    "duration": 15,
    "start_time": "2024-02-05T17:58:51.733Z"
   },
   {
    "duration": 45,
    "start_time": "2024-02-05T17:58:51.750Z"
   },
   {
    "duration": 6,
    "start_time": "2024-02-05T17:58:51.797Z"
   },
   {
    "duration": 21,
    "start_time": "2024-02-05T17:58:51.805Z"
   },
   {
    "duration": 59,
    "start_time": "2024-02-05T17:58:51.828Z"
   },
   {
    "duration": 29,
    "start_time": "2024-02-05T17:58:51.889Z"
   },
   {
    "duration": 38,
    "start_time": "2024-02-05T17:58:51.920Z"
   },
   {
    "duration": 27,
    "start_time": "2024-02-05T17:58:51.960Z"
   },
   {
    "duration": 11,
    "start_time": "2024-02-05T17:58:51.989Z"
   },
   {
    "duration": 8,
    "start_time": "2024-02-05T17:58:52.004Z"
   },
   {
    "duration": 27,
    "start_time": "2024-02-05T17:58:52.013Z"
   },
   {
    "duration": 58,
    "start_time": "2024-02-05T17:58:52.042Z"
   },
   {
    "duration": 8,
    "start_time": "2024-02-05T17:58:52.102Z"
   },
   {
    "duration": 103,
    "start_time": "2024-02-05T17:58:55.699Z"
   },
   {
    "duration": 9,
    "start_time": "2024-02-05T17:58:57.907Z"
   },
   {
    "duration": 47,
    "start_time": "2024-02-05T17:59:11.856Z"
   },
   {
    "duration": 36,
    "start_time": "2024-02-05T18:02:55.178Z"
   },
   {
    "duration": 16,
    "start_time": "2024-02-05T18:05:15.986Z"
   },
   {
    "duration": 28,
    "start_time": "2024-02-05T18:05:20.838Z"
   },
   {
    "duration": 11,
    "start_time": "2024-02-05T18:09:40.308Z"
   },
   {
    "duration": 11,
    "start_time": "2024-02-05T18:11:00.975Z"
   },
   {
    "duration": 10,
    "start_time": "2024-02-05T18:11:05.203Z"
   },
   {
    "duration": 17,
    "start_time": "2024-02-05T18:12:57.704Z"
   },
   {
    "duration": 13,
    "start_time": "2024-02-05T18:14:02.570Z"
   },
   {
    "duration": 17,
    "start_time": "2024-02-05T18:14:11.652Z"
   },
   {
    "duration": 239,
    "start_time": "2024-02-05T18:17:29.505Z"
   },
   {
    "duration": 10,
    "start_time": "2024-02-05T18:19:25.126Z"
   },
   {
    "duration": 26,
    "start_time": "2024-02-05T18:23:20.700Z"
   },
   {
    "duration": 15,
    "start_time": "2024-02-05T18:36:10.518Z"
   },
   {
    "duration": 270,
    "start_time": "2024-02-05T18:37:27.988Z"
   },
   {
    "duration": 11,
    "start_time": "2024-02-05T18:38:45.449Z"
   },
   {
    "duration": 3,
    "start_time": "2024-02-05T18:38:51.168Z"
   },
   {
    "duration": 9,
    "start_time": "2024-02-05T18:38:51.813Z"
   },
   {
    "duration": 499,
    "start_time": "2024-02-05T18:38:52.455Z"
   },
   {
    "duration": 12,
    "start_time": "2024-02-05T18:41:42.891Z"
   },
   {
    "duration": 26,
    "start_time": "2024-02-05T18:43:11.415Z"
   },
   {
    "duration": 88,
    "start_time": "2024-02-05T18:44:45.749Z"
   },
   {
    "duration": 241,
    "start_time": "2024-02-05T18:44:51.097Z"
   },
   {
    "duration": 76,
    "start_time": "2024-02-05T18:45:36.887Z"
   },
   {
    "duration": 1209,
    "start_time": "2024-02-05T18:45:41.158Z"
   },
   {
    "duration": 248,
    "start_time": "2024-02-05T18:46:12.525Z"
   },
   {
    "duration": 32,
    "start_time": "2024-02-05T18:46:21.594Z"
   },
   {
    "duration": 339,
    "start_time": "2024-02-05T18:48:03.493Z"
   },
   {
    "duration": 12,
    "start_time": "2024-02-05T18:49:49.427Z"
   },
   {
    "duration": 7,
    "start_time": "2024-02-05T18:50:12.841Z"
   },
   {
    "duration": 7,
    "start_time": "2024-02-05T18:50:48.237Z"
   },
   {
    "duration": 959,
    "start_time": "2024-02-05T18:52:02.356Z"
   },
   {
    "duration": 485,
    "start_time": "2024-02-05T18:52:47.938Z"
   },
   {
    "duration": 487,
    "start_time": "2024-02-05T18:52:49.677Z"
   },
   {
    "duration": 474,
    "start_time": "2024-02-05T18:52:50.422Z"
   },
   {
    "duration": 483,
    "start_time": "2024-02-05T18:52:50.964Z"
   },
   {
    "duration": 7,
    "start_time": "2024-02-05T18:55:08.467Z"
   },
   {
    "duration": 10,
    "start_time": "2024-02-05T18:55:12.566Z"
   },
   {
    "duration": 1006,
    "start_time": "2024-02-05T18:55:15.799Z"
   },
   {
    "duration": 8,
    "start_time": "2024-02-05T18:55:31.252Z"
   },
   {
    "duration": 952,
    "start_time": "2024-02-05T18:56:14.527Z"
   },
   {
    "duration": 3,
    "start_time": "2024-02-05T18:56:20.596Z"
   },
   {
    "duration": 130,
    "start_time": "2024-02-05T18:56:20.601Z"
   },
   {
    "duration": 16,
    "start_time": "2024-02-05T18:56:20.733Z"
   },
   {
    "duration": 20,
    "start_time": "2024-02-05T18:56:20.750Z"
   },
   {
    "duration": 7,
    "start_time": "2024-02-05T18:56:20.772Z"
   },
   {
    "duration": 14,
    "start_time": "2024-02-05T18:56:20.781Z"
   },
   {
    "duration": 17,
    "start_time": "2024-02-05T18:56:20.797Z"
   },
   {
    "duration": 5,
    "start_time": "2024-02-05T18:56:20.816Z"
   },
   {
    "duration": 16,
    "start_time": "2024-02-05T18:56:20.823Z"
   },
   {
    "duration": 9,
    "start_time": "2024-02-05T18:56:20.840Z"
   },
   {
    "duration": 39,
    "start_time": "2024-02-05T18:56:20.851Z"
   },
   {
    "duration": 9,
    "start_time": "2024-02-05T18:56:20.892Z"
   },
   {
    "duration": 23,
    "start_time": "2024-02-05T18:56:20.902Z"
   },
   {
    "duration": 16,
    "start_time": "2024-02-05T18:56:20.927Z"
   },
   {
    "duration": 41,
    "start_time": "2024-02-05T18:56:20.945Z"
   },
   {
    "duration": 3,
    "start_time": "2024-02-05T18:56:20.988Z"
   },
   {
    "duration": 15,
    "start_time": "2024-02-05T18:56:20.992Z"
   },
   {
    "duration": 10,
    "start_time": "2024-02-05T18:56:21.008Z"
   },
   {
    "duration": 11,
    "start_time": "2024-02-05T18:56:21.019Z"
   },
   {
    "duration": 52,
    "start_time": "2024-02-05T18:56:21.031Z"
   },
   {
    "duration": 5,
    "start_time": "2024-02-05T18:56:21.084Z"
   },
   {
    "duration": 21,
    "start_time": "2024-02-05T18:56:21.091Z"
   },
   {
    "duration": 32,
    "start_time": "2024-02-05T18:56:21.113Z"
   },
   {
    "duration": 54,
    "start_time": "2024-02-05T18:56:21.147Z"
   },
   {
    "duration": 32,
    "start_time": "2024-02-05T18:56:21.203Z"
   },
   {
    "duration": 7,
    "start_time": "2024-02-05T18:56:21.237Z"
   },
   {
    "duration": 10,
    "start_time": "2024-02-05T18:56:21.245Z"
   },
   {
    "duration": 7,
    "start_time": "2024-02-05T18:56:21.281Z"
   },
   {
    "duration": 18,
    "start_time": "2024-02-05T18:56:21.292Z"
   },
   {
    "duration": 26,
    "start_time": "2024-02-05T18:56:21.312Z"
   },
   {
    "duration": 63,
    "start_time": "2024-02-05T18:56:21.340Z"
   },
   {
    "duration": 37,
    "start_time": "2024-02-05T18:56:21.405Z"
   },
   {
    "duration": 9,
    "start_time": "2024-02-05T18:56:21.444Z"
   },
   {
    "duration": 36,
    "start_time": "2024-02-05T18:56:21.455Z"
   },
   {
    "duration": 249,
    "start_time": "2024-02-05T18:56:21.492Z"
   },
   {
    "duration": 10,
    "start_time": "2024-02-05T18:56:21.742Z"
   },
   {
    "duration": 31,
    "start_time": "2024-02-05T18:56:21.754Z"
   },
   {
    "duration": 6,
    "start_time": "2024-02-05T18:56:21.787Z"
   },
   {
    "duration": 77,
    "start_time": "2024-02-05T18:57:13.651Z"
   },
   {
    "duration": 946,
    "start_time": "2024-02-05T18:57:15.858Z"
   },
   {
    "duration": 17,
    "start_time": "2024-02-05T18:57:26.204Z"
   },
   {
    "duration": 245,
    "start_time": "2024-02-05T18:57:29.270Z"
   },
   {
    "duration": 237,
    "start_time": "2024-02-05T18:57:51.752Z"
   },
   {
    "duration": 11,
    "start_time": "2024-02-05T19:00:00.307Z"
   },
   {
    "duration": 11,
    "start_time": "2024-02-05T19:00:22.743Z"
   },
   {
    "duration": 169,
    "start_time": "2024-02-05T19:02:35.316Z"
   },
   {
    "duration": 17,
    "start_time": "2024-02-05T19:08:44.585Z"
   },
   {
    "duration": 176,
    "start_time": "2024-02-05T19:09:03.254Z"
   },
   {
    "duration": 17,
    "start_time": "2024-02-05T19:12:06.750Z"
   },
   {
    "duration": 24,
    "start_time": "2024-02-05T19:12:15.360Z"
   },
   {
    "duration": 612,
    "start_time": "2024-02-05T19:13:02.741Z"
   },
   {
    "duration": 3,
    "start_time": "2024-02-05T19:13:36.981Z"
   },
   {
    "duration": 143,
    "start_time": "2024-02-05T19:13:36.986Z"
   },
   {
    "duration": 16,
    "start_time": "2024-02-05T19:13:37.131Z"
   },
   {
    "duration": 25,
    "start_time": "2024-02-05T19:13:37.150Z"
   },
   {
    "duration": 10,
    "start_time": "2024-02-05T19:13:37.176Z"
   },
   {
    "duration": 31,
    "start_time": "2024-02-05T19:13:37.188Z"
   },
   {
    "duration": 19,
    "start_time": "2024-02-05T19:13:37.220Z"
   },
   {
    "duration": 15,
    "start_time": "2024-02-05T19:13:37.240Z"
   },
   {
    "duration": 19,
    "start_time": "2024-02-05T19:13:37.258Z"
   },
   {
    "duration": 19,
    "start_time": "2024-02-05T19:13:37.278Z"
   },
   {
    "duration": 18,
    "start_time": "2024-02-05T19:13:37.298Z"
   },
   {
    "duration": 9,
    "start_time": "2024-02-05T19:13:37.318Z"
   },
   {
    "duration": 32,
    "start_time": "2024-02-05T19:13:37.328Z"
   },
   {
    "duration": 27,
    "start_time": "2024-02-05T19:13:37.361Z"
   },
   {
    "duration": 7,
    "start_time": "2024-02-05T19:13:37.390Z"
   },
   {
    "duration": 6,
    "start_time": "2024-02-05T19:13:37.398Z"
   },
   {
    "duration": 16,
    "start_time": "2024-02-05T19:13:37.406Z"
   },
   {
    "duration": 12,
    "start_time": "2024-02-05T19:13:37.424Z"
   },
   {
    "duration": 10,
    "start_time": "2024-02-05T19:13:37.437Z"
   },
   {
    "duration": 50,
    "start_time": "2024-02-05T19:13:37.449Z"
   },
   {
    "duration": 5,
    "start_time": "2024-02-05T19:13:37.501Z"
   },
   {
    "duration": 46,
    "start_time": "2024-02-05T19:13:37.507Z"
   },
   {
    "duration": 38,
    "start_time": "2024-02-05T19:13:37.555Z"
   },
   {
    "duration": 24,
    "start_time": "2024-02-05T19:13:37.597Z"
   },
   {
    "duration": 45,
    "start_time": "2024-02-05T19:13:37.623Z"
   },
   {
    "duration": 12,
    "start_time": "2024-02-05T19:13:37.670Z"
   },
   {
    "duration": 23,
    "start_time": "2024-02-05T19:13:37.684Z"
   },
   {
    "duration": 9,
    "start_time": "2024-02-05T19:13:37.709Z"
   },
   {
    "duration": 41,
    "start_time": "2024-02-05T19:13:37.720Z"
   },
   {
    "duration": 26,
    "start_time": "2024-02-05T19:13:37.763Z"
   },
   {
    "duration": 28,
    "start_time": "2024-02-05T19:13:37.791Z"
   },
   {
    "duration": 37,
    "start_time": "2024-02-05T19:13:37.821Z"
   },
   {
    "duration": 32,
    "start_time": "2024-02-05T19:13:37.860Z"
   },
   {
    "duration": 23,
    "start_time": "2024-02-05T19:13:37.894Z"
   },
   {
    "duration": 267,
    "start_time": "2024-02-05T19:13:37.919Z"
   },
   {
    "duration": 10,
    "start_time": "2024-02-05T19:13:38.188Z"
   },
   {
    "duration": 34,
    "start_time": "2024-02-05T19:13:38.201Z"
   },
   {
    "duration": 25,
    "start_time": "2024-02-05T19:13:38.237Z"
   },
   {
    "duration": 199,
    "start_time": "2024-02-05T19:13:38.264Z"
   },
   {
    "duration": 21,
    "start_time": "2024-02-05T19:13:38.465Z"
   },
   {
    "duration": 181,
    "start_time": "2024-02-05T19:13:38.488Z"
   },
   {
    "duration": 24,
    "start_time": "2024-02-05T19:13:38.671Z"
   },
   {
    "duration": 607,
    "start_time": "2024-02-05T19:13:43.125Z"
   },
   {
    "duration": 653,
    "start_time": "2024-02-05T19:14:27.503Z"
   },
   {
    "duration": 175,
    "start_time": "2024-02-05T19:16:09.806Z"
   },
   {
    "duration": 172,
    "start_time": "2024-02-05T19:16:38.263Z"
   },
   {
    "duration": 189,
    "start_time": "2024-02-05T19:17:21.849Z"
   },
   {
    "duration": 187,
    "start_time": "2024-02-05T19:17:52.924Z"
   },
   {
    "duration": 186,
    "start_time": "2024-02-05T19:19:47.664Z"
   },
   {
    "duration": 1192,
    "start_time": "2024-02-05T19:27:56.448Z"
   },
   {
    "duration": 1142,
    "start_time": "2024-02-05T19:28:40.565Z"
   },
   {
    "duration": 57,
    "start_time": "2024-02-05T19:29:06.213Z"
   },
   {
    "duration": 32,
    "start_time": "2024-02-05T19:29:32.494Z"
   },
   {
    "duration": 32,
    "start_time": "2024-02-05T19:29:52.128Z"
   },
   {
    "duration": 6,
    "start_time": "2024-02-05T19:38:11.704Z"
   },
   {
    "duration": 9,
    "start_time": "2024-02-05T19:40:24.077Z"
   },
   {
    "duration": 1303,
    "start_time": "2024-02-05T19:40:50.962Z"
   },
   {
    "duration": 31,
    "start_time": "2024-02-05T19:41:03.760Z"
   },
   {
    "duration": 11,
    "start_time": "2024-02-05T19:42:25.068Z"
   },
   {
    "duration": 13,
    "start_time": "2024-02-05T19:45:15.968Z"
   },
   {
    "duration": 31,
    "start_time": "2024-02-05T19:45:44.434Z"
   },
   {
    "duration": 3,
    "start_time": "2024-02-05T19:48:46.348Z"
   },
   {
    "duration": 30,
    "start_time": "2024-02-05T19:48:53.870Z"
   },
   {
    "duration": 20,
    "start_time": "2024-02-05T20:08:17.225Z"
   },
   {
    "duration": 16,
    "start_time": "2024-02-05T20:09:11.462Z"
   },
   {
    "duration": 3,
    "start_time": "2024-02-05T20:09:34.875Z"
   },
   {
    "duration": 136,
    "start_time": "2024-02-05T20:09:34.880Z"
   },
   {
    "duration": 15,
    "start_time": "2024-02-05T20:09:35.017Z"
   },
   {
    "duration": 40,
    "start_time": "2024-02-05T20:09:35.034Z"
   },
   {
    "duration": 11,
    "start_time": "2024-02-05T20:09:35.076Z"
   },
   {
    "duration": 11,
    "start_time": "2024-02-05T20:09:35.089Z"
   },
   {
    "duration": 20,
    "start_time": "2024-02-05T20:09:35.101Z"
   },
   {
    "duration": 5,
    "start_time": "2024-02-05T20:09:35.122Z"
   },
   {
    "duration": 17,
    "start_time": "2024-02-05T20:09:35.130Z"
   },
   {
    "duration": 13,
    "start_time": "2024-02-05T20:09:35.149Z"
   },
   {
    "duration": 30,
    "start_time": "2024-02-05T20:09:35.164Z"
   },
   {
    "duration": 8,
    "start_time": "2024-02-05T20:09:35.196Z"
   },
   {
    "duration": 30,
    "start_time": "2024-02-05T20:09:35.205Z"
   },
   {
    "duration": 15,
    "start_time": "2024-02-05T20:09:35.236Z"
   },
   {
    "duration": 13,
    "start_time": "2024-02-05T20:09:35.253Z"
   },
   {
    "duration": 15,
    "start_time": "2024-02-05T20:09:35.268Z"
   },
   {
    "duration": 22,
    "start_time": "2024-02-05T20:09:35.285Z"
   },
   {
    "duration": 9,
    "start_time": "2024-02-05T20:09:35.308Z"
   },
   {
    "duration": 9,
    "start_time": "2024-02-05T20:09:35.319Z"
   },
   {
    "duration": 27,
    "start_time": "2024-02-05T20:09:35.330Z"
   },
   {
    "duration": 5,
    "start_time": "2024-02-05T20:09:35.381Z"
   },
   {
    "duration": 23,
    "start_time": "2024-02-05T20:09:35.388Z"
   },
   {
    "duration": 26,
    "start_time": "2024-02-05T20:09:35.413Z"
   },
   {
    "duration": 42,
    "start_time": "2024-02-05T20:09:35.442Z"
   },
   {
    "duration": 51,
    "start_time": "2024-02-05T20:09:35.485Z"
   },
   {
    "duration": 6,
    "start_time": "2024-02-05T20:09:35.538Z"
   },
   {
    "duration": 17,
    "start_time": "2024-02-05T20:09:35.545Z"
   },
   {
    "duration": 19,
    "start_time": "2024-02-05T20:09:35.563Z"
   },
   {
    "duration": 18,
    "start_time": "2024-02-05T20:09:35.584Z"
   },
   {
    "duration": 26,
    "start_time": "2024-02-05T20:09:35.604Z"
   },
   {
    "duration": 50,
    "start_time": "2024-02-05T20:09:35.632Z"
   },
   {
    "duration": 35,
    "start_time": "2024-02-05T20:09:35.684Z"
   },
   {
    "duration": 11,
    "start_time": "2024-02-05T20:09:35.721Z"
   },
   {
    "duration": 18,
    "start_time": "2024-02-05T20:09:35.733Z"
   },
   {
    "duration": 278,
    "start_time": "2024-02-05T20:09:35.753Z"
   },
   {
    "duration": 10,
    "start_time": "2024-02-05T20:09:36.032Z"
   },
   {
    "duration": 34,
    "start_time": "2024-02-05T20:09:36.044Z"
   },
   {
    "duration": 7,
    "start_time": "2024-02-05T20:09:36.082Z"
   },
   {
    "duration": 175,
    "start_time": "2024-02-05T20:09:36.091Z"
   },
   {
    "duration": 15,
    "start_time": "2024-02-05T20:09:36.268Z"
   },
   {
    "duration": 185,
    "start_time": "2024-02-05T20:09:36.285Z"
   },
   {
    "duration": 27,
    "start_time": "2024-02-05T20:09:36.472Z"
   },
   {
    "duration": 551,
    "start_time": "2024-02-05T20:09:36.500Z"
   },
   {
    "duration": 41,
    "start_time": "2024-02-05T20:09:37.053Z"
   },
   {
    "duration": 32,
    "start_time": "2024-02-05T20:09:37.096Z"
   },
   {
    "duration": 23,
    "start_time": "2024-02-05T20:09:40.171Z"
   },
   {
    "duration": 16,
    "start_time": "2024-02-05T20:09:46.512Z"
   },
   {
    "duration": 3,
    "start_time": "2024-02-05T20:10:05.108Z"
   },
   {
    "duration": 135,
    "start_time": "2024-02-05T20:10:05.113Z"
   },
   {
    "duration": 15,
    "start_time": "2024-02-05T20:10:05.250Z"
   },
   {
    "duration": 18,
    "start_time": "2024-02-05T20:10:05.266Z"
   },
   {
    "duration": 121,
    "start_time": "2024-02-05T20:10:05.286Z"
   },
   {
    "duration": 11,
    "start_time": "2024-02-05T20:10:05.408Z"
   },
   {
    "duration": 16,
    "start_time": "2024-02-05T20:10:05.420Z"
   },
   {
    "duration": 5,
    "start_time": "2024-02-05T20:10:05.438Z"
   },
   {
    "duration": 38,
    "start_time": "2024-02-05T20:10:05.445Z"
   },
   {
    "duration": 5,
    "start_time": "2024-02-05T20:10:05.485Z"
   },
   {
    "duration": 17,
    "start_time": "2024-02-05T20:10:05.493Z"
   },
   {
    "duration": 9,
    "start_time": "2024-02-05T20:10:05.512Z"
   },
   {
    "duration": 47,
    "start_time": "2024-02-05T20:10:05.522Z"
   },
   {
    "duration": 22,
    "start_time": "2024-02-05T20:10:05.570Z"
   },
   {
    "duration": 9,
    "start_time": "2024-02-05T20:10:05.594Z"
   },
   {
    "duration": 2,
    "start_time": "2024-02-05T20:10:05.604Z"
   },
   {
    "duration": 24,
    "start_time": "2024-02-05T20:10:05.608Z"
   },
   {
    "duration": 26,
    "start_time": "2024-02-05T20:10:05.634Z"
   },
   {
    "duration": 33,
    "start_time": "2024-02-05T20:10:05.661Z"
   },
   {
    "duration": 45,
    "start_time": "2024-02-05T20:10:05.696Z"
   },
   {
    "duration": 4,
    "start_time": "2024-02-05T20:10:05.743Z"
   },
   {
    "duration": 45,
    "start_time": "2024-02-05T20:10:05.748Z"
   },
   {
    "duration": 30,
    "start_time": "2024-02-05T20:10:05.795Z"
   },
   {
    "duration": 38,
    "start_time": "2024-02-05T20:10:05.826Z"
   },
   {
    "duration": 43,
    "start_time": "2024-02-05T20:10:05.866Z"
   },
   {
    "duration": 6,
    "start_time": "2024-02-05T20:10:05.911Z"
   },
   {
    "duration": 22,
    "start_time": "2024-02-05T20:10:05.918Z"
   },
   {
    "duration": 6,
    "start_time": "2024-02-05T20:10:05.941Z"
   },
   {
    "duration": 20,
    "start_time": "2024-02-05T20:10:05.950Z"
   },
   {
    "duration": 32,
    "start_time": "2024-02-05T20:10:05.971Z"
   },
   {
    "duration": 28,
    "start_time": "2024-02-05T20:10:06.005Z"
   },
   {
    "duration": 57,
    "start_time": "2024-02-05T20:10:06.034Z"
   },
   {
    "duration": 10,
    "start_time": "2024-02-05T20:10:06.092Z"
   },
   {
    "duration": 15,
    "start_time": "2024-02-05T20:10:06.104Z"
   },
   {
    "duration": 264,
    "start_time": "2024-02-05T20:10:06.121Z"
   },
   {
    "duration": 9,
    "start_time": "2024-02-05T20:10:06.387Z"
   },
   {
    "duration": 41,
    "start_time": "2024-02-05T20:10:06.398Z"
   },
   {
    "duration": 22,
    "start_time": "2024-02-05T20:10:06.441Z"
   },
   {
    "duration": 178,
    "start_time": "2024-02-05T20:10:06.464Z"
   },
   {
    "duration": 12,
    "start_time": "2024-02-05T20:10:06.644Z"
   },
   {
    "duration": 189,
    "start_time": "2024-02-05T20:10:06.658Z"
   },
   {
    "duration": 20,
    "start_time": "2024-02-05T20:10:06.849Z"
   },
   {
    "duration": 542,
    "start_time": "2024-02-05T20:10:06.883Z"
   },
   {
    "duration": 33,
    "start_time": "2024-02-05T20:10:07.427Z"
   },
   {
    "duration": 48,
    "start_time": "2024-02-05T20:10:07.462Z"
   },
   {
    "duration": 25,
    "start_time": "2024-02-05T20:10:13.356Z"
   },
   {
    "duration": 9,
    "start_time": "2024-02-05T20:11:01.417Z"
   },
   {
    "duration": 179,
    "start_time": "2024-02-05T20:11:13.930Z"
   },
   {
    "duration": 11,
    "start_time": "2024-02-05T20:11:18.713Z"
   },
   {
    "duration": 15,
    "start_time": "2024-02-05T20:11:26.917Z"
   },
   {
    "duration": 12,
    "start_time": "2024-02-05T20:12:31.741Z"
   },
   {
    "duration": 9,
    "start_time": "2024-02-05T20:12:39.423Z"
   },
   {
    "duration": 144,
    "start_time": "2024-02-05T20:12:47.360Z"
   },
   {
    "duration": 156,
    "start_time": "2024-02-05T20:13:36.040Z"
   },
   {
    "duration": 157,
    "start_time": "2024-02-05T20:14:00.312Z"
   },
   {
    "duration": 15,
    "start_time": "2024-02-05T20:14:53.825Z"
   },
   {
    "duration": 3,
    "start_time": "2024-02-05T20:16:56.033Z"
   },
   {
    "duration": 134,
    "start_time": "2024-02-05T20:16:56.038Z"
   },
   {
    "duration": 15,
    "start_time": "2024-02-05T20:16:56.174Z"
   },
   {
    "duration": 15,
    "start_time": "2024-02-05T20:16:56.190Z"
   },
   {
    "duration": 6,
    "start_time": "2024-02-05T20:16:56.207Z"
   },
   {
    "duration": 9,
    "start_time": "2024-02-05T20:16:56.215Z"
   },
   {
    "duration": 23,
    "start_time": "2024-02-05T20:16:56.226Z"
   },
   {
    "duration": 14,
    "start_time": "2024-02-05T20:16:56.251Z"
   },
   {
    "duration": 16,
    "start_time": "2024-02-05T20:16:56.283Z"
   },
   {
    "duration": 19,
    "start_time": "2024-02-05T20:16:56.300Z"
   },
   {
    "duration": 18,
    "start_time": "2024-02-05T20:16:56.321Z"
   },
   {
    "duration": 10,
    "start_time": "2024-02-05T20:16:56.340Z"
   },
   {
    "duration": 43,
    "start_time": "2024-02-05T20:16:56.351Z"
   },
   {
    "duration": 16,
    "start_time": "2024-02-05T20:16:56.396Z"
   },
   {
    "duration": 8,
    "start_time": "2024-02-05T20:16:56.413Z"
   },
   {
    "duration": 4,
    "start_time": "2024-02-05T20:16:56.422Z"
   },
   {
    "duration": 15,
    "start_time": "2024-02-05T20:16:56.428Z"
   },
   {
    "duration": 9,
    "start_time": "2024-02-05T20:16:56.444Z"
   },
   {
    "duration": 37,
    "start_time": "2024-02-05T20:16:56.455Z"
   },
   {
    "duration": 19,
    "start_time": "2024-02-05T20:16:56.493Z"
   },
   {
    "duration": 4,
    "start_time": "2024-02-05T20:16:56.514Z"
   },
   {
    "duration": 22,
    "start_time": "2024-02-05T20:16:56.520Z"
   },
   {
    "duration": 62,
    "start_time": "2024-02-05T20:16:56.544Z"
   },
   {
    "duration": 24,
    "start_time": "2024-02-05T20:16:56.609Z"
   },
   {
    "duration": 50,
    "start_time": "2024-02-05T20:16:56.635Z"
   },
   {
    "duration": 6,
    "start_time": "2024-02-05T20:16:56.687Z"
   },
   {
    "duration": 9,
    "start_time": "2024-02-05T20:16:56.694Z"
   },
   {
    "duration": 5,
    "start_time": "2024-02-05T20:16:56.705Z"
   },
   {
    "duration": 19,
    "start_time": "2024-02-05T20:16:56.711Z"
   },
   {
    "duration": 51,
    "start_time": "2024-02-05T20:16:56.732Z"
   },
   {
    "duration": 26,
    "start_time": "2024-02-05T20:16:56.785Z"
   },
   {
    "duration": 34,
    "start_time": "2024-02-05T20:16:56.813Z"
   },
   {
    "duration": 33,
    "start_time": "2024-02-05T20:16:56.849Z"
   },
   {
    "duration": 15,
    "start_time": "2024-02-05T20:16:56.884Z"
   },
   {
    "duration": 255,
    "start_time": "2024-02-05T20:16:56.900Z"
   },
   {
    "duration": 11,
    "start_time": "2024-02-05T20:16:57.157Z"
   },
   {
    "duration": 37,
    "start_time": "2024-02-05T20:16:57.170Z"
   },
   {
    "duration": 8,
    "start_time": "2024-02-05T20:16:57.209Z"
   },
   {
    "duration": 191,
    "start_time": "2024-02-05T20:16:57.219Z"
   },
   {
    "duration": 12,
    "start_time": "2024-02-05T20:16:57.411Z"
   },
   {
    "duration": 192,
    "start_time": "2024-02-05T20:16:57.425Z"
   },
   {
    "duration": 19,
    "start_time": "2024-02-05T20:16:57.619Z"
   },
   {
    "duration": 699,
    "start_time": "2024-02-05T20:16:57.639Z"
   },
   {
    "duration": 33,
    "start_time": "2024-02-05T20:16:58.339Z"
   },
   {
    "duration": 40,
    "start_time": "2024-02-05T20:16:58.374Z"
   },
   {
    "duration": 23,
    "start_time": "2024-02-05T20:16:58.416Z"
   },
   {
    "duration": 9,
    "start_time": "2024-02-05T20:16:58.441Z"
   },
   {
    "duration": 201,
    "start_time": "2024-02-05T20:16:58.452Z"
   },
   {
    "duration": 12,
    "start_time": "2024-02-05T20:16:58.655Z"
   },
   {
    "duration": 142,
    "start_time": "2024-02-05T20:16:58.683Z"
   },
   {
    "duration": 172,
    "start_time": "2024-02-05T20:16:58.827Z"
   },
   {
    "duration": 166,
    "start_time": "2024-02-05T20:16:59.001Z"
   },
   {
    "duration": 17,
    "start_time": "2024-02-05T20:16:59.169Z"
   },
   {
    "duration": 8,
    "start_time": "2024-02-05T20:17:48.264Z"
   },
   {
    "duration": 11,
    "start_time": "2024-02-05T20:17:56.614Z"
   },
   {
    "duration": 3,
    "start_time": "2024-02-05T20:18:00.784Z"
   },
   {
    "duration": 174,
    "start_time": "2024-02-05T20:18:00.789Z"
   },
   {
    "duration": 16,
    "start_time": "2024-02-05T20:18:00.965Z"
   },
   {
    "duration": 25,
    "start_time": "2024-02-05T20:18:00.983Z"
   },
   {
    "duration": 8,
    "start_time": "2024-02-05T20:18:01.010Z"
   },
   {
    "duration": 23,
    "start_time": "2024-02-05T20:18:01.020Z"
   },
   {
    "duration": 26,
    "start_time": "2024-02-05T20:18:01.045Z"
   },
   {
    "duration": 15,
    "start_time": "2024-02-05T20:18:01.073Z"
   },
   {
    "duration": 37,
    "start_time": "2024-02-05T20:18:01.089Z"
   },
   {
    "duration": 9,
    "start_time": "2024-02-05T20:18:01.128Z"
   },
   {
    "duration": 37,
    "start_time": "2024-02-05T20:18:01.140Z"
   },
   {
    "duration": 9,
    "start_time": "2024-02-05T20:18:01.179Z"
   },
   {
    "duration": 41,
    "start_time": "2024-02-05T20:18:01.189Z"
   },
   {
    "duration": 15,
    "start_time": "2024-02-05T20:18:01.232Z"
   },
   {
    "duration": 14,
    "start_time": "2024-02-05T20:18:01.249Z"
   },
   {
    "duration": 17,
    "start_time": "2024-02-05T20:18:01.264Z"
   },
   {
    "duration": 35,
    "start_time": "2024-02-05T20:18:01.283Z"
   },
   {
    "duration": 11,
    "start_time": "2024-02-05T20:18:01.320Z"
   },
   {
    "duration": 21,
    "start_time": "2024-02-05T20:18:01.332Z"
   },
   {
    "duration": 37,
    "start_time": "2024-02-05T20:18:01.355Z"
   },
   {
    "duration": 34,
    "start_time": "2024-02-05T20:18:01.393Z"
   },
   {
    "duration": 51,
    "start_time": "2024-02-05T20:18:01.429Z"
   },
   {
    "duration": 60,
    "start_time": "2024-02-05T20:18:01.482Z"
   },
   {
    "duration": 56,
    "start_time": "2024-02-05T20:18:01.544Z"
   },
   {
    "duration": 82,
    "start_time": "2024-02-05T20:18:01.602Z"
   },
   {
    "duration": 7,
    "start_time": "2024-02-05T20:18:01.686Z"
   },
   {
    "duration": 37,
    "start_time": "2024-02-05T20:18:01.694Z"
   },
   {
    "duration": 64,
    "start_time": "2024-02-05T20:18:01.732Z"
   },
   {
    "duration": 37,
    "start_time": "2024-02-05T20:18:01.800Z"
   },
   {
    "duration": 35,
    "start_time": "2024-02-05T20:18:01.839Z"
   },
   {
    "duration": 27,
    "start_time": "2024-02-05T20:18:01.876Z"
   },
   {
    "duration": 54,
    "start_time": "2024-02-05T20:18:01.905Z"
   },
   {
    "duration": 27,
    "start_time": "2024-02-05T20:18:01.961Z"
   },
   {
    "duration": 37,
    "start_time": "2024-02-05T20:18:01.990Z"
   },
   {
    "duration": 0,
    "start_time": "2024-02-05T20:18:02.029Z"
   },
   {
    "duration": 0,
    "start_time": "2024-02-05T20:18:02.030Z"
   },
   {
    "duration": 0,
    "start_time": "2024-02-05T20:18:02.031Z"
   },
   {
    "duration": 0,
    "start_time": "2024-02-05T20:18:02.032Z"
   },
   {
    "duration": 0,
    "start_time": "2024-02-05T20:18:02.033Z"
   },
   {
    "duration": 0,
    "start_time": "2024-02-05T20:18:02.034Z"
   },
   {
    "duration": 0,
    "start_time": "2024-02-05T20:18:02.035Z"
   },
   {
    "duration": 0,
    "start_time": "2024-02-05T20:18:02.036Z"
   },
   {
    "duration": 0,
    "start_time": "2024-02-05T20:18:02.038Z"
   },
   {
    "duration": 0,
    "start_time": "2024-02-05T20:18:02.039Z"
   },
   {
    "duration": 0,
    "start_time": "2024-02-05T20:18:02.040Z"
   },
   {
    "duration": 0,
    "start_time": "2024-02-05T20:18:02.041Z"
   },
   {
    "duration": 0,
    "start_time": "2024-02-05T20:18:02.042Z"
   },
   {
    "duration": 0,
    "start_time": "2024-02-05T20:18:02.043Z"
   },
   {
    "duration": 0,
    "start_time": "2024-02-05T20:18:02.044Z"
   },
   {
    "duration": 0,
    "start_time": "2024-02-05T20:18:02.045Z"
   },
   {
    "duration": 0,
    "start_time": "2024-02-05T20:18:02.046Z"
   },
   {
    "duration": 0,
    "start_time": "2024-02-05T20:18:02.047Z"
   },
   {
    "duration": 0,
    "start_time": "2024-02-05T20:18:02.049Z"
   },
   {
    "duration": 0,
    "start_time": "2024-02-05T20:18:02.050Z"
   },
   {
    "duration": 2,
    "start_time": "2024-02-05T20:18:19.300Z"
   },
   {
    "duration": 137,
    "start_time": "2024-02-05T20:18:19.304Z"
   },
   {
    "duration": 14,
    "start_time": "2024-02-05T20:18:19.443Z"
   },
   {
    "duration": 15,
    "start_time": "2024-02-05T20:18:19.459Z"
   },
   {
    "duration": 6,
    "start_time": "2024-02-05T20:18:19.476Z"
   },
   {
    "duration": 11,
    "start_time": "2024-02-05T20:18:19.484Z"
   },
   {
    "duration": 16,
    "start_time": "2024-02-05T20:18:19.496Z"
   },
   {
    "duration": 5,
    "start_time": "2024-02-05T20:18:19.514Z"
   },
   {
    "duration": 15,
    "start_time": "2024-02-05T20:18:19.521Z"
   },
   {
    "duration": 8,
    "start_time": "2024-02-05T20:18:19.538Z"
   },
   {
    "duration": 45,
    "start_time": "2024-02-05T20:18:19.548Z"
   },
   {
    "duration": 9,
    "start_time": "2024-02-05T20:18:19.595Z"
   },
   {
    "duration": 28,
    "start_time": "2024-02-05T20:18:19.605Z"
   },
   {
    "duration": 15,
    "start_time": "2024-02-05T20:18:19.635Z"
   },
   {
    "duration": 7,
    "start_time": "2024-02-05T20:18:19.651Z"
   },
   {
    "duration": 2,
    "start_time": "2024-02-05T20:18:19.682Z"
   },
   {
    "duration": 17,
    "start_time": "2024-02-05T20:18:19.686Z"
   },
   {
    "duration": 11,
    "start_time": "2024-02-05T20:18:19.704Z"
   },
   {
    "duration": 11,
    "start_time": "2024-02-05T20:18:19.716Z"
   },
   {
    "duration": 19,
    "start_time": "2024-02-05T20:18:19.728Z"
   },
   {
    "duration": 34,
    "start_time": "2024-02-05T20:18:19.749Z"
   },
   {
    "duration": 27,
    "start_time": "2024-02-05T20:18:19.785Z"
   },
   {
    "duration": 34,
    "start_time": "2024-02-05T20:18:19.814Z"
   },
   {
    "duration": 39,
    "start_time": "2024-02-05T20:18:19.850Z"
   },
   {
    "duration": 36,
    "start_time": "2024-02-05T20:18:19.891Z"
   },
   {
    "duration": 5,
    "start_time": "2024-02-05T20:18:19.929Z"
   },
   {
    "duration": 7,
    "start_time": "2024-02-05T20:18:19.936Z"
   },
   {
    "duration": 5,
    "start_time": "2024-02-05T20:18:19.945Z"
   },
   {
    "duration": 18,
    "start_time": "2024-02-05T20:18:19.981Z"
   },
   {
    "duration": 24,
    "start_time": "2024-02-05T20:18:20.000Z"
   },
   {
    "duration": 28,
    "start_time": "2024-02-05T20:18:20.026Z"
   },
   {
    "duration": 66,
    "start_time": "2024-02-05T20:18:20.056Z"
   },
   {
    "duration": 9,
    "start_time": "2024-02-05T20:18:20.124Z"
   },
   {
    "duration": 9,
    "start_time": "2024-02-05T20:18:20.135Z"
   },
   {
    "duration": 0,
    "start_time": "2024-02-05T20:18:20.145Z"
   },
   {
    "duration": 0,
    "start_time": "2024-02-05T20:18:20.146Z"
   },
   {
    "duration": 0,
    "start_time": "2024-02-05T20:18:20.147Z"
   },
   {
    "duration": 0,
    "start_time": "2024-02-05T20:18:20.148Z"
   },
   {
    "duration": 0,
    "start_time": "2024-02-05T20:18:20.149Z"
   },
   {
    "duration": 0,
    "start_time": "2024-02-05T20:18:20.150Z"
   },
   {
    "duration": 0,
    "start_time": "2024-02-05T20:18:20.151Z"
   },
   {
    "duration": 0,
    "start_time": "2024-02-05T20:18:20.152Z"
   },
   {
    "duration": 0,
    "start_time": "2024-02-05T20:18:20.153Z"
   },
   {
    "duration": 0,
    "start_time": "2024-02-05T20:18:20.154Z"
   },
   {
    "duration": 0,
    "start_time": "2024-02-05T20:18:20.182Z"
   },
   {
    "duration": 0,
    "start_time": "2024-02-05T20:18:20.183Z"
   },
   {
    "duration": 0,
    "start_time": "2024-02-05T20:18:20.184Z"
   },
   {
    "duration": 0,
    "start_time": "2024-02-05T20:18:20.185Z"
   },
   {
    "duration": 0,
    "start_time": "2024-02-05T20:18:20.186Z"
   },
   {
    "duration": 0,
    "start_time": "2024-02-05T20:18:20.187Z"
   },
   {
    "duration": 0,
    "start_time": "2024-02-05T20:18:20.188Z"
   },
   {
    "duration": 0,
    "start_time": "2024-02-05T20:18:20.189Z"
   },
   {
    "duration": 0,
    "start_time": "2024-02-05T20:18:20.190Z"
   },
   {
    "duration": 0,
    "start_time": "2024-02-05T20:18:20.191Z"
   },
   {
    "duration": 4,
    "start_time": "2024-02-05T20:18:41.034Z"
   },
   {
    "duration": 3,
    "start_time": "2024-02-05T20:18:44.862Z"
   },
   {
    "duration": 148,
    "start_time": "2024-02-05T20:18:44.866Z"
   },
   {
    "duration": 16,
    "start_time": "2024-02-05T20:18:45.015Z"
   },
   {
    "duration": 38,
    "start_time": "2024-02-05T20:18:45.033Z"
   },
   {
    "duration": 25,
    "start_time": "2024-02-05T20:18:45.073Z"
   },
   {
    "duration": 33,
    "start_time": "2024-02-05T20:18:45.100Z"
   },
   {
    "duration": 33,
    "start_time": "2024-02-05T20:18:45.135Z"
   },
   {
    "duration": 23,
    "start_time": "2024-02-05T20:18:45.170Z"
   },
   {
    "duration": 27,
    "start_time": "2024-02-05T20:18:45.195Z"
   },
   {
    "duration": 15,
    "start_time": "2024-02-05T20:18:45.223Z"
   },
   {
    "duration": 35,
    "start_time": "2024-02-05T20:18:45.240Z"
   },
   {
    "duration": 10,
    "start_time": "2024-02-05T20:18:45.277Z"
   },
   {
    "duration": 38,
    "start_time": "2024-02-05T20:18:45.288Z"
   },
   {
    "duration": 16,
    "start_time": "2024-02-05T20:18:45.327Z"
   },
   {
    "duration": 15,
    "start_time": "2024-02-05T20:18:45.345Z"
   },
   {
    "duration": 8,
    "start_time": "2024-02-05T20:18:45.362Z"
   },
   {
    "duration": 40,
    "start_time": "2024-02-05T20:18:45.371Z"
   },
   {
    "duration": 20,
    "start_time": "2024-02-05T20:18:45.412Z"
   },
   {
    "duration": 28,
    "start_time": "2024-02-05T20:18:45.434Z"
   },
   {
    "duration": 18,
    "start_time": "2024-02-05T20:18:45.464Z"
   },
   {
    "duration": 4,
    "start_time": "2024-02-05T20:18:45.484Z"
   },
   {
    "duration": 27,
    "start_time": "2024-02-05T20:18:45.489Z"
   },
   {
    "duration": 26,
    "start_time": "2024-02-05T20:18:45.518Z"
   },
   {
    "duration": 37,
    "start_time": "2024-02-05T20:18:45.548Z"
   },
   {
    "duration": 41,
    "start_time": "2024-02-05T20:18:45.586Z"
   },
   {
    "duration": 5,
    "start_time": "2024-02-05T20:18:45.629Z"
   },
   {
    "duration": 33,
    "start_time": "2024-02-05T20:18:45.636Z"
   },
   {
    "duration": 16,
    "start_time": "2024-02-05T20:18:45.671Z"
   },
   {
    "duration": 28,
    "start_time": "2024-02-05T20:18:45.688Z"
   },
   {
    "duration": 24,
    "start_time": "2024-02-05T20:18:45.718Z"
   },
   {
    "duration": 39,
    "start_time": "2024-02-05T20:18:45.744Z"
   },
   {
    "duration": 35,
    "start_time": "2024-02-05T20:18:45.785Z"
   },
   {
    "duration": 10,
    "start_time": "2024-02-05T20:18:45.822Z"
   },
   {
    "duration": 23,
    "start_time": "2024-02-05T20:18:45.834Z"
   },
   {
    "duration": 30,
    "start_time": "2024-02-05T20:18:45.859Z"
   },
   {
    "duration": 244,
    "start_time": "2024-02-05T20:18:45.891Z"
   },
   {
    "duration": 10,
    "start_time": "2024-02-05T20:18:46.137Z"
   },
   {
    "duration": 42,
    "start_time": "2024-02-05T20:18:46.149Z"
   },
   {
    "duration": 14,
    "start_time": "2024-02-05T20:18:46.193Z"
   },
   {
    "duration": 166,
    "start_time": "2024-02-05T20:18:46.209Z"
   },
   {
    "duration": 13,
    "start_time": "2024-02-05T20:18:46.377Z"
   },
   {
    "duration": 183,
    "start_time": "2024-02-05T20:18:46.391Z"
   },
   {
    "duration": 23,
    "start_time": "2024-02-05T20:18:46.575Z"
   },
   {
    "duration": 546,
    "start_time": "2024-02-05T20:18:46.600Z"
   },
   {
    "duration": 39,
    "start_time": "2024-02-05T20:18:47.148Z"
   },
   {
    "duration": 30,
    "start_time": "2024-02-05T20:18:47.189Z"
   },
   {
    "duration": 23,
    "start_time": "2024-02-05T20:18:47.220Z"
   },
   {
    "duration": 8,
    "start_time": "2024-02-05T20:18:47.245Z"
   },
   {
    "duration": 179,
    "start_time": "2024-02-05T20:18:47.283Z"
   },
   {
    "duration": 19,
    "start_time": "2024-02-05T20:18:47.464Z"
   },
   {
    "duration": 152,
    "start_time": "2024-02-05T20:18:47.484Z"
   },
   {
    "duration": 165,
    "start_time": "2024-02-05T20:18:47.637Z"
   },
   {
    "duration": 304,
    "start_time": "2024-02-05T20:18:47.804Z"
   },
   {
    "duration": 11,
    "start_time": "2024-02-05T20:18:48.110Z"
   },
   {
    "duration": 13,
    "start_time": "2024-02-05T21:54:45.188Z"
   },
   {
    "duration": 11,
    "start_time": "2024-02-05T21:56:29.520Z"
   },
   {
    "duration": 1279,
    "start_time": "2024-02-05T22:00:34.047Z"
   },
   {
    "duration": 3,
    "start_time": "2024-02-05T22:01:34.917Z"
   },
   {
    "duration": 139,
    "start_time": "2024-02-05T22:01:34.922Z"
   },
   {
    "duration": 15,
    "start_time": "2024-02-05T22:01:35.063Z"
   },
   {
    "duration": 16,
    "start_time": "2024-02-05T22:01:35.079Z"
   },
   {
    "duration": 7,
    "start_time": "2024-02-05T22:01:35.097Z"
   },
   {
    "duration": 10,
    "start_time": "2024-02-05T22:01:35.105Z"
   },
   {
    "duration": 17,
    "start_time": "2024-02-05T22:01:35.116Z"
   },
   {
    "duration": 5,
    "start_time": "2024-02-05T22:01:35.135Z"
   },
   {
    "duration": 46,
    "start_time": "2024-02-05T22:01:35.141Z"
   },
   {
    "duration": 7,
    "start_time": "2024-02-05T22:01:35.188Z"
   },
   {
    "duration": 16,
    "start_time": "2024-02-05T22:01:35.198Z"
   },
   {
    "duration": 43,
    "start_time": "2024-02-05T22:01:35.216Z"
   },
   {
    "duration": 42,
    "start_time": "2024-02-05T22:01:35.260Z"
   },
   {
    "duration": 16,
    "start_time": "2024-02-05T22:01:35.304Z"
   },
   {
    "duration": 7,
    "start_time": "2024-02-05T22:01:35.322Z"
   },
   {
    "duration": 9,
    "start_time": "2024-02-05T22:01:35.331Z"
   },
   {
    "duration": 20,
    "start_time": "2024-02-05T22:01:35.341Z"
   },
   {
    "duration": 20,
    "start_time": "2024-02-05T22:01:35.363Z"
   },
   {
    "duration": 11,
    "start_time": "2024-02-05T22:01:35.385Z"
   },
   {
    "duration": 28,
    "start_time": "2024-02-05T22:01:35.397Z"
   },
   {
    "duration": 4,
    "start_time": "2024-02-05T22:01:35.426Z"
   },
   {
    "duration": 39,
    "start_time": "2024-02-05T22:01:35.432Z"
   },
   {
    "duration": 35,
    "start_time": "2024-02-05T22:01:35.472Z"
   },
   {
    "duration": 23,
    "start_time": "2024-02-05T22:01:35.508Z"
   },
   {
    "duration": 28,
    "start_time": "2024-02-05T22:01:35.533Z"
   },
   {
    "duration": 25,
    "start_time": "2024-02-05T22:01:35.562Z"
   },
   {
    "duration": 8,
    "start_time": "2024-02-05T22:01:35.588Z"
   },
   {
    "duration": 5,
    "start_time": "2024-02-05T22:01:35.597Z"
   },
   {
    "duration": 15,
    "start_time": "2024-02-05T22:01:35.606Z"
   },
   {
    "duration": 25,
    "start_time": "2024-02-05T22:01:35.622Z"
   },
   {
    "duration": 26,
    "start_time": "2024-02-05T22:01:35.682Z"
   },
   {
    "duration": 33,
    "start_time": "2024-02-05T22:01:35.710Z"
   },
   {
    "duration": 8,
    "start_time": "2024-02-05T22:01:35.745Z"
   },
   {
    "duration": 28,
    "start_time": "2024-02-05T22:01:35.755Z"
   },
   {
    "duration": 18,
    "start_time": "2024-02-05T22:01:35.784Z"
   },
   {
    "duration": 266,
    "start_time": "2024-02-05T22:01:35.803Z"
   },
   {
    "duration": 17,
    "start_time": "2024-02-05T22:01:36.070Z"
   },
   {
    "duration": 21,
    "start_time": "2024-02-05T22:01:36.089Z"
   },
   {
    "duration": 11,
    "start_time": "2024-02-05T22:01:36.112Z"
   },
   {
    "duration": 198,
    "start_time": "2024-02-05T22:01:36.125Z"
   },
   {
    "duration": 11,
    "start_time": "2024-02-05T22:01:36.325Z"
   },
   {
    "duration": 187,
    "start_time": "2024-02-05T22:01:36.338Z"
   },
   {
    "duration": 20,
    "start_time": "2024-02-05T22:01:36.527Z"
   },
   {
    "duration": 579,
    "start_time": "2024-02-05T22:01:36.548Z"
   },
   {
    "duration": 33,
    "start_time": "2024-02-05T22:01:37.129Z"
   },
   {
    "duration": 45,
    "start_time": "2024-02-05T22:01:37.164Z"
   },
   {
    "duration": 31,
    "start_time": "2024-02-05T22:01:37.210Z"
   },
   {
    "duration": 9,
    "start_time": "2024-02-05T22:01:37.242Z"
   },
   {
    "duration": 199,
    "start_time": "2024-02-05T22:01:37.252Z"
   },
   {
    "duration": 12,
    "start_time": "2024-02-05T22:01:37.453Z"
   },
   {
    "duration": 189,
    "start_time": "2024-02-05T22:01:37.467Z"
   },
   {
    "duration": 165,
    "start_time": "2024-02-05T22:01:37.658Z"
   },
   {
    "duration": 175,
    "start_time": "2024-02-05T22:01:37.824Z"
   },
   {
    "duration": 1160,
    "start_time": "2024-02-05T22:01:38.001Z"
   },
   {
    "duration": 0,
    "start_time": "2024-02-05T22:01:39.163Z"
   },
   {
    "duration": 11,
    "start_time": "2024-02-05T22:02:00.172Z"
   },
   {
    "duration": 10,
    "start_time": "2024-02-05T22:06:30.968Z"
   },
   {
    "duration": 9,
    "start_time": "2024-02-05T22:06:48.224Z"
   },
   {
    "duration": 11,
    "start_time": "2024-02-05T22:07:18.901Z"
   },
   {
    "duration": 10,
    "start_time": "2024-02-05T22:08:24.532Z"
   },
   {
    "duration": 10,
    "start_time": "2024-02-05T22:08:51.779Z"
   },
   {
    "duration": 2,
    "start_time": "2024-02-05T22:09:00.872Z"
   },
   {
    "duration": 157,
    "start_time": "2024-02-05T22:09:00.877Z"
   },
   {
    "duration": 15,
    "start_time": "2024-02-05T22:09:01.036Z"
   },
   {
    "duration": 43,
    "start_time": "2024-02-05T22:09:01.053Z"
   },
   {
    "duration": 43,
    "start_time": "2024-02-05T22:09:01.098Z"
   },
   {
    "duration": 41,
    "start_time": "2024-02-05T22:09:01.142Z"
   },
   {
    "duration": 54,
    "start_time": "2024-02-05T22:09:01.184Z"
   },
   {
    "duration": 43,
    "start_time": "2024-02-05T22:09:01.239Z"
   },
   {
    "duration": 47,
    "start_time": "2024-02-05T22:09:01.284Z"
   },
   {
    "duration": 65,
    "start_time": "2024-02-05T22:09:01.333Z"
   },
   {
    "duration": 59,
    "start_time": "2024-02-05T22:09:01.400Z"
   },
   {
    "duration": 44,
    "start_time": "2024-02-05T22:09:01.461Z"
   },
   {
    "duration": 54,
    "start_time": "2024-02-05T22:09:01.507Z"
   },
   {
    "duration": 28,
    "start_time": "2024-02-05T22:09:01.563Z"
   },
   {
    "duration": 40,
    "start_time": "2024-02-05T22:09:01.593Z"
   },
   {
    "duration": 87,
    "start_time": "2024-02-05T22:09:01.634Z"
   },
   {
    "duration": 63,
    "start_time": "2024-02-05T22:09:01.723Z"
   },
   {
    "duration": 21,
    "start_time": "2024-02-05T22:09:01.788Z"
   },
   {
    "duration": 17,
    "start_time": "2024-02-05T22:09:01.811Z"
   },
   {
    "duration": 27,
    "start_time": "2024-02-05T22:09:01.829Z"
   },
   {
    "duration": 44,
    "start_time": "2024-02-05T22:09:01.858Z"
   },
   {
    "duration": 37,
    "start_time": "2024-02-05T22:09:01.904Z"
   },
   {
    "duration": 43,
    "start_time": "2024-02-05T22:09:01.944Z"
   },
   {
    "duration": 23,
    "start_time": "2024-02-05T22:09:01.989Z"
   },
   {
    "duration": 46,
    "start_time": "2024-02-05T22:09:02.014Z"
   },
   {
    "duration": 29,
    "start_time": "2024-02-05T22:09:02.062Z"
   },
   {
    "duration": 48,
    "start_time": "2024-02-05T22:09:02.093Z"
   },
   {
    "duration": 6,
    "start_time": "2024-02-05T22:09:02.142Z"
   },
   {
    "duration": 68,
    "start_time": "2024-02-05T22:09:02.151Z"
   },
   {
    "duration": 34,
    "start_time": "2024-02-05T22:09:02.220Z"
   },
   {
    "duration": 27,
    "start_time": "2024-02-05T22:09:02.256Z"
   },
   {
    "duration": 33,
    "start_time": "2024-02-05T22:09:02.284Z"
   },
   {
    "duration": 8,
    "start_time": "2024-02-05T22:09:02.319Z"
   },
   {
    "duration": 7,
    "start_time": "2024-02-05T22:09:02.329Z"
   },
   {
    "duration": 19,
    "start_time": "2024-02-05T22:09:02.338Z"
   },
   {
    "duration": 284,
    "start_time": "2024-02-05T22:09:02.358Z"
   },
   {
    "duration": 11,
    "start_time": "2024-02-05T22:09:02.644Z"
   },
   {
    "duration": 37,
    "start_time": "2024-02-05T22:09:02.656Z"
   },
   {
    "duration": 7,
    "start_time": "2024-02-05T22:09:02.695Z"
   },
   {
    "duration": 174,
    "start_time": "2024-02-05T22:09:02.703Z"
   },
   {
    "duration": 11,
    "start_time": "2024-02-05T22:09:02.879Z"
   },
   {
    "duration": 190,
    "start_time": "2024-02-05T22:09:02.891Z"
   },
   {
    "duration": 20,
    "start_time": "2024-02-05T22:09:03.083Z"
   },
   {
    "duration": 704,
    "start_time": "2024-02-05T22:09:03.105Z"
   },
   {
    "duration": 31,
    "start_time": "2024-02-05T22:09:03.811Z"
   },
   {
    "duration": 50,
    "start_time": "2024-02-05T22:09:03.844Z"
   },
   {
    "duration": 30,
    "start_time": "2024-02-05T22:09:03.896Z"
   },
   {
    "duration": 8,
    "start_time": "2024-02-05T22:09:03.927Z"
   },
   {
    "duration": 193,
    "start_time": "2024-02-05T22:09:03.937Z"
   },
   {
    "duration": 11,
    "start_time": "2024-02-05T22:09:04.131Z"
   },
   {
    "duration": 159,
    "start_time": "2024-02-05T22:09:04.144Z"
   },
   {
    "duration": 172,
    "start_time": "2024-02-05T22:09:04.304Z"
   },
   {
    "duration": 172,
    "start_time": "2024-02-05T22:09:04.478Z"
   },
   {
    "duration": 10,
    "start_time": "2024-02-05T22:09:04.651Z"
   },
   {
    "duration": 21,
    "start_time": "2024-02-05T22:09:04.663Z"
   },
   {
    "duration": 15,
    "start_time": "2024-02-05T22:09:31.113Z"
   },
   {
    "duration": 3,
    "start_time": "2024-02-05T22:09:35.123Z"
   },
   {
    "duration": 144,
    "start_time": "2024-02-05T22:09:35.129Z"
   },
   {
    "duration": 15,
    "start_time": "2024-02-05T22:09:35.274Z"
   },
   {
    "duration": 20,
    "start_time": "2024-02-05T22:09:35.291Z"
   },
   {
    "duration": 7,
    "start_time": "2024-02-05T22:09:35.312Z"
   },
   {
    "duration": 10,
    "start_time": "2024-02-05T22:09:35.321Z"
   },
   {
    "duration": 19,
    "start_time": "2024-02-05T22:09:35.332Z"
   },
   {
    "duration": 5,
    "start_time": "2024-02-05T22:09:35.352Z"
   },
   {
    "duration": 14,
    "start_time": "2024-02-05T22:09:35.383Z"
   },
   {
    "duration": 8,
    "start_time": "2024-02-05T22:09:35.399Z"
   },
   {
    "duration": 32,
    "start_time": "2024-02-05T22:09:35.408Z"
   },
   {
    "duration": 8,
    "start_time": "2024-02-05T22:09:35.442Z"
   },
   {
    "duration": 31,
    "start_time": "2024-02-05T22:09:35.452Z"
   },
   {
    "duration": 15,
    "start_time": "2024-02-05T22:09:35.484Z"
   },
   {
    "duration": 19,
    "start_time": "2024-02-05T22:09:35.501Z"
   },
   {
    "duration": 10,
    "start_time": "2024-02-05T22:09:35.522Z"
   },
   {
    "duration": 16,
    "start_time": "2024-02-05T22:09:35.533Z"
   },
   {
    "duration": 13,
    "start_time": "2024-02-05T22:09:35.550Z"
   },
   {
    "duration": 18,
    "start_time": "2024-02-05T22:09:35.565Z"
   },
   {
    "duration": 19,
    "start_time": "2024-02-05T22:09:35.584Z"
   },
   {
    "duration": 4,
    "start_time": "2024-02-05T22:09:35.605Z"
   },
   {
    "duration": 26,
    "start_time": "2024-02-05T22:09:35.610Z"
   },
   {
    "duration": 45,
    "start_time": "2024-02-05T22:09:35.638Z"
   },
   {
    "duration": 24,
    "start_time": "2024-02-05T22:09:35.686Z"
   },
   {
    "duration": 31,
    "start_time": "2024-02-05T22:09:35.711Z"
   },
   {
    "duration": 6,
    "start_time": "2024-02-05T22:09:35.743Z"
   },
   {
    "duration": 32,
    "start_time": "2024-02-05T22:09:35.750Z"
   },
   {
    "duration": 5,
    "start_time": "2024-02-05T22:09:35.784Z"
   },
   {
    "duration": 27,
    "start_time": "2024-02-05T22:09:35.791Z"
   },
   {
    "duration": 26,
    "start_time": "2024-02-05T22:09:35.820Z"
   },
   {
    "duration": 42,
    "start_time": "2024-02-05T22:09:35.848Z"
   },
   {
    "duration": 34,
    "start_time": "2024-02-05T22:09:35.891Z"
   },
   {
    "duration": 9,
    "start_time": "2024-02-05T22:09:35.927Z"
   },
   {
    "duration": 8,
    "start_time": "2024-02-05T22:09:35.937Z"
   },
   {
    "duration": 38,
    "start_time": "2024-02-05T22:09:35.946Z"
   },
   {
    "duration": 263,
    "start_time": "2024-02-05T22:09:35.986Z"
   },
   {
    "duration": 10,
    "start_time": "2024-02-05T22:09:36.250Z"
   },
   {
    "duration": 37,
    "start_time": "2024-02-05T22:09:36.262Z"
   },
   {
    "duration": 15,
    "start_time": "2024-02-05T22:09:36.301Z"
   },
   {
    "duration": 180,
    "start_time": "2024-02-05T22:09:36.318Z"
   },
   {
    "duration": 10,
    "start_time": "2024-02-05T22:09:36.500Z"
   },
   {
    "duration": 182,
    "start_time": "2024-02-05T22:09:36.512Z"
   },
   {
    "duration": 20,
    "start_time": "2024-02-05T22:09:36.696Z"
   },
   {
    "duration": 596,
    "start_time": "2024-02-05T22:09:36.718Z"
   },
   {
    "duration": 33,
    "start_time": "2024-02-05T22:09:37.316Z"
   },
   {
    "duration": 50,
    "start_time": "2024-02-05T22:09:37.351Z"
   },
   {
    "duration": 25,
    "start_time": "2024-02-05T22:09:37.403Z"
   },
   {
    "duration": 21,
    "start_time": "2024-02-05T22:09:37.430Z"
   },
   {
    "duration": 194,
    "start_time": "2024-02-05T22:09:37.453Z"
   },
   {
    "duration": 12,
    "start_time": "2024-02-05T22:09:43.863Z"
   },
   {
    "duration": 12,
    "start_time": "2024-02-05T22:09:51.667Z"
   },
   {
    "duration": 9,
    "start_time": "2024-02-05T22:09:56.181Z"
   },
   {
    "duration": 159,
    "start_time": "2024-02-05T22:10:13.838Z"
   },
   {
    "duration": 1326,
    "start_time": "2024-02-06T07:36:23.943Z"
   },
   {
    "duration": 290,
    "start_time": "2024-02-06T07:36:25.271Z"
   },
   {
    "duration": 19,
    "start_time": "2024-02-06T07:36:25.562Z"
   },
   {
    "duration": 26,
    "start_time": "2024-02-06T07:36:25.583Z"
   },
   {
    "duration": 7,
    "start_time": "2024-02-06T07:36:25.610Z"
   },
   {
    "duration": 21,
    "start_time": "2024-02-06T07:36:25.619Z"
   },
   {
    "duration": 16,
    "start_time": "2024-02-06T07:36:25.642Z"
   },
   {
    "duration": 9,
    "start_time": "2024-02-06T07:36:25.659Z"
   },
   {
    "duration": 17,
    "start_time": "2024-02-06T07:36:25.670Z"
   },
   {
    "duration": 15,
    "start_time": "2024-02-06T07:36:25.690Z"
   },
   {
    "duration": 27,
    "start_time": "2024-02-06T07:36:25.707Z"
   },
   {
    "duration": 9,
    "start_time": "2024-02-06T07:36:25.736Z"
   },
   {
    "duration": 34,
    "start_time": "2024-02-06T07:36:25.747Z"
   },
   {
    "duration": 16,
    "start_time": "2024-02-06T07:36:25.782Z"
   },
   {
    "duration": 17,
    "start_time": "2024-02-06T07:36:25.799Z"
   },
   {
    "duration": 26,
    "start_time": "2024-02-06T07:36:25.818Z"
   },
   {
    "duration": 40,
    "start_time": "2024-02-06T07:36:25.846Z"
   },
   {
    "duration": 26,
    "start_time": "2024-02-06T07:36:25.888Z"
   },
   {
    "duration": 14,
    "start_time": "2024-02-06T07:36:25.916Z"
   },
   {
    "duration": 33,
    "start_time": "2024-02-06T07:36:25.932Z"
   },
   {
    "duration": 4,
    "start_time": "2024-02-06T07:36:25.967Z"
   },
   {
    "duration": 19,
    "start_time": "2024-02-06T07:36:25.972Z"
   },
   {
    "duration": 25,
    "start_time": "2024-02-06T07:36:25.993Z"
   },
   {
    "duration": 22,
    "start_time": "2024-02-06T07:36:26.019Z"
   },
   {
    "duration": 55,
    "start_time": "2024-02-06T07:36:26.065Z"
   },
   {
    "duration": 4,
    "start_time": "2024-02-06T07:36:26.122Z"
   },
   {
    "duration": 16,
    "start_time": "2024-02-06T07:36:26.128Z"
   },
   {
    "duration": 5,
    "start_time": "2024-02-06T07:36:26.147Z"
   },
   {
    "duration": 16,
    "start_time": "2024-02-06T07:36:26.153Z"
   },
   {
    "duration": 24,
    "start_time": "2024-02-06T07:36:26.170Z"
   },
   {
    "duration": 25,
    "start_time": "2024-02-06T07:36:26.195Z"
   },
   {
    "duration": 52,
    "start_time": "2024-02-06T07:36:26.222Z"
   },
   {
    "duration": 8,
    "start_time": "2024-02-06T07:36:26.275Z"
   },
   {
    "duration": 4,
    "start_time": "2024-02-06T07:36:26.284Z"
   },
   {
    "duration": 119,
    "start_time": "2024-02-06T07:36:26.289Z"
   },
   {
    "duration": 0,
    "start_time": "2024-02-06T07:36:26.409Z"
   },
   {
    "duration": 1,
    "start_time": "2024-02-06T07:36:26.410Z"
   },
   {
    "duration": 0,
    "start_time": "2024-02-06T07:36:26.411Z"
   },
   {
    "duration": 0,
    "start_time": "2024-02-06T07:36:26.412Z"
   },
   {
    "duration": 0,
    "start_time": "2024-02-06T07:36:26.413Z"
   },
   {
    "duration": 0,
    "start_time": "2024-02-06T07:36:26.414Z"
   },
   {
    "duration": 0,
    "start_time": "2024-02-06T07:36:26.416Z"
   },
   {
    "duration": 0,
    "start_time": "2024-02-06T07:36:26.417Z"
   },
   {
    "duration": 0,
    "start_time": "2024-02-06T07:36:26.418Z"
   },
   {
    "duration": 0,
    "start_time": "2024-02-06T07:36:26.418Z"
   },
   {
    "duration": 0,
    "start_time": "2024-02-06T07:36:26.419Z"
   },
   {
    "duration": 0,
    "start_time": "2024-02-06T07:36:26.420Z"
   },
   {
    "duration": 0,
    "start_time": "2024-02-06T07:36:26.421Z"
   },
   {
    "duration": 0,
    "start_time": "2024-02-06T07:36:26.422Z"
   },
   {
    "duration": 0,
    "start_time": "2024-02-06T07:36:26.423Z"
   },
   {
    "duration": 0,
    "start_time": "2024-02-06T07:36:26.424Z"
   },
   {
    "duration": 0,
    "start_time": "2024-02-06T07:36:26.425Z"
   },
   {
    "duration": 0,
    "start_time": "2024-02-06T07:36:26.426Z"
   },
   {
    "duration": 0,
    "start_time": "2024-02-06T07:36:26.429Z"
   },
   {
    "duration": 0,
    "start_time": "2024-02-06T07:36:26.430Z"
   },
   {
    "duration": 9,
    "start_time": "2024-02-06T07:36:47.576Z"
   },
   {
    "duration": 3,
    "start_time": "2024-02-06T07:36:52.369Z"
   },
   {
    "duration": 139,
    "start_time": "2024-02-06T07:36:52.374Z"
   },
   {
    "duration": 14,
    "start_time": "2024-02-06T07:36:52.515Z"
   },
   {
    "duration": 15,
    "start_time": "2024-02-06T07:36:52.531Z"
   },
   {
    "duration": 7,
    "start_time": "2024-02-06T07:36:52.548Z"
   },
   {
    "duration": 17,
    "start_time": "2024-02-06T07:36:52.556Z"
   },
   {
    "duration": 21,
    "start_time": "2024-02-06T07:36:52.574Z"
   },
   {
    "duration": 5,
    "start_time": "2024-02-06T07:36:52.596Z"
   },
   {
    "duration": 14,
    "start_time": "2024-02-06T07:36:52.603Z"
   },
   {
    "duration": 16,
    "start_time": "2024-02-06T07:36:52.619Z"
   },
   {
    "duration": 34,
    "start_time": "2024-02-06T07:36:52.638Z"
   },
   {
    "duration": 8,
    "start_time": "2024-02-06T07:36:52.674Z"
   },
   {
    "duration": 22,
    "start_time": "2024-02-06T07:36:52.683Z"
   },
   {
    "duration": 14,
    "start_time": "2024-02-06T07:36:52.707Z"
   },
   {
    "duration": 7,
    "start_time": "2024-02-06T07:36:52.723Z"
   },
   {
    "duration": 2,
    "start_time": "2024-02-06T07:36:52.732Z"
   },
   {
    "duration": 41,
    "start_time": "2024-02-06T07:36:52.736Z"
   },
   {
    "duration": 10,
    "start_time": "2024-02-06T07:36:52.779Z"
   },
   {
    "duration": 11,
    "start_time": "2024-02-06T07:36:52.791Z"
   },
   {
    "duration": 19,
    "start_time": "2024-02-06T07:36:52.804Z"
   },
   {
    "duration": 5,
    "start_time": "2024-02-06T07:36:52.825Z"
   },
   {
    "duration": 51,
    "start_time": "2024-02-06T07:36:52.832Z"
   },
   {
    "duration": 25,
    "start_time": "2024-02-06T07:36:52.885Z"
   },
   {
    "duration": 23,
    "start_time": "2024-02-06T07:36:52.912Z"
   },
   {
    "duration": 57,
    "start_time": "2024-02-06T07:36:52.937Z"
   },
   {
    "duration": 6,
    "start_time": "2024-02-06T07:36:52.996Z"
   },
   {
    "duration": 10,
    "start_time": "2024-02-06T07:36:53.004Z"
   },
   {
    "duration": 5,
    "start_time": "2024-02-06T07:36:53.015Z"
   },
   {
    "duration": 43,
    "start_time": "2024-02-06T07:36:53.025Z"
   },
   {
    "duration": 25,
    "start_time": "2024-02-06T07:36:53.071Z"
   },
   {
    "duration": 25,
    "start_time": "2024-02-06T07:36:53.098Z"
   },
   {
    "duration": 56,
    "start_time": "2024-02-06T07:36:53.125Z"
   },
   {
    "duration": 8,
    "start_time": "2024-02-06T07:36:53.183Z"
   },
   {
    "duration": 7,
    "start_time": "2024-02-06T07:36:53.193Z"
   },
   {
    "duration": 16,
    "start_time": "2024-02-06T07:36:53.202Z"
   },
   {
    "duration": 0,
    "start_time": "2024-02-06T07:36:53.220Z"
   },
   {
    "duration": 0,
    "start_time": "2024-02-06T07:36:53.221Z"
   },
   {
    "duration": 0,
    "start_time": "2024-02-06T07:36:53.222Z"
   },
   {
    "duration": 0,
    "start_time": "2024-02-06T07:36:53.223Z"
   },
   {
    "duration": 0,
    "start_time": "2024-02-06T07:36:53.224Z"
   },
   {
    "duration": 1,
    "start_time": "2024-02-06T07:36:53.225Z"
   },
   {
    "duration": 0,
    "start_time": "2024-02-06T07:36:53.226Z"
   },
   {
    "duration": 0,
    "start_time": "2024-02-06T07:36:53.228Z"
   },
   {
    "duration": 0,
    "start_time": "2024-02-06T07:36:53.228Z"
   },
   {
    "duration": 0,
    "start_time": "2024-02-06T07:36:53.229Z"
   },
   {
    "duration": 0,
    "start_time": "2024-02-06T07:36:53.265Z"
   },
   {
    "duration": 0,
    "start_time": "2024-02-06T07:36:53.267Z"
   },
   {
    "duration": 0,
    "start_time": "2024-02-06T07:36:53.268Z"
   },
   {
    "duration": 0,
    "start_time": "2024-02-06T07:36:53.269Z"
   },
   {
    "duration": 0,
    "start_time": "2024-02-06T07:36:53.270Z"
   },
   {
    "duration": 0,
    "start_time": "2024-02-06T07:36:53.271Z"
   },
   {
    "duration": 0,
    "start_time": "2024-02-06T07:36:53.271Z"
   },
   {
    "duration": 0,
    "start_time": "2024-02-06T07:36:53.272Z"
   },
   {
    "duration": 0,
    "start_time": "2024-02-06T07:36:53.273Z"
   },
   {
    "duration": 0,
    "start_time": "2024-02-06T07:36:53.274Z"
   },
   {
    "duration": 1324,
    "start_time": "2024-02-06T07:38:38.189Z"
   },
   {
    "duration": 2,
    "start_time": "2024-02-06T07:39:45.844Z"
   },
   {
    "duration": 151,
    "start_time": "2024-02-06T07:39:45.848Z"
   },
   {
    "duration": 15,
    "start_time": "2024-02-06T07:39:46.001Z"
   },
   {
    "duration": 16,
    "start_time": "2024-02-06T07:39:46.018Z"
   },
   {
    "duration": 22,
    "start_time": "2024-02-06T07:39:46.037Z"
   },
   {
    "duration": 14,
    "start_time": "2024-02-06T07:39:46.061Z"
   },
   {
    "duration": 20,
    "start_time": "2024-02-06T07:39:46.077Z"
   },
   {
    "duration": 12,
    "start_time": "2024-02-06T07:39:46.099Z"
   },
   {
    "duration": 16,
    "start_time": "2024-02-06T07:39:46.112Z"
   },
   {
    "duration": 14,
    "start_time": "2024-02-06T07:39:46.130Z"
   },
   {
    "duration": 29,
    "start_time": "2024-02-06T07:39:46.147Z"
   },
   {
    "duration": 9,
    "start_time": "2024-02-06T07:39:46.178Z"
   },
   {
    "duration": 31,
    "start_time": "2024-02-06T07:39:46.188Z"
   },
   {
    "duration": 14,
    "start_time": "2024-02-06T07:39:46.220Z"
   },
   {
    "duration": 6,
    "start_time": "2024-02-06T07:39:46.236Z"
   },
   {
    "duration": 5,
    "start_time": "2024-02-06T07:39:46.265Z"
   },
   {
    "duration": 16,
    "start_time": "2024-02-06T07:39:46.271Z"
   },
   {
    "duration": 12,
    "start_time": "2024-02-06T07:39:46.289Z"
   },
   {
    "duration": 11,
    "start_time": "2024-02-06T07:39:46.303Z"
   },
   {
    "duration": 18,
    "start_time": "2024-02-06T07:39:46.315Z"
   },
   {
    "duration": 4,
    "start_time": "2024-02-06T07:39:46.335Z"
   },
   {
    "duration": 44,
    "start_time": "2024-02-06T07:39:46.340Z"
   },
   {
    "duration": 25,
    "start_time": "2024-02-06T07:39:46.386Z"
   },
   {
    "duration": 21,
    "start_time": "2024-02-06T07:39:46.413Z"
   },
   {
    "duration": 50,
    "start_time": "2024-02-06T07:39:46.436Z"
   },
   {
    "duration": 6,
    "start_time": "2024-02-06T07:39:46.487Z"
   },
   {
    "duration": 9,
    "start_time": "2024-02-06T07:39:46.494Z"
   },
   {
    "duration": 9,
    "start_time": "2024-02-06T07:39:46.504Z"
   },
   {
    "duration": 29,
    "start_time": "2024-02-06T07:39:46.516Z"
   },
   {
    "duration": 36,
    "start_time": "2024-02-06T07:39:46.546Z"
   },
   {
    "duration": 26,
    "start_time": "2024-02-06T07:39:46.583Z"
   },
   {
    "duration": 33,
    "start_time": "2024-02-06T07:39:46.611Z"
   },
   {
    "duration": 31,
    "start_time": "2024-02-06T07:39:46.646Z"
   },
   {
    "duration": 8,
    "start_time": "2024-02-06T07:39:46.678Z"
   },
   {
    "duration": 3,
    "start_time": "2024-02-06T07:39:50.108Z"
   },
   {
    "duration": 1159,
    "start_time": "2024-02-06T07:39:53.317Z"
   },
   {
    "duration": 15,
    "start_time": "2024-02-06T07:40:32.750Z"
   },
   {
    "duration": 1278,
    "start_time": "2024-02-06T07:40:52.292Z"
   },
   {
    "duration": 3,
    "start_time": "2024-02-06T07:41:55.995Z"
   },
   {
    "duration": 133,
    "start_time": "2024-02-06T07:41:56.000Z"
   },
   {
    "duration": 14,
    "start_time": "2024-02-06T07:41:56.135Z"
   },
   {
    "duration": 15,
    "start_time": "2024-02-06T07:41:56.150Z"
   },
   {
    "duration": 8,
    "start_time": "2024-02-06T07:41:56.167Z"
   },
   {
    "duration": 16,
    "start_time": "2024-02-06T07:41:56.176Z"
   },
   {
    "duration": 24,
    "start_time": "2024-02-06T07:41:56.193Z"
   },
   {
    "duration": 5,
    "start_time": "2024-02-06T07:41:56.219Z"
   },
   {
    "duration": 16,
    "start_time": "2024-02-06T07:41:56.226Z"
   },
   {
    "duration": 22,
    "start_time": "2024-02-06T07:41:56.244Z"
   },
   {
    "duration": 17,
    "start_time": "2024-02-06T07:41:56.268Z"
   },
   {
    "duration": 9,
    "start_time": "2024-02-06T07:41:56.287Z"
   },
   {
    "duration": 25,
    "start_time": "2024-02-06T07:41:56.298Z"
   },
   {
    "duration": 41,
    "start_time": "2024-02-06T07:41:56.325Z"
   },
   {
    "duration": 7,
    "start_time": "2024-02-06T07:41:56.367Z"
   },
   {
    "duration": 3,
    "start_time": "2024-02-06T07:41:56.376Z"
   },
   {
    "duration": 16,
    "start_time": "2024-02-06T07:41:56.380Z"
   },
   {
    "duration": 19,
    "start_time": "2024-02-06T07:41:56.398Z"
   },
   {
    "duration": 10,
    "start_time": "2024-02-06T07:41:56.418Z"
   },
   {
    "duration": 39,
    "start_time": "2024-02-06T07:41:56.429Z"
   },
   {
    "duration": 4,
    "start_time": "2024-02-06T07:41:56.469Z"
   },
   {
    "duration": 21,
    "start_time": "2024-02-06T07:41:56.475Z"
   },
   {
    "duration": 28,
    "start_time": "2024-02-06T07:41:56.497Z"
   },
   {
    "duration": 51,
    "start_time": "2024-02-06T07:41:56.526Z"
   },
   {
    "duration": 38,
    "start_time": "2024-02-06T07:41:56.579Z"
   },
   {
    "duration": 6,
    "start_time": "2024-02-06T07:41:56.618Z"
   },
   {
    "duration": 10,
    "start_time": "2024-02-06T07:41:56.626Z"
   },
   {
    "duration": 5,
    "start_time": "2024-02-06T07:41:56.638Z"
   },
   {
    "duration": 38,
    "start_time": "2024-02-06T07:41:56.646Z"
   },
   {
    "duration": 33,
    "start_time": "2024-02-06T07:41:56.686Z"
   },
   {
    "duration": 59,
    "start_time": "2024-02-06T07:41:56.721Z"
   },
   {
    "duration": 35,
    "start_time": "2024-02-06T07:41:56.781Z"
   },
   {
    "duration": 9,
    "start_time": "2024-02-06T07:41:56.818Z"
   },
   {
    "duration": 3,
    "start_time": "2024-02-06T07:41:56.829Z"
   },
   {
    "duration": 1409,
    "start_time": "2024-02-06T07:41:59.828Z"
   },
   {
    "duration": 1178,
    "start_time": "2024-02-06T07:42:04.762Z"
   },
   {
    "duration": 10,
    "start_time": "2024-02-06T07:45:01.930Z"
   },
   {
    "duration": 15,
    "start_time": "2024-02-06T07:46:13.997Z"
   },
   {
    "duration": 1250,
    "start_time": "2024-02-06T07:46:40.682Z"
   },
   {
    "duration": 1256,
    "start_time": "2024-02-06T07:47:01.064Z"
   },
   {
    "duration": 14,
    "start_time": "2024-02-06T07:47:52.803Z"
   },
   {
    "duration": 14,
    "start_time": "2024-02-06T07:48:23.419Z"
   },
   {
    "duration": 237,
    "start_time": "2024-02-06T07:48:46.866Z"
   },
   {
    "duration": 229,
    "start_time": "2024-02-06T07:49:12.757Z"
   },
   {
    "duration": 10,
    "start_time": "2024-02-06T07:49:16.594Z"
   },
   {
    "duration": 22,
    "start_time": "2024-02-06T07:49:20.476Z"
   },
   {
    "duration": 7,
    "start_time": "2024-02-06T07:49:30.032Z"
   },
   {
    "duration": 159,
    "start_time": "2024-02-06T07:49:34.239Z"
   },
   {
    "duration": 11,
    "start_time": "2024-02-06T07:49:43.185Z"
   },
   {
    "duration": 173,
    "start_time": "2024-02-06T07:49:48.826Z"
   },
   {
    "duration": 19,
    "start_time": "2024-02-06T07:49:55.103Z"
   },
   {
    "duration": 559,
    "start_time": "2024-02-06T07:50:00.186Z"
   },
   {
    "duration": 42,
    "start_time": "2024-02-06T07:50:12.596Z"
   },
   {
    "duration": 31,
    "start_time": "2024-02-06T07:50:44.390Z"
   },
   {
    "duration": 91,
    "start_time": "2024-02-06T07:52:55.034Z"
   },
   {
    "duration": 78,
    "start_time": "2024-02-06T07:53:04.969Z"
   },
   {
    "duration": 28,
    "start_time": "2024-02-06T07:53:16.445Z"
   },
   {
    "duration": 27,
    "start_time": "2024-02-06T07:56:29.408Z"
   },
   {
    "duration": 33,
    "start_time": "2024-02-06T07:56:45.939Z"
   },
   {
    "duration": 23,
    "start_time": "2024-02-06T07:57:43.895Z"
   },
   {
    "duration": 9,
    "start_time": "2024-02-06T07:57:47.762Z"
   },
   {
    "duration": 166,
    "start_time": "2024-02-06T07:58:13.576Z"
   },
   {
    "duration": 10,
    "start_time": "2024-02-06T07:58:18.809Z"
   },
   {
    "duration": 1255,
    "start_time": "2024-02-06T07:58:21.357Z"
   },
   {
    "duration": 1199,
    "start_time": "2024-02-06T07:58:22.762Z"
   },
   {
    "duration": 6,
    "start_time": "2024-02-06T08:00:44.930Z"
   },
   {
    "duration": 130,
    "start_time": "2024-02-06T08:01:01.988Z"
   },
   {
    "duration": 1424,
    "start_time": "2024-02-06T08:01:21.036Z"
   },
   {
    "duration": 253,
    "start_time": "2024-02-06T08:01:36.541Z"
   },
   {
    "duration": 145,
    "start_time": "2024-02-06T08:01:40.981Z"
   },
   {
    "duration": 11,
    "start_time": "2024-02-06T08:01:54.099Z"
   },
   {
    "duration": 141,
    "start_time": "2024-02-06T08:02:03.802Z"
   },
   {
    "duration": 144,
    "start_time": "2024-02-06T08:04:50.880Z"
   },
   {
    "duration": 9,
    "start_time": "2024-02-06T08:07:05.281Z"
   },
   {
    "duration": 5,
    "start_time": "2024-02-06T08:07:41.309Z"
   },
   {
    "duration": 1419,
    "start_time": "2024-02-06T08:09:02.502Z"
   },
   {
    "duration": 24,
    "start_time": "2024-02-06T08:10:01.617Z"
   },
   {
    "duration": 145,
    "start_time": "2024-02-06T08:11:35.510Z"
   },
   {
    "duration": 163,
    "start_time": "2024-02-06T08:15:05.898Z"
   },
   {
    "duration": 5,
    "start_time": "2024-02-06T08:19:24.396Z"
   },
   {
    "duration": 142,
    "start_time": "2024-02-06T08:20:57.873Z"
   },
   {
    "duration": 10,
    "start_time": "2024-02-06T08:23:56.455Z"
   },
   {
    "duration": 15,
    "start_time": "2024-02-06T08:24:05.345Z"
   },
   {
    "duration": 10,
    "start_time": "2024-02-06T08:24:54.192Z"
   },
   {
    "duration": 20,
    "start_time": "2024-02-06T08:25:26.636Z"
   },
   {
    "duration": 9,
    "start_time": "2024-02-06T08:32:40.117Z"
   },
   {
    "duration": 12,
    "start_time": "2024-02-06T08:33:01.411Z"
   },
   {
    "duration": 1233,
    "start_time": "2024-02-06T08:33:08.108Z"
   },
   {
    "duration": 1260,
    "start_time": "2024-02-06T08:33:38.928Z"
   },
   {
    "duration": 3,
    "start_time": "2024-02-06T08:38:53.600Z"
   },
   {
    "duration": 153,
    "start_time": "2024-02-06T08:38:53.604Z"
   },
   {
    "duration": 14,
    "start_time": "2024-02-06T08:38:53.759Z"
   },
   {
    "duration": 63,
    "start_time": "2024-02-06T08:38:53.775Z"
   },
   {
    "duration": 26,
    "start_time": "2024-02-06T08:38:53.841Z"
   },
   {
    "duration": 18,
    "start_time": "2024-02-06T08:38:53.868Z"
   },
   {
    "duration": 24,
    "start_time": "2024-02-06T08:38:53.887Z"
   },
   {
    "duration": 8,
    "start_time": "2024-02-06T08:38:53.913Z"
   },
   {
    "duration": 14,
    "start_time": "2024-02-06T08:38:53.922Z"
   },
   {
    "duration": 34,
    "start_time": "2024-02-06T08:38:53.938Z"
   },
   {
    "duration": 18,
    "start_time": "2024-02-06T08:38:53.976Z"
   },
   {
    "duration": 9,
    "start_time": "2024-02-06T08:38:53.996Z"
   },
   {
    "duration": 26,
    "start_time": "2024-02-06T08:38:54.006Z"
   },
   {
    "duration": 32,
    "start_time": "2024-02-06T08:38:54.034Z"
   },
   {
    "duration": 8,
    "start_time": "2024-02-06T08:38:54.068Z"
   },
   {
    "duration": 9,
    "start_time": "2024-02-06T08:38:54.077Z"
   },
   {
    "duration": 29,
    "start_time": "2024-02-06T08:38:54.088Z"
   },
   {
    "duration": 18,
    "start_time": "2024-02-06T08:38:54.119Z"
   },
   {
    "duration": 38,
    "start_time": "2024-02-06T08:38:54.139Z"
   },
   {
    "duration": 19,
    "start_time": "2024-02-06T08:38:54.178Z"
   },
   {
    "duration": 4,
    "start_time": "2024-02-06T08:38:54.198Z"
   },
   {
    "duration": 22,
    "start_time": "2024-02-06T08:38:54.203Z"
   },
   {
    "duration": 47,
    "start_time": "2024-02-06T08:38:54.226Z"
   },
   {
    "duration": 26,
    "start_time": "2024-02-06T08:38:54.275Z"
   },
   {
    "duration": 54,
    "start_time": "2024-02-06T08:38:54.302Z"
   },
   {
    "duration": 8,
    "start_time": "2024-02-06T08:38:54.358Z"
   },
   {
    "duration": 20,
    "start_time": "2024-02-06T08:38:54.367Z"
   },
   {
    "duration": 6,
    "start_time": "2024-02-06T08:38:54.388Z"
   },
   {
    "duration": 1252,
    "start_time": "2024-02-06T08:38:59.355Z"
   },
   {
    "duration": 4,
    "start_time": "2024-02-06T08:39:23.975Z"
   },
   {
    "duration": 16,
    "start_time": "2024-02-06T08:39:51.189Z"
   },
   {
    "duration": 10,
    "start_time": "2024-02-06T08:53:43.050Z"
   },
   {
    "duration": 10,
    "start_time": "2024-02-06T08:53:57.111Z"
   },
   {
    "duration": 14,
    "start_time": "2024-02-06T08:54:56.231Z"
   },
   {
    "duration": 26,
    "start_time": "2024-02-06T08:57:53.325Z"
   },
   {
    "duration": 24,
    "start_time": "2024-02-06T08:58:28.526Z"
   },
   {
    "duration": 29,
    "start_time": "2024-02-06T09:00:15.517Z"
   },
   {
    "duration": 147,
    "start_time": "2024-02-06T09:00:31.691Z"
   },
   {
    "duration": 13,
    "start_time": "2024-02-06T09:01:27.476Z"
   },
   {
    "duration": 3,
    "start_time": "2024-02-06T09:01:33.207Z"
   },
   {
    "duration": 170,
    "start_time": "2024-02-06T09:01:33.212Z"
   },
   {
    "duration": 15,
    "start_time": "2024-02-06T09:01:33.384Z"
   },
   {
    "duration": 67,
    "start_time": "2024-02-06T09:01:33.400Z"
   },
   {
    "duration": 77,
    "start_time": "2024-02-06T09:01:33.468Z"
   },
   {
    "duration": 32,
    "start_time": "2024-02-06T09:01:33.547Z"
   },
   {
    "duration": 49,
    "start_time": "2024-02-06T09:01:33.581Z"
   },
   {
    "duration": 44,
    "start_time": "2024-02-06T09:01:33.631Z"
   },
   {
    "duration": 56,
    "start_time": "2024-02-06T09:01:33.678Z"
   },
   {
    "duration": 58,
    "start_time": "2024-02-06T09:01:33.736Z"
   },
   {
    "duration": 56,
    "start_time": "2024-02-06T09:01:33.796Z"
   },
   {
    "duration": 104,
    "start_time": "2024-02-06T09:01:33.854Z"
   },
   {
    "duration": 72,
    "start_time": "2024-02-06T09:01:33.960Z"
   },
   {
    "duration": 79,
    "start_time": "2024-02-06T09:01:34.034Z"
   },
   {
    "duration": 80,
    "start_time": "2024-02-06T09:01:34.115Z"
   },
   {
    "duration": 72,
    "start_time": "2024-02-06T09:01:34.196Z"
   },
   {
    "duration": 33,
    "start_time": "2024-02-06T09:01:34.270Z"
   },
   {
    "duration": 16,
    "start_time": "2024-02-06T09:01:34.304Z"
   },
   {
    "duration": 15,
    "start_time": "2024-02-06T09:01:34.322Z"
   },
   {
    "duration": 23,
    "start_time": "2024-02-06T09:01:34.339Z"
   },
   {
    "duration": 17,
    "start_time": "2024-02-06T09:01:34.363Z"
   },
   {
    "duration": 34,
    "start_time": "2024-02-06T09:01:34.381Z"
   },
   {
    "duration": 26,
    "start_time": "2024-02-06T09:01:34.417Z"
   },
   {
    "duration": 21,
    "start_time": "2024-02-06T09:01:34.447Z"
   },
   {
    "duration": 78,
    "start_time": "2024-02-06T09:01:34.470Z"
   },
   {
    "duration": 6,
    "start_time": "2024-02-06T09:01:34.549Z"
   },
   {
    "duration": 32,
    "start_time": "2024-02-06T09:01:34.556Z"
   },
   {
    "duration": 12,
    "start_time": "2024-02-06T09:01:34.590Z"
   },
   {
    "duration": 36,
    "start_time": "2024-02-06T09:01:34.603Z"
   },
   {
    "duration": 53,
    "start_time": "2024-02-06T09:01:34.641Z"
   },
   {
    "duration": 95,
    "start_time": "2024-02-06T09:01:34.696Z"
   },
   {
    "duration": 0,
    "start_time": "2024-02-06T09:01:34.792Z"
   },
   {
    "duration": 0,
    "start_time": "2024-02-06T09:01:34.793Z"
   },
   {
    "duration": 0,
    "start_time": "2024-02-06T09:01:34.795Z"
   },
   {
    "duration": 0,
    "start_time": "2024-02-06T09:01:34.795Z"
   },
   {
    "duration": 0,
    "start_time": "2024-02-06T09:01:34.796Z"
   },
   {
    "duration": 0,
    "start_time": "2024-02-06T09:01:34.797Z"
   },
   {
    "duration": 0,
    "start_time": "2024-02-06T09:01:34.798Z"
   },
   {
    "duration": 0,
    "start_time": "2024-02-06T09:01:34.799Z"
   },
   {
    "duration": 0,
    "start_time": "2024-02-06T09:01:34.800Z"
   },
   {
    "duration": 0,
    "start_time": "2024-02-06T09:01:34.801Z"
   },
   {
    "duration": 0,
    "start_time": "2024-02-06T09:01:34.802Z"
   },
   {
    "duration": 0,
    "start_time": "2024-02-06T09:01:34.803Z"
   },
   {
    "duration": 0,
    "start_time": "2024-02-06T09:01:34.804Z"
   },
   {
    "duration": 0,
    "start_time": "2024-02-06T09:01:34.805Z"
   },
   {
    "duration": 0,
    "start_time": "2024-02-06T09:01:34.806Z"
   },
   {
    "duration": 0,
    "start_time": "2024-02-06T09:01:34.807Z"
   },
   {
    "duration": 0,
    "start_time": "2024-02-06T09:01:34.808Z"
   },
   {
    "duration": 0,
    "start_time": "2024-02-06T09:01:34.809Z"
   },
   {
    "duration": 0,
    "start_time": "2024-02-06T09:01:34.810Z"
   },
   {
    "duration": 0,
    "start_time": "2024-02-06T09:01:34.811Z"
   },
   {
    "duration": 0,
    "start_time": "2024-02-06T09:01:34.812Z"
   },
   {
    "duration": 0,
    "start_time": "2024-02-06T09:01:34.813Z"
   },
   {
    "duration": 0,
    "start_time": "2024-02-06T09:01:34.814Z"
   },
   {
    "duration": 0,
    "start_time": "2024-02-06T09:01:34.815Z"
   },
   {
    "duration": 0,
    "start_time": "2024-02-06T09:01:34.816Z"
   },
   {
    "duration": 0,
    "start_time": "2024-02-06T09:01:34.817Z"
   },
   {
    "duration": 0,
    "start_time": "2024-02-06T09:01:34.818Z"
   },
   {
    "duration": 0,
    "start_time": "2024-02-06T09:01:34.819Z"
   },
   {
    "duration": 0,
    "start_time": "2024-02-06T09:01:34.820Z"
   },
   {
    "duration": 0,
    "start_time": "2024-02-06T09:01:34.821Z"
   },
   {
    "duration": 3,
    "start_time": "2024-02-06T09:02:10.619Z"
   },
   {
    "duration": 135,
    "start_time": "2024-02-06T09:02:10.623Z"
   },
   {
    "duration": 14,
    "start_time": "2024-02-06T09:02:10.760Z"
   },
   {
    "duration": 51,
    "start_time": "2024-02-06T09:02:10.777Z"
   },
   {
    "duration": 17,
    "start_time": "2024-02-06T09:02:10.830Z"
   },
   {
    "duration": 32,
    "start_time": "2024-02-06T09:02:10.848Z"
   },
   {
    "duration": 17,
    "start_time": "2024-02-06T09:02:10.881Z"
   },
   {
    "duration": 10,
    "start_time": "2024-02-06T09:02:10.899Z"
   },
   {
    "duration": 20,
    "start_time": "2024-02-06T09:02:10.911Z"
   },
   {
    "duration": 13,
    "start_time": "2024-02-06T09:02:10.932Z"
   },
   {
    "duration": 17,
    "start_time": "2024-02-06T09:02:10.946Z"
   },
   {
    "duration": 8,
    "start_time": "2024-02-06T09:02:10.964Z"
   },
   {
    "duration": 67,
    "start_time": "2024-02-06T09:02:10.973Z"
   },
   {
    "duration": 25,
    "start_time": "2024-02-06T09:02:11.041Z"
   },
   {
    "duration": 7,
    "start_time": "2024-02-06T09:02:11.067Z"
   },
   {
    "duration": 7,
    "start_time": "2024-02-06T09:02:11.075Z"
   },
   {
    "duration": 21,
    "start_time": "2024-02-06T09:02:11.084Z"
   },
   {
    "duration": 19,
    "start_time": "2024-02-06T09:02:11.106Z"
   },
   {
    "duration": 25,
    "start_time": "2024-02-06T09:02:11.127Z"
   },
   {
    "duration": 35,
    "start_time": "2024-02-06T09:02:11.153Z"
   },
   {
    "duration": 6,
    "start_time": "2024-02-06T09:02:11.189Z"
   },
   {
    "duration": 27,
    "start_time": "2024-02-06T09:02:11.197Z"
   },
   {
    "duration": 41,
    "start_time": "2024-02-06T09:02:11.226Z"
   },
   {
    "duration": 21,
    "start_time": "2024-02-06T09:02:11.271Z"
   },
   {
    "duration": 54,
    "start_time": "2024-02-06T09:02:11.293Z"
   },
   {
    "duration": 21,
    "start_time": "2024-02-06T09:02:11.349Z"
   },
   {
    "duration": 54,
    "start_time": "2024-02-06T09:02:11.371Z"
   },
   {
    "duration": 27,
    "start_time": "2024-02-06T09:02:11.427Z"
   },
   {
    "duration": 76,
    "start_time": "2024-02-06T09:02:11.455Z"
   },
   {
    "duration": 47,
    "start_time": "2024-02-06T09:02:11.533Z"
   },
   {
    "duration": 17,
    "start_time": "2024-02-06T09:02:11.582Z"
   },
   {
    "duration": 0,
    "start_time": "2024-02-06T09:02:11.600Z"
   },
   {
    "duration": 0,
    "start_time": "2024-02-06T09:02:11.601Z"
   },
   {
    "duration": 0,
    "start_time": "2024-02-06T09:02:11.603Z"
   },
   {
    "duration": 0,
    "start_time": "2024-02-06T09:02:11.604Z"
   },
   {
    "duration": 0,
    "start_time": "2024-02-06T09:02:11.605Z"
   },
   {
    "duration": 0,
    "start_time": "2024-02-06T09:02:11.606Z"
   },
   {
    "duration": 0,
    "start_time": "2024-02-06T09:02:11.608Z"
   },
   {
    "duration": 0,
    "start_time": "2024-02-06T09:02:11.609Z"
   },
   {
    "duration": 0,
    "start_time": "2024-02-06T09:02:11.610Z"
   },
   {
    "duration": 0,
    "start_time": "2024-02-06T09:02:11.611Z"
   },
   {
    "duration": 0,
    "start_time": "2024-02-06T09:02:11.612Z"
   },
   {
    "duration": 0,
    "start_time": "2024-02-06T09:02:11.613Z"
   },
   {
    "duration": 0,
    "start_time": "2024-02-06T09:02:11.614Z"
   },
   {
    "duration": 0,
    "start_time": "2024-02-06T09:02:11.615Z"
   },
   {
    "duration": 0,
    "start_time": "2024-02-06T09:02:11.616Z"
   },
   {
    "duration": 0,
    "start_time": "2024-02-06T09:02:11.617Z"
   },
   {
    "duration": 0,
    "start_time": "2024-02-06T09:02:11.618Z"
   },
   {
    "duration": 0,
    "start_time": "2024-02-06T09:02:11.619Z"
   },
   {
    "duration": 0,
    "start_time": "2024-02-06T09:02:11.620Z"
   },
   {
    "duration": 0,
    "start_time": "2024-02-06T09:02:11.621Z"
   },
   {
    "duration": 0,
    "start_time": "2024-02-06T09:02:11.623Z"
   },
   {
    "duration": 0,
    "start_time": "2024-02-06T09:02:11.624Z"
   },
   {
    "duration": 0,
    "start_time": "2024-02-06T09:02:11.625Z"
   },
   {
    "duration": 0,
    "start_time": "2024-02-06T09:02:11.666Z"
   },
   {
    "duration": 0,
    "start_time": "2024-02-06T09:02:11.667Z"
   },
   {
    "duration": 0,
    "start_time": "2024-02-06T09:02:11.668Z"
   },
   {
    "duration": 0,
    "start_time": "2024-02-06T09:02:11.670Z"
   },
   {
    "duration": 0,
    "start_time": "2024-02-06T09:02:11.670Z"
   },
   {
    "duration": 0,
    "start_time": "2024-02-06T09:02:11.671Z"
   },
   {
    "duration": 0,
    "start_time": "2024-02-06T09:02:11.672Z"
   },
   {
    "duration": 25,
    "start_time": "2024-02-06T09:03:02.048Z"
   },
   {
    "duration": 22,
    "start_time": "2024-02-06T09:03:09.372Z"
   },
   {
    "duration": 35,
    "start_time": "2024-02-06T09:03:13.640Z"
   },
   {
    "duration": 3,
    "start_time": "2024-02-06T09:03:18.474Z"
   },
   {
    "duration": 130,
    "start_time": "2024-02-06T09:03:18.478Z"
   },
   {
    "duration": 14,
    "start_time": "2024-02-06T09:03:18.610Z"
   },
   {
    "duration": 20,
    "start_time": "2024-02-06T09:03:18.626Z"
   },
   {
    "duration": 9,
    "start_time": "2024-02-06T09:03:18.648Z"
   },
   {
    "duration": 23,
    "start_time": "2024-02-06T09:03:18.659Z"
   },
   {
    "duration": 24,
    "start_time": "2024-02-06T09:03:18.684Z"
   },
   {
    "duration": 6,
    "start_time": "2024-02-06T09:03:18.709Z"
   },
   {
    "duration": 17,
    "start_time": "2024-02-06T09:03:18.718Z"
   },
   {
    "duration": 25,
    "start_time": "2024-02-06T09:03:18.737Z"
   },
   {
    "duration": 17,
    "start_time": "2024-02-06T09:03:18.763Z"
   },
   {
    "duration": 9,
    "start_time": "2024-02-06T09:03:18.782Z"
   },
   {
    "duration": 25,
    "start_time": "2024-02-06T09:03:18.793Z"
   },
   {
    "duration": 16,
    "start_time": "2024-02-06T09:03:18.820Z"
   },
   {
    "duration": 11,
    "start_time": "2024-02-06T09:03:18.864Z"
   },
   {
    "duration": 5,
    "start_time": "2024-02-06T09:03:18.877Z"
   },
   {
    "duration": 34,
    "start_time": "2024-02-06T09:03:18.884Z"
   },
   {
    "duration": 11,
    "start_time": "2024-02-06T09:03:18.920Z"
   },
   {
    "duration": 17,
    "start_time": "2024-02-06T09:03:18.933Z"
   },
   {
    "duration": 40,
    "start_time": "2024-02-06T09:03:18.952Z"
   },
   {
    "duration": 5,
    "start_time": "2024-02-06T09:03:18.994Z"
   },
   {
    "duration": 24,
    "start_time": "2024-02-06T09:03:19.001Z"
   },
   {
    "duration": 41,
    "start_time": "2024-02-06T09:03:19.026Z"
   },
   {
    "duration": 30,
    "start_time": "2024-02-06T09:03:19.072Z"
   },
   {
    "duration": 43,
    "start_time": "2024-02-06T09:03:19.104Z"
   },
   {
    "duration": 6,
    "start_time": "2024-02-06T09:03:19.149Z"
   },
   {
    "duration": 16,
    "start_time": "2024-02-06T09:03:19.157Z"
   },
   {
    "duration": 14,
    "start_time": "2024-02-06T09:03:19.175Z"
   },
   {
    "duration": 26,
    "start_time": "2024-02-06T09:03:19.190Z"
   },
   {
    "duration": 54,
    "start_time": "2024-02-06T09:03:19.217Z"
   },
   {
    "duration": 23,
    "start_time": "2024-02-06T09:03:19.272Z"
   },
   {
    "duration": 32,
    "start_time": "2024-02-06T09:03:19.297Z"
   },
   {
    "duration": 9,
    "start_time": "2024-02-06T09:03:19.331Z"
   },
   {
    "duration": 28,
    "start_time": "2024-02-06T09:03:19.342Z"
   },
   {
    "duration": 26,
    "start_time": "2024-02-06T09:03:19.372Z"
   },
   {
    "duration": 224,
    "start_time": "2024-02-06T09:03:19.400Z"
   },
   {
    "duration": 10,
    "start_time": "2024-02-06T09:03:19.626Z"
   },
   {
    "duration": 71,
    "start_time": "2024-02-06T09:03:19.637Z"
   },
   {
    "duration": 15,
    "start_time": "2024-02-06T09:03:19.709Z"
   },
   {
    "duration": 178,
    "start_time": "2024-02-06T09:03:19.726Z"
   },
   {
    "duration": 10,
    "start_time": "2024-02-06T09:03:19.906Z"
   },
   {
    "duration": 253,
    "start_time": "2024-02-06T09:03:19.918Z"
   },
   {
    "duration": 20,
    "start_time": "2024-02-06T09:03:20.172Z"
   },
   {
    "duration": 521,
    "start_time": "2024-02-06T09:03:20.193Z"
   },
   {
    "duration": 31,
    "start_time": "2024-02-06T09:03:20.715Z"
   },
   {
    "duration": 39,
    "start_time": "2024-02-06T09:03:20.747Z"
   },
   {
    "duration": 24,
    "start_time": "2024-02-06T09:03:20.788Z"
   },
   {
    "duration": 15,
    "start_time": "2024-02-06T09:03:20.814Z"
   },
   {
    "duration": 179,
    "start_time": "2024-02-06T09:03:20.831Z"
   },
   {
    "duration": 6,
    "start_time": "2024-02-06T09:03:21.011Z"
   },
   {
    "duration": 167,
    "start_time": "2024-02-06T09:03:21.018Z"
   },
   {
    "duration": 155,
    "start_time": "2024-02-06T09:03:21.187Z"
   },
   {
    "duration": 157,
    "start_time": "2024-02-06T09:03:21.343Z"
   },
   {
    "duration": 168,
    "start_time": "2024-02-06T09:03:21.502Z"
   },
   {
    "duration": 5,
    "start_time": "2024-02-06T09:03:21.671Z"
   },
   {
    "duration": 51,
    "start_time": "2024-02-06T09:03:21.678Z"
   },
   {
    "duration": 156,
    "start_time": "2024-02-06T09:03:21.731Z"
   },
   {
    "duration": 156,
    "start_time": "2024-02-06T09:03:21.888Z"
   },
   {
    "duration": 152,
    "start_time": "2024-02-06T09:03:22.046Z"
   },
   {
    "duration": 14,
    "start_time": "2024-02-06T09:03:22.200Z"
   },
   {
    "duration": 0,
    "start_time": "2024-02-06T09:03:22.216Z"
   },
   {
    "duration": 3,
    "start_time": "2024-02-06T09:07:16.453Z"
   },
   {
    "duration": 147,
    "start_time": "2024-02-06T09:07:16.458Z"
   },
   {
    "duration": 14,
    "start_time": "2024-02-06T09:07:16.607Z"
   },
   {
    "duration": 24,
    "start_time": "2024-02-06T09:07:16.622Z"
   },
   {
    "duration": 14,
    "start_time": "2024-02-06T09:07:16.649Z"
   },
   {
    "duration": 33,
    "start_time": "2024-02-06T09:07:16.665Z"
   },
   {
    "duration": 41,
    "start_time": "2024-02-06T09:07:16.700Z"
   },
   {
    "duration": 25,
    "start_time": "2024-02-06T09:07:16.743Z"
   },
   {
    "duration": 48,
    "start_time": "2024-02-06T09:07:16.769Z"
   },
   {
    "duration": 15,
    "start_time": "2024-02-06T09:07:16.819Z"
   },
   {
    "duration": 15,
    "start_time": "2024-02-06T09:07:16.836Z"
   },
   {
    "duration": 9,
    "start_time": "2024-02-06T09:07:16.854Z"
   },
   {
    "duration": 31,
    "start_time": "2024-02-06T09:07:16.864Z"
   },
   {
    "duration": 14,
    "start_time": "2024-02-06T09:07:16.896Z"
   },
   {
    "duration": 10,
    "start_time": "2024-02-06T09:07:16.912Z"
   },
   {
    "duration": 13,
    "start_time": "2024-02-06T09:07:16.923Z"
   },
   {
    "duration": 19,
    "start_time": "2024-02-06T09:07:16.937Z"
   },
   {
    "duration": 13,
    "start_time": "2024-02-06T09:07:16.958Z"
   },
   {
    "duration": 26,
    "start_time": "2024-02-06T09:07:16.973Z"
   },
   {
    "duration": 38,
    "start_time": "2024-02-06T09:07:17.000Z"
   },
   {
    "duration": 4,
    "start_time": "2024-02-06T09:07:17.040Z"
   },
   {
    "duration": 21,
    "start_time": "2024-02-06T09:07:17.045Z"
   },
   {
    "duration": 26,
    "start_time": "2024-02-06T09:07:17.067Z"
   },
   {
    "duration": 21,
    "start_time": "2024-02-06T09:07:17.094Z"
   },
   {
    "duration": 40,
    "start_time": "2024-02-06T09:07:17.116Z"
   },
   {
    "duration": 9,
    "start_time": "2024-02-06T09:07:17.157Z"
   },
   {
    "duration": 19,
    "start_time": "2024-02-06T09:07:17.167Z"
   },
   {
    "duration": 24,
    "start_time": "2024-02-06T09:07:17.187Z"
   },
   {
    "duration": 26,
    "start_time": "2024-02-06T09:07:17.213Z"
   },
   {
    "duration": 42,
    "start_time": "2024-02-06T09:07:17.240Z"
   },
   {
    "duration": 20,
    "start_time": "2024-02-06T09:07:17.283Z"
   },
   {
    "duration": 33,
    "start_time": "2024-02-06T09:07:17.305Z"
   },
   {
    "duration": 24,
    "start_time": "2024-02-06T09:07:17.341Z"
   },
   {
    "duration": 3,
    "start_time": "2024-02-06T09:07:17.367Z"
   },
   {
    "duration": 20,
    "start_time": "2024-02-06T09:07:17.372Z"
   },
   {
    "duration": 335,
    "start_time": "2024-02-06T09:07:17.393Z"
   },
   {
    "duration": 9,
    "start_time": "2024-02-06T09:07:17.729Z"
   },
   {
    "duration": 58,
    "start_time": "2024-02-06T09:07:17.739Z"
   },
   {
    "duration": 31,
    "start_time": "2024-02-06T09:07:17.799Z"
   },
   {
    "duration": 156,
    "start_time": "2024-02-06T09:07:17.831Z"
   },
   {
    "duration": 9,
    "start_time": "2024-02-06T09:07:17.989Z"
   },
   {
    "duration": 167,
    "start_time": "2024-02-06T09:07:18.000Z"
   },
   {
    "duration": 17,
    "start_time": "2024-02-06T09:07:18.169Z"
   },
   {
    "duration": 551,
    "start_time": "2024-02-06T09:07:18.187Z"
   },
   {
    "duration": 37,
    "start_time": "2024-02-06T09:07:18.740Z"
   },
   {
    "duration": 42,
    "start_time": "2024-02-06T09:07:18.778Z"
   },
   {
    "duration": 54,
    "start_time": "2024-02-06T09:07:18.821Z"
   },
   {
    "duration": 57,
    "start_time": "2024-02-06T09:07:18.878Z"
   },
   {
    "duration": 173,
    "start_time": "2024-02-06T09:07:18.937Z"
   },
   {
    "duration": 6,
    "start_time": "2024-02-06T09:07:19.111Z"
   },
   {
    "duration": 149,
    "start_time": "2024-02-06T09:07:19.118Z"
   },
   {
    "duration": 154,
    "start_time": "2024-02-06T09:07:19.268Z"
   },
   {
    "duration": 155,
    "start_time": "2024-02-06T09:07:19.423Z"
   },
   {
    "duration": 150,
    "start_time": "2024-02-06T09:07:19.580Z"
   },
   {
    "duration": 4,
    "start_time": "2024-02-06T09:07:19.731Z"
   },
   {
    "duration": 49,
    "start_time": "2024-02-06T09:07:19.737Z"
   },
   {
    "duration": 139,
    "start_time": "2024-02-06T09:07:19.788Z"
   },
   {
    "duration": 156,
    "start_time": "2024-02-06T09:07:19.929Z"
   },
   {
    "duration": 165,
    "start_time": "2024-02-06T09:07:20.086Z"
   },
   {
    "duration": 19,
    "start_time": "2024-02-06T09:07:20.253Z"
   },
   {
    "duration": 19,
    "start_time": "2024-02-06T09:07:20.274Z"
   },
   {
    "duration": 17,
    "start_time": "2024-02-06T09:13:21.651Z"
   },
   {
    "duration": 1233,
    "start_time": "2024-02-06T09:15:21.626Z"
   },
   {
    "duration": 1054,
    "start_time": "2024-02-06T09:15:32.544Z"
   },
   {
    "duration": 70,
    "start_time": "2024-02-06T09:15:38.845Z"
   },
   {
    "duration": 1024,
    "start_time": "2024-02-06T09:15:55.903Z"
   },
   {
    "duration": 113,
    "start_time": "2024-02-06T09:18:19.977Z"
   },
   {
    "duration": 1009,
    "start_time": "2024-02-06T09:18:31.390Z"
   },
   {
    "duration": 12,
    "start_time": "2024-02-06T09:28:22.066Z"
   },
   {
    "duration": 13,
    "start_time": "2024-02-06T09:28:38.385Z"
   },
   {
    "duration": 20,
    "start_time": "2024-02-06T09:29:33.573Z"
   },
   {
    "duration": 39,
    "start_time": "2024-02-06T09:33:01.878Z"
   },
   {
    "duration": 3,
    "start_time": "2024-02-06T09:34:07.739Z"
   },
   {
    "duration": 137,
    "start_time": "2024-02-06T09:34:07.744Z"
   },
   {
    "duration": 14,
    "start_time": "2024-02-06T09:34:07.882Z"
   },
   {
    "duration": 14,
    "start_time": "2024-02-06T09:34:07.897Z"
   },
   {
    "duration": 6,
    "start_time": "2024-02-06T09:34:07.913Z"
   },
   {
    "duration": 11,
    "start_time": "2024-02-06T09:34:07.921Z"
   },
   {
    "duration": 17,
    "start_time": "2024-02-06T09:34:07.934Z"
   },
   {
    "duration": 17,
    "start_time": "2024-02-06T09:34:07.952Z"
   },
   {
    "duration": 13,
    "start_time": "2024-02-06T09:34:07.970Z"
   },
   {
    "duration": 7,
    "start_time": "2024-02-06T09:34:07.984Z"
   },
   {
    "duration": 16,
    "start_time": "2024-02-06T09:34:07.992Z"
   },
   {
    "duration": 8,
    "start_time": "2024-02-06T09:34:08.009Z"
   },
   {
    "duration": 56,
    "start_time": "2024-02-06T09:34:08.020Z"
   },
   {
    "duration": 15,
    "start_time": "2024-02-06T09:34:08.078Z"
   },
   {
    "duration": 37,
    "start_time": "2024-02-06T09:34:08.094Z"
   },
   {
    "duration": 6,
    "start_time": "2024-02-06T09:34:08.132Z"
   },
   {
    "duration": 17,
    "start_time": "2024-02-06T09:34:08.139Z"
   },
   {
    "duration": 8,
    "start_time": "2024-02-06T09:34:08.158Z"
   },
   {
    "duration": 13,
    "start_time": "2024-02-06T09:34:08.167Z"
   },
   {
    "duration": 17,
    "start_time": "2024-02-06T09:34:08.182Z"
   },
   {
    "duration": 4,
    "start_time": "2024-02-06T09:34:08.200Z"
   },
   {
    "duration": 18,
    "start_time": "2024-02-06T09:34:08.205Z"
   },
   {
    "duration": 49,
    "start_time": "2024-02-06T09:34:08.224Z"
   },
   {
    "duration": 21,
    "start_time": "2024-02-06T09:34:08.274Z"
   },
   {
    "duration": 43,
    "start_time": "2024-02-06T09:34:08.297Z"
   },
   {
    "duration": 5,
    "start_time": "2024-02-06T09:34:08.342Z"
   },
   {
    "duration": 16,
    "start_time": "2024-02-06T09:34:08.349Z"
   },
   {
    "duration": 6,
    "start_time": "2024-02-06T09:34:08.367Z"
   },
   {
    "duration": 18,
    "start_time": "2024-02-06T09:34:08.374Z"
   },
   {
    "duration": 39,
    "start_time": "2024-02-06T09:34:08.393Z"
   },
   {
    "duration": 44,
    "start_time": "2024-02-06T09:34:08.433Z"
   },
   {
    "duration": 31,
    "start_time": "2024-02-06T09:34:08.479Z"
   },
   {
    "duration": 8,
    "start_time": "2024-02-06T09:34:08.512Z"
   },
   {
    "duration": 5,
    "start_time": "2024-02-06T09:34:08.522Z"
   },
   {
    "duration": 19,
    "start_time": "2024-02-06T09:34:08.528Z"
   },
   {
    "duration": 243,
    "start_time": "2024-02-06T09:34:08.549Z"
   },
   {
    "duration": 9,
    "start_time": "2024-02-06T09:34:08.796Z"
   },
   {
    "duration": 21,
    "start_time": "2024-02-06T09:34:08.806Z"
   },
   {
    "duration": 6,
    "start_time": "2024-02-06T09:34:08.828Z"
   },
   {
    "duration": 296,
    "start_time": "2024-02-06T09:34:08.835Z"
   },
   {
    "duration": 11,
    "start_time": "2024-02-06T09:34:09.132Z"
   },
   {
    "duration": 171,
    "start_time": "2024-02-06T09:34:09.145Z"
   },
   {
    "duration": 20,
    "start_time": "2024-02-06T09:34:09.318Z"
   },
   {
    "duration": 531,
    "start_time": "2024-02-06T09:34:09.339Z"
   },
   {
    "duration": 29,
    "start_time": "2024-02-06T09:34:09.872Z"
   },
   {
    "duration": 41,
    "start_time": "2024-02-06T09:34:09.902Z"
   },
   {
    "duration": 31,
    "start_time": "2024-02-06T09:34:09.945Z"
   },
   {
    "duration": 41,
    "start_time": "2024-02-06T09:34:09.978Z"
   },
   {
    "duration": 8,
    "start_time": "2024-02-06T09:34:10.021Z"
   },
   {
    "duration": 179,
    "start_time": "2024-02-06T09:34:10.031Z"
   },
   {
    "duration": 5,
    "start_time": "2024-02-06T09:34:10.212Z"
   },
   {
    "duration": 158,
    "start_time": "2024-02-06T09:34:10.219Z"
   },
   {
    "duration": 159,
    "start_time": "2024-02-06T09:34:10.378Z"
   },
   {
    "duration": 167,
    "start_time": "2024-02-06T09:34:10.538Z"
   },
   {
    "duration": 161,
    "start_time": "2024-02-06T09:34:10.706Z"
   },
   {
    "duration": 4,
    "start_time": "2024-02-06T09:34:10.868Z"
   },
   {
    "duration": 29,
    "start_time": "2024-02-06T09:34:10.873Z"
   },
   {
    "duration": 152,
    "start_time": "2024-02-06T09:34:10.904Z"
   },
   {
    "duration": 157,
    "start_time": "2024-02-06T09:34:11.057Z"
   },
   {
    "duration": 160,
    "start_time": "2024-02-06T09:34:11.216Z"
   },
   {
    "duration": 10,
    "start_time": "2024-02-06T09:34:11.378Z"
   },
   {
    "duration": 14,
    "start_time": "2024-02-06T09:34:11.389Z"
   },
   {
    "duration": 29,
    "start_time": "2024-02-06T09:34:11.404Z"
   },
   {
    "duration": 1192,
    "start_time": "2024-02-06T09:34:11.435Z"
   },
   {
    "duration": 14,
    "start_time": "2024-02-06T09:34:12.629Z"
   },
   {
    "duration": 8,
    "start_time": "2024-02-06T09:34:47.387Z"
   },
   {
    "duration": 11,
    "start_time": "2024-02-06T09:35:27.408Z"
   },
   {
    "duration": 17,
    "start_time": "2024-02-06T09:35:40.411Z"
   },
   {
    "duration": 18,
    "start_time": "2024-02-06T09:35:49.996Z"
   },
   {
    "duration": 25,
    "start_time": "2024-02-06T09:35:58.562Z"
   },
   {
    "duration": 15,
    "start_time": "2024-02-06T09:37:21.033Z"
   },
   {
    "duration": 3,
    "start_time": "2024-02-06T10:04:16.625Z"
   },
   {
    "duration": 192,
    "start_time": "2024-02-06T10:04:16.630Z"
   },
   {
    "duration": 14,
    "start_time": "2024-02-06T10:04:16.823Z"
   },
   {
    "duration": 16,
    "start_time": "2024-02-06T10:04:16.839Z"
   },
   {
    "duration": 10,
    "start_time": "2024-02-06T10:04:16.856Z"
   },
   {
    "duration": 17,
    "start_time": "2024-02-06T10:04:16.868Z"
   },
   {
    "duration": 15,
    "start_time": "2024-02-06T10:04:16.887Z"
   },
   {
    "duration": 11,
    "start_time": "2024-02-06T10:04:16.903Z"
   },
   {
    "duration": 17,
    "start_time": "2024-02-06T10:04:16.915Z"
   },
   {
    "duration": 9,
    "start_time": "2024-02-06T10:04:16.933Z"
   },
   {
    "duration": 27,
    "start_time": "2024-02-06T10:04:16.944Z"
   },
   {
    "duration": 8,
    "start_time": "2024-02-06T10:04:16.972Z"
   },
   {
    "duration": 23,
    "start_time": "2024-02-06T10:04:16.983Z"
   },
   {
    "duration": 14,
    "start_time": "2024-02-06T10:04:17.007Z"
   },
   {
    "duration": 6,
    "start_time": "2024-02-06T10:04:17.023Z"
   },
   {
    "duration": 2,
    "start_time": "2024-02-06T10:04:17.031Z"
   },
   {
    "duration": 37,
    "start_time": "2024-02-06T10:04:17.035Z"
   },
   {
    "duration": 20,
    "start_time": "2024-02-06T10:04:17.074Z"
   },
   {
    "duration": 17,
    "start_time": "2024-02-06T10:04:17.097Z"
   },
   {
    "duration": 19,
    "start_time": "2024-02-06T10:04:17.116Z"
   },
   {
    "duration": 5,
    "start_time": "2024-02-06T10:04:17.137Z"
   },
   {
    "duration": 39,
    "start_time": "2024-02-06T10:04:17.144Z"
   },
   {
    "duration": 27,
    "start_time": "2024-02-06T10:04:17.185Z"
   },
   {
    "duration": 21,
    "start_time": "2024-02-06T10:04:17.214Z"
   },
   {
    "duration": 51,
    "start_time": "2024-02-06T10:04:17.237Z"
   },
   {
    "duration": 6,
    "start_time": "2024-02-06T10:04:17.289Z"
   },
   {
    "duration": 14,
    "start_time": "2024-02-06T10:04:17.296Z"
   },
   {
    "duration": 5,
    "start_time": "2024-02-06T10:04:17.312Z"
   },
   {
    "duration": 30,
    "start_time": "2024-02-06T10:04:17.319Z"
   },
   {
    "duration": 194,
    "start_time": "2024-02-06T10:04:17.351Z"
   },
   {
    "duration": 32,
    "start_time": "2024-02-06T10:04:17.546Z"
   },
   {
    "duration": 35,
    "start_time": "2024-02-06T10:04:17.580Z"
   },
   {
    "duration": 9,
    "start_time": "2024-02-06T10:04:17.616Z"
   },
   {
    "duration": 8,
    "start_time": "2024-02-06T10:04:17.627Z"
   },
   {
    "duration": 16,
    "start_time": "2024-02-06T10:04:17.637Z"
   },
   {
    "duration": 232,
    "start_time": "2024-02-06T10:04:17.666Z"
   },
   {
    "duration": 9,
    "start_time": "2024-02-06T10:04:17.902Z"
   },
   {
    "duration": 36,
    "start_time": "2024-02-06T10:04:17.912Z"
   },
   {
    "duration": 8,
    "start_time": "2024-02-06T10:04:17.949Z"
   },
   {
    "duration": 159,
    "start_time": "2024-02-06T10:04:17.966Z"
   },
   {
    "duration": 12,
    "start_time": "2024-02-06T10:04:18.127Z"
   },
   {
    "duration": 193,
    "start_time": "2024-02-06T10:04:18.140Z"
   },
   {
    "duration": 30,
    "start_time": "2024-02-06T10:04:18.335Z"
   },
   {
    "duration": 544,
    "start_time": "2024-02-06T10:04:18.367Z"
   },
   {
    "duration": 31,
    "start_time": "2024-02-06T10:04:18.912Z"
   },
   {
    "duration": 39,
    "start_time": "2024-02-06T10:04:18.945Z"
   },
   {
    "duration": 27,
    "start_time": "2024-02-06T10:04:18.986Z"
   },
   {
    "duration": 58,
    "start_time": "2024-02-06T10:04:19.015Z"
   },
   {
    "duration": 9,
    "start_time": "2024-02-06T10:04:19.075Z"
   },
   {
    "duration": 178,
    "start_time": "2024-02-06T10:04:19.085Z"
   },
   {
    "duration": 6,
    "start_time": "2024-02-06T10:04:19.264Z"
   },
   {
    "duration": 171,
    "start_time": "2024-02-06T10:04:19.272Z"
   },
   {
    "duration": 153,
    "start_time": "2024-02-06T10:04:19.445Z"
   },
   {
    "duration": 151,
    "start_time": "2024-02-06T10:04:19.600Z"
   },
   {
    "duration": 158,
    "start_time": "2024-02-06T10:04:19.752Z"
   },
   {
    "duration": 4,
    "start_time": "2024-02-06T10:04:19.911Z"
   },
   {
    "duration": 66,
    "start_time": "2024-02-06T10:04:19.916Z"
   },
   {
    "duration": 161,
    "start_time": "2024-02-06T10:04:19.983Z"
   },
   {
    "duration": 156,
    "start_time": "2024-02-06T10:04:20.145Z"
   },
   {
    "duration": 152,
    "start_time": "2024-02-06T10:04:20.302Z"
   },
   {
    "duration": 15,
    "start_time": "2024-02-06T10:04:20.455Z"
   },
   {
    "duration": 33,
    "start_time": "2024-02-06T10:04:20.471Z"
   },
   {
    "duration": 45,
    "start_time": "2024-02-06T10:04:20.506Z"
   },
   {
    "duration": 1178,
    "start_time": "2024-02-06T10:04:20.552Z"
   },
   {
    "duration": 13,
    "start_time": "2024-02-06T10:04:21.732Z"
   },
   {
    "duration": 36,
    "start_time": "2024-02-06T10:04:21.747Z"
   },
   {
    "duration": 14,
    "start_time": "2024-02-06T10:04:21.785Z"
   },
   {
    "duration": 1313,
    "start_time": "2024-02-06T10:39:47.136Z"
   },
   {
    "duration": 340,
    "start_time": "2024-02-06T10:39:48.451Z"
   },
   {
    "duration": 19,
    "start_time": "2024-02-06T10:39:48.792Z"
   },
   {
    "duration": 14,
    "start_time": "2024-02-06T10:39:48.812Z"
   },
   {
    "duration": 11,
    "start_time": "2024-02-06T10:39:48.828Z"
   },
   {
    "duration": 37,
    "start_time": "2024-02-06T10:39:48.841Z"
   },
   {
    "duration": 29,
    "start_time": "2024-02-06T10:39:48.879Z"
   },
   {
    "duration": 20,
    "start_time": "2024-02-06T10:39:48.909Z"
   },
   {
    "duration": 42,
    "start_time": "2024-02-06T10:39:48.930Z"
   },
   {
    "duration": 14,
    "start_time": "2024-02-06T10:39:48.973Z"
   },
   {
    "duration": 44,
    "start_time": "2024-02-06T10:39:48.989Z"
   },
   {
    "duration": 13,
    "start_time": "2024-02-06T10:39:49.034Z"
   },
   {
    "duration": 28,
    "start_time": "2024-02-06T10:39:49.049Z"
   },
   {
    "duration": 16,
    "start_time": "2024-02-06T10:39:49.081Z"
   },
   {
    "duration": 9,
    "start_time": "2024-02-06T10:39:49.099Z"
   },
   {
    "duration": 6,
    "start_time": "2024-02-06T10:39:49.110Z"
   },
   {
    "duration": 21,
    "start_time": "2024-02-06T10:39:49.117Z"
   },
   {
    "duration": 19,
    "start_time": "2024-02-06T10:39:49.140Z"
   },
   {
    "duration": 13,
    "start_time": "2024-02-06T10:39:49.161Z"
   },
   {
    "duration": 35,
    "start_time": "2024-02-06T10:39:49.175Z"
   },
   {
    "duration": 4,
    "start_time": "2024-02-06T10:39:49.211Z"
   },
   {
    "duration": 27,
    "start_time": "2024-02-06T10:39:49.216Z"
   },
   {
    "duration": 32,
    "start_time": "2024-02-06T10:39:49.244Z"
   },
   {
    "duration": 27,
    "start_time": "2024-02-06T10:39:49.278Z"
   },
   {
    "duration": 99,
    "start_time": "2024-02-06T10:39:49.307Z"
   },
   {
    "duration": 6,
    "start_time": "2024-02-06T10:39:49.408Z"
   },
   {
    "duration": 28,
    "start_time": "2024-02-06T10:39:49.415Z"
   },
   {
    "duration": 27,
    "start_time": "2024-02-06T10:39:49.444Z"
   },
   {
    "duration": 45,
    "start_time": "2024-02-06T10:39:49.472Z"
   },
   {
    "duration": 50,
    "start_time": "2024-02-06T10:39:49.519Z"
   },
   {
    "duration": 20,
    "start_time": "2024-02-06T10:39:49.571Z"
   },
   {
    "duration": 34,
    "start_time": "2024-02-06T10:39:49.592Z"
   },
   {
    "duration": 10,
    "start_time": "2024-02-06T10:39:49.628Z"
   },
   {
    "duration": 6,
    "start_time": "2024-02-06T10:39:49.639Z"
   },
   {
    "duration": 24,
    "start_time": "2024-02-06T10:39:49.646Z"
   },
   {
    "duration": 254,
    "start_time": "2024-02-06T10:39:49.672Z"
   },
   {
    "duration": 9,
    "start_time": "2024-02-06T10:39:49.928Z"
   },
   {
    "duration": 37,
    "start_time": "2024-02-06T10:39:49.939Z"
   },
   {
    "duration": 6,
    "start_time": "2024-02-06T10:39:49.978Z"
   },
   {
    "duration": 157,
    "start_time": "2024-02-06T10:39:49.993Z"
   },
   {
    "duration": 10,
    "start_time": "2024-02-06T10:39:50.154Z"
   },
   {
    "duration": 183,
    "start_time": "2024-02-06T10:39:50.165Z"
   },
   {
    "duration": 20,
    "start_time": "2024-02-06T10:39:50.350Z"
   },
   {
    "duration": 579,
    "start_time": "2024-02-06T10:39:50.372Z"
   },
   {
    "duration": 30,
    "start_time": "2024-02-06T10:39:50.952Z"
   },
   {
    "duration": 35,
    "start_time": "2024-02-06T10:39:50.984Z"
   },
   {
    "duration": 24,
    "start_time": "2024-02-06T10:39:51.021Z"
   },
   {
    "duration": 65,
    "start_time": "2024-02-06T10:39:51.047Z"
   },
   {
    "duration": 8,
    "start_time": "2024-02-06T10:39:51.114Z"
   },
   {
    "duration": 209,
    "start_time": "2024-02-06T10:39:51.124Z"
   },
   {
    "duration": 60,
    "start_time": "2024-02-06T10:39:51.334Z"
   },
   {
    "duration": 317,
    "start_time": "2024-02-06T10:39:51.396Z"
   },
   {
    "duration": 161,
    "start_time": "2024-02-06T10:39:51.714Z"
   },
   {
    "duration": 168,
    "start_time": "2024-02-06T10:39:51.876Z"
   },
   {
    "duration": 154,
    "start_time": "2024-02-06T10:39:52.046Z"
   },
   {
    "duration": 3,
    "start_time": "2024-02-06T10:39:52.202Z"
   },
   {
    "duration": 26,
    "start_time": "2024-02-06T10:39:52.207Z"
   },
   {
    "duration": 160,
    "start_time": "2024-02-06T10:39:52.235Z"
   },
   {
    "duration": 162,
    "start_time": "2024-02-06T10:39:52.397Z"
   },
   {
    "duration": 172,
    "start_time": "2024-02-06T10:39:52.560Z"
   },
   {
    "duration": 11,
    "start_time": "2024-02-06T10:39:52.733Z"
   },
   {
    "duration": 23,
    "start_time": "2024-02-06T10:39:52.746Z"
   },
   {
    "duration": 39,
    "start_time": "2024-02-06T10:39:52.771Z"
   },
   {
    "duration": 1199,
    "start_time": "2024-02-06T10:39:52.811Z"
   },
   {
    "duration": 12,
    "start_time": "2024-02-06T10:39:54.012Z"
   },
   {
    "duration": 34,
    "start_time": "2024-02-06T10:39:54.026Z"
   },
   {
    "duration": 15,
    "start_time": "2024-02-06T10:39:54.062Z"
   },
   {
    "duration": 7,
    "start_time": "2024-02-06T11:18:51.095Z"
   },
   {
    "duration": 4,
    "start_time": "2024-02-06T11:45:29.874Z"
   },
   {
    "duration": 1145,
    "start_time": "2024-02-06T11:45:54.110Z"
   },
   {
    "duration": 122,
    "start_time": "2024-02-06T11:45:55.256Z"
   },
   {
    "duration": 17,
    "start_time": "2024-02-06T11:45:55.380Z"
   },
   {
    "duration": 27,
    "start_time": "2024-02-06T11:45:55.399Z"
   },
   {
    "duration": 17,
    "start_time": "2024-02-06T11:45:55.428Z"
   },
   {
    "duration": 33,
    "start_time": "2024-02-06T11:45:55.447Z"
   },
   {
    "duration": 23,
    "start_time": "2024-02-06T11:45:55.482Z"
   },
   {
    "duration": 21,
    "start_time": "2024-02-06T11:45:55.506Z"
   },
   {
    "duration": 16,
    "start_time": "2024-02-06T11:45:55.529Z"
   },
   {
    "duration": 7,
    "start_time": "2024-02-06T11:45:55.547Z"
   },
   {
    "duration": 24,
    "start_time": "2024-02-06T11:45:55.555Z"
   },
   {
    "duration": 9,
    "start_time": "2024-02-06T11:45:55.580Z"
   },
   {
    "duration": 22,
    "start_time": "2024-02-06T11:45:55.591Z"
   },
   {
    "duration": 14,
    "start_time": "2024-02-06T11:45:55.615Z"
   },
   {
    "duration": 7,
    "start_time": "2024-02-06T11:45:55.630Z"
   },
   {
    "duration": 5,
    "start_time": "2024-02-06T11:45:55.638Z"
   },
   {
    "duration": 15,
    "start_time": "2024-02-06T11:45:55.644Z"
   },
   {
    "duration": 18,
    "start_time": "2024-02-06T11:45:55.660Z"
   },
   {
    "duration": 14,
    "start_time": "2024-02-06T11:45:55.680Z"
   },
   {
    "duration": 9,
    "start_time": "2024-02-06T11:45:55.695Z"
   },
   {
    "duration": 20,
    "start_time": "2024-02-06T11:45:55.706Z"
   },
   {
    "duration": 4,
    "start_time": "2024-02-06T11:45:55.727Z"
   },
   {
    "duration": 21,
    "start_time": "2024-02-06T11:45:55.732Z"
   },
   {
    "duration": 50,
    "start_time": "2024-02-06T11:45:55.755Z"
   },
   {
    "duration": 21,
    "start_time": "2024-02-06T11:45:55.806Z"
   },
   {
    "duration": 45,
    "start_time": "2024-02-06T11:45:55.828Z"
   },
   {
    "duration": 6,
    "start_time": "2024-02-06T11:45:55.874Z"
   },
   {
    "duration": 13,
    "start_time": "2024-02-06T11:45:55.881Z"
   },
   {
    "duration": 5,
    "start_time": "2024-02-06T11:45:55.896Z"
   },
   {
    "duration": 7,
    "start_time": "2024-02-06T11:45:55.903Z"
   },
   {
    "duration": 21,
    "start_time": "2024-02-06T11:45:55.911Z"
   },
   {
    "duration": 41,
    "start_time": "2024-02-06T11:45:55.934Z"
   },
   {
    "duration": 34,
    "start_time": "2024-02-06T11:45:55.977Z"
   },
   {
    "duration": 79,
    "start_time": "2024-02-06T11:45:56.012Z"
   },
   {
    "duration": 9,
    "start_time": "2024-02-06T11:45:56.093Z"
   },
   {
    "duration": 13,
    "start_time": "2024-02-06T11:45:56.104Z"
   },
   {
    "duration": 34,
    "start_time": "2024-02-06T11:45:56.118Z"
   },
   {
    "duration": 254,
    "start_time": "2024-02-06T11:45:56.154Z"
   },
   {
    "duration": 10,
    "start_time": "2024-02-06T11:45:56.409Z"
   },
   {
    "duration": 44,
    "start_time": "2024-02-06T11:45:56.420Z"
   },
   {
    "duration": 18,
    "start_time": "2024-02-06T11:45:56.468Z"
   },
   {
    "duration": 154,
    "start_time": "2024-02-06T11:45:56.487Z"
   },
   {
    "duration": 10,
    "start_time": "2024-02-06T11:45:56.642Z"
   },
   {
    "duration": 188,
    "start_time": "2024-02-06T11:45:56.654Z"
   },
   {
    "duration": 18,
    "start_time": "2024-02-06T11:45:56.843Z"
   },
   {
    "duration": 551,
    "start_time": "2024-02-06T11:45:56.862Z"
   },
   {
    "duration": 35,
    "start_time": "2024-02-06T11:45:57.415Z"
   },
   {
    "duration": 44,
    "start_time": "2024-02-06T11:45:57.451Z"
   },
   {
    "duration": 29,
    "start_time": "2024-02-06T11:45:57.496Z"
   },
   {
    "duration": 58,
    "start_time": "2024-02-06T11:45:57.526Z"
   },
   {
    "duration": 8,
    "start_time": "2024-02-06T11:45:57.585Z"
   },
   {
    "duration": 181,
    "start_time": "2024-02-06T11:45:57.594Z"
   },
   {
    "duration": 6,
    "start_time": "2024-02-06T11:45:57.776Z"
   },
   {
    "duration": 204,
    "start_time": "2024-02-06T11:45:57.783Z"
   },
   {
    "duration": 149,
    "start_time": "2024-02-06T11:45:57.989Z"
   },
   {
    "duration": 153,
    "start_time": "2024-02-06T11:45:58.139Z"
   },
   {
    "duration": 147,
    "start_time": "2024-02-06T11:45:58.294Z"
   },
   {
    "duration": 4,
    "start_time": "2024-02-06T11:45:58.442Z"
   },
   {
    "duration": 28,
    "start_time": "2024-02-06T11:45:58.448Z"
   },
   {
    "duration": 136,
    "start_time": "2024-02-06T11:45:58.494Z"
   },
   {
    "duration": 150,
    "start_time": "2024-02-06T11:45:58.632Z"
   },
   {
    "duration": 149,
    "start_time": "2024-02-06T11:45:58.783Z"
   },
   {
    "duration": 12,
    "start_time": "2024-02-06T11:45:58.933Z"
   },
   {
    "duration": 16,
    "start_time": "2024-02-06T11:45:58.946Z"
   },
   {
    "duration": 43,
    "start_time": "2024-02-06T11:45:58.963Z"
   },
   {
    "duration": 1170,
    "start_time": "2024-02-06T11:45:59.008Z"
   },
   {
    "duration": 14,
    "start_time": "2024-02-06T11:46:00.179Z"
   },
   {
    "duration": 74,
    "start_time": "2024-02-06T11:46:00.194Z"
   },
   {
    "duration": 96,
    "start_time": "2024-02-06T11:46:00.269Z"
   },
   {
    "duration": 35,
    "start_time": "2024-02-06T11:47:15.172Z"
   },
   {
    "duration": 7,
    "start_time": "2024-02-06T11:47:28.332Z"
   },
   {
    "duration": 5,
    "start_time": "2024-02-06T11:56:41.671Z"
   },
   {
    "duration": 81,
    "start_time": "2024-02-06T18:51:34.941Z"
   },
   {
    "duration": 60,
    "start_time": "2024-02-06T18:57:00.991Z"
   },
   {
    "duration": 1449,
    "start_time": "2024-02-06T18:57:11.087Z"
   },
   {
    "duration": 339,
    "start_time": "2024-02-06T18:57:12.538Z"
   },
   {
    "duration": 20,
    "start_time": "2024-02-06T18:57:12.878Z"
   },
   {
    "duration": 16,
    "start_time": "2024-02-06T18:57:12.900Z"
   },
   {
    "duration": 7,
    "start_time": "2024-02-06T18:57:12.919Z"
   },
   {
    "duration": 10,
    "start_time": "2024-02-06T18:57:12.927Z"
   },
   {
    "duration": 48,
    "start_time": "2024-02-06T18:57:12.938Z"
   },
   {
    "duration": 5,
    "start_time": "2024-02-06T18:57:12.988Z"
   },
   {
    "duration": 16,
    "start_time": "2024-02-06T18:57:12.994Z"
   },
   {
    "duration": 7,
    "start_time": "2024-02-06T18:57:13.011Z"
   },
   {
    "duration": 24,
    "start_time": "2024-02-06T18:57:13.019Z"
   },
   {
    "duration": 38,
    "start_time": "2024-02-06T18:57:13.045Z"
   },
   {
    "duration": 32,
    "start_time": "2024-02-06T18:57:13.085Z"
   },
   {
    "duration": 16,
    "start_time": "2024-02-06T18:57:13.119Z"
   },
   {
    "duration": 6,
    "start_time": "2024-02-06T18:57:13.137Z"
   },
   {
    "duration": 29,
    "start_time": "2024-02-06T18:57:13.145Z"
   },
   {
    "duration": 27,
    "start_time": "2024-02-06T18:57:13.175Z"
   },
   {
    "duration": 10,
    "start_time": "2024-02-06T18:57:13.204Z"
   },
   {
    "duration": 16,
    "start_time": "2024-02-06T18:57:29.494Z"
   },
   {
    "duration": 3,
    "start_time": "2024-02-06T19:15:15.395Z"
   },
   {
    "duration": 145,
    "start_time": "2024-02-06T19:15:15.400Z"
   },
   {
    "duration": 14,
    "start_time": "2024-02-06T19:15:15.547Z"
   },
   {
    "duration": 15,
    "start_time": "2024-02-06T19:15:15.562Z"
   },
   {
    "duration": 6,
    "start_time": "2024-02-06T19:15:15.579Z"
   },
   {
    "duration": 9,
    "start_time": "2024-02-06T19:15:15.587Z"
   },
   {
    "duration": 15,
    "start_time": "2024-02-06T19:15:15.597Z"
   },
   {
    "duration": 4,
    "start_time": "2024-02-06T19:15:15.614Z"
   },
   {
    "duration": 15,
    "start_time": "2024-02-06T19:15:15.620Z"
   },
   {
    "duration": 7,
    "start_time": "2024-02-06T19:15:15.637Z"
   },
   {
    "duration": 40,
    "start_time": "2024-02-06T19:15:15.646Z"
   },
   {
    "duration": 8,
    "start_time": "2024-02-06T19:15:15.688Z"
   },
   {
    "duration": 24,
    "start_time": "2024-02-06T19:15:15.698Z"
   },
   {
    "duration": 14,
    "start_time": "2024-02-06T19:15:15.723Z"
   },
   {
    "duration": 9,
    "start_time": "2024-02-06T19:15:15.738Z"
   },
   {
    "duration": 2,
    "start_time": "2024-02-06T19:15:15.773Z"
   },
   {
    "duration": 14,
    "start_time": "2024-02-06T19:15:15.777Z"
   },
   {
    "duration": 9,
    "start_time": "2024-02-06T19:15:15.792Z"
   },
   {
    "duration": 15,
    "start_time": "2024-02-06T19:15:15.802Z"
   },
   {
    "duration": 5,
    "start_time": "2024-02-06T19:15:15.818Z"
   },
   {
    "duration": 11,
    "start_time": "2024-02-06T19:15:15.824Z"
   },
   {
    "duration": 53,
    "start_time": "2024-02-06T19:15:15.836Z"
   },
   {
    "duration": 4,
    "start_time": "2024-02-06T19:15:15.890Z"
   },
   {
    "duration": 21,
    "start_time": "2024-02-06T19:15:15.896Z"
   },
   {
    "duration": 55,
    "start_time": "2024-02-06T19:15:15.919Z"
   },
   {
    "duration": 25,
    "start_time": "2024-02-06T19:15:15.976Z"
   },
   {
    "duration": 33,
    "start_time": "2024-02-06T19:15:16.003Z"
   },
   {
    "duration": 5,
    "start_time": "2024-02-06T19:15:16.038Z"
   },
   {
    "duration": 29,
    "start_time": "2024-02-06T19:15:16.046Z"
   },
   {
    "duration": 6,
    "start_time": "2024-02-06T19:15:16.076Z"
   },
   {
    "duration": 18,
    "start_time": "2024-02-06T19:15:16.084Z"
   },
   {
    "duration": 23,
    "start_time": "2024-02-06T19:15:16.104Z"
   },
   {
    "duration": 56,
    "start_time": "2024-02-06T19:15:16.129Z"
   },
   {
    "duration": 23,
    "start_time": "2024-02-06T19:15:16.187Z"
   },
   {
    "duration": 33,
    "start_time": "2024-02-06T19:15:16.211Z"
   },
   {
    "duration": 30,
    "start_time": "2024-02-06T19:15:16.246Z"
   },
   {
    "duration": 15,
    "start_time": "2024-02-06T19:16:19.865Z"
   },
   {
    "duration": 239,
    "start_time": "2024-02-06T19:16:21.245Z"
   },
   {
    "duration": 229,
    "start_time": "2024-02-06T19:18:18.084Z"
   },
   {
    "duration": 235,
    "start_time": "2024-02-06T19:19:28.088Z"
   },
   {
    "duration": 233,
    "start_time": "2024-02-06T19:20:50.779Z"
   },
   {
    "duration": 236,
    "start_time": "2024-02-06T19:21:16.320Z"
   },
   {
    "duration": 80,
    "start_time": "2024-02-06T19:24:19.050Z"
   },
   {
    "duration": 76,
    "start_time": "2024-02-06T19:24:27.611Z"
   },
   {
    "duration": 122,
    "start_time": "2024-02-06T19:24:35.309Z"
   },
   {
    "duration": 13,
    "start_time": "2024-02-06T19:24:44.057Z"
   },
   {
    "duration": 9,
    "start_time": "2024-02-06T19:25:22.565Z"
   },
   {
    "duration": 9,
    "start_time": "2024-02-06T19:25:46.240Z"
   },
   {
    "duration": 3,
    "start_time": "2024-02-06T19:25:51.546Z"
   },
   {
    "duration": 143,
    "start_time": "2024-02-06T19:25:51.550Z"
   },
   {
    "duration": 15,
    "start_time": "2024-02-06T19:25:51.695Z"
   },
   {
    "duration": 21,
    "start_time": "2024-02-06T19:25:51.711Z"
   },
   {
    "duration": 7,
    "start_time": "2024-02-06T19:25:51.734Z"
   },
   {
    "duration": 11,
    "start_time": "2024-02-06T19:25:51.743Z"
   },
   {
    "duration": 97,
    "start_time": "2024-02-06T19:25:51.756Z"
   },
   {
    "duration": 25,
    "start_time": "2024-02-06T19:25:51.854Z"
   },
   {
    "duration": 16,
    "start_time": "2024-02-06T19:25:51.881Z"
   },
   {
    "duration": 5,
    "start_time": "2024-02-06T19:25:51.899Z"
   },
   {
    "duration": 16,
    "start_time": "2024-02-06T19:25:51.907Z"
   },
   {
    "duration": 9,
    "start_time": "2024-02-06T19:25:51.925Z"
   },
   {
    "duration": 55,
    "start_time": "2024-02-06T19:25:51.936Z"
   },
   {
    "duration": 16,
    "start_time": "2024-02-06T19:25:51.993Z"
   },
   {
    "duration": 7,
    "start_time": "2024-02-06T19:25:52.011Z"
   },
   {
    "duration": 3,
    "start_time": "2024-02-06T19:25:52.020Z"
   },
   {
    "duration": 16,
    "start_time": "2024-02-06T19:25:52.024Z"
   },
   {
    "duration": 34,
    "start_time": "2024-02-06T19:25:52.042Z"
   },
   {
    "duration": 16,
    "start_time": "2024-02-06T19:25:52.078Z"
   },
   {
    "duration": 6,
    "start_time": "2024-02-06T19:25:52.095Z"
   },
   {
    "duration": 14,
    "start_time": "2024-02-06T19:25:52.102Z"
   },
   {
    "duration": 19,
    "start_time": "2024-02-06T19:25:52.118Z"
   },
   {
    "duration": 4,
    "start_time": "2024-02-06T19:25:52.174Z"
   },
   {
    "duration": 20,
    "start_time": "2024-02-06T19:25:52.180Z"
   },
   {
    "duration": 28,
    "start_time": "2024-02-06T19:25:52.202Z"
   },
   {
    "duration": 47,
    "start_time": "2024-02-06T19:25:52.232Z"
   },
   {
    "duration": 29,
    "start_time": "2024-02-06T19:25:52.281Z"
   },
   {
    "duration": 6,
    "start_time": "2024-02-06T19:25:52.312Z"
   },
   {
    "duration": 7,
    "start_time": "2024-02-06T19:25:52.321Z"
   },
   {
    "duration": 5,
    "start_time": "2024-02-06T19:25:52.330Z"
   },
   {
    "duration": 36,
    "start_time": "2024-02-06T19:25:52.337Z"
   },
   {
    "duration": 19,
    "start_time": "2024-02-06T19:25:52.375Z"
   },
   {
    "duration": 43,
    "start_time": "2024-02-06T19:25:52.397Z"
   },
   {
    "duration": 45,
    "start_time": "2024-02-06T19:25:52.442Z"
   },
   {
    "duration": 34,
    "start_time": "2024-02-06T19:25:52.489Z"
   },
   {
    "duration": 9,
    "start_time": "2024-02-06T19:25:52.525Z"
   },
   {
    "duration": 36,
    "start_time": "2024-02-06T19:25:52.536Z"
   },
   {
    "duration": 244,
    "start_time": "2024-02-06T19:25:52.574Z"
   },
   {
    "duration": 10,
    "start_time": "2024-02-06T19:25:52.820Z"
   },
   {
    "duration": 21,
    "start_time": "2024-02-06T19:25:52.832Z"
   },
   {
    "duration": 6,
    "start_time": "2024-02-06T19:25:52.873Z"
   },
   {
    "duration": 169,
    "start_time": "2024-02-06T19:25:52.881Z"
   },
   {
    "duration": 23,
    "start_time": "2024-02-06T19:25:53.052Z"
   },
   {
    "duration": 179,
    "start_time": "2024-02-06T19:25:53.076Z"
   },
   {
    "duration": 28,
    "start_time": "2024-02-06T19:25:53.257Z"
   },
   {
    "duration": 566,
    "start_time": "2024-02-06T19:25:53.287Z"
   },
   {
    "duration": 122,
    "start_time": "2024-02-06T19:25:56.284Z"
   },
   {
    "duration": 127,
    "start_time": "2024-02-06T19:26:27.532Z"
   },
   {
    "duration": 116,
    "start_time": "2024-02-06T19:26:41.518Z"
   },
   {
    "duration": 8,
    "start_time": "2024-02-06T19:33:11.051Z"
   },
   {
    "duration": 3,
    "start_time": "2024-02-06T19:33:14.027Z"
   },
   {
    "duration": 143,
    "start_time": "2024-02-06T19:33:14.033Z"
   },
   {
    "duration": 15,
    "start_time": "2024-02-06T19:33:14.178Z"
   },
   {
    "duration": 18,
    "start_time": "2024-02-06T19:33:14.194Z"
   },
   {
    "duration": 32,
    "start_time": "2024-02-06T19:33:14.214Z"
   },
   {
    "duration": 14,
    "start_time": "2024-02-06T19:33:14.248Z"
   },
   {
    "duration": 88,
    "start_time": "2024-02-06T19:33:14.263Z"
   },
   {
    "duration": 5,
    "start_time": "2024-02-06T19:33:14.353Z"
   },
   {
    "duration": 14,
    "start_time": "2024-02-06T19:33:14.373Z"
   },
   {
    "duration": 7,
    "start_time": "2024-02-06T19:33:14.388Z"
   },
   {
    "duration": 16,
    "start_time": "2024-02-06T19:33:14.398Z"
   },
   {
    "duration": 9,
    "start_time": "2024-02-06T19:33:14.416Z"
   },
   {
    "duration": 49,
    "start_time": "2024-02-06T19:33:14.426Z"
   },
   {
    "duration": 16,
    "start_time": "2024-02-06T19:33:14.477Z"
   },
   {
    "duration": 7,
    "start_time": "2024-02-06T19:33:14.494Z"
   },
   {
    "duration": 8,
    "start_time": "2024-02-06T19:33:14.502Z"
   },
   {
    "duration": 14,
    "start_time": "2024-02-06T19:33:14.511Z"
   },
   {
    "duration": 9,
    "start_time": "2024-02-06T19:33:14.526Z"
   },
   {
    "duration": 48,
    "start_time": "2024-02-06T19:33:14.536Z"
   },
   {
    "duration": 5,
    "start_time": "2024-02-06T19:33:14.586Z"
   },
   {
    "duration": 13,
    "start_time": "2024-02-06T19:33:14.593Z"
   },
   {
    "duration": 22,
    "start_time": "2024-02-06T19:33:14.608Z"
   },
   {
    "duration": 5,
    "start_time": "2024-02-06T19:33:14.633Z"
   },
   {
    "duration": 48,
    "start_time": "2024-02-06T19:33:14.640Z"
   },
   {
    "duration": 26,
    "start_time": "2024-02-06T19:33:14.690Z"
   },
   {
    "duration": 24,
    "start_time": "2024-02-06T19:33:14.718Z"
   },
   {
    "duration": 54,
    "start_time": "2024-02-06T19:33:14.743Z"
   },
   {
    "duration": 14,
    "start_time": "2024-02-06T19:33:14.799Z"
   },
   {
    "duration": 9,
    "start_time": "2024-02-06T19:33:14.818Z"
   },
   {
    "duration": 6,
    "start_time": "2024-02-06T19:33:14.829Z"
   },
   {
    "duration": 4,
    "start_time": "2024-02-06T19:33:14.836Z"
   },
   {
    "duration": 49,
    "start_time": "2024-02-06T19:33:14.841Z"
   },
   {
    "duration": 43,
    "start_time": "2024-02-06T19:33:14.891Z"
   },
   {
    "duration": 45,
    "start_time": "2024-02-06T19:33:14.935Z"
   },
   {
    "duration": 33,
    "start_time": "2024-02-06T19:33:14.981Z"
   },
   {
    "duration": 9,
    "start_time": "2024-02-06T19:33:15.016Z"
   },
   {
    "duration": 34,
    "start_time": "2024-02-06T19:33:15.027Z"
   },
   {
    "duration": 233,
    "start_time": "2024-02-06T19:33:15.063Z"
   },
   {
    "duration": 9,
    "start_time": "2024-02-06T19:33:15.298Z"
   },
   {
    "duration": 36,
    "start_time": "2024-02-06T19:33:15.309Z"
   },
   {
    "duration": 7,
    "start_time": "2024-02-06T19:33:15.346Z"
   },
   {
    "duration": 165,
    "start_time": "2024-02-06T19:33:15.354Z"
   },
   {
    "duration": 10,
    "start_time": "2024-02-06T19:33:15.521Z"
   },
   {
    "duration": 179,
    "start_time": "2024-02-06T19:33:15.533Z"
   },
   {
    "duration": 21,
    "start_time": "2024-02-06T19:33:15.714Z"
   },
   {
    "duration": 584,
    "start_time": "2024-02-06T19:33:15.737Z"
   },
   {
    "duration": 33,
    "start_time": "2024-02-06T19:33:16.322Z"
   },
   {
    "duration": 44,
    "start_time": "2024-02-06T19:33:16.356Z"
   },
   {
    "duration": 24,
    "start_time": "2024-02-06T19:33:16.402Z"
   },
   {
    "duration": 36,
    "start_time": "2024-02-06T19:33:18.953Z"
   },
   {
    "duration": 3,
    "start_time": "2024-02-06T19:34:39.547Z"
   },
   {
    "duration": 135,
    "start_time": "2024-02-06T19:34:39.551Z"
   },
   {
    "duration": 17,
    "start_time": "2024-02-06T19:34:39.688Z"
   },
   {
    "duration": 16,
    "start_time": "2024-02-06T19:34:39.707Z"
   },
   {
    "duration": 7,
    "start_time": "2024-02-06T19:34:39.726Z"
   },
   {
    "duration": 38,
    "start_time": "2024-02-06T19:34:39.735Z"
   },
   {
    "duration": 16,
    "start_time": "2024-02-06T19:34:39.775Z"
   },
   {
    "duration": 6,
    "start_time": "2024-02-06T19:34:39.793Z"
   },
   {
    "duration": 16,
    "start_time": "2024-02-06T19:34:39.801Z"
   },
   {
    "duration": 8,
    "start_time": "2024-02-06T19:34:39.819Z"
   },
   {
    "duration": 56,
    "start_time": "2024-02-06T19:34:39.830Z"
   },
   {
    "duration": 9,
    "start_time": "2024-02-06T19:34:39.888Z"
   },
   {
    "duration": 24,
    "start_time": "2024-02-06T19:34:39.899Z"
   },
   {
    "duration": 52,
    "start_time": "2024-02-06T19:34:39.925Z"
   },
   {
    "duration": 7,
    "start_time": "2024-02-06T19:34:39.978Z"
   },
   {
    "duration": 2,
    "start_time": "2024-02-06T19:34:39.987Z"
   },
   {
    "duration": 14,
    "start_time": "2024-02-06T19:34:39.991Z"
   },
   {
    "duration": 14,
    "start_time": "2024-02-06T19:34:40.007Z"
   },
   {
    "duration": 15,
    "start_time": "2024-02-06T19:34:40.023Z"
   },
   {
    "duration": 5,
    "start_time": "2024-02-06T19:34:40.039Z"
   },
   {
    "duration": 32,
    "start_time": "2024-02-06T19:34:40.046Z"
   },
   {
    "duration": 29,
    "start_time": "2024-02-06T19:34:40.079Z"
   },
   {
    "duration": 4,
    "start_time": "2024-02-06T19:34:40.110Z"
   },
   {
    "duration": 29,
    "start_time": "2024-02-06T19:34:40.116Z"
   },
   {
    "duration": 47,
    "start_time": "2024-02-06T19:34:40.147Z"
   },
   {
    "duration": 22,
    "start_time": "2024-02-06T19:34:40.196Z"
   },
   {
    "duration": 40,
    "start_time": "2024-02-06T19:34:40.219Z"
   },
   {
    "duration": 16,
    "start_time": "2024-02-06T19:34:40.260Z"
   },
   {
    "duration": 24,
    "start_time": "2024-02-06T19:34:40.280Z"
   },
   {
    "duration": 10,
    "start_time": "2024-02-06T19:34:40.306Z"
   },
   {
    "duration": 12,
    "start_time": "2024-02-06T19:34:40.317Z"
   },
   {
    "duration": 30,
    "start_time": "2024-02-06T19:34:40.330Z"
   },
   {
    "duration": 44,
    "start_time": "2024-02-06T19:34:40.362Z"
   },
   {
    "duration": 32,
    "start_time": "2024-02-06T19:34:40.408Z"
   },
   {
    "duration": 37,
    "start_time": "2024-02-06T19:34:40.442Z"
   },
   {
    "duration": 10,
    "start_time": "2024-02-06T19:34:40.480Z"
   },
   {
    "duration": 16,
    "start_time": "2024-02-06T19:34:40.492Z"
   },
   {
    "duration": 323,
    "start_time": "2024-02-06T19:34:40.510Z"
   },
   {
    "duration": 9,
    "start_time": "2024-02-06T19:34:40.835Z"
   },
   {
    "duration": 37,
    "start_time": "2024-02-06T19:34:40.846Z"
   },
   {
    "duration": 6,
    "start_time": "2024-02-06T19:34:40.884Z"
   },
   {
    "duration": 185,
    "start_time": "2024-02-06T19:34:40.891Z"
   },
   {
    "duration": 11,
    "start_time": "2024-02-06T19:34:41.077Z"
   },
   {
    "duration": 174,
    "start_time": "2024-02-06T19:34:41.089Z"
   },
   {
    "duration": 24,
    "start_time": "2024-02-06T19:34:41.265Z"
   },
   {
    "duration": 554,
    "start_time": "2024-02-06T19:34:41.290Z"
   },
   {
    "duration": 40,
    "start_time": "2024-02-06T19:34:41.846Z"
   },
   {
    "duration": 32,
    "start_time": "2024-02-06T19:34:41.888Z"
   },
   {
    "duration": 23,
    "start_time": "2024-02-06T19:34:41.921Z"
   },
   {
    "duration": 57,
    "start_time": "2024-02-06T19:34:41.945Z"
   },
   {
    "duration": 8,
    "start_time": "2024-02-06T19:34:42.004Z"
   },
   {
    "duration": 8,
    "start_time": "2024-02-06T19:35:43.817Z"
   },
   {
    "duration": 69,
    "start_time": "2024-02-06T19:36:05.021Z"
   },
   {
    "duration": 8,
    "start_time": "2024-02-06T19:36:15.659Z"
   },
   {
    "duration": 141,
    "start_time": "2024-02-06T19:36:16.589Z"
   },
   {
    "duration": 162,
    "start_time": "2024-02-06T19:36:20.870Z"
   },
   {
    "duration": 167,
    "start_time": "2024-02-06T19:36:23.720Z"
   },
   {
    "duration": 3,
    "start_time": "2024-02-06T19:37:14.636Z"
   },
   {
    "duration": 131,
    "start_time": "2024-02-06T19:37:15.412Z"
   },
   {
    "duration": 3,
    "start_time": "2024-02-06T19:37:55.193Z"
   },
   {
    "duration": 135,
    "start_time": "2024-02-06T19:37:55.198Z"
   },
   {
    "duration": 14,
    "start_time": "2024-02-06T19:37:55.335Z"
   },
   {
    "duration": 17,
    "start_time": "2024-02-06T19:37:55.351Z"
   },
   {
    "duration": 7,
    "start_time": "2024-02-06T19:37:55.369Z"
   },
   {
    "duration": 10,
    "start_time": "2024-02-06T19:37:55.378Z"
   },
   {
    "duration": 15,
    "start_time": "2024-02-06T19:37:55.390Z"
   },
   {
    "duration": 11,
    "start_time": "2024-02-06T19:37:55.407Z"
   },
   {
    "duration": 20,
    "start_time": "2024-02-06T19:37:55.420Z"
   },
   {
    "duration": 11,
    "start_time": "2024-02-06T19:37:55.441Z"
   },
   {
    "duration": 34,
    "start_time": "2024-02-06T19:37:55.453Z"
   },
   {
    "duration": 8,
    "start_time": "2024-02-06T19:37:55.489Z"
   },
   {
    "duration": 23,
    "start_time": "2024-02-06T19:37:55.499Z"
   },
   {
    "duration": 14,
    "start_time": "2024-02-06T19:37:55.524Z"
   },
   {
    "duration": 40,
    "start_time": "2024-02-06T19:37:55.539Z"
   },
   {
    "duration": 13,
    "start_time": "2024-02-06T19:37:55.580Z"
   },
   {
    "duration": 13,
    "start_time": "2024-02-06T19:37:55.595Z"
   },
   {
    "duration": 8,
    "start_time": "2024-02-06T19:37:55.610Z"
   },
   {
    "duration": 14,
    "start_time": "2024-02-06T19:37:55.619Z"
   },
   {
    "duration": 9,
    "start_time": "2024-02-06T19:37:55.635Z"
   },
   {
    "duration": 28,
    "start_time": "2024-02-06T19:37:55.646Z"
   },
   {
    "duration": 20,
    "start_time": "2024-02-06T19:37:55.675Z"
   },
   {
    "duration": 4,
    "start_time": "2024-02-06T19:37:55.697Z"
   },
   {
    "duration": 19,
    "start_time": "2024-02-06T19:37:55.705Z"
   },
   {
    "duration": 59,
    "start_time": "2024-02-06T19:37:55.725Z"
   },
   {
    "duration": 23,
    "start_time": "2024-02-06T19:37:55.786Z"
   },
   {
    "duration": 31,
    "start_time": "2024-02-06T19:37:55.810Z"
   },
   {
    "duration": 6,
    "start_time": "2024-02-06T19:37:55.843Z"
   },
   {
    "duration": 29,
    "start_time": "2024-02-06T19:37:55.850Z"
   },
   {
    "duration": 5,
    "start_time": "2024-02-06T19:37:55.881Z"
   },
   {
    "duration": 5,
    "start_time": "2024-02-06T19:37:55.888Z"
   },
   {
    "duration": 21,
    "start_time": "2024-02-06T19:37:55.894Z"
   },
   {
    "duration": 75,
    "start_time": "2024-02-06T19:37:55.917Z"
   },
   {
    "duration": 24,
    "start_time": "2024-02-06T19:37:55.994Z"
   },
   {
    "duration": 35,
    "start_time": "2024-02-06T19:37:56.019Z"
   },
   {
    "duration": 27,
    "start_time": "2024-02-06T19:37:56.055Z"
   },
   {
    "duration": 15,
    "start_time": "2024-02-06T19:37:56.084Z"
   },
   {
    "duration": 345,
    "start_time": "2024-02-06T19:37:56.100Z"
   },
   {
    "duration": 10,
    "start_time": "2024-02-06T19:37:56.446Z"
   },
   {
    "duration": 30,
    "start_time": "2024-02-06T19:37:56.458Z"
   },
   {
    "duration": 6,
    "start_time": "2024-02-06T19:37:56.490Z"
   },
   {
    "duration": 171,
    "start_time": "2024-02-06T19:37:56.498Z"
   },
   {
    "duration": 10,
    "start_time": "2024-02-06T19:37:56.671Z"
   },
   {
    "duration": 172,
    "start_time": "2024-02-06T19:37:56.683Z"
   },
   {
    "duration": 27,
    "start_time": "2024-02-06T19:37:56.857Z"
   },
   {
    "duration": 524,
    "start_time": "2024-02-06T19:37:56.886Z"
   },
   {
    "duration": 32,
    "start_time": "2024-02-06T19:37:57.412Z"
   },
   {
    "duration": 50,
    "start_time": "2024-02-06T19:37:57.445Z"
   },
   {
    "duration": 22,
    "start_time": "2024-02-06T19:37:57.497Z"
   },
   {
    "duration": 35,
    "start_time": "2024-02-06T19:37:57.521Z"
   },
   {
    "duration": 8,
    "start_time": "2024-02-06T19:37:57.573Z"
   },
   {
    "duration": 5,
    "start_time": "2024-02-06T19:37:57.582Z"
   },
   {
    "duration": 149,
    "start_time": "2024-02-06T19:37:57.589Z"
   },
   {
    "duration": 159,
    "start_time": "2024-02-06T19:37:57.740Z"
   },
   {
    "duration": 166,
    "start_time": "2024-02-06T19:37:57.901Z"
   },
   {
    "duration": 162,
    "start_time": "2024-02-06T19:37:58.072Z"
   },
   {
    "duration": 4,
    "start_time": "2024-02-06T19:37:58.235Z"
   },
   {
    "duration": 4,
    "start_time": "2024-02-06T19:38:00.385Z"
   },
   {
    "duration": 25,
    "start_time": "2024-02-06T19:38:01.013Z"
   },
   {
    "duration": 4,
    "start_time": "2024-02-06T19:39:22.071Z"
   },
   {
    "duration": 141,
    "start_time": "2024-02-06T19:39:22.077Z"
   },
   {
    "duration": 15,
    "start_time": "2024-02-06T19:39:22.219Z"
   },
   {
    "duration": 20,
    "start_time": "2024-02-06T19:39:22.236Z"
   },
   {
    "duration": 7,
    "start_time": "2024-02-06T19:39:22.259Z"
   },
   {
    "duration": 18,
    "start_time": "2024-02-06T19:39:22.268Z"
   },
   {
    "duration": 17,
    "start_time": "2024-02-06T19:39:22.288Z"
   },
   {
    "duration": 6,
    "start_time": "2024-02-06T19:39:22.306Z"
   },
   {
    "duration": 17,
    "start_time": "2024-02-06T19:39:22.314Z"
   },
   {
    "duration": 17,
    "start_time": "2024-02-06T19:39:22.332Z"
   },
   {
    "duration": 34,
    "start_time": "2024-02-06T19:39:22.351Z"
   },
   {
    "duration": 9,
    "start_time": "2024-02-06T19:39:22.387Z"
   },
   {
    "duration": 27,
    "start_time": "2024-02-06T19:39:22.397Z"
   },
   {
    "duration": 15,
    "start_time": "2024-02-06T19:39:22.425Z"
   },
   {
    "duration": 33,
    "start_time": "2024-02-06T19:39:22.441Z"
   },
   {
    "duration": 12,
    "start_time": "2024-02-06T19:39:22.476Z"
   },
   {
    "duration": 26,
    "start_time": "2024-02-06T19:39:22.489Z"
   },
   {
    "duration": 9,
    "start_time": "2024-02-06T19:39:22.516Z"
   },
   {
    "duration": 14,
    "start_time": "2024-02-06T19:39:22.527Z"
   },
   {
    "duration": 6,
    "start_time": "2024-02-06T19:39:22.542Z"
   },
   {
    "duration": 24,
    "start_time": "2024-02-06T19:39:22.549Z"
   },
   {
    "duration": 21,
    "start_time": "2024-02-06T19:39:22.574Z"
   },
   {
    "duration": 4,
    "start_time": "2024-02-06T19:39:22.597Z"
   },
   {
    "duration": 21,
    "start_time": "2024-02-06T19:39:22.602Z"
   },
   {
    "duration": 50,
    "start_time": "2024-02-06T19:39:22.625Z"
   },
   {
    "duration": 22,
    "start_time": "2024-02-06T19:39:22.677Z"
   },
   {
    "duration": 27,
    "start_time": "2024-02-06T19:39:22.701Z"
   },
   {
    "duration": 6,
    "start_time": "2024-02-06T19:39:22.729Z"
   },
   {
    "duration": 35,
    "start_time": "2024-02-06T19:39:22.739Z"
   },
   {
    "duration": 6,
    "start_time": "2024-02-06T19:39:22.775Z"
   },
   {
    "duration": 12,
    "start_time": "2024-02-06T19:39:22.783Z"
   },
   {
    "duration": 20,
    "start_time": "2024-02-06T19:39:22.796Z"
   },
   {
    "duration": 62,
    "start_time": "2024-02-06T19:39:22.818Z"
   },
   {
    "duration": 123,
    "start_time": "2024-02-06T19:39:22.882Z"
   },
   {
    "duration": 35,
    "start_time": "2024-02-06T19:39:23.007Z"
   },
   {
    "duration": 29,
    "start_time": "2024-02-06T19:39:23.044Z"
   },
   {
    "duration": 16,
    "start_time": "2024-02-06T19:39:23.075Z"
   },
   {
    "duration": 252,
    "start_time": "2024-02-06T19:39:23.092Z"
   },
   {
    "duration": 10,
    "start_time": "2024-02-06T19:39:23.346Z"
   },
   {
    "duration": 40,
    "start_time": "2024-02-06T19:39:23.357Z"
   },
   {
    "duration": 18,
    "start_time": "2024-02-06T19:39:23.398Z"
   },
   {
    "duration": 191,
    "start_time": "2024-02-06T19:39:23.418Z"
   },
   {
    "duration": 11,
    "start_time": "2024-02-06T19:39:23.610Z"
   },
   {
    "duration": 174,
    "start_time": "2024-02-06T19:39:23.623Z"
   },
   {
    "duration": 19,
    "start_time": "2024-02-06T19:39:23.798Z"
   },
   {
    "duration": 580,
    "start_time": "2024-02-06T19:39:23.818Z"
   },
   {
    "duration": 34,
    "start_time": "2024-02-06T19:39:24.400Z"
   },
   {
    "duration": 48,
    "start_time": "2024-02-06T19:39:24.436Z"
   },
   {
    "duration": 25,
    "start_time": "2024-02-06T19:39:24.485Z"
   },
   {
    "duration": 35,
    "start_time": "2024-02-06T19:39:24.511Z"
   },
   {
    "duration": 32,
    "start_time": "2024-02-06T19:39:24.548Z"
   },
   {
    "duration": 7,
    "start_time": "2024-02-06T19:39:24.582Z"
   },
   {
    "duration": 168,
    "start_time": "2024-02-06T19:39:24.591Z"
   },
   {
    "duration": 164,
    "start_time": "2024-02-06T19:39:24.761Z"
   },
   {
    "duration": 171,
    "start_time": "2024-02-06T19:39:24.927Z"
   },
   {
    "duration": 166,
    "start_time": "2024-02-06T19:39:25.100Z"
   },
   {
    "duration": 6,
    "start_time": "2024-02-06T19:39:25.268Z"
   },
   {
    "duration": 37,
    "start_time": "2024-02-06T19:39:25.276Z"
   },
   {
    "duration": 175,
    "start_time": "2024-02-06T19:39:25.314Z"
   },
   {
    "duration": 164,
    "start_time": "2024-02-06T19:39:25.491Z"
   },
   {
    "duration": 181,
    "start_time": "2024-02-06T19:39:33.426Z"
   },
   {
    "duration": 157,
    "start_time": "2024-02-06T19:39:53.496Z"
   },
   {
    "duration": 294,
    "start_time": "2024-02-06T19:41:46.593Z"
   },
   {
    "duration": 176,
    "start_time": "2024-02-06T19:42:03.861Z"
   },
   {
    "duration": 13,
    "start_time": "2024-02-06T19:43:08.755Z"
   },
   {
    "duration": 157,
    "start_time": "2024-02-06T19:43:15.935Z"
   },
   {
    "duration": 158,
    "start_time": "2024-02-06T19:43:35.719Z"
   },
   {
    "duration": 167,
    "start_time": "2024-02-06T19:44:53.685Z"
   },
   {
    "duration": 169,
    "start_time": "2024-02-06T19:45:02.330Z"
   },
   {
    "duration": 79,
    "start_time": "2024-02-06T19:47:24.900Z"
   },
   {
    "duration": 79,
    "start_time": "2024-02-06T19:47:39.088Z"
   },
   {
    "duration": 3,
    "start_time": "2024-02-06T19:47:47.690Z"
   },
   {
    "duration": 130,
    "start_time": "2024-02-06T19:47:47.695Z"
   },
   {
    "duration": 16,
    "start_time": "2024-02-06T19:47:47.826Z"
   },
   {
    "duration": 16,
    "start_time": "2024-02-06T19:47:47.843Z"
   },
   {
    "duration": 8,
    "start_time": "2024-02-06T19:47:47.861Z"
   },
   {
    "duration": 24,
    "start_time": "2024-02-06T19:47:47.870Z"
   },
   {
    "duration": 18,
    "start_time": "2024-02-06T19:47:47.896Z"
   },
   {
    "duration": 5,
    "start_time": "2024-02-06T19:47:47.916Z"
   },
   {
    "duration": 19,
    "start_time": "2024-02-06T19:47:47.922Z"
   },
   {
    "duration": 9,
    "start_time": "2024-02-06T19:47:47.943Z"
   },
   {
    "duration": 28,
    "start_time": "2024-02-06T19:47:47.954Z"
   },
   {
    "duration": 9,
    "start_time": "2024-02-06T19:47:47.984Z"
   },
   {
    "duration": 33,
    "start_time": "2024-02-06T19:47:47.994Z"
   },
   {
    "duration": 15,
    "start_time": "2024-02-06T19:47:48.030Z"
   },
   {
    "duration": 7,
    "start_time": "2024-02-06T19:47:48.046Z"
   },
   {
    "duration": 2,
    "start_time": "2024-02-06T19:47:48.073Z"
   },
   {
    "duration": 37,
    "start_time": "2024-02-06T19:47:48.077Z"
   },
   {
    "duration": 21,
    "start_time": "2024-02-06T19:47:48.116Z"
   },
   {
    "duration": 23,
    "start_time": "2024-02-06T19:47:48.139Z"
   },
   {
    "duration": 5,
    "start_time": "2024-02-06T19:47:48.163Z"
   },
   {
    "duration": 22,
    "start_time": "2024-02-06T19:47:48.169Z"
   },
   {
    "duration": 18,
    "start_time": "2024-02-06T19:47:48.193Z"
   },
   {
    "duration": 4,
    "start_time": "2024-02-06T19:47:48.214Z"
   },
   {
    "duration": 30,
    "start_time": "2024-02-06T19:47:48.220Z"
   },
   {
    "duration": 39,
    "start_time": "2024-02-06T19:47:48.251Z"
   },
   {
    "duration": 23,
    "start_time": "2024-02-06T19:47:48.292Z"
   },
   {
    "duration": 33,
    "start_time": "2024-02-06T19:47:48.316Z"
   },
   {
    "duration": 23,
    "start_time": "2024-02-06T19:47:48.351Z"
   },
   {
    "duration": 11,
    "start_time": "2024-02-06T19:47:48.375Z"
   },
   {
    "duration": 5,
    "start_time": "2024-02-06T19:47:48.388Z"
   },
   {
    "duration": 11,
    "start_time": "2024-02-06T19:47:48.394Z"
   },
   {
    "duration": 26,
    "start_time": "2024-02-06T19:47:48.406Z"
   },
   {
    "duration": 72,
    "start_time": "2024-02-06T19:47:48.434Z"
   },
   {
    "duration": 23,
    "start_time": "2024-02-06T19:47:48.508Z"
   },
   {
    "duration": 58,
    "start_time": "2024-02-06T19:47:48.532Z"
   },
   {
    "duration": 10,
    "start_time": "2024-02-06T19:47:48.592Z"
   },
   {
    "duration": 15,
    "start_time": "2024-02-06T19:47:48.603Z"
   },
   {
    "duration": 274,
    "start_time": "2024-02-06T19:47:48.619Z"
   },
   {
    "duration": 9,
    "start_time": "2024-02-06T19:47:48.895Z"
   },
   {
    "duration": 25,
    "start_time": "2024-02-06T19:47:48.905Z"
   },
   {
    "duration": 21,
    "start_time": "2024-02-06T19:47:48.934Z"
   },
   {
    "duration": 172,
    "start_time": "2024-02-06T19:47:48.956Z"
   },
   {
    "duration": 11,
    "start_time": "2024-02-06T19:47:49.130Z"
   },
   {
    "duration": 187,
    "start_time": "2024-02-06T19:47:49.142Z"
   },
   {
    "duration": 20,
    "start_time": "2024-02-06T19:47:49.331Z"
   },
   {
    "duration": 665,
    "start_time": "2024-02-06T19:47:49.352Z"
   },
   {
    "duration": 33,
    "start_time": "2024-02-06T19:47:50.019Z"
   },
   {
    "duration": 60,
    "start_time": "2024-02-06T19:47:50.054Z"
   },
   {
    "duration": 32,
    "start_time": "2024-02-06T19:47:50.115Z"
   },
   {
    "duration": 35,
    "start_time": "2024-02-06T19:47:50.148Z"
   },
   {
    "duration": 8,
    "start_time": "2024-02-06T19:47:50.185Z"
   },
   {
    "duration": 30,
    "start_time": "2024-02-06T19:47:50.194Z"
   },
   {
    "duration": 145,
    "start_time": "2024-02-06T19:47:50.225Z"
   },
   {
    "duration": 161,
    "start_time": "2024-02-06T19:47:50.372Z"
   },
   {
    "duration": 177,
    "start_time": "2024-02-06T19:47:50.534Z"
   },
   {
    "duration": 158,
    "start_time": "2024-02-06T19:47:50.712Z"
   },
   {
    "duration": 5,
    "start_time": "2024-02-06T19:47:50.872Z"
   },
   {
    "duration": 36,
    "start_time": "2024-02-06T19:47:50.878Z"
   },
   {
    "duration": 196,
    "start_time": "2024-02-06T19:47:50.916Z"
   },
   {
    "duration": 179,
    "start_time": "2024-02-06T19:47:51.114Z"
   },
   {
    "duration": 80,
    "start_time": "2024-02-06T19:47:55.155Z"
   },
   {
    "duration": 80,
    "start_time": "2024-02-06T19:48:15.425Z"
   },
   {
    "duration": 69,
    "start_time": "2024-02-06T19:52:46.660Z"
   },
   {
    "duration": 29,
    "start_time": "2024-02-06T19:52:59.686Z"
   },
   {
    "duration": 27,
    "start_time": "2024-02-06T19:53:14.245Z"
   },
   {
    "duration": 29,
    "start_time": "2024-02-06T19:53:40.313Z"
   },
   {
    "duration": 32,
    "start_time": "2024-02-06T20:04:40.220Z"
   },
   {
    "duration": 206,
    "start_time": "2024-02-06T20:05:00.051Z"
   },
   {
    "duration": 74,
    "start_time": "2024-02-06T20:10:56.350Z"
   },
   {
    "duration": 3,
    "start_time": "2024-02-06T20:11:10.477Z"
   },
   {
    "duration": 142,
    "start_time": "2024-02-06T20:11:10.482Z"
   },
   {
    "duration": 15,
    "start_time": "2024-02-06T20:11:10.626Z"
   },
   {
    "duration": 23,
    "start_time": "2024-02-06T20:11:10.643Z"
   },
   {
    "duration": 7,
    "start_time": "2024-02-06T20:11:10.668Z"
   },
   {
    "duration": 13,
    "start_time": "2024-02-06T20:11:10.676Z"
   },
   {
    "duration": 20,
    "start_time": "2024-02-06T20:11:10.690Z"
   },
   {
    "duration": 5,
    "start_time": "2024-02-06T20:11:10.712Z"
   },
   {
    "duration": 20,
    "start_time": "2024-02-06T20:11:10.718Z"
   },
   {
    "duration": 11,
    "start_time": "2024-02-06T20:11:10.739Z"
   },
   {
    "duration": 28,
    "start_time": "2024-02-06T20:11:10.752Z"
   },
   {
    "duration": 9,
    "start_time": "2024-02-06T20:11:10.781Z"
   },
   {
    "duration": 36,
    "start_time": "2024-02-06T20:11:10.791Z"
   },
   {
    "duration": 16,
    "start_time": "2024-02-06T20:11:10.830Z"
   },
   {
    "duration": 6,
    "start_time": "2024-02-06T20:11:10.848Z"
   },
   {
    "duration": 7,
    "start_time": "2024-02-06T20:11:10.872Z"
   },
   {
    "duration": 21,
    "start_time": "2024-02-06T20:11:10.881Z"
   },
   {
    "duration": 11,
    "start_time": "2024-02-06T20:11:10.904Z"
   },
   {
    "duration": 15,
    "start_time": "2024-02-06T20:11:10.917Z"
   },
   {
    "duration": 8,
    "start_time": "2024-02-06T20:11:10.933Z"
   },
   {
    "duration": 10,
    "start_time": "2024-02-06T20:11:10.943Z"
   },
   {
    "duration": 34,
    "start_time": "2024-02-06T20:11:10.954Z"
   },
   {
    "duration": 4,
    "start_time": "2024-02-06T20:11:10.990Z"
   },
   {
    "duration": 25,
    "start_time": "2024-02-06T20:11:10.996Z"
   },
   {
    "duration": 51,
    "start_time": "2024-02-06T20:11:11.023Z"
   },
   {
    "duration": 24,
    "start_time": "2024-02-06T20:11:11.076Z"
   },
   {
    "duration": 39,
    "start_time": "2024-02-06T20:11:11.101Z"
   },
   {
    "duration": 5,
    "start_time": "2024-02-06T20:11:11.142Z"
   },
   {
    "duration": 8,
    "start_time": "2024-02-06T20:11:11.149Z"
   },
   {
    "duration": 5,
    "start_time": "2024-02-06T20:11:11.173Z"
   },
   {
    "duration": 4,
    "start_time": "2024-02-06T20:11:11.180Z"
   },
   {
    "duration": 19,
    "start_time": "2024-02-06T20:11:11.185Z"
   },
   {
    "duration": 82,
    "start_time": "2024-02-06T20:11:11.205Z"
   },
   {
    "duration": 27,
    "start_time": "2024-02-06T20:11:11.289Z"
   },
   {
    "duration": 40,
    "start_time": "2024-02-06T20:11:11.317Z"
   },
   {
    "duration": 11,
    "start_time": "2024-02-06T20:11:11.373Z"
   },
   {
    "duration": 15,
    "start_time": "2024-02-06T20:11:11.386Z"
   },
   {
    "duration": 247,
    "start_time": "2024-02-06T20:11:11.402Z"
   },
   {
    "duration": 9,
    "start_time": "2024-02-06T20:11:11.651Z"
   },
   {
    "duration": 21,
    "start_time": "2024-02-06T20:11:11.673Z"
   },
   {
    "duration": 6,
    "start_time": "2024-02-06T20:11:11.698Z"
   },
   {
    "duration": 175,
    "start_time": "2024-02-06T20:11:11.705Z"
   },
   {
    "duration": 10,
    "start_time": "2024-02-06T20:11:11.882Z"
   },
   {
    "duration": 186,
    "start_time": "2024-02-06T20:11:11.894Z"
   },
   {
    "duration": 20,
    "start_time": "2024-02-06T20:11:12.082Z"
   },
   {
    "duration": 727,
    "start_time": "2024-02-06T20:11:12.104Z"
   },
   {
    "duration": 42,
    "start_time": "2024-02-06T20:11:12.833Z"
   },
   {
    "duration": 28,
    "start_time": "2024-02-06T20:11:12.877Z"
   },
   {
    "duration": 22,
    "start_time": "2024-02-06T20:11:12.907Z"
   },
   {
    "duration": 58,
    "start_time": "2024-02-06T20:11:12.931Z"
   },
   {
    "duration": 8,
    "start_time": "2024-02-06T20:11:12.990Z"
   },
   {
    "duration": 5,
    "start_time": "2024-02-06T20:11:13.000Z"
   },
   {
    "duration": 160,
    "start_time": "2024-02-06T20:11:13.006Z"
   },
   {
    "duration": 162,
    "start_time": "2024-02-06T20:11:13.173Z"
   },
   {
    "duration": 189,
    "start_time": "2024-02-06T20:11:13.337Z"
   },
   {
    "duration": 187,
    "start_time": "2024-02-06T20:11:13.528Z"
   },
   {
    "duration": 5,
    "start_time": "2024-02-06T20:11:13.716Z"
   },
   {
    "duration": 29,
    "start_time": "2024-02-06T20:11:13.723Z"
   },
   {
    "duration": 170,
    "start_time": "2024-02-06T20:11:13.754Z"
   },
   {
    "duration": 194,
    "start_time": "2024-02-06T20:11:13.926Z"
   },
   {
    "duration": 175,
    "start_time": "2024-02-06T20:11:14.121Z"
   },
   {
    "duration": 11,
    "start_time": "2024-02-06T20:11:14.297Z"
   },
   {
    "duration": 20,
    "start_time": "2024-02-06T20:11:14.309Z"
   },
   {
    "duration": 18,
    "start_time": "2024-02-06T20:11:14.331Z"
   },
   {
    "duration": 109,
    "start_time": "2024-02-06T20:11:19.777Z"
   },
   {
    "duration": 67,
    "start_time": "2024-02-06T20:11:50.442Z"
   },
   {
    "duration": 79,
    "start_time": "2024-02-06T20:13:41.127Z"
   },
   {
    "duration": 3,
    "start_time": "2024-02-06T20:13:58.667Z"
   },
   {
    "duration": 4,
    "start_time": "2024-02-06T20:15:30.504Z"
   },
   {
    "duration": 13,
    "start_time": "2024-02-06T20:15:40.963Z"
   },
   {
    "duration": 735,
    "start_time": "2024-02-06T20:15:50.746Z"
   },
   {
    "duration": 1293,
    "start_time": "2024-02-06T20:20:58.632Z"
   },
   {
    "duration": 836,
    "start_time": "2024-02-06T20:21:48.260Z"
   },
   {
    "duration": 3,
    "start_time": "2024-02-06T20:27:23.197Z"
   },
   {
    "duration": 681,
    "start_time": "2024-02-06T20:28:27.244Z"
   },
   {
    "duration": 4,
    "start_time": "2024-02-06T20:29:34.002Z"
   },
   {
    "duration": 12,
    "start_time": "2024-02-06T20:29:34.633Z"
   },
   {
    "duration": 622,
    "start_time": "2024-02-06T20:29:37.651Z"
   },
   {
    "duration": 73,
    "start_time": "2024-02-06T20:33:43.431Z"
   },
   {
    "duration": 14,
    "start_time": "2024-02-06T20:33:55.678Z"
   },
   {
    "duration": 25,
    "start_time": "2024-02-06T20:33:56.536Z"
   },
   {
    "duration": 15,
    "start_time": "2024-02-06T20:34:10.336Z"
   },
   {
    "duration": 17,
    "start_time": "2024-02-06T20:34:30.247Z"
   },
   {
    "duration": 3,
    "start_time": "2024-02-06T20:35:33.488Z"
   },
   {
    "duration": 12,
    "start_time": "2024-02-06T20:35:34.535Z"
   },
   {
    "duration": 624,
    "start_time": "2024-02-06T20:35:37.548Z"
   },
   {
    "duration": 3,
    "start_time": "2024-02-06T20:37:16.455Z"
   },
   {
    "duration": 13,
    "start_time": "2024-02-06T20:37:17.059Z"
   },
   {
    "duration": 647,
    "start_time": "2024-02-06T20:37:18.038Z"
   },
   {
    "duration": 3,
    "start_time": "2024-02-06T20:37:34.191Z"
   },
   {
    "duration": 13,
    "start_time": "2024-02-06T20:37:34.785Z"
   },
   {
    "duration": 689,
    "start_time": "2024-02-06T20:37:37.202Z"
   },
   {
    "duration": 3,
    "start_time": "2024-02-06T20:38:04.838Z"
   },
   {
    "duration": 136,
    "start_time": "2024-02-06T20:38:04.843Z"
   },
   {
    "duration": 15,
    "start_time": "2024-02-06T20:38:04.981Z"
   },
   {
    "duration": 15,
    "start_time": "2024-02-06T20:38:04.998Z"
   },
   {
    "duration": 8,
    "start_time": "2024-02-06T20:38:05.015Z"
   },
   {
    "duration": 13,
    "start_time": "2024-02-06T20:38:05.024Z"
   },
   {
    "duration": 44,
    "start_time": "2024-02-06T20:38:05.038Z"
   },
   {
    "duration": 5,
    "start_time": "2024-02-06T20:38:05.083Z"
   },
   {
    "duration": 14,
    "start_time": "2024-02-06T20:38:05.090Z"
   },
   {
    "duration": 11,
    "start_time": "2024-02-06T20:38:05.105Z"
   },
   {
    "duration": 16,
    "start_time": "2024-02-06T20:38:05.118Z"
   },
   {
    "duration": 44,
    "start_time": "2024-02-06T20:38:05.136Z"
   },
   {
    "duration": 23,
    "start_time": "2024-02-06T20:38:05.182Z"
   },
   {
    "duration": 15,
    "start_time": "2024-02-06T20:38:05.207Z"
   },
   {
    "duration": 7,
    "start_time": "2024-02-06T20:38:05.223Z"
   },
   {
    "duration": 3,
    "start_time": "2024-02-06T20:38:05.232Z"
   },
   {
    "duration": 42,
    "start_time": "2024-02-06T20:38:05.236Z"
   },
   {
    "duration": 9,
    "start_time": "2024-02-06T20:38:05.280Z"
   },
   {
    "duration": 16,
    "start_time": "2024-02-06T20:38:05.290Z"
   },
   {
    "duration": 6,
    "start_time": "2024-02-06T20:38:05.307Z"
   },
   {
    "duration": 18,
    "start_time": "2024-02-06T20:38:05.314Z"
   },
   {
    "duration": 43,
    "start_time": "2024-02-06T20:38:05.333Z"
   },
   {
    "duration": 5,
    "start_time": "2024-02-06T20:38:05.377Z"
   },
   {
    "duration": 19,
    "start_time": "2024-02-06T20:38:05.383Z"
   },
   {
    "duration": 26,
    "start_time": "2024-02-06T20:38:05.404Z"
   },
   {
    "duration": 48,
    "start_time": "2024-02-06T20:38:05.431Z"
   },
   {
    "duration": 60,
    "start_time": "2024-02-06T20:38:05.480Z"
   },
   {
    "duration": 6,
    "start_time": "2024-02-06T20:38:05.542Z"
   },
   {
    "duration": 9,
    "start_time": "2024-02-06T20:38:05.553Z"
   },
   {
    "duration": 5,
    "start_time": "2024-02-06T20:38:05.563Z"
   },
   {
    "duration": 4,
    "start_time": "2024-02-06T20:38:05.570Z"
   },
   {
    "duration": 18,
    "start_time": "2024-02-06T20:38:05.576Z"
   },
   {
    "duration": 43,
    "start_time": "2024-02-06T20:38:05.595Z"
   },
   {
    "duration": 43,
    "start_time": "2024-02-06T20:38:05.639Z"
   },
   {
    "duration": 33,
    "start_time": "2024-02-06T20:38:05.683Z"
   },
   {
    "duration": 9,
    "start_time": "2024-02-06T20:38:05.717Z"
   },
   {
    "duration": 15,
    "start_time": "2024-02-06T20:38:05.728Z"
   },
   {
    "duration": 247,
    "start_time": "2024-02-06T20:38:05.773Z"
   },
   {
    "duration": 9,
    "start_time": "2024-02-06T20:38:06.022Z"
   },
   {
    "duration": 22,
    "start_time": "2024-02-06T20:38:06.033Z"
   },
   {
    "duration": 20,
    "start_time": "2024-02-06T20:38:06.056Z"
   },
   {
    "duration": 174,
    "start_time": "2024-02-06T20:38:06.078Z"
   },
   {
    "duration": 10,
    "start_time": "2024-02-06T20:38:06.254Z"
   },
   {
    "duration": 314,
    "start_time": "2024-02-06T20:38:06.273Z"
   },
   {
    "duration": 19,
    "start_time": "2024-02-06T20:38:06.588Z"
   },
   {
    "duration": 586,
    "start_time": "2024-02-06T20:38:06.609Z"
   },
   {
    "duration": 31,
    "start_time": "2024-02-06T20:38:07.196Z"
   },
   {
    "duration": 47,
    "start_time": "2024-02-06T20:38:07.228Z"
   },
   {
    "duration": 24,
    "start_time": "2024-02-06T20:38:07.277Z"
   },
   {
    "duration": 37,
    "start_time": "2024-02-06T20:38:07.303Z"
   },
   {
    "duration": 33,
    "start_time": "2024-02-06T20:38:07.342Z"
   },
   {
    "duration": 6,
    "start_time": "2024-02-06T20:38:07.376Z"
   },
   {
    "duration": 151,
    "start_time": "2024-02-06T20:38:07.383Z"
   },
   {
    "duration": 157,
    "start_time": "2024-02-06T20:38:07.536Z"
   },
   {
    "duration": 161,
    "start_time": "2024-02-06T20:38:07.695Z"
   },
   {
    "duration": 155,
    "start_time": "2024-02-06T20:38:07.858Z"
   },
   {
    "duration": 4,
    "start_time": "2024-02-06T20:38:08.015Z"
   },
   {
    "duration": 26,
    "start_time": "2024-02-06T20:38:08.020Z"
   },
   {
    "duration": 171,
    "start_time": "2024-02-06T20:38:08.048Z"
   },
   {
    "duration": 168,
    "start_time": "2024-02-06T20:38:08.221Z"
   },
   {
    "duration": 182,
    "start_time": "2024-02-06T20:38:08.390Z"
   },
   {
    "duration": 11,
    "start_time": "2024-02-06T20:38:08.574Z"
   },
   {
    "duration": 13,
    "start_time": "2024-02-06T20:38:08.586Z"
   },
   {
    "duration": 3,
    "start_time": "2024-02-06T20:38:08.601Z"
   },
   {
    "duration": 16,
    "start_time": "2024-02-06T20:38:08.605Z"
   },
   {
    "duration": 743,
    "start_time": "2024-02-06T20:38:08.622Z"
   },
   {
    "duration": 15,
    "start_time": "2024-02-06T20:38:09.367Z"
   },
   {
    "duration": 23,
    "start_time": "2024-02-06T20:38:09.384Z"
   },
   {
    "duration": 14,
    "start_time": "2024-02-06T20:38:09.409Z"
   },
   {
    "duration": 17,
    "start_time": "2024-02-06T20:38:12.262Z"
   },
   {
    "duration": 5,
    "start_time": "2024-02-06T20:50:44.787Z"
   },
   {
    "duration": 7,
    "start_time": "2024-02-06T20:51:56.937Z"
   },
   {
    "duration": 4,
    "start_time": "2024-02-06T20:58:00.405Z"
   },
   {
    "duration": 5,
    "start_time": "2024-02-06T20:58:36.803Z"
   },
   {
    "duration": 4,
    "start_time": "2024-02-06T21:01:34.800Z"
   },
   {
    "duration": 4,
    "start_time": "2024-02-06T21:02:57.290Z"
   },
   {
    "duration": 185,
    "start_time": "2024-02-06T21:02:57.296Z"
   },
   {
    "duration": 16,
    "start_time": "2024-02-06T21:02:57.484Z"
   },
   {
    "duration": 36,
    "start_time": "2024-02-06T21:02:57.502Z"
   },
   {
    "duration": 9,
    "start_time": "2024-02-06T21:02:57.541Z"
   },
   {
    "duration": 26,
    "start_time": "2024-02-06T21:02:57.552Z"
   },
   {
    "duration": 23,
    "start_time": "2024-02-06T21:02:57.580Z"
   },
   {
    "duration": 29,
    "start_time": "2024-02-06T21:02:57.605Z"
   },
   {
    "duration": 20,
    "start_time": "2024-02-06T21:02:57.636Z"
   },
   {
    "duration": 31,
    "start_time": "2024-02-06T21:02:57.657Z"
   },
   {
    "duration": 53,
    "start_time": "2024-02-06T21:02:57.692Z"
   },
   {
    "duration": 13,
    "start_time": "2024-02-06T21:02:57.747Z"
   },
   {
    "duration": 32,
    "start_time": "2024-02-06T21:02:57.762Z"
   },
   {
    "duration": 19,
    "start_time": "2024-02-06T21:02:57.796Z"
   },
   {
    "duration": 7,
    "start_time": "2024-02-06T21:02:57.816Z"
   },
   {
    "duration": 15,
    "start_time": "2024-02-06T21:02:57.825Z"
   },
   {
    "duration": 23,
    "start_time": "2024-02-06T21:02:57.842Z"
   },
   {
    "duration": 15,
    "start_time": "2024-02-06T21:02:57.867Z"
   },
   {
    "duration": 29,
    "start_time": "2024-02-06T21:02:57.883Z"
   },
   {
    "duration": 6,
    "start_time": "2024-02-06T21:02:57.914Z"
   },
   {
    "duration": 13,
    "start_time": "2024-02-06T21:02:57.922Z"
   },
   {
    "duration": 47,
    "start_time": "2024-02-06T21:02:57.937Z"
   },
   {
    "duration": 6,
    "start_time": "2024-02-06T21:02:57.985Z"
   },
   {
    "duration": 33,
    "start_time": "2024-02-06T21:02:57.993Z"
   },
   {
    "duration": 52,
    "start_time": "2024-02-06T21:02:58.027Z"
   },
   {
    "duration": 34,
    "start_time": "2024-02-06T21:02:58.081Z"
   },
   {
    "duration": 42,
    "start_time": "2024-02-06T21:02:58.117Z"
   },
   {
    "duration": 7,
    "start_time": "2024-02-06T21:02:58.172Z"
   },
   {
    "duration": 11,
    "start_time": "2024-02-06T21:02:58.185Z"
   },
   {
    "duration": 6,
    "start_time": "2024-02-06T21:02:58.198Z"
   },
   {
    "duration": 10,
    "start_time": "2024-02-06T21:02:58.205Z"
   },
   {
    "duration": 24,
    "start_time": "2024-02-06T21:02:58.217Z"
   },
   {
    "duration": 65,
    "start_time": "2024-02-06T21:02:58.243Z"
   },
   {
    "duration": 25,
    "start_time": "2024-02-06T21:02:58.310Z"
   },
   {
    "duration": 61,
    "start_time": "2024-02-06T21:02:58.337Z"
   },
   {
    "duration": 11,
    "start_time": "2024-02-06T21:02:58.400Z"
   },
   {
    "duration": 17,
    "start_time": "2024-02-06T21:02:58.413Z"
   },
   {
    "duration": 259,
    "start_time": "2024-02-06T21:02:58.432Z"
   },
   {
    "duration": 11,
    "start_time": "2024-02-06T21:02:58.692Z"
   },
   {
    "duration": 34,
    "start_time": "2024-02-06T21:02:58.705Z"
   },
   {
    "duration": 7,
    "start_time": "2024-02-06T21:02:58.741Z"
   },
   {
    "duration": 335,
    "start_time": "2024-02-06T21:02:58.750Z"
   },
   {
    "duration": 11,
    "start_time": "2024-02-06T21:02:59.087Z"
   },
   {
    "duration": 191,
    "start_time": "2024-02-06T21:02:59.100Z"
   },
   {
    "duration": 19,
    "start_time": "2024-02-06T21:02:59.292Z"
   },
   {
    "duration": 565,
    "start_time": "2024-02-06T21:02:59.313Z"
   },
   {
    "duration": 33,
    "start_time": "2024-02-06T21:02:59.880Z"
   },
   {
    "duration": 30,
    "start_time": "2024-02-06T21:02:59.914Z"
   },
   {
    "duration": 50,
    "start_time": "2024-02-06T21:02:59.945Z"
   },
   {
    "duration": 67,
    "start_time": "2024-02-06T21:02:59.997Z"
   },
   {
    "duration": 65,
    "start_time": "2024-02-06T21:03:00.066Z"
   },
   {
    "duration": 40,
    "start_time": "2024-02-06T21:03:00.133Z"
   },
   {
    "duration": 158,
    "start_time": "2024-02-06T21:03:00.175Z"
   },
   {
    "duration": 172,
    "start_time": "2024-02-06T21:03:00.335Z"
   },
   {
    "duration": 190,
    "start_time": "2024-02-06T21:03:00.509Z"
   },
   {
    "duration": 174,
    "start_time": "2024-02-06T21:03:00.701Z"
   },
   {
    "duration": 4,
    "start_time": "2024-02-06T21:03:00.876Z"
   },
   {
    "duration": 68,
    "start_time": "2024-02-06T21:03:00.882Z"
   },
   {
    "duration": 194,
    "start_time": "2024-02-06T21:03:00.951Z"
   },
   {
    "duration": 184,
    "start_time": "2024-02-06T21:03:01.147Z"
   },
   {
    "duration": 201,
    "start_time": "2024-02-06T21:03:01.333Z"
   },
   {
    "duration": 11,
    "start_time": "2024-02-06T21:03:01.536Z"
   },
   {
    "duration": 52,
    "start_time": "2024-02-06T21:03:01.548Z"
   },
   {
    "duration": 48,
    "start_time": "2024-02-06T21:03:01.602Z"
   },
   {
    "duration": 81,
    "start_time": "2024-02-06T21:03:01.652Z"
   },
   {
    "duration": 762,
    "start_time": "2024-02-06T21:03:01.735Z"
   },
   {
    "duration": 15,
    "start_time": "2024-02-06T21:03:02.499Z"
   },
   {
    "duration": 25,
    "start_time": "2024-02-06T21:03:02.516Z"
   },
   {
    "duration": 40,
    "start_time": "2024-02-06T21:03:02.543Z"
   },
   {
    "duration": 10,
    "start_time": "2024-02-06T21:03:02.585Z"
   },
   {
    "duration": 10,
    "start_time": "2024-02-06T21:03:02.596Z"
   },
   {
    "duration": 3,
    "start_time": "2024-02-06T21:07:11.896Z"
   },
   {
    "duration": 135,
    "start_time": "2024-02-06T21:07:11.901Z"
   },
   {
    "duration": 15,
    "start_time": "2024-02-06T21:07:12.038Z"
   },
   {
    "duration": 20,
    "start_time": "2024-02-06T21:07:12.054Z"
   },
   {
    "duration": 9,
    "start_time": "2024-02-06T21:07:12.076Z"
   },
   {
    "duration": 16,
    "start_time": "2024-02-06T21:07:12.086Z"
   },
   {
    "duration": 22,
    "start_time": "2024-02-06T21:07:12.103Z"
   },
   {
    "duration": 6,
    "start_time": "2024-02-06T21:07:12.128Z"
   },
   {
    "duration": 49,
    "start_time": "2024-02-06T21:07:12.136Z"
   },
   {
    "duration": 8,
    "start_time": "2024-02-06T21:07:12.186Z"
   },
   {
    "duration": 17,
    "start_time": "2024-02-06T21:07:12.197Z"
   },
   {
    "duration": 10,
    "start_time": "2024-02-06T21:07:12.215Z"
   },
   {
    "duration": 59,
    "start_time": "2024-02-06T21:07:12.226Z"
   },
   {
    "duration": 16,
    "start_time": "2024-02-06T21:07:12.286Z"
   },
   {
    "duration": 17,
    "start_time": "2024-02-06T21:07:12.303Z"
   },
   {
    "duration": 7,
    "start_time": "2024-02-06T21:07:12.322Z"
   },
   {
    "duration": 17,
    "start_time": "2024-02-06T21:07:12.330Z"
   },
   {
    "duration": 25,
    "start_time": "2024-02-06T21:07:12.349Z"
   },
   {
    "duration": 16,
    "start_time": "2024-02-06T21:07:12.375Z"
   },
   {
    "duration": 6,
    "start_time": "2024-02-06T21:07:12.392Z"
   },
   {
    "duration": 14,
    "start_time": "2024-02-06T21:07:12.399Z"
   },
   {
    "duration": 20,
    "start_time": "2024-02-06T21:07:12.415Z"
   },
   {
    "duration": 5,
    "start_time": "2024-02-06T21:07:12.436Z"
   },
   {
    "duration": 28,
    "start_time": "2024-02-06T21:07:12.474Z"
   },
   {
    "duration": 29,
    "start_time": "2024-02-06T21:07:12.504Z"
   },
   {
    "duration": 49,
    "start_time": "2024-02-06T21:07:12.535Z"
   },
   {
    "duration": 46,
    "start_time": "2024-02-06T21:07:12.586Z"
   },
   {
    "duration": 8,
    "start_time": "2024-02-06T21:07:12.634Z"
   },
   {
    "duration": 27,
    "start_time": "2024-02-06T21:07:12.648Z"
   },
   {
    "duration": 6,
    "start_time": "2024-02-06T21:07:12.676Z"
   },
   {
    "duration": 5,
    "start_time": "2024-02-06T21:07:12.683Z"
   },
   {
    "duration": 20,
    "start_time": "2024-02-06T21:07:12.689Z"
   },
   {
    "duration": 97,
    "start_time": "2024-02-06T21:07:12.710Z"
   },
   {
    "duration": 24,
    "start_time": "2024-02-06T21:07:12.809Z"
   },
   {
    "duration": 59,
    "start_time": "2024-02-06T21:07:12.834Z"
   },
   {
    "duration": 10,
    "start_time": "2024-02-06T21:07:12.896Z"
   },
   {
    "duration": 17,
    "start_time": "2024-02-06T21:07:12.908Z"
   },
   {
    "duration": 292,
    "start_time": "2024-02-06T21:07:12.927Z"
   },
   {
    "duration": 9,
    "start_time": "2024-02-06T21:07:13.221Z"
   },
   {
    "duration": 38,
    "start_time": "2024-02-06T21:07:13.232Z"
   },
   {
    "duration": 8,
    "start_time": "2024-02-06T21:07:13.272Z"
   },
   {
    "duration": 335,
    "start_time": "2024-02-06T21:07:13.281Z"
   },
   {
    "duration": 12,
    "start_time": "2024-02-06T21:07:13.617Z"
   },
   {
    "duration": 186,
    "start_time": "2024-02-06T21:07:13.631Z"
   },
   {
    "duration": 20,
    "start_time": "2024-02-06T21:07:13.819Z"
   },
   {
    "duration": 605,
    "start_time": "2024-02-06T21:07:13.841Z"
   },
   {
    "duration": 39,
    "start_time": "2024-02-06T21:07:14.448Z"
   },
   {
    "duration": 27,
    "start_time": "2024-02-06T21:07:14.489Z"
   },
   {
    "duration": 22,
    "start_time": "2024-02-06T21:07:14.517Z"
   },
   {
    "duration": 62,
    "start_time": "2024-02-06T21:07:14.540Z"
   },
   {
    "duration": 8,
    "start_time": "2024-02-06T21:07:14.603Z"
   },
   {
    "duration": 11,
    "start_time": "2024-02-06T21:07:14.613Z"
   },
   {
    "duration": 155,
    "start_time": "2024-02-06T21:07:14.626Z"
   },
   {
    "duration": 169,
    "start_time": "2024-02-06T21:07:14.783Z"
   },
   {
    "duration": 191,
    "start_time": "2024-02-06T21:07:14.954Z"
   },
   {
    "duration": 181,
    "start_time": "2024-02-06T21:07:15.146Z"
   },
   {
    "duration": 5,
    "start_time": "2024-02-06T21:07:15.329Z"
   },
   {
    "duration": 44,
    "start_time": "2024-02-06T21:07:15.336Z"
   },
   {
    "duration": 156,
    "start_time": "2024-02-06T21:07:15.382Z"
   },
   {
    "duration": 184,
    "start_time": "2024-02-06T21:07:15.539Z"
   },
   {
    "duration": 198,
    "start_time": "2024-02-06T21:07:15.725Z"
   },
   {
    "duration": 12,
    "start_time": "2024-02-06T21:07:15.925Z"
   },
   {
    "duration": 19,
    "start_time": "2024-02-06T21:07:15.939Z"
   },
   {
    "duration": 4,
    "start_time": "2024-02-06T21:07:15.972Z"
   },
   {
    "duration": 35,
    "start_time": "2024-02-06T21:07:15.978Z"
   },
   {
    "duration": 782,
    "start_time": "2024-02-06T21:07:16.015Z"
   },
   {
    "duration": 15,
    "start_time": "2024-02-06T21:07:16.799Z"
   },
   {
    "duration": 37,
    "start_time": "2024-02-06T21:07:16.816Z"
   },
   {
    "duration": 40,
    "start_time": "2024-02-06T21:07:16.854Z"
   },
   {
    "duration": 1405,
    "start_time": "2024-02-06T21:41:48.154Z"
   },
   {
    "duration": 262,
    "start_time": "2024-02-06T21:41:49.561Z"
   },
   {
    "duration": 17,
    "start_time": "2024-02-06T21:41:49.824Z"
   },
   {
    "duration": 14,
    "start_time": "2024-02-06T21:41:49.843Z"
   },
   {
    "duration": 14,
    "start_time": "2024-02-06T21:41:49.858Z"
   },
   {
    "duration": 14,
    "start_time": "2024-02-06T21:41:49.873Z"
   },
   {
    "duration": 14,
    "start_time": "2024-02-06T21:41:49.889Z"
   },
   {
    "duration": 5,
    "start_time": "2024-02-06T21:41:49.905Z"
   },
   {
    "duration": 14,
    "start_time": "2024-02-06T21:41:49.911Z"
   },
   {
    "duration": 28,
    "start_time": "2024-02-06T21:41:49.928Z"
   },
   {
    "duration": 19,
    "start_time": "2024-02-06T21:41:49.957Z"
   },
   {
    "duration": 8,
    "start_time": "2024-02-06T21:41:49.977Z"
   },
   {
    "duration": 21,
    "start_time": "2024-02-06T21:41:49.987Z"
   },
   {
    "duration": 13,
    "start_time": "2024-02-06T21:41:50.009Z"
   },
   {
    "duration": 29,
    "start_time": "2024-02-06T21:41:50.024Z"
   },
   {
    "duration": 2,
    "start_time": "2024-02-06T21:41:50.055Z"
   },
   {
    "duration": 28,
    "start_time": "2024-02-06T21:41:50.058Z"
   },
   {
    "duration": 10,
    "start_time": "2024-02-06T21:41:50.087Z"
   },
   {
    "duration": 12,
    "start_time": "2024-02-06T21:41:50.098Z"
   },
   {
    "duration": 8,
    "start_time": "2024-02-06T21:41:50.112Z"
   },
   {
    "duration": 12,
    "start_time": "2024-02-06T21:41:50.122Z"
   },
   {
    "duration": 28,
    "start_time": "2024-02-06T21:41:50.136Z"
   },
   {
    "duration": 4,
    "start_time": "2024-02-06T21:41:50.165Z"
   },
   {
    "duration": 20,
    "start_time": "2024-02-06T21:41:50.170Z"
   },
   {
    "duration": 23,
    "start_time": "2024-02-06T21:41:50.192Z"
   },
   {
    "duration": 35,
    "start_time": "2024-02-06T21:41:50.219Z"
   },
   {
    "duration": 31,
    "start_time": "2024-02-06T21:41:50.256Z"
   },
   {
    "duration": 5,
    "start_time": "2024-02-06T21:41:50.291Z"
   },
   {
    "duration": 7,
    "start_time": "2024-02-06T21:41:50.298Z"
   },
   {
    "duration": 5,
    "start_time": "2024-02-06T21:41:50.307Z"
   },
   {
    "duration": 12,
    "start_time": "2024-02-06T21:41:50.313Z"
   },
   {
    "duration": 39,
    "start_time": "2024-02-06T21:41:50.326Z"
   },
   {
    "duration": 41,
    "start_time": "2024-02-06T21:41:50.367Z"
   },
   {
    "duration": 21,
    "start_time": "2024-02-06T21:41:50.410Z"
   },
   {
    "duration": 38,
    "start_time": "2024-02-06T21:41:50.452Z"
   },
   {
    "duration": 10,
    "start_time": "2024-02-06T21:41:50.492Z"
   },
   {
    "duration": 20,
    "start_time": "2024-02-06T21:41:50.503Z"
   },
   {
    "duration": 249,
    "start_time": "2024-02-06T21:41:50.524Z"
   },
   {
    "duration": 9,
    "start_time": "2024-02-06T21:41:50.774Z"
   },
   {
    "duration": 20,
    "start_time": "2024-02-06T21:41:50.784Z"
   },
   {
    "duration": 5,
    "start_time": "2024-02-06T21:41:50.806Z"
   },
   {
    "duration": 158,
    "start_time": "2024-02-06T21:41:50.812Z"
   },
   {
    "duration": 10,
    "start_time": "2024-02-06T21:41:50.972Z"
   },
   {
    "duration": 154,
    "start_time": "2024-02-06T21:41:50.983Z"
   },
   {
    "duration": 24,
    "start_time": "2024-02-06T21:41:51.138Z"
   },
   {
    "duration": 505,
    "start_time": "2024-02-06T21:41:51.163Z"
   },
   {
    "duration": 27,
    "start_time": "2024-02-06T21:41:51.669Z"
   },
   {
    "duration": 26,
    "start_time": "2024-02-06T21:41:51.697Z"
   },
   {
    "duration": 36,
    "start_time": "2024-02-06T21:41:51.725Z"
   },
   {
    "duration": 29,
    "start_time": "2024-02-06T21:41:51.763Z"
   },
   {
    "duration": 7,
    "start_time": "2024-02-06T21:41:51.793Z"
   },
   {
    "duration": 4,
    "start_time": "2024-02-06T21:41:51.802Z"
   },
   {
    "duration": 145,
    "start_time": "2024-02-06T21:41:51.808Z"
   },
   {
    "duration": 221,
    "start_time": "2024-02-06T21:41:51.955Z"
   },
   {
    "duration": 156,
    "start_time": "2024-02-06T21:41:52.177Z"
   },
   {
    "duration": 140,
    "start_time": "2024-02-06T21:41:52.335Z"
   },
   {
    "duration": 3,
    "start_time": "2024-02-06T21:41:52.477Z"
   },
   {
    "duration": 24,
    "start_time": "2024-02-06T21:41:52.481Z"
   },
   {
    "duration": 151,
    "start_time": "2024-02-06T21:41:52.507Z"
   },
   {
    "duration": 163,
    "start_time": "2024-02-06T21:41:52.659Z"
   },
   {
    "duration": 150,
    "start_time": "2024-02-06T21:41:52.824Z"
   },
   {
    "duration": 9,
    "start_time": "2024-02-06T21:41:52.976Z"
   },
   {
    "duration": 12,
    "start_time": "2024-02-06T21:41:52.987Z"
   },
   {
    "duration": 11,
    "start_time": "2024-02-06T21:41:53.000Z"
   },
   {
    "duration": 17,
    "start_time": "2024-02-06T21:41:53.012Z"
   },
   {
    "duration": 680,
    "start_time": "2024-02-06T21:41:53.030Z"
   },
   {
    "duration": 13,
    "start_time": "2024-02-06T21:41:53.711Z"
   },
   {
    "duration": 25,
    "start_time": "2024-02-06T21:41:53.725Z"
   },
   {
    "duration": 15,
    "start_time": "2024-02-06T21:41:53.751Z"
   },
   {
    "duration": 188,
    "start_time": "2024-02-06T21:47:17.198Z"
   },
   {
    "duration": 170,
    "start_time": "2024-02-06T21:47:24.086Z"
   },
   {
    "duration": 690,
    "start_time": "2024-02-06T22:08:29.458Z"
   },
   {
    "duration": 82,
    "start_time": "2024-02-07T04:29:05.509Z"
   },
   {
    "duration": 1238,
    "start_time": "2024-02-07T04:29:09.888Z"
   },
   {
    "duration": 257,
    "start_time": "2024-02-07T04:29:11.128Z"
   },
   {
    "duration": 16,
    "start_time": "2024-02-07T04:29:11.387Z"
   },
   {
    "duration": 14,
    "start_time": "2024-02-07T04:29:11.405Z"
   },
   {
    "duration": 14,
    "start_time": "2024-02-07T04:29:11.420Z"
   },
   {
    "duration": 12,
    "start_time": "2024-02-07T04:29:11.436Z"
   },
   {
    "duration": 15,
    "start_time": "2024-02-07T04:29:11.449Z"
   },
   {
    "duration": 12,
    "start_time": "2024-02-07T04:29:11.466Z"
   },
   {
    "duration": 13,
    "start_time": "2024-02-07T04:29:11.479Z"
   },
   {
    "duration": 18,
    "start_time": "2024-02-07T04:29:11.495Z"
   },
   {
    "duration": 15,
    "start_time": "2024-02-07T04:29:11.514Z"
   },
   {
    "duration": 8,
    "start_time": "2024-02-07T04:29:11.530Z"
   },
   {
    "duration": 26,
    "start_time": "2024-02-07T04:29:11.540Z"
   },
   {
    "duration": 14,
    "start_time": "2024-02-07T04:29:11.567Z"
   },
   {
    "duration": 20,
    "start_time": "2024-02-07T04:29:11.582Z"
   },
   {
    "duration": 3,
    "start_time": "2024-02-07T04:29:11.604Z"
   },
   {
    "duration": 15,
    "start_time": "2024-02-07T04:29:11.608Z"
   },
   {
    "duration": 28,
    "start_time": "2024-02-07T04:29:11.625Z"
   },
   {
    "duration": 14,
    "start_time": "2024-02-07T04:29:11.654Z"
   },
   {
    "duration": 7,
    "start_time": "2024-02-07T04:29:11.669Z"
   },
   {
    "duration": 15,
    "start_time": "2024-02-07T04:29:11.678Z"
   },
   {
    "duration": 18,
    "start_time": "2024-02-07T04:29:11.695Z"
   },
   {
    "duration": 4,
    "start_time": "2024-02-07T04:29:11.714Z"
   },
   {
    "duration": 40,
    "start_time": "2024-02-07T04:29:11.719Z"
   },
   {
    "duration": 25,
    "start_time": "2024-02-07T04:29:11.760Z"
   },
   {
    "duration": 21,
    "start_time": "2024-02-07T04:29:11.786Z"
   },
   {
    "duration": 47,
    "start_time": "2024-02-07T04:29:11.808Z"
   },
   {
    "duration": 11,
    "start_time": "2024-02-07T04:29:11.859Z"
   },
   {
    "duration": 10,
    "start_time": "2024-02-07T04:29:11.872Z"
   },
   {
    "duration": 6,
    "start_time": "2024-02-07T04:29:11.883Z"
   },
   {
    "duration": 5,
    "start_time": "2024-02-07T04:29:11.891Z"
   },
   {
    "duration": 23,
    "start_time": "2024-02-07T04:29:11.897Z"
   },
   {
    "duration": 68,
    "start_time": "2024-02-07T04:29:11.922Z"
   },
   {
    "duration": 19,
    "start_time": "2024-02-07T04:29:11.991Z"
   },
   {
    "duration": 46,
    "start_time": "2024-02-07T04:29:12.011Z"
   },
   {
    "duration": 8,
    "start_time": "2024-02-07T04:29:12.059Z"
   },
   {
    "duration": 13,
    "start_time": "2024-02-07T04:29:12.069Z"
   },
   {
    "duration": 233,
    "start_time": "2024-02-07T04:29:12.083Z"
   },
   {
    "duration": 10,
    "start_time": "2024-02-07T04:29:12.318Z"
   },
   {
    "duration": 34,
    "start_time": "2024-02-07T04:29:12.329Z"
   },
   {
    "duration": 6,
    "start_time": "2024-02-07T04:29:12.365Z"
   },
   {
    "duration": 152,
    "start_time": "2024-02-07T04:29:12.372Z"
   },
   {
    "duration": 11,
    "start_time": "2024-02-07T04:29:12.525Z"
   },
   {
    "duration": 170,
    "start_time": "2024-02-07T04:29:12.537Z"
   },
   {
    "duration": 17,
    "start_time": "2024-02-07T04:29:12.709Z"
   },
   {
    "duration": 571,
    "start_time": "2024-02-07T04:29:12.728Z"
   },
   {
    "duration": 180,
    "start_time": "2024-02-07T04:29:13.300Z"
   },
   {
    "duration": 88,
    "start_time": "2024-02-07T04:29:13.482Z"
   },
   {
    "duration": 26,
    "start_time": "2024-02-07T04:29:13.571Z"
   },
   {
    "duration": 22,
    "start_time": "2024-02-07T04:29:13.598Z"
   },
   {
    "duration": 56,
    "start_time": "2024-02-07T04:29:13.622Z"
   },
   {
    "duration": 7,
    "start_time": "2024-02-07T04:29:13.679Z"
   },
   {
    "duration": 5,
    "start_time": "2024-02-07T04:29:13.688Z"
   },
   {
    "duration": 139,
    "start_time": "2024-02-07T04:29:13.694Z"
   },
   {
    "duration": 139,
    "start_time": "2024-02-07T04:29:13.834Z"
   },
   {
    "duration": 142,
    "start_time": "2024-02-07T04:29:13.975Z"
   },
   {
    "duration": 135,
    "start_time": "2024-02-07T04:29:14.118Z"
   },
   {
    "duration": 3,
    "start_time": "2024-02-07T04:29:14.255Z"
   },
   {
    "duration": 21,
    "start_time": "2024-02-07T04:29:14.260Z"
   },
   {
    "duration": 151,
    "start_time": "2024-02-07T04:29:14.282Z"
   },
   {
    "duration": 159,
    "start_time": "2024-02-07T04:29:14.434Z"
   },
   {
    "duration": 147,
    "start_time": "2024-02-07T04:29:14.594Z"
   },
   {
    "duration": 16,
    "start_time": "2024-02-07T04:29:14.743Z"
   },
   {
    "duration": 18,
    "start_time": "2024-02-07T04:29:14.760Z"
   },
   {
    "duration": 13,
    "start_time": "2024-02-07T04:29:14.779Z"
   },
   {
    "duration": 12,
    "start_time": "2024-02-07T04:29:14.793Z"
   },
   {
    "duration": 70,
    "start_time": "2024-02-07T04:29:16.583Z"
   },
   {
    "duration": 655,
    "start_time": "2024-02-07T04:29:21.879Z"
   },
   {
    "duration": 620,
    "start_time": "2024-02-07T04:29:51.958Z"
   },
   {
    "duration": 14,
    "start_time": "2024-02-07T04:31:19.407Z"
   },
   {
    "duration": 216,
    "start_time": "2024-02-07T04:33:19.896Z"
   },
   {
    "duration": 183,
    "start_time": "2024-02-07T04:39:24.480Z"
   },
   {
    "duration": 179,
    "start_time": "2024-02-07T04:40:20.064Z"
   },
   {
    "duration": 171,
    "start_time": "2024-02-07T04:40:34.384Z"
   },
   {
    "duration": 173,
    "start_time": "2024-02-07T04:40:46.496Z"
   },
   {
    "duration": 178,
    "start_time": "2024-02-07T04:40:52.632Z"
   },
   {
    "duration": 3,
    "start_time": "2024-02-07T06:44:18.485Z"
   },
   {
    "duration": 132,
    "start_time": "2024-02-07T06:44:18.491Z"
   },
   {
    "duration": 16,
    "start_time": "2024-02-07T06:44:18.625Z"
   },
   {
    "duration": 18,
    "start_time": "2024-02-07T06:44:18.643Z"
   },
   {
    "duration": 7,
    "start_time": "2024-02-07T06:44:18.662Z"
   },
   {
    "duration": 12,
    "start_time": "2024-02-07T06:44:18.670Z"
   },
   {
    "duration": 18,
    "start_time": "2024-02-07T06:44:18.684Z"
   },
   {
    "duration": 10,
    "start_time": "2024-02-07T06:44:18.703Z"
   },
   {
    "duration": 14,
    "start_time": "2024-02-07T06:44:18.715Z"
   },
   {
    "duration": 5,
    "start_time": "2024-02-07T06:44:18.751Z"
   },
   {
    "duration": 14,
    "start_time": "2024-02-07T06:44:18.758Z"
   },
   {
    "duration": 7,
    "start_time": "2024-02-07T06:44:18.773Z"
   },
   {
    "duration": 23,
    "start_time": "2024-02-07T06:44:18.782Z"
   },
   {
    "duration": 13,
    "start_time": "2024-02-07T06:44:18.806Z"
   },
   {
    "duration": 34,
    "start_time": "2024-02-07T06:44:18.820Z"
   },
   {
    "duration": 2,
    "start_time": "2024-02-07T06:44:18.856Z"
   },
   {
    "duration": 16,
    "start_time": "2024-02-07T06:44:18.859Z"
   },
   {
    "duration": 10,
    "start_time": "2024-02-07T06:44:18.876Z"
   },
   {
    "duration": 13,
    "start_time": "2024-02-07T06:44:18.888Z"
   },
   {
    "duration": 17,
    "start_time": "2024-02-07T06:44:18.902Z"
   },
   {
    "duration": 9,
    "start_time": "2024-02-07T06:44:18.920Z"
   },
   {
    "duration": 35,
    "start_time": "2024-02-07T06:44:18.930Z"
   },
   {
    "duration": 4,
    "start_time": "2024-02-07T06:44:18.966Z"
   },
   {
    "duration": 30,
    "start_time": "2024-02-07T06:44:18.974Z"
   },
   {
    "duration": 24,
    "start_time": "2024-02-07T06:44:19.005Z"
   },
   {
    "duration": 29,
    "start_time": "2024-02-07T06:44:19.030Z"
   },
   {
    "duration": 30,
    "start_time": "2024-02-07T06:44:19.060Z"
   },
   {
    "duration": 5,
    "start_time": "2024-02-07T06:44:19.091Z"
   },
   {
    "duration": 29,
    "start_time": "2024-02-07T06:44:19.097Z"
   },
   {
    "duration": 5,
    "start_time": "2024-02-07T06:44:19.127Z"
   },
   {
    "duration": 17,
    "start_time": "2024-02-07T06:44:19.133Z"
   },
   {
    "duration": 26,
    "start_time": "2024-02-07T06:44:19.151Z"
   },
   {
    "duration": 40,
    "start_time": "2024-02-07T06:44:19.179Z"
   },
   {
    "duration": 31,
    "start_time": "2024-02-07T06:44:19.221Z"
   },
   {
    "duration": 29,
    "start_time": "2024-02-07T06:44:19.254Z"
   },
   {
    "duration": 7,
    "start_time": "2024-02-07T06:44:19.285Z"
   },
   {
    "duration": 15,
    "start_time": "2024-02-07T06:44:19.294Z"
   },
   {
    "duration": 230,
    "start_time": "2024-02-07T06:44:19.310Z"
   },
   {
    "duration": 12,
    "start_time": "2024-02-07T06:44:19.541Z"
   },
   {
    "duration": 30,
    "start_time": "2024-02-07T06:44:19.554Z"
   },
   {
    "duration": 10,
    "start_time": "2024-02-07T06:44:19.586Z"
   },
   {
    "duration": 157,
    "start_time": "2024-02-07T06:44:19.598Z"
   },
   {
    "duration": 10,
    "start_time": "2024-02-07T06:44:19.756Z"
   },
   {
    "duration": 244,
    "start_time": "2024-02-07T06:44:19.767Z"
   },
   {
    "duration": 16,
    "start_time": "2024-02-07T06:44:20.012Z"
   },
   {
    "duration": 492,
    "start_time": "2024-02-07T06:44:20.030Z"
   },
   {
    "duration": 184,
    "start_time": "2024-02-07T06:44:20.523Z"
   },
   {
    "duration": 28,
    "start_time": "2024-02-07T06:44:20.709Z"
   },
   {
    "duration": 38,
    "start_time": "2024-02-07T06:44:20.738Z"
   },
   {
    "duration": 26,
    "start_time": "2024-02-07T06:44:20.778Z"
   },
   {
    "duration": 48,
    "start_time": "2024-02-07T06:44:20.805Z"
   },
   {
    "duration": 8,
    "start_time": "2024-02-07T06:44:20.854Z"
   },
   {
    "duration": 7,
    "start_time": "2024-02-07T06:44:20.863Z"
   },
   {
    "duration": 144,
    "start_time": "2024-02-07T06:44:20.871Z"
   },
   {
    "duration": 139,
    "start_time": "2024-02-07T06:44:21.016Z"
   },
   {
    "duration": 148,
    "start_time": "2024-02-07T06:44:21.156Z"
   },
   {
    "duration": 130,
    "start_time": "2024-02-07T06:44:21.305Z"
   },
   {
    "duration": 3,
    "start_time": "2024-02-07T06:44:21.437Z"
   },
   {
    "duration": 26,
    "start_time": "2024-02-07T06:44:21.442Z"
   },
   {
    "duration": 135,
    "start_time": "2024-02-07T06:44:21.469Z"
   },
   {
    "duration": 149,
    "start_time": "2024-02-07T06:44:21.606Z"
   },
   {
    "duration": 162,
    "start_time": "2024-02-07T06:44:21.757Z"
   },
   {
    "duration": 10,
    "start_time": "2024-02-07T06:44:21.921Z"
   },
   {
    "duration": 36,
    "start_time": "2024-02-07T06:44:21.933Z"
   },
   {
    "duration": 3,
    "start_time": "2024-02-07T06:44:21.971Z"
   },
   {
    "duration": 12,
    "start_time": "2024-02-07T06:44:21.976Z"
   },
   {
    "duration": 712,
    "start_time": "2024-02-07T06:44:21.989Z"
   },
   {
    "duration": 13,
    "start_time": "2024-02-07T06:44:22.703Z"
   },
   {
    "duration": 37,
    "start_time": "2024-02-07T06:44:22.722Z"
   },
   {
    "duration": 16,
    "start_time": "2024-02-07T06:44:22.761Z"
   },
   {
    "duration": 3,
    "start_time": "2024-02-07T07:09:18.635Z"
   },
   {
    "duration": 125,
    "start_time": "2024-02-07T07:09:18.640Z"
   },
   {
    "duration": 13,
    "start_time": "2024-02-07T07:09:18.767Z"
   },
   {
    "duration": 15,
    "start_time": "2024-02-07T07:09:18.782Z"
   },
   {
    "duration": 6,
    "start_time": "2024-02-07T07:09:18.799Z"
   },
   {
    "duration": 30,
    "start_time": "2024-02-07T07:09:18.807Z"
   },
   {
    "duration": 22,
    "start_time": "2024-02-07T07:09:18.839Z"
   },
   {
    "duration": 6,
    "start_time": "2024-02-07T07:09:18.862Z"
   },
   {
    "duration": 17,
    "start_time": "2024-02-07T07:09:18.870Z"
   },
   {
    "duration": 25,
    "start_time": "2024-02-07T07:09:18.889Z"
   },
   {
    "duration": 19,
    "start_time": "2024-02-07T07:09:18.915Z"
   },
   {
    "duration": 9,
    "start_time": "2024-02-07T07:09:18.935Z"
   },
   {
    "duration": 27,
    "start_time": "2024-02-07T07:09:18.946Z"
   },
   {
    "duration": 13,
    "start_time": "2024-02-07T07:09:18.975Z"
   },
   {
    "duration": 6,
    "start_time": "2024-02-07T07:09:18.990Z"
   },
   {
    "duration": 5,
    "start_time": "2024-02-07T07:09:18.997Z"
   },
   {
    "duration": 15,
    "start_time": "2024-02-07T07:09:19.003Z"
   },
   {
    "duration": 27,
    "start_time": "2024-02-07T07:09:19.019Z"
   },
   {
    "duration": 14,
    "start_time": "2024-02-07T07:09:19.047Z"
   },
   {
    "duration": 5,
    "start_time": "2024-02-07T07:09:19.063Z"
   },
   {
    "duration": 10,
    "start_time": "2024-02-07T07:09:19.069Z"
   },
   {
    "duration": 16,
    "start_time": "2024-02-07T07:09:19.080Z"
   },
   {
    "duration": 4,
    "start_time": "2024-02-07T07:09:19.097Z"
   },
   {
    "duration": 48,
    "start_time": "2024-02-07T07:09:19.105Z"
   },
   {
    "duration": 26,
    "start_time": "2024-02-07T07:09:19.155Z"
   },
   {
    "duration": 21,
    "start_time": "2024-02-07T07:09:19.182Z"
   },
   {
    "duration": 40,
    "start_time": "2024-02-07T07:09:19.204Z"
   },
   {
    "duration": 4,
    "start_time": "2024-02-07T07:09:19.252Z"
   },
   {
    "duration": 20,
    "start_time": "2024-02-07T07:09:19.257Z"
   },
   {
    "duration": 14,
    "start_time": "2024-02-07T07:09:19.278Z"
   },
   {
    "duration": 4,
    "start_time": "2024-02-07T07:09:19.293Z"
   },
   {
    "duration": 17,
    "start_time": "2024-02-07T07:09:19.298Z"
   },
   {
    "duration": 40,
    "start_time": "2024-02-07T07:09:19.316Z"
   },
   {
    "duration": 25,
    "start_time": "2024-02-07T07:09:19.358Z"
   },
   {
    "duration": 28,
    "start_time": "2024-02-07T07:09:19.385Z"
   },
   {
    "duration": 8,
    "start_time": "2024-02-07T07:09:19.414Z"
   },
   {
    "duration": 39,
    "start_time": "2024-02-07T07:09:19.423Z"
   },
   {
    "duration": 220,
    "start_time": "2024-02-07T07:09:19.464Z"
   },
   {
    "duration": 9,
    "start_time": "2024-02-07T07:09:19.686Z"
   },
   {
    "duration": 35,
    "start_time": "2024-02-07T07:09:19.697Z"
   },
   {
    "duration": 18,
    "start_time": "2024-02-07T07:09:19.734Z"
   },
   {
    "duration": 155,
    "start_time": "2024-02-07T07:09:19.754Z"
   },
   {
    "duration": 10,
    "start_time": "2024-02-07T07:09:19.911Z"
   },
   {
    "duration": 161,
    "start_time": "2024-02-07T07:09:19.922Z"
   },
   {
    "duration": 18,
    "start_time": "2024-02-07T07:09:20.085Z"
   },
   {
    "duration": 525,
    "start_time": "2024-02-07T07:09:20.105Z"
   },
   {
    "duration": 186,
    "start_time": "2024-02-07T07:09:20.632Z"
   },
   {
    "duration": 35,
    "start_time": "2024-02-07T07:09:20.820Z"
   },
   {
    "duration": 24,
    "start_time": "2024-02-07T07:09:20.857Z"
   },
   {
    "duration": 20,
    "start_time": "2024-02-07T07:09:20.882Z"
   },
   {
    "duration": 56,
    "start_time": "2024-02-07T07:09:20.904Z"
   },
   {
    "duration": 8,
    "start_time": "2024-02-07T07:09:20.962Z"
   },
   {
    "duration": 9,
    "start_time": "2024-02-07T07:09:20.971Z"
   },
   {
    "duration": 150,
    "start_time": "2024-02-07T07:09:20.981Z"
   },
   {
    "duration": 258,
    "start_time": "2024-02-07T07:09:21.133Z"
   },
   {
    "duration": 145,
    "start_time": "2024-02-07T07:09:21.393Z"
   },
   {
    "duration": 145,
    "start_time": "2024-02-07T07:09:21.540Z"
   },
   {
    "duration": 3,
    "start_time": "2024-02-07T07:09:21.687Z"
   },
   {
    "duration": 20,
    "start_time": "2024-02-07T07:09:21.692Z"
   },
   {
    "duration": 160,
    "start_time": "2024-02-07T07:09:21.713Z"
   },
   {
    "duration": 158,
    "start_time": "2024-02-07T07:09:21.874Z"
   },
   {
    "duration": 161,
    "start_time": "2024-02-07T07:09:22.034Z"
   },
   {
    "duration": 11,
    "start_time": "2024-02-07T07:09:22.196Z"
   },
   {
    "duration": 22,
    "start_time": "2024-02-07T07:09:22.209Z"
   },
   {
    "duration": 5,
    "start_time": "2024-02-07T07:09:22.232Z"
   },
   {
    "duration": 23,
    "start_time": "2024-02-07T07:09:22.238Z"
   },
   {
    "duration": 619,
    "start_time": "2024-02-07T07:09:22.262Z"
   },
   {
    "duration": 13,
    "start_time": "2024-02-07T07:09:22.883Z"
   },
   {
    "duration": 22,
    "start_time": "2024-02-07T07:09:22.902Z"
   },
   {
    "duration": 34,
    "start_time": "2024-02-07T07:09:22.925Z"
   },
   {
    "duration": 1407,
    "start_time": "2024-02-13T14:03:10.405Z"
   },
   {
    "duration": 276,
    "start_time": "2024-02-13T14:03:11.814Z"
   },
   {
    "duration": 19,
    "start_time": "2024-02-13T14:03:12.092Z"
   },
   {
    "duration": 16,
    "start_time": "2024-02-13T14:03:12.113Z"
   },
   {
    "duration": 102,
    "start_time": "2024-02-13T14:03:14.390Z"
   },
   {
    "duration": 3,
    "start_time": "2024-02-13T14:03:46.112Z"
   },
   {
    "duration": 127,
    "start_time": "2024-02-13T14:03:48.167Z"
   },
   {
    "duration": 16,
    "start_time": "2024-02-13T14:03:48.696Z"
   },
   {
    "duration": 15,
    "start_time": "2024-02-13T14:03:49.223Z"
   },
   {
    "duration": 6,
    "start_time": "2024-02-13T14:03:52.871Z"
   },
   {
    "duration": 11,
    "start_time": "2024-02-13T14:04:02.526Z"
   },
   {
    "duration": 16,
    "start_time": "2024-02-13T14:04:17.863Z"
   },
   {
    "duration": 5,
    "start_time": "2024-02-13T14:04:27.015Z"
   },
   {
    "duration": 13,
    "start_time": "2024-02-13T14:04:28.279Z"
   },
   {
    "duration": 6,
    "start_time": "2024-02-13T14:04:34.918Z"
   },
   {
    "duration": 16,
    "start_time": "2024-02-13T14:04:36.471Z"
   },
   {
    "duration": 7,
    "start_time": "2024-02-13T14:04:37.599Z"
   },
   {
    "duration": 22,
    "start_time": "2024-02-13T14:04:43.199Z"
   },
   {
    "duration": 15,
    "start_time": "2024-02-13T14:04:45.215Z"
   },
   {
    "duration": 7,
    "start_time": "2024-02-13T14:04:58.326Z"
   },
   {
    "duration": 2,
    "start_time": "2024-02-13T14:05:01.886Z"
   },
   {
    "duration": 14,
    "start_time": "2024-02-13T14:05:03.367Z"
   },
   {
    "duration": 8,
    "start_time": "2024-02-13T14:05:17.222Z"
   },
   {
    "duration": 16,
    "start_time": "2024-02-13T14:05:21.608Z"
   },
   {
    "duration": 6,
    "start_time": "2024-02-13T14:05:42.463Z"
   },
   {
    "duration": 15,
    "start_time": "2024-02-13T14:05:43.887Z"
   },
   {
    "duration": 19,
    "start_time": "2024-02-13T14:05:50.238Z"
   },
   {
    "duration": 5,
    "start_time": "2024-02-13T14:05:58.109Z"
   },
   {
    "duration": 19,
    "start_time": "2024-02-13T14:06:18.527Z"
   },
   {
    "duration": 25,
    "start_time": "2024-02-13T14:06:20.263Z"
   },
   {
    "duration": 23,
    "start_time": "2024-02-13T14:06:27.863Z"
   },
   {
    "duration": 24,
    "start_time": "2024-02-13T14:06:47.439Z"
   },
   {
    "duration": 25,
    "start_time": "2024-02-13T14:07:11.629Z"
   },
   {
    "duration": 6,
    "start_time": "2024-02-13T14:07:18.206Z"
   },
   {
    "duration": 9,
    "start_time": "2024-02-13T14:07:46.278Z"
   },
   {
    "duration": 5,
    "start_time": "2024-02-13T14:07:47.912Z"
   },
   {
    "duration": 4,
    "start_time": "2024-02-13T14:08:05.927Z"
   },
   {
    "duration": 15,
    "start_time": "2024-02-13T14:09:30.638Z"
   },
   {
    "duration": 39,
    "start_time": "2024-02-13T14:09:47.294Z"
   },
   {
    "duration": 21,
    "start_time": "2024-02-13T14:09:59.295Z"
   },
   {
    "duration": 30,
    "start_time": "2024-02-13T14:10:03.632Z"
   },
   {
    "duration": 14,
    "start_time": "2024-02-13T14:11:28.295Z"
   },
   {
    "duration": 3,
    "start_time": "2024-02-13T14:11:38.015Z"
   },
   {
    "duration": 130,
    "start_time": "2024-02-13T14:11:38.020Z"
   },
   {
    "duration": 13,
    "start_time": "2024-02-13T14:11:38.151Z"
   },
   {
    "duration": 29,
    "start_time": "2024-02-13T14:11:38.166Z"
   },
   {
    "duration": 19,
    "start_time": "2024-02-13T14:11:38.197Z"
   },
   {
    "duration": 16,
    "start_time": "2024-02-13T14:11:38.217Z"
   },
   {
    "duration": 33,
    "start_time": "2024-02-13T14:11:38.235Z"
   },
   {
    "duration": 7,
    "start_time": "2024-02-13T14:11:38.270Z"
   },
   {
    "duration": 15,
    "start_time": "2024-02-13T14:11:38.279Z"
   },
   {
    "duration": 9,
    "start_time": "2024-02-13T14:11:38.295Z"
   },
   {
    "duration": 16,
    "start_time": "2024-02-13T14:11:38.306Z"
   },
   {
    "duration": 9,
    "start_time": "2024-02-13T14:11:38.323Z"
   },
   {
    "duration": 28,
    "start_time": "2024-02-13T14:11:38.333Z"
   },
   {
    "duration": 15,
    "start_time": "2024-02-13T14:11:38.363Z"
   },
   {
    "duration": 6,
    "start_time": "2024-02-13T14:11:38.380Z"
   },
   {
    "duration": 6,
    "start_time": "2024-02-13T14:11:38.387Z"
   },
   {
    "duration": 37,
    "start_time": "2024-02-13T14:11:38.395Z"
   },
   {
    "duration": 16,
    "start_time": "2024-02-13T14:11:38.434Z"
   },
   {
    "duration": 18,
    "start_time": "2024-02-13T14:11:38.452Z"
   },
   {
    "duration": 8,
    "start_time": "2024-02-13T14:11:38.471Z"
   },
   {
    "duration": 26,
    "start_time": "2024-02-13T14:11:38.480Z"
   },
   {
    "duration": 42,
    "start_time": "2024-02-13T14:11:38.508Z"
   },
   {
    "duration": 5,
    "start_time": "2024-02-13T14:11:38.551Z"
   },
   {
    "duration": 17,
    "start_time": "2024-02-13T14:11:38.559Z"
   },
   {
    "duration": 23,
    "start_time": "2024-02-13T14:11:38.577Z"
   },
   {
    "duration": 32,
    "start_time": "2024-02-13T14:11:38.602Z"
   },
   {
    "duration": 45,
    "start_time": "2024-02-13T14:11:38.635Z"
   },
   {
    "duration": 8,
    "start_time": "2024-02-13T14:11:38.681Z"
   },
   {
    "duration": 14,
    "start_time": "2024-02-13T14:11:38.691Z"
   },
   {
    "duration": 10,
    "start_time": "2024-02-13T14:11:38.707Z"
   },
   {
    "duration": 35,
    "start_time": "2024-02-13T14:11:38.718Z"
   },
   {
    "duration": 20,
    "start_time": "2024-02-13T14:11:38.754Z"
   },
   {
    "duration": 43,
    "start_time": "2024-02-13T14:11:38.775Z"
   },
   {
    "duration": 22,
    "start_time": "2024-02-13T14:11:38.819Z"
   },
   {
    "duration": 31,
    "start_time": "2024-02-13T14:11:38.842Z"
   },
   {
    "duration": 10,
    "start_time": "2024-02-13T14:11:38.874Z"
   },
   {
    "duration": 10,
    "start_time": "2024-02-13T14:11:41.423Z"
   },
   {
    "duration": 16,
    "start_time": "2024-02-13T14:11:41.999Z"
   },
   {
    "duration": 232,
    "start_time": "2024-02-13T14:12:41.375Z"
   },
   {
    "duration": 9,
    "start_time": "2024-02-13T14:13:14.030Z"
   },
   {
    "duration": 19,
    "start_time": "2024-02-13T14:13:20.855Z"
   },
   {
    "duration": 7,
    "start_time": "2024-02-13T14:13:23.974Z"
   },
   {
    "duration": 156,
    "start_time": "2024-02-13T14:13:43.107Z"
   },
   {
    "duration": 10,
    "start_time": "2024-02-13T14:13:55.623Z"
   },
   {
    "duration": 155,
    "start_time": "2024-02-13T14:14:00.390Z"
   },
   {
    "duration": 77,
    "start_time": "2024-02-13T14:14:21.319Z"
   },
   {
    "duration": 607,
    "start_time": "2024-02-13T14:14:28.663Z"
   },
   {
    "duration": 196,
    "start_time": "2024-02-13T14:15:14.199Z"
   },
   {
    "duration": 31,
    "start_time": "2024-02-13T14:15:32.847Z"
   },
   {
    "duration": 25,
    "start_time": "2024-02-13T14:15:35.120Z"
   },
   {
    "duration": 21,
    "start_time": "2024-02-13T14:15:55.183Z"
   },
   {
    "duration": 29,
    "start_time": "2024-02-13T14:16:01.160Z"
   },
   {
    "duration": 9,
    "start_time": "2024-02-13T14:16:41.998Z"
   },
   {
    "duration": 5,
    "start_time": "2024-02-13T14:16:43.511Z"
   },
   {
    "duration": 141,
    "start_time": "2024-02-13T14:16:44.527Z"
   },
   {
    "duration": 141,
    "start_time": "2024-02-13T14:16:46.046Z"
   },
   {
    "duration": 150,
    "start_time": "2024-02-13T14:16:46.803Z"
   },
   {
    "duration": 159,
    "start_time": "2024-02-13T14:17:34.863Z"
   },
   {
    "duration": 4,
    "start_time": "2024-02-13T14:17:49.918Z"
   },
   {
    "duration": 151,
    "start_time": "2024-02-13T14:17:56.206Z"
   },
   {
    "duration": 4,
    "start_time": "2024-02-13T14:17:56.934Z"
   },
   {
    "duration": 19,
    "start_time": "2024-02-13T14:17:57.601Z"
   },
   {
    "duration": 141,
    "start_time": "2024-02-13T14:18:10.607Z"
   },
   {
    "duration": 172,
    "start_time": "2024-02-13T14:18:50.031Z"
   },
   {
    "duration": 174,
    "start_time": "2024-02-13T14:18:56.575Z"
   },
   {
    "duration": 12,
    "start_time": "2024-02-13T14:19:33.558Z"
   },
   {
    "duration": 10,
    "start_time": "2024-02-13T14:19:35.712Z"
   },
   {
    "duration": 13,
    "start_time": "2024-02-13T14:20:19.334Z"
   },
   {
    "duration": 3,
    "start_time": "2024-02-13T14:20:34.694Z"
   },
   {
    "duration": 10,
    "start_time": "2024-02-13T14:20:37.095Z"
   },
   {
    "duration": 785,
    "start_time": "2024-02-13T14:20:38.870Z"
   },
   {
    "duration": 1204,
    "start_time": "2024-07-21T19:46:51.868Z"
   },
   {
    "duration": 240,
    "start_time": "2024-07-21T19:46:53.074Z"
   },
   {
    "duration": 18,
    "start_time": "2024-07-21T19:46:53.315Z"
   },
   {
    "duration": 16,
    "start_time": "2024-07-21T19:46:53.335Z"
   },
   {
    "duration": 7,
    "start_time": "2024-07-21T19:46:53.352Z"
   },
   {
    "duration": 14,
    "start_time": "2024-07-21T19:46:53.360Z"
   },
   {
    "duration": 30,
    "start_time": "2024-07-21T19:46:53.376Z"
   },
   {
    "duration": 5,
    "start_time": "2024-07-21T19:46:53.407Z"
   },
   {
    "duration": 13,
    "start_time": "2024-07-21T19:46:53.413Z"
   },
   {
    "duration": 6,
    "start_time": "2024-07-21T19:46:53.429Z"
   },
   {
    "duration": 15,
    "start_time": "2024-07-21T19:46:53.436Z"
   },
   {
    "duration": 11,
    "start_time": "2024-07-21T19:46:53.453Z"
   },
   {
    "duration": 52,
    "start_time": "2024-07-21T19:46:53.466Z"
   },
   {
    "duration": 16,
    "start_time": "2024-07-21T19:46:53.520Z"
   },
   {
    "duration": 12,
    "start_time": "2024-07-21T19:46:53.537Z"
   },
   {
    "duration": 8,
    "start_time": "2024-07-21T19:46:53.551Z"
   },
   {
    "duration": 36,
    "start_time": "2024-07-21T19:46:53.560Z"
   },
   {
    "duration": 25,
    "start_time": "2024-07-21T19:46:53.598Z"
   },
   {
    "duration": 25,
    "start_time": "2024-07-21T19:46:53.626Z"
   },
   {
    "duration": 20,
    "start_time": "2024-07-21T19:46:53.652Z"
   },
   {
    "duration": 25,
    "start_time": "2024-07-21T19:46:53.673Z"
   },
   {
    "duration": 28,
    "start_time": "2024-07-21T19:46:53.700Z"
   },
   {
    "duration": 5,
    "start_time": "2024-07-21T19:46:53.730Z"
   },
   {
    "duration": 35,
    "start_time": "2024-07-21T19:46:53.736Z"
   },
   {
    "duration": 35,
    "start_time": "2024-07-21T19:46:53.772Z"
   },
   {
    "duration": 78,
    "start_time": "2024-07-21T19:46:53.808Z"
   },
   {
    "duration": 37,
    "start_time": "2024-07-21T19:46:53.888Z"
   },
   {
    "duration": 7,
    "start_time": "2024-07-21T19:46:53.930Z"
   },
   {
    "duration": 15,
    "start_time": "2024-07-21T19:46:53.939Z"
   },
   {
    "duration": 9,
    "start_time": "2024-07-21T19:46:53.956Z"
   },
   {
    "duration": 19,
    "start_time": "2024-07-21T19:46:53.966Z"
   },
   {
    "duration": 32,
    "start_time": "2024-07-21T19:46:53.987Z"
   },
   {
    "duration": 55,
    "start_time": "2024-07-21T19:46:54.020Z"
   },
   {
    "duration": 36,
    "start_time": "2024-07-21T19:46:54.076Z"
   },
   {
    "duration": 33,
    "start_time": "2024-07-21T19:46:54.114Z"
   },
   {
    "duration": 12,
    "start_time": "2024-07-21T19:46:54.149Z"
   },
   {
    "duration": 43,
    "start_time": "2024-07-21T19:46:54.163Z"
   },
   {
    "duration": 286,
    "start_time": "2024-07-21T19:46:54.208Z"
   },
   {
    "duration": 11,
    "start_time": "2024-07-21T19:46:54.495Z"
   },
   {
    "duration": 35,
    "start_time": "2024-07-21T19:46:54.507Z"
   },
   {
    "duration": 8,
    "start_time": "2024-07-21T19:46:54.543Z"
   },
   {
    "duration": 177,
    "start_time": "2024-07-21T19:46:54.552Z"
   },
   {
    "duration": 9,
    "start_time": "2024-07-21T19:46:54.731Z"
   },
   {
    "duration": 195,
    "start_time": "2024-07-21T19:46:54.742Z"
   },
   {
    "duration": 20,
    "start_time": "2024-07-21T19:46:54.938Z"
   },
   {
    "duration": 561,
    "start_time": "2024-07-21T19:46:54.960Z"
   },
   {
    "duration": 236,
    "start_time": "2024-07-21T19:46:55.522Z"
   },
   {
    "duration": 98,
    "start_time": "2024-07-21T19:46:55.759Z"
   },
   {
    "duration": 25,
    "start_time": "2024-07-21T19:46:55.858Z"
   },
   {
    "duration": 39,
    "start_time": "2024-07-21T19:46:55.884Z"
   },
   {
    "duration": 47,
    "start_time": "2024-07-21T19:46:55.925Z"
   },
   {
    "duration": 36,
    "start_time": "2024-07-21T19:46:55.974Z"
   },
   {
    "duration": 7,
    "start_time": "2024-07-21T19:46:56.012Z"
   },
   {
    "duration": 177,
    "start_time": "2024-07-21T19:46:56.021Z"
   },
   {
    "duration": 154,
    "start_time": "2024-07-21T19:46:56.204Z"
   },
   {
    "duration": 162,
    "start_time": "2024-07-21T19:46:56.359Z"
   },
   {
    "duration": 4,
    "start_time": "2024-07-21T19:46:56.523Z"
   },
   {
    "duration": 30,
    "start_time": "2024-07-21T19:46:56.529Z"
   },
   {
    "duration": 155,
    "start_time": "2024-07-21T19:46:56.561Z"
   },
   {
    "duration": 187,
    "start_time": "2024-07-21T19:46:56.718Z"
   },
   {
    "duration": 178,
    "start_time": "2024-07-21T19:46:56.906Z"
   },
   {
    "duration": 20,
    "start_time": "2024-07-21T19:46:57.086Z"
   },
   {
    "duration": 17,
    "start_time": "2024-07-21T19:46:57.108Z"
   },
   {
    "duration": 4,
    "start_time": "2024-07-21T19:46:57.127Z"
   },
   {
    "duration": 18,
    "start_time": "2024-07-21T19:46:57.133Z"
   },
   {
    "duration": 753,
    "start_time": "2024-07-21T19:46:57.152Z"
   },
   {
    "duration": 15,
    "start_time": "2024-07-21T19:46:57.907Z"
   },
   {
    "duration": 23,
    "start_time": "2024-07-21T19:46:57.924Z"
   },
   {
    "duration": 11,
    "start_time": "2024-07-21T19:46:57.949Z"
   }
  ],
  "colab": {
   "name": "DA+. Сборный проект 1. Шаблон (1).ipynb",
   "provenance": []
  },
  "kernelspec": {
   "display_name": "Python 3 (ipykernel)",
   "language": "python",
   "name": "python3"
  },
  "language_info": {
   "codemirror_mode": {
    "name": "ipython",
    "version": 3
   },
   "file_extension": ".py",
   "mimetype": "text/x-python",
   "name": "python",
   "nbconvert_exporter": "python",
   "pygments_lexer": "ipython3",
   "version": "3.9.5"
  },
  "toc": {
   "base_numbering": 1,
   "nav_menu": {},
   "number_sections": true,
   "sideBar": true,
   "skip_h1_title": true,
   "title_cell": "Table of Contents",
   "title_sidebar": "Contents",
   "toc_cell": false,
   "toc_position": {
    "height": "calc(100% - 180px)",
    "left": "10px",
    "top": "150px",
    "width": "215.92px"
   },
   "toc_section_display": true,
   "toc_window_display": true
  }
 },
 "nbformat": 4,
 "nbformat_minor": 1
}
